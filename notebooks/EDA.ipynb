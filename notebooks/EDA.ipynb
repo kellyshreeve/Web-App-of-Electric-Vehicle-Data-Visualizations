{
 "cells": [
  {
   "attachments": {},
   "cell_type": "markdown",
   "metadata": {},
   "source": [
    "# <h> Exploratory Data Analysis of Range, Efficiency, and Price of Electric Vehicles</h>"
   ]
  },
  {
   "attachments": {},
   "cell_type": "markdown",
   "metadata": {},
   "source": [
    "This project utilizes a data set on brand, range, efficiency, body style, and price for 103 electric vehicles from 33 top car brands. There are four parts to this analysis:\n",
    "\n",
    "1. Data are read in and cleaned for missing values and duplicates.\n",
    "2. The top brands are identified, and descriptive statistics and data visualizations are displayed for range, efficiency, and price by brand. \n",
    "3. Descriptive statistics and data visulizations are run to show the range, efficiency, and price by body style. \n",
    "4. Finally, the relationship of price vs range and price vs efficiency are displayed in scatterplots. "
   ]
  },
  {
   "attachments": {},
   "cell_type": "markdown",
   "metadata": {},
   "source": [
    "## <b> 1. Import and Clean Data"
   ]
  },
  {
   "attachments": {},
   "cell_type": "markdown",
   "metadata": {},
   "source": [
    "In this section, the Python libraries and data set are imported into Jupyter Notebook. The data are checked for duplicates, missing values, and any other issues."
   ]
  },
  {
   "attachments": {},
   "cell_type": "markdown",
   "metadata": {},
   "source": [
    "### 1a. Import Libraries and Data"
   ]
  },
  {
   "cell_type": "code",
   "execution_count": 1,
   "metadata": {},
   "outputs": [],
   "source": [
    "# Import Libraries\n",
    "import pandas as pd \n",
    "import numpy as np\n",
    "import plotly_express as px\n",
    "import plotly.figure_factory as ff"
   ]
  },
  {
   "cell_type": "code",
   "execution_count": 2,
   "metadata": {},
   "outputs": [],
   "source": [
    "# Read in dataset\n",
    "url = 'https://raw.githubusercontent.com/kellyshreeve/Web-App-Project/main/ElectricCarData_Clean.csv'\n",
    "ev = pd.read_csv(url)"
   ]
  },
  {
   "cell_type": "code",
   "execution_count": 3,
   "metadata": {},
   "outputs": [
    {
     "name": "stdout",
     "output_type": "stream",
     "text": [
      "<class 'pandas.core.frame.DataFrame'>\n",
      "RangeIndex: 103 entries, 0 to 102\n",
      "Data columns (total 14 columns):\n",
      " #   Column           Non-Null Count  Dtype  \n",
      "---  ------           --------------  -----  \n",
      " 0   Brand            103 non-null    object \n",
      " 1   Model            103 non-null    object \n",
      " 2   AccelSec         103 non-null    float64\n",
      " 3   TopSpeed_KmH     103 non-null    int64  \n",
      " 4   Range_Km         103 non-null    int64  \n",
      " 5   Efficiency_WhKm  103 non-null    int64  \n",
      " 6   FastCharge_KmH   103 non-null    object \n",
      " 7   RapidCharge      103 non-null    object \n",
      " 8   PowerTrain       103 non-null    object \n",
      " 9   PlugType         103 non-null    object \n",
      " 10  BodyStyle        103 non-null    object \n",
      " 11  Segment          103 non-null    object \n",
      " 12  Seats            103 non-null    int64  \n",
      " 13  PriceEuro        103 non-null    int64  \n",
      "dtypes: float64(1), int64(5), object(8)\n",
      "memory usage: 11.4+ KB\n"
     ]
    }
   ],
   "source": [
    "# Print dataset info\n",
    "ev.info()"
   ]
  },
  {
   "attachments": {},
   "cell_type": "markdown",
   "metadata": {},
   "source": [
    "There are 103 entries in this data set. FastCharge_KmH was read in as object and needs to be changed to int. Variable names need to be changed to snake case. There do not appear to be any missing values in this data set."
   ]
  },
  {
   "cell_type": "code",
   "execution_count": 4,
   "metadata": {},
   "outputs": [
    {
     "data": {
      "text/html": [
       "<div>\n",
       "<style scoped>\n",
       "    .dataframe tbody tr th:only-of-type {\n",
       "        vertical-align: middle;\n",
       "    }\n",
       "\n",
       "    .dataframe tbody tr th {\n",
       "        vertical-align: top;\n",
       "    }\n",
       "\n",
       "    .dataframe thead th {\n",
       "        text-align: right;\n",
       "    }\n",
       "</style>\n",
       "<table border=\"1\" class=\"dataframe\">\n",
       "  <thead>\n",
       "    <tr style=\"text-align: right;\">\n",
       "      <th></th>\n",
       "      <th>Brand</th>\n",
       "      <th>Model</th>\n",
       "      <th>AccelSec</th>\n",
       "      <th>TopSpeed_KmH</th>\n",
       "      <th>Range_Km</th>\n",
       "      <th>Efficiency_WhKm</th>\n",
       "      <th>FastCharge_KmH</th>\n",
       "      <th>RapidCharge</th>\n",
       "      <th>PowerTrain</th>\n",
       "      <th>PlugType</th>\n",
       "      <th>BodyStyle</th>\n",
       "      <th>Segment</th>\n",
       "      <th>Seats</th>\n",
       "      <th>PriceEuro</th>\n",
       "    </tr>\n",
       "  </thead>\n",
       "  <tbody>\n",
       "    <tr>\n",
       "      <th>0</th>\n",
       "      <td>Tesla</td>\n",
       "      <td>Model 3 Long Range Dual Motor</td>\n",
       "      <td>4.6</td>\n",
       "      <td>233</td>\n",
       "      <td>450</td>\n",
       "      <td>161</td>\n",
       "      <td>940</td>\n",
       "      <td>Yes</td>\n",
       "      <td>AWD</td>\n",
       "      <td>Type 2 CCS</td>\n",
       "      <td>Sedan</td>\n",
       "      <td>D</td>\n",
       "      <td>5</td>\n",
       "      <td>55480</td>\n",
       "    </tr>\n",
       "    <tr>\n",
       "      <th>1</th>\n",
       "      <td>Volkswagen</td>\n",
       "      <td>ID.3 Pure</td>\n",
       "      <td>10.0</td>\n",
       "      <td>160</td>\n",
       "      <td>270</td>\n",
       "      <td>167</td>\n",
       "      <td>250</td>\n",
       "      <td>Yes</td>\n",
       "      <td>RWD</td>\n",
       "      <td>Type 2 CCS</td>\n",
       "      <td>Hatchback</td>\n",
       "      <td>C</td>\n",
       "      <td>5</td>\n",
       "      <td>30000</td>\n",
       "    </tr>\n",
       "    <tr>\n",
       "      <th>2</th>\n",
       "      <td>Polestar</td>\n",
       "      <td>2</td>\n",
       "      <td>4.7</td>\n",
       "      <td>210</td>\n",
       "      <td>400</td>\n",
       "      <td>181</td>\n",
       "      <td>620</td>\n",
       "      <td>Yes</td>\n",
       "      <td>AWD</td>\n",
       "      <td>Type 2 CCS</td>\n",
       "      <td>Liftback</td>\n",
       "      <td>D</td>\n",
       "      <td>5</td>\n",
       "      <td>56440</td>\n",
       "    </tr>\n",
       "    <tr>\n",
       "      <th>3</th>\n",
       "      <td>BMW</td>\n",
       "      <td>iX3</td>\n",
       "      <td>6.8</td>\n",
       "      <td>180</td>\n",
       "      <td>360</td>\n",
       "      <td>206</td>\n",
       "      <td>560</td>\n",
       "      <td>Yes</td>\n",
       "      <td>RWD</td>\n",
       "      <td>Type 2 CCS</td>\n",
       "      <td>SUV</td>\n",
       "      <td>D</td>\n",
       "      <td>5</td>\n",
       "      <td>68040</td>\n",
       "    </tr>\n",
       "    <tr>\n",
       "      <th>4</th>\n",
       "      <td>Honda</td>\n",
       "      <td>e</td>\n",
       "      <td>9.5</td>\n",
       "      <td>145</td>\n",
       "      <td>170</td>\n",
       "      <td>168</td>\n",
       "      <td>190</td>\n",
       "      <td>Yes</td>\n",
       "      <td>RWD</td>\n",
       "      <td>Type 2 CCS</td>\n",
       "      <td>Hatchback</td>\n",
       "      <td>B</td>\n",
       "      <td>4</td>\n",
       "      <td>32997</td>\n",
       "    </tr>\n",
       "    <tr>\n",
       "      <th>5</th>\n",
       "      <td>Lucid</td>\n",
       "      <td>Air</td>\n",
       "      <td>2.8</td>\n",
       "      <td>250</td>\n",
       "      <td>610</td>\n",
       "      <td>180</td>\n",
       "      <td>620</td>\n",
       "      <td>Yes</td>\n",
       "      <td>AWD</td>\n",
       "      <td>Type 2 CCS</td>\n",
       "      <td>Sedan</td>\n",
       "      <td>F</td>\n",
       "      <td>5</td>\n",
       "      <td>105000</td>\n",
       "    </tr>\n",
       "    <tr>\n",
       "      <th>6</th>\n",
       "      <td>Volkswagen</td>\n",
       "      <td>e-Golf</td>\n",
       "      <td>9.6</td>\n",
       "      <td>150</td>\n",
       "      <td>190</td>\n",
       "      <td>168</td>\n",
       "      <td>220</td>\n",
       "      <td>Yes</td>\n",
       "      <td>FWD</td>\n",
       "      <td>Type 2 CCS</td>\n",
       "      <td>Hatchback</td>\n",
       "      <td>C</td>\n",
       "      <td>5</td>\n",
       "      <td>31900</td>\n",
       "    </tr>\n",
       "    <tr>\n",
       "      <th>7</th>\n",
       "      <td>Peugeot</td>\n",
       "      <td>e-208</td>\n",
       "      <td>8.1</td>\n",
       "      <td>150</td>\n",
       "      <td>275</td>\n",
       "      <td>164</td>\n",
       "      <td>420</td>\n",
       "      <td>Yes</td>\n",
       "      <td>FWD</td>\n",
       "      <td>Type 2 CCS</td>\n",
       "      <td>Hatchback</td>\n",
       "      <td>B</td>\n",
       "      <td>5</td>\n",
       "      <td>29682</td>\n",
       "    </tr>\n",
       "    <tr>\n",
       "      <th>8</th>\n",
       "      <td>Tesla</td>\n",
       "      <td>Model 3 Standard Range Plus</td>\n",
       "      <td>5.6</td>\n",
       "      <td>225</td>\n",
       "      <td>310</td>\n",
       "      <td>153</td>\n",
       "      <td>650</td>\n",
       "      <td>Yes</td>\n",
       "      <td>RWD</td>\n",
       "      <td>Type 2 CCS</td>\n",
       "      <td>Sedan</td>\n",
       "      <td>D</td>\n",
       "      <td>5</td>\n",
       "      <td>46380</td>\n",
       "    </tr>\n",
       "    <tr>\n",
       "      <th>9</th>\n",
       "      <td>Audi</td>\n",
       "      <td>Q4 e-tron</td>\n",
       "      <td>6.3</td>\n",
       "      <td>180</td>\n",
       "      <td>400</td>\n",
       "      <td>193</td>\n",
       "      <td>540</td>\n",
       "      <td>Yes</td>\n",
       "      <td>AWD</td>\n",
       "      <td>Type 2 CCS</td>\n",
       "      <td>SUV</td>\n",
       "      <td>D</td>\n",
       "      <td>5</td>\n",
       "      <td>55000</td>\n",
       "    </tr>\n",
       "  </tbody>\n",
       "</table>\n",
       "</div>"
      ],
      "text/plain": [
       "         Brand                          Model  AccelSec  TopSpeed_KmH  \\\n",
       "0       Tesla   Model 3 Long Range Dual Motor       4.6           233   \n",
       "1  Volkswagen                       ID.3 Pure      10.0           160   \n",
       "2    Polestar                               2       4.7           210   \n",
       "3         BMW                            iX3        6.8           180   \n",
       "4       Honda                              e        9.5           145   \n",
       "5       Lucid                            Air        2.8           250   \n",
       "6  Volkswagen                         e-Golf        9.6           150   \n",
       "7     Peugeot                          e-208        8.1           150   \n",
       "8       Tesla     Model 3 Standard Range Plus       5.6           225   \n",
       "9        Audi                      Q4 e-tron        6.3           180   \n",
       "\n",
       "   Range_Km  Efficiency_WhKm FastCharge_KmH RapidCharge PowerTrain  \\\n",
       "0       450              161            940         Yes        AWD   \n",
       "1       270              167            250         Yes        RWD   \n",
       "2       400              181            620         Yes        AWD   \n",
       "3       360              206            560         Yes        RWD   \n",
       "4       170              168            190         Yes        RWD   \n",
       "5       610              180            620         Yes        AWD   \n",
       "6       190              168            220         Yes        FWD   \n",
       "7       275              164            420         Yes        FWD   \n",
       "8       310              153            650         Yes        RWD   \n",
       "9       400              193            540         Yes        AWD   \n",
       "\n",
       "     PlugType  BodyStyle Segment  Seats  PriceEuro  \n",
       "0  Type 2 CCS      Sedan       D      5      55480  \n",
       "1  Type 2 CCS  Hatchback       C      5      30000  \n",
       "2  Type 2 CCS   Liftback       D      5      56440  \n",
       "3  Type 2 CCS        SUV       D      5      68040  \n",
       "4  Type 2 CCS  Hatchback       B      4      32997  \n",
       "5  Type 2 CCS      Sedan       F      5     105000  \n",
       "6  Type 2 CCS  Hatchback       C      5      31900  \n",
       "7  Type 2 CCS  Hatchback       B      5      29682  \n",
       "8  Type 2 CCS      Sedan       D      5      46380  \n",
       "9  Type 2 CCS        SUV       D      5      55000  "
      ]
     },
     "execution_count": 4,
     "metadata": {},
     "output_type": "execute_result"
    }
   ],
   "source": [
    "# Print the first 10 rows of the dataset\n",
    "ev.head(10)"
   ]
  },
  {
   "attachments": {},
   "cell_type": "markdown",
   "metadata": {},
   "source": [
    "### 1b. Rename Columns and Change Data Types"
   ]
  },
  {
   "cell_type": "code",
   "execution_count": 5,
   "metadata": {},
   "outputs": [],
   "source": [
    "# Rename columns with snake case\n",
    "\n",
    "ev = ev.rename(\n",
    "    columns={'Brand':'brand',\n",
    "             'Model':'model',\n",
    "             'AccelSec':'accel_sec',\n",
    "             'TopSpeed_KmH':'top_speed_kmh',\n",
    "             'Range_Km':'range_km',\n",
    "             'Efficiency_WhKm':'efficiency_whkm',\n",
    "             'FastCharge_KmH':'fast_charge_kmh',\n",
    "             'RapidCharge':'rapid_charge',\n",
    "             'PowerTrain':'power_train',\n",
    "             'PlugType':'plug_type',\n",
    "             'BodyStyle':'body_style',\n",
    "             'Segment':'segment',\n",
    "             'Seats':'seats',\n",
    "             'PriceEuro':'price_euro'\n",
    "             }\n",
    ")"
   ]
  },
  {
   "cell_type": "code",
   "execution_count": 6,
   "metadata": {},
   "outputs": [
    {
     "name": "stdout",
     "output_type": "stream",
     "text": [
      "Index(['brand', 'model', 'accel_sec', 'top_speed_kmh', 'range_km',\n",
      "       'efficiency_whkm', 'fast_charge_kmh', 'rapid_charge', 'power_train',\n",
      "       'plug_type', 'body_style', 'segment', 'seats', 'price_euro'],\n",
      "      dtype='object')\n"
     ]
    }
   ],
   "source": [
    "# Check columns are now all snake case\n",
    "print(ev.columns)"
   ]
  },
  {
   "cell_type": "code",
   "execution_count": 7,
   "metadata": {},
   "outputs": [
    {
     "name": "stdout",
     "output_type": "stream",
     "text": [
      "['940' '250' '620' '560' '190' '220' '420' '650' '540' '440' '230' '380'\n",
      " '210' '590' '780' '170' '260' '930' '850' '910' '490' '470' '270' '450'\n",
      " '350' '710' '240' '390' '570' '610' '340' '730' '920' '-' '550' '900'\n",
      " '520' '430' '890' '410' '770' '460' '360' '810' '480' '290' '330' '740'\n",
      " '510' '320' '500']\n"
     ]
    }
   ],
   "source": [
    "# Change fast_charge_kmh from object to int\n",
    "\n",
    "# First check the unique values of fast_charge_kmh\n",
    "print(ev['fast_charge_kmh'].unique())"
   ]
  },
  {
   "cell_type": "code",
   "execution_count": 8,
   "metadata": {},
   "outputs": [
    {
     "name": "stdout",
     "output_type": "stream",
     "text": [
      "['940' '250' '620' '560' '190' '220' '420' '650' '540' '440' '230' '380'\n",
      " '210' '590' '780' '170' '260' '930' '850' '910' '490' '470' '270' '450'\n",
      " '350' '710' '240' '390' '570' '610' '340' '730' '920' nan '550' '900'\n",
      " '520' '430' '890' '410' '770' '460' '360' '810' '480' '290' '330' '740'\n",
      " '510' '320' '500']\n"
     ]
    }
   ],
   "source": [
    "# Change '-' to NaN\n",
    "ev['fast_charge_kmh'] = ev['fast_charge_kmh'].replace('-', np.NaN) \n",
    "print(ev['fast_charge_kmh'].unique())"
   ]
  },
  {
   "cell_type": "code",
   "execution_count": 9,
   "metadata": {},
   "outputs": [
    {
     "name": "stdout",
     "output_type": "stream",
     "text": [
      "<class 'pandas.core.frame.DataFrame'>\n",
      "RangeIndex: 103 entries, 0 to 102\n",
      "Data columns (total 14 columns):\n",
      " #   Column           Non-Null Count  Dtype  \n",
      "---  ------           --------------  -----  \n",
      " 0   brand            103 non-null    object \n",
      " 1   model            103 non-null    object \n",
      " 2   accel_sec        103 non-null    float64\n",
      " 3   top_speed_kmh    103 non-null    int64  \n",
      " 4   range_km         103 non-null    int64  \n",
      " 5   efficiency_whkm  103 non-null    int64  \n",
      " 6   fast_charge_kmh  98 non-null     float64\n",
      " 7   rapid_charge     103 non-null    object \n",
      " 8   power_train      103 non-null    object \n",
      " 9   plug_type        103 non-null    object \n",
      " 10  body_style       103 non-null    object \n",
      " 11  segment          103 non-null    object \n",
      " 12  seats            103 non-null    int64  \n",
      " 13  price_euro       103 non-null    int64  \n",
      "dtypes: float64(2), int64(5), object(7)\n",
      "memory usage: 11.4+ KB\n"
     ]
    }
   ],
   "source": [
    "# Change fast_charge_kmh to int type data\n",
    "ev['fast_charge_kmh'] = pd.to_numeric(ev['fast_charge_kmh']) \n",
    "\n",
    "ev.info()"
   ]
  },
  {
   "attachments": {},
   "cell_type": "markdown",
   "metadata": {},
   "source": [
    "### 1c. Check for Missing Data and Duplicates"
   ]
  },
  {
   "cell_type": "code",
   "execution_count": 10,
   "metadata": {},
   "outputs": [
    {
     "data": {
      "text/plain": [
       "brand              0\n",
       "model              0\n",
       "accel_sec          0\n",
       "top_speed_kmh      0\n",
       "range_km           0\n",
       "efficiency_whkm    0\n",
       "fast_charge_kmh    5\n",
       "rapid_charge       0\n",
       "power_train        0\n",
       "plug_type          0\n",
       "body_style         0\n",
       "segment            0\n",
       "seats              0\n",
       "price_euro         0\n",
       "dtype: int64"
      ]
     },
     "execution_count": 10,
     "metadata": {},
     "output_type": "execute_result"
    }
   ],
   "source": [
    "# Check for missing values\n",
    "ev.isna().sum()"
   ]
  },
  {
   "attachments": {},
   "cell_type": "markdown",
   "metadata": {},
   "source": [
    "After changing '-' to NaN, there are now 5 missing values in fast_charge_kmh. These represent cars that don't have measurements for this value. Because there are only 5 missing values, I will keep the missing data and exclude these cars from analyses that use this variable. "
   ]
  },
  {
   "cell_type": "code",
   "execution_count": 11,
   "metadata": {},
   "outputs": [
    {
     "name": "stdout",
     "output_type": "stream",
     "text": [
      "The number of fully duplicated rows is: 0\n"
     ]
    }
   ],
   "source": [
    "# Check for fully duplicate rows\n",
    "ev_duplicates = ev.duplicated().sum()\n",
    "\n",
    "print(f'The number of fully duplicated rows is: {ev_duplicates}')"
   ]
  },
  {
   "cell_type": "code",
   "execution_count": 12,
   "metadata": {},
   "outputs": [
    {
     "name": "stdout",
     "output_type": "stream",
     "text": [
      "The number of brand-model duplicates is: 1\n"
     ]
    }
   ],
   "source": [
    "# Check for implicit brand-model duplicate\n",
    "ev_brand_model_duplicates = ev[['brand', 'model']].duplicated().sum() \n",
    "\n",
    "print(f'The number of brand-model duplicates is: {ev_brand_model_duplicates}')"
   ]
  },
  {
   "cell_type": "code",
   "execution_count": 13,
   "metadata": {},
   "outputs": [
    {
     "data": {
      "text/html": [
       "<div>\n",
       "<style scoped>\n",
       "    .dataframe tbody tr th:only-of-type {\n",
       "        vertical-align: middle;\n",
       "    }\n",
       "\n",
       "    .dataframe tbody tr th {\n",
       "        vertical-align: top;\n",
       "    }\n",
       "\n",
       "    .dataframe thead th {\n",
       "        text-align: right;\n",
       "    }\n",
       "</style>\n",
       "<table border=\"1\" class=\"dataframe\">\n",
       "  <thead>\n",
       "    <tr style=\"text-align: right;\">\n",
       "      <th></th>\n",
       "      <th>brand</th>\n",
       "      <th>model</th>\n",
       "      <th>accel_sec</th>\n",
       "      <th>top_speed_kmh</th>\n",
       "      <th>range_km</th>\n",
       "      <th>efficiency_whkm</th>\n",
       "      <th>fast_charge_kmh</th>\n",
       "      <th>rapid_charge</th>\n",
       "      <th>power_train</th>\n",
       "      <th>plug_type</th>\n",
       "      <th>body_style</th>\n",
       "      <th>segment</th>\n",
       "      <th>seats</th>\n",
       "      <th>price_euro</th>\n",
       "    </tr>\n",
       "  </thead>\n",
       "  <tbody>\n",
       "    <tr>\n",
       "      <th>92</th>\n",
       "      <td>Kia</td>\n",
       "      <td>e-Soul 64 kWh</td>\n",
       "      <td>7.9</td>\n",
       "      <td>167</td>\n",
       "      <td>365</td>\n",
       "      <td>175</td>\n",
       "      <td>320.0</td>\n",
       "      <td>Yes</td>\n",
       "      <td>FWD</td>\n",
       "      <td>Type 2 CCS</td>\n",
       "      <td>SUV</td>\n",
       "      <td>B</td>\n",
       "      <td>5</td>\n",
       "      <td>36837</td>\n",
       "    </tr>\n",
       "  </tbody>\n",
       "</table>\n",
       "</div>"
      ],
      "text/plain": [
       "   brand          model  accel_sec  top_speed_kmh  range_km  efficiency_whkm  \\\n",
       "92  Kia   e-Soul 64 kWh        7.9            167       365              175   \n",
       "\n",
       "    fast_charge_kmh rapid_charge power_train   plug_type body_style segment  \\\n",
       "92            320.0          Yes         FWD  Type 2 CCS        SUV       B   \n",
       "\n",
       "    seats  price_euro  \n",
       "92      5       36837  "
      ]
     },
     "metadata": {},
     "output_type": "display_data"
    },
    {
     "data": {
      "text/html": [
       "<div>\n",
       "<style scoped>\n",
       "    .dataframe tbody tr th:only-of-type {\n",
       "        vertical-align: middle;\n",
       "    }\n",
       "\n",
       "    .dataframe tbody tr th {\n",
       "        vertical-align: top;\n",
       "    }\n",
       "\n",
       "    .dataframe thead th {\n",
       "        text-align: right;\n",
       "    }\n",
       "</style>\n",
       "<table border=\"1\" class=\"dataframe\">\n",
       "  <thead>\n",
       "    <tr style=\"text-align: right;\">\n",
       "      <th></th>\n",
       "      <th>brand</th>\n",
       "      <th>model</th>\n",
       "      <th>accel_sec</th>\n",
       "      <th>top_speed_kmh</th>\n",
       "      <th>range_km</th>\n",
       "      <th>efficiency_whkm</th>\n",
       "      <th>fast_charge_kmh</th>\n",
       "      <th>rapid_charge</th>\n",
       "      <th>power_train</th>\n",
       "      <th>plug_type</th>\n",
       "      <th>body_style</th>\n",
       "      <th>segment</th>\n",
       "      <th>seats</th>\n",
       "      <th>price_euro</th>\n",
       "    </tr>\n",
       "  </thead>\n",
       "  <tbody>\n",
       "    <tr>\n",
       "      <th>45</th>\n",
       "      <td>Kia</td>\n",
       "      <td>e-Soul 64 kWh</td>\n",
       "      <td>7.9</td>\n",
       "      <td>167</td>\n",
       "      <td>365</td>\n",
       "      <td>175</td>\n",
       "      <td>340.0</td>\n",
       "      <td>Yes</td>\n",
       "      <td>FWD</td>\n",
       "      <td>Type 2 CCS</td>\n",
       "      <td>SUV</td>\n",
       "      <td>B</td>\n",
       "      <td>5</td>\n",
       "      <td>36837</td>\n",
       "    </tr>\n",
       "    <tr>\n",
       "      <th>92</th>\n",
       "      <td>Kia</td>\n",
       "      <td>e-Soul 64 kWh</td>\n",
       "      <td>7.9</td>\n",
       "      <td>167</td>\n",
       "      <td>365</td>\n",
       "      <td>175</td>\n",
       "      <td>320.0</td>\n",
       "      <td>Yes</td>\n",
       "      <td>FWD</td>\n",
       "      <td>Type 2 CCS</td>\n",
       "      <td>SUV</td>\n",
       "      <td>B</td>\n",
       "      <td>5</td>\n",
       "      <td>36837</td>\n",
       "    </tr>\n",
       "  </tbody>\n",
       "</table>\n",
       "</div>"
      ],
      "text/plain": [
       "   brand          model  accel_sec  top_speed_kmh  range_km  efficiency_whkm  \\\n",
       "45  Kia   e-Soul 64 kWh        7.9            167       365              175   \n",
       "92  Kia   e-Soul 64 kWh        7.9            167       365              175   \n",
       "\n",
       "    fast_charge_kmh rapid_charge power_train   plug_type body_style segment  \\\n",
       "45            340.0          Yes         FWD  Type 2 CCS        SUV       B   \n",
       "92            320.0          Yes         FWD  Type 2 CCS        SUV       B   \n",
       "\n",
       "    seats  price_euro  \n",
       "45      5       36837  \n",
       "92      5       36837  "
      ]
     },
     "metadata": {},
     "output_type": "display_data"
    }
   ],
   "source": [
    "# Find the duplicate brand-model rows\n",
    "ev_brand_model_duplicate_row = ev[ev[['brand', 'model']].duplicated()==True] \n",
    "\n",
    "# Display the duplicate row\n",
    "display(ev_brand_model_duplicate_row) \n",
    "\n",
    "# Display the original and duplicated rows\n",
    "display(ev[(ev['brand']=='Kia ') & (ev['model']=='e-Soul 64 kWh')]) "
   ]
  },
  {
   "attachments": {},
   "cell_type": "markdown",
   "metadata": {},
   "source": [
    "The Kia e-Soul 64 kWh row is fully duplicated except for the fast_charge_kmh column. I believe this was a data entry error, that someone mis-entered either the 340 or 320. I believe that there shold be only one make and model of this car. I will delete this duplicate row. "
   ]
  },
  {
   "cell_type": "code",
   "execution_count": 14,
   "metadata": {},
   "outputs": [
    {
     "name": "stdout",
     "output_type": "stream",
     "text": [
      "The number of duplicates in the ev dataset is now: 0\n"
     ]
    }
   ],
   "source": [
    "# Delete duplicate rows\n",
    "ev = ev.drop_duplicates(subset=['brand', 'model']).reset_index(drop=True) \n",
    "\n",
    "# Check again for duplicates\n",
    "new_ev_brand_model_duplicates = ev[['brand', 'model']].duplicated().sum() \n",
    "\n",
    "print(f'The number of duplicates in the ev dataset is now: {new_ev_brand_model_duplicates}')"
   ]
  },
  {
   "attachments": {},
   "cell_type": "markdown",
   "metadata": {},
   "source": [
    "## 2. Exploratory Data Analysis"
   ]
  },
  {
   "attachments": {},
   "cell_type": "markdown",
   "metadata": {},
   "source": [
    "This section details descriptive statistics and data visualization for range, efficiency, and price of electric vehicles by brand and by body style.\n",
    "\n",
    "Additionally, the relationship of range vs price and efficiency vs price is visualized on a scatter plot."
   ]
  },
  {
   "attachments": {},
   "cell_type": "markdown",
   "metadata": {},
   "source": [
    "### 2a. Create a top_brands data frame and run descriptive analysis of price, efficiency, and range by brand\n",
    "\n",
    "I define top_brand as brands that have 3 or more electric vehicles on the market."
   ]
  },
  {
   "cell_type": "code",
   "execution_count": 15,
   "metadata": {},
   "outputs": [
    {
     "name": "stdout",
     "output_type": "stream",
     "text": [
      "There are 33 unique car brands. They are:\n",
      "\n",
      "['Tesla ' 'Volkswagen ' 'Polestar ' 'BMW ' 'Honda ' 'Lucid ' 'Peugeot '\n",
      " 'Audi ' 'Mercedes ' 'Nissan ' 'Hyundai ' 'Porsche ' 'MG ' 'Mini ' 'Opel '\n",
      " 'Skoda ' 'Volvo ' 'Kia ' 'Renault ' 'Mazda ' 'Lexus ' 'CUPRA ' 'SEAT '\n",
      " 'Lightyear ' 'Aiways ' 'DS ' 'Citroen ' 'Jaguar ' 'Ford ' 'Byton '\n",
      " 'Sono ' 'Smart ' 'Fiat ']\n"
     ]
    }
   ],
   "source": [
    "# Count unique brands represented in the dataset\n",
    "n_brand_unique = len(ev['brand'].unique()) \n",
    "\n",
    "print(f'There are {n_brand_unique} unique car brands. They are:')\n",
    "print()\n",
    "print(ev['brand'].unique()) # Display unique brand names"
   ]
  },
  {
   "cell_type": "code",
   "execution_count": 16,
   "metadata": {},
   "outputs": [
    {
     "data": {
      "text/plain": [
       "Tesla          13\n",
       "Audi            9\n",
       "Nissan          8\n",
       "Volkswagen      8\n",
       "Skoda           6\n",
       "Renault         5\n",
       "Porsche         5\n",
       "BMW             4\n",
       "Ford            4\n",
       "Kia             4\n",
       "Smart           3\n",
       "Byton           3\n",
       "Mercedes        3\n",
       "Hyundai         3\n",
       "Opel            3\n",
       "Fiat            2\n",
       "Peugeot         2\n",
       "Honda           2\n",
       "Mini            1\n",
       "DS              1\n",
       "Polestar        1\n",
       "Sono            1\n",
       "Lucid           1\n",
       "Jaguar          1\n",
       "Citroen         1\n",
       "Aiways          1\n",
       "MG              1\n",
       "Lightyear       1\n",
       "SEAT            1\n",
       "CUPRA           1\n",
       "Lexus           1\n",
       "Mazda           1\n",
       "Volvo           1\n",
       "Name: brand, dtype: int64"
      ]
     },
     "execution_count": 16,
     "metadata": {},
     "output_type": "execute_result"
    }
   ],
   "source": [
    "ev['brand'].value_counts() # Count the number of vehiclese for each brand in the dataset"
   ]
  },
  {
   "cell_type": "code",
   "execution_count": 17,
   "metadata": {},
   "outputs": [],
   "source": [
    "# Create data frame with only brands that have 3 or more evs on the market\n",
    "top_brands = ev[(ev['brand']=='Tesla ') | (ev['brand']=='Audi ') | (ev['brand']=='Nissan ') \n",
    "                | (ev['brand']=='Volkswagen ') | (ev['brand']=='Skoda ') | (ev['brand']=='Renault ') \n",
    "                | (ev['brand']=='Porsche ') | (ev['brand']=='BMW ') | (ev['brand']=='Ford ')\n",
    "                | (ev['brand']=='Kia ') | (ev['brand']=='Smart ') | (ev['brand']=='Byton ')\n",
    "                | (ev['brand']=='Mercedes ') | (ev['brand']=='Hyundai ') | (ev['brand']=='Opel ')] "
   ]
  },
  {
   "cell_type": "code",
   "execution_count": 18,
   "metadata": {},
   "outputs": [
    {
     "data": {
      "text/html": [
       "<div>\n",
       "<style scoped>\n",
       "    .dataframe tbody tr th:only-of-type {\n",
       "        vertical-align: middle;\n",
       "    }\n",
       "\n",
       "    .dataframe tbody tr th {\n",
       "        vertical-align: top;\n",
       "    }\n",
       "\n",
       "    .dataframe thead tr th {\n",
       "        text-align: left;\n",
       "    }\n",
       "\n",
       "    .dataframe thead tr:last-of-type th {\n",
       "        text-align: right;\n",
       "    }\n",
       "</style>\n",
       "<table border=\"1\" class=\"dataframe\">\n",
       "  <thead>\n",
       "    <tr>\n",
       "      <th></th>\n",
       "      <th colspan=\"3\" halign=\"left\">min</th>\n",
       "      <th colspan=\"3\" halign=\"left\">max</th>\n",
       "      <th colspan=\"3\" halign=\"left\">mean</th>\n",
       "      <th colspan=\"3\" halign=\"left\">median</th>\n",
       "      <th colspan=\"3\" halign=\"left\">std</th>\n",
       "    </tr>\n",
       "    <tr>\n",
       "      <th></th>\n",
       "      <th>efficiency_whkm</th>\n",
       "      <th>price_euro</th>\n",
       "      <th>range_km</th>\n",
       "      <th>efficiency_whkm</th>\n",
       "      <th>price_euro</th>\n",
       "      <th>range_km</th>\n",
       "      <th>efficiency_whkm</th>\n",
       "      <th>price_euro</th>\n",
       "      <th>range_km</th>\n",
       "      <th>efficiency_whkm</th>\n",
       "      <th>price_euro</th>\n",
       "      <th>range_km</th>\n",
       "      <th>efficiency_whkm</th>\n",
       "      <th>price_euro</th>\n",
       "      <th>range_km</th>\n",
       "    </tr>\n",
       "    <tr>\n",
       "      <th>brand</th>\n",
       "      <th></th>\n",
       "      <th></th>\n",
       "      <th></th>\n",
       "      <th></th>\n",
       "      <th></th>\n",
       "      <th></th>\n",
       "      <th></th>\n",
       "      <th></th>\n",
       "      <th></th>\n",
       "      <th></th>\n",
       "      <th></th>\n",
       "      <th></th>\n",
       "      <th></th>\n",
       "      <th></th>\n",
       "      <th></th>\n",
       "    </tr>\n",
       "  </thead>\n",
       "  <tbody>\n",
       "    <tr>\n",
       "      <th>Audi</th>\n",
       "      <td>188</td>\n",
       "      <td>55000</td>\n",
       "      <td>280</td>\n",
       "      <td>270</td>\n",
       "      <td>125000</td>\n",
       "      <td>425</td>\n",
       "      <td>224.56</td>\n",
       "      <td>80593.67</td>\n",
       "      <td>356.67</td>\n",
       "      <td>228.0</td>\n",
       "      <td>79445.0</td>\n",
       "      <td>365.0</td>\n",
       "      <td>28.54</td>\n",
       "      <td>22003.17</td>\n",
       "      <td>51.84</td>\n",
       "    </tr>\n",
       "    <tr>\n",
       "      <th>BMW</th>\n",
       "      <td>161</td>\n",
       "      <td>38017</td>\n",
       "      <td>230</td>\n",
       "      <td>206</td>\n",
       "      <td>68040</td>\n",
       "      <td>450</td>\n",
       "      <td>177.50</td>\n",
       "      <td>53145.75</td>\n",
       "      <td>318.75</td>\n",
       "      <td>171.5</td>\n",
       "      <td>53263.0</td>\n",
       "      <td>297.5</td>\n",
       "      <td>20.34</td>\n",
       "      <td>15559.13</td>\n",
       "      <td>106.17</td>\n",
       "    </tr>\n",
       "    <tr>\n",
       "      <th>Byton</th>\n",
       "      <td>222</td>\n",
       "      <td>53500</td>\n",
       "      <td>325</td>\n",
       "      <td>244</td>\n",
       "      <td>64000</td>\n",
       "      <td>400</td>\n",
       "      <td>234.67</td>\n",
       "      <td>59833.33</td>\n",
       "      <td>371.67</td>\n",
       "      <td>238.0</td>\n",
       "      <td>62000.0</td>\n",
       "      <td>390.0</td>\n",
       "      <td>11.37</td>\n",
       "      <td>5575.24</td>\n",
       "      <td>40.72</td>\n",
       "    </tr>\n",
       "    <tr>\n",
       "      <th>Ford</th>\n",
       "      <td>194</td>\n",
       "      <td>46900</td>\n",
       "      <td>340</td>\n",
       "      <td>209</td>\n",
       "      <td>62900</td>\n",
       "      <td>450</td>\n",
       "      <td>202.25</td>\n",
       "      <td>54568.75</td>\n",
       "      <td>395.00</td>\n",
       "      <td>203.0</td>\n",
       "      <td>54237.5</td>\n",
       "      <td>395.0</td>\n",
       "      <td>6.65</td>\n",
       "      <td>6546.03</td>\n",
       "      <td>53.23</td>\n",
       "    </tr>\n",
       "    <tr>\n",
       "      <th>Hyundai</th>\n",
       "      <td>153</td>\n",
       "      <td>33971</td>\n",
       "      <td>250</td>\n",
       "      <td>160</td>\n",
       "      <td>40795</td>\n",
       "      <td>400</td>\n",
       "      <td>155.67</td>\n",
       "      <td>36408.33</td>\n",
       "      <td>301.67</td>\n",
       "      <td>154.0</td>\n",
       "      <td>34459.0</td>\n",
       "      <td>255.0</td>\n",
       "      <td>3.79</td>\n",
       "      <td>3806.79</td>\n",
       "      <td>85.20</td>\n",
       "    </tr>\n",
       "    <tr>\n",
       "      <th>Kia</th>\n",
       "      <td>167</td>\n",
       "      <td>33133</td>\n",
       "      <td>230</td>\n",
       "      <td>175</td>\n",
       "      <td>38105</td>\n",
       "      <td>370</td>\n",
       "      <td>171.25</td>\n",
       "      <td>35618.75</td>\n",
       "      <td>300.00</td>\n",
       "      <td>171.5</td>\n",
       "      <td>35618.5</td>\n",
       "      <td>300.0</td>\n",
       "      <td>3.50</td>\n",
       "      <td>2260.52</td>\n",
       "      <td>78.00</td>\n",
       "    </tr>\n",
       "    <tr>\n",
       "      <th>Mercedes</th>\n",
       "      <td>171</td>\n",
       "      <td>45000</td>\n",
       "      <td>330</td>\n",
       "      <td>273</td>\n",
       "      <td>70631</td>\n",
       "      <td>370</td>\n",
       "      <td>220.00</td>\n",
       "      <td>61705.00</td>\n",
       "      <td>350.00</td>\n",
       "      <td>216.0</td>\n",
       "      <td>69484.0</td>\n",
       "      <td>350.0</td>\n",
       "      <td>51.12</td>\n",
       "      <td>14478.32</td>\n",
       "      <td>20.00</td>\n",
       "    </tr>\n",
       "    <tr>\n",
       "      <th>Nissan</th>\n",
       "      <td>164</td>\n",
       "      <td>29234</td>\n",
       "      <td>190</td>\n",
       "      <td>232</td>\n",
       "      <td>65000</td>\n",
       "      <td>440</td>\n",
       "      <td>194.75</td>\n",
       "      <td>45902.12</td>\n",
       "      <td>328.12</td>\n",
       "      <td>196.0</td>\n",
       "      <td>47500.0</td>\n",
       "      <td>327.5</td>\n",
       "      <td>20.89</td>\n",
       "      <td>12228.34</td>\n",
       "      <td>87.79</td>\n",
       "    </tr>\n",
       "    <tr>\n",
       "      <th>Opel</th>\n",
       "      <td>164</td>\n",
       "      <td>29146</td>\n",
       "      <td>255</td>\n",
       "      <td>176</td>\n",
       "      <td>41906</td>\n",
       "      <td>335</td>\n",
       "      <td>171.00</td>\n",
       "      <td>35350.67</td>\n",
       "      <td>288.33</td>\n",
       "      <td>173.0</td>\n",
       "      <td>35000.0</td>\n",
       "      <td>275.0</td>\n",
       "      <td>6.24</td>\n",
       "      <td>6387.22</td>\n",
       "      <td>41.63</td>\n",
       "    </tr>\n",
       "    <tr>\n",
       "      <th>Porsche</th>\n",
       "      <td>195</td>\n",
       "      <td>102945</td>\n",
       "      <td>365</td>\n",
       "      <td>223</td>\n",
       "      <td>180781</td>\n",
       "      <td>425</td>\n",
       "      <td>209.40</td>\n",
       "      <td>138265.80</td>\n",
       "      <td>388.00</td>\n",
       "      <td>215.0</td>\n",
       "      <td>148301.0</td>\n",
       "      <td>385.0</td>\n",
       "      <td>12.60</td>\n",
       "      <td>32141.87</td>\n",
       "      <td>22.80</td>\n",
       "    </tr>\n",
       "    <tr>\n",
       "      <th>Renault</th>\n",
       "      <td>161</td>\n",
       "      <td>24790</td>\n",
       "      <td>130</td>\n",
       "      <td>194</td>\n",
       "      <td>38000</td>\n",
       "      <td>315</td>\n",
       "      <td>170.40</td>\n",
       "      <td>31268.20</td>\n",
       "      <td>234.00</td>\n",
       "      <td>165.0</td>\n",
       "      <td>31184.0</td>\n",
       "      <td>255.0</td>\n",
       "      <td>13.43</td>\n",
       "      <td>4871.00</td>\n",
       "      <td>85.25</td>\n",
       "    </tr>\n",
       "    <tr>\n",
       "      <th>Skoda</th>\n",
       "      <td>166</td>\n",
       "      <td>24534</td>\n",
       "      <td>195</td>\n",
       "      <td>193</td>\n",
       "      <td>47500</td>\n",
       "      <td>420</td>\n",
       "      <td>182.50</td>\n",
       "      <td>38255.67</td>\n",
       "      <td>337.50</td>\n",
       "      <td>182.0</td>\n",
       "      <td>38750.0</td>\n",
       "      <td>360.0</td>\n",
       "      <td>10.07</td>\n",
       "      <td>8166.28</td>\n",
       "      <td>86.59</td>\n",
       "    </tr>\n",
       "    <tr>\n",
       "      <th>Smart</th>\n",
       "      <td>167</td>\n",
       "      <td>21387</td>\n",
       "      <td>95</td>\n",
       "      <td>176</td>\n",
       "      <td>24565</td>\n",
       "      <td>100</td>\n",
       "      <td>173.00</td>\n",
       "      <td>22660.67</td>\n",
       "      <td>96.67</td>\n",
       "      <td>176.0</td>\n",
       "      <td>22030.0</td>\n",
       "      <td>95.0</td>\n",
       "      <td>5.20</td>\n",
       "      <td>1680.25</td>\n",
       "      <td>2.89</td>\n",
       "    </tr>\n",
       "    <tr>\n",
       "      <th>Tesla</th>\n",
       "      <td>153</td>\n",
       "      <td>45000</td>\n",
       "      <td>310</td>\n",
       "      <td>267</td>\n",
       "      <td>215000</td>\n",
       "      <td>970</td>\n",
       "      <td>201.38</td>\n",
       "      <td>80272.31</td>\n",
       "      <td>500.77</td>\n",
       "      <td>188.0</td>\n",
       "      <td>65620.0</td>\n",
       "      <td>450.0</td>\n",
       "      <td>39.08</td>\n",
       "      <td>44432.09</td>\n",
       "      <td>173.20</td>\n",
       "    </tr>\n",
       "    <tr>\n",
       "      <th>Volkswagen</th>\n",
       "      <td>166</td>\n",
       "      <td>21421</td>\n",
       "      <td>190</td>\n",
       "      <td>183</td>\n",
       "      <td>45000</td>\n",
       "      <td>440</td>\n",
       "      <td>170.88</td>\n",
       "      <td>34602.38</td>\n",
       "      <td>318.12</td>\n",
       "      <td>169.5</td>\n",
       "      <td>34287.5</td>\n",
       "      <td>340.0</td>\n",
       "      <td>5.79</td>\n",
       "      <td>7301.64</td>\n",
       "      <td>93.42</td>\n",
       "    </tr>\n",
       "  </tbody>\n",
       "</table>\n",
       "</div>"
      ],
      "text/plain": [
       "                        min                                 max             \\\n",
       "            efficiency_whkm price_euro range_km efficiency_whkm price_euro   \n",
       "brand                                                                        \n",
       "Audi                    188      55000      280             270     125000   \n",
       "BMW                     161      38017      230             206      68040   \n",
       "Byton                   222      53500      325             244      64000   \n",
       "Ford                    194      46900      340             209      62900   \n",
       "Hyundai                 153      33971      250             160      40795   \n",
       "Kia                     167      33133      230             175      38105   \n",
       "Mercedes                171      45000      330             273      70631   \n",
       "Nissan                  164      29234      190             232      65000   \n",
       "Opel                    164      29146      255             176      41906   \n",
       "Porsche                 195     102945      365             223     180781   \n",
       "Renault                 161      24790      130             194      38000   \n",
       "Skoda                   166      24534      195             193      47500   \n",
       "Smart                   167      21387       95             176      24565   \n",
       "Tesla                   153      45000      310             267     215000   \n",
       "Volkswagen              166      21421      190             183      45000   \n",
       "\n",
       "                                mean                              median  \\\n",
       "            range_km efficiency_whkm price_euro range_km efficiency_whkm   \n",
       "brand                                                                      \n",
       "Audi             425          224.56   80593.67   356.67           228.0   \n",
       "BMW              450          177.50   53145.75   318.75           171.5   \n",
       "Byton            400          234.67   59833.33   371.67           238.0   \n",
       "Ford             450          202.25   54568.75   395.00           203.0   \n",
       "Hyundai          400          155.67   36408.33   301.67           154.0   \n",
       "Kia              370          171.25   35618.75   300.00           171.5   \n",
       "Mercedes         370          220.00   61705.00   350.00           216.0   \n",
       "Nissan           440          194.75   45902.12   328.12           196.0   \n",
       "Opel             335          171.00   35350.67   288.33           173.0   \n",
       "Porsche          425          209.40  138265.80   388.00           215.0   \n",
       "Renault          315          170.40   31268.20   234.00           165.0   \n",
       "Skoda            420          182.50   38255.67   337.50           182.0   \n",
       "Smart            100          173.00   22660.67    96.67           176.0   \n",
       "Tesla            970          201.38   80272.31   500.77           188.0   \n",
       "Volkswagen       440          170.88   34602.38   318.12           169.5   \n",
       "\n",
       "                                            std                      \n",
       "            price_euro range_km efficiency_whkm price_euro range_km  \n",
       "brand                                                                \n",
       "Audi           79445.0    365.0           28.54   22003.17    51.84  \n",
       "BMW            53263.0    297.5           20.34   15559.13   106.17  \n",
       "Byton          62000.0    390.0           11.37    5575.24    40.72  \n",
       "Ford           54237.5    395.0            6.65    6546.03    53.23  \n",
       "Hyundai        34459.0    255.0            3.79    3806.79    85.20  \n",
       "Kia            35618.5    300.0            3.50    2260.52    78.00  \n",
       "Mercedes       69484.0    350.0           51.12   14478.32    20.00  \n",
       "Nissan         47500.0    327.5           20.89   12228.34    87.79  \n",
       "Opel           35000.0    275.0            6.24    6387.22    41.63  \n",
       "Porsche       148301.0    385.0           12.60   32141.87    22.80  \n",
       "Renault        31184.0    255.0           13.43    4871.00    85.25  \n",
       "Skoda          38750.0    360.0           10.07    8166.28    86.59  \n",
       "Smart          22030.0     95.0            5.20    1680.25     2.89  \n",
       "Tesla          65620.0    450.0           39.08   44432.09   173.20  \n",
       "Volkswagen     34287.5    340.0            5.79    7301.64    93.42  "
      ]
     },
     "metadata": {},
     "output_type": "display_data"
    }
   ],
   "source": [
    "# Create a pivot table with min, max, mean, median, and standard deviation for each brand's\n",
    "# efficiency, price, and range.\n",
    "top_brands_pivot = top_brands.pivot_table(index='brand', values=['range_km', 'efficiency_whkm', 'price_euro'], \n",
    "                                          aggfunc=['min', 'max', 'mean', 'median', 'std']).round(2)\n",
    "\n",
    "display(top_brands_pivot)"
   ]
  },
  {
   "cell_type": "code",
   "execution_count": 19,
   "metadata": {},
   "outputs": [
    {
     "data": {
      "application/vnd.plotly.v1+json": {
       "config": {
        "plotlyServerURL": "https://plot.ly"
       },
       "data": [
        {
         "alignmentgroup": "True",
         "bingroup": "x",
         "histfunc": "avg",
         "hovertemplate": "Brand Name=%{x}<br>avg of Price (Euros)=%{y}<extra></extra>",
         "legendgroup": "",
         "marker": {
          "color": "#B6E880",
          "pattern": {
           "shape": ""
          }
         },
         "name": "",
         "offsetgroup": "",
         "orientation": "v",
         "showlegend": false,
         "textfont": {
          "size": 11
         },
         "textposition": "outside",
         "texttemplate": "%{value:.2s}",
         "type": "histogram",
         "x": [
          "Tesla ",
          "Volkswagen ",
          "BMW ",
          "Volkswagen ",
          "Tesla ",
          "Audi ",
          "Mercedes ",
          "Nissan ",
          "Hyundai ",
          "BMW ",
          "Hyundai ",
          "Volkswagen ",
          "Porsche ",
          "Volkswagen ",
          "Opel ",
          "Tesla ",
          "Skoda ",
          "Audi ",
          "Tesla ",
          "Volkswagen ",
          "Volkswagen ",
          "BMW ",
          "Audi ",
          "Kia ",
          "Renault ",
          "Tesla ",
          "Nissan ",
          "Renault ",
          "Mercedes ",
          "Tesla ",
          "Hyundai ",
          "Audi ",
          "Skoda ",
          "Kia ",
          "Opel ",
          "Porsche ",
          "Audi ",
          "Tesla ",
          "Opel ",
          "Skoda ",
          "Tesla ",
          "Renault ",
          "Tesla ",
          "Renault ",
          "Tesla ",
          "Nissan ",
          "Ford ",
          "Porsche ",
          "Nissan ",
          "Tesla ",
          "Renault ",
          "Ford ",
          "BMW ",
          "Skoda ",
          "Porsche ",
          "Byton ",
          "Kia ",
          "Audi ",
          "Smart ",
          "Ford ",
          "Porsche ",
          "Volkswagen ",
          "Tesla ",
          "Smart ",
          "Ford ",
          "Mercedes ",
          "Tesla ",
          "Audi ",
          "Skoda ",
          "Skoda ",
          "Audi ",
          "Smart ",
          "Nissan ",
          "Volkswagen ",
          "Kia ",
          "Byton ",
          "Nissan ",
          "Audi ",
          "Nissan ",
          "Nissan ",
          "Byton "
         ],
         "xaxis": "x",
         "y": [
          55480,
          30000,
          68040,
          31900,
          46380,
          55000,
          69484,
          29234,
          40795,
          65000,
          34459,
          40936,
          180781,
          21421,
          29146,
          58620,
          35000,
          125000,
          61480,
          45000,
          33000,
          38017,
          67358,
          38105,
          31184,
          75000,
          37237,
          33133,
          45000,
          79990,
          33971,
          81639,
          24534,
          36837,
          41906,
          102945,
          79445,
          215000,
          35000,
          40000,
          85990,
          24790,
          96990,
          29234,
          65620,
          50000,
          54475,
          109302,
          33246,
          55000,
          38000,
          62900,
          41526,
          45000,
          150000,
          64000,
          34400,
          57500,
          22030,
          54000,
          148301,
          38987,
          102990,
          21387,
          46900,
          70631,
          45000,
          69551,
          47500,
          37500,
          93800,
          24565,
          57500,
          35575,
          33133,
          53500,
          45000,
          96050,
          50000,
          65000,
          62000
         ],
         "yaxis": "y"
        }
       ],
       "layout": {
        "barmode": "relative",
        "height": 500,
        "legend": {
         "tracegroupgap": 0
        },
        "paper_bgcolor": "rgba(0, 0, 0, 0)",
        "plot_bgcolor": "rgba(0, 0, 0, 0)",
        "template": {
         "data": {
          "bar": [
           {
            "error_x": {
             "color": "#2a3f5f"
            },
            "error_y": {
             "color": "#2a3f5f"
            },
            "marker": {
             "line": {
              "color": "#E5ECF6",
              "width": 0.5
             },
             "pattern": {
              "fillmode": "overlay",
              "size": 10,
              "solidity": 0.2
             }
            },
            "type": "bar"
           }
          ],
          "barpolar": [
           {
            "marker": {
             "line": {
              "color": "#E5ECF6",
              "width": 0.5
             },
             "pattern": {
              "fillmode": "overlay",
              "size": 10,
              "solidity": 0.2
             }
            },
            "type": "barpolar"
           }
          ],
          "carpet": [
           {
            "aaxis": {
             "endlinecolor": "#2a3f5f",
             "gridcolor": "white",
             "linecolor": "white",
             "minorgridcolor": "white",
             "startlinecolor": "#2a3f5f"
            },
            "baxis": {
             "endlinecolor": "#2a3f5f",
             "gridcolor": "white",
             "linecolor": "white",
             "minorgridcolor": "white",
             "startlinecolor": "#2a3f5f"
            },
            "type": "carpet"
           }
          ],
          "choropleth": [
           {
            "colorbar": {
             "outlinewidth": 0,
             "ticks": ""
            },
            "type": "choropleth"
           }
          ],
          "contour": [
           {
            "colorbar": {
             "outlinewidth": 0,
             "ticks": ""
            },
            "colorscale": [
             [
              0,
              "#0d0887"
             ],
             [
              0.1111111111111111,
              "#46039f"
             ],
             [
              0.2222222222222222,
              "#7201a8"
             ],
             [
              0.3333333333333333,
              "#9c179e"
             ],
             [
              0.4444444444444444,
              "#bd3786"
             ],
             [
              0.5555555555555556,
              "#d8576b"
             ],
             [
              0.6666666666666666,
              "#ed7953"
             ],
             [
              0.7777777777777778,
              "#fb9f3a"
             ],
             [
              0.8888888888888888,
              "#fdca26"
             ],
             [
              1,
              "#f0f921"
             ]
            ],
            "type": "contour"
           }
          ],
          "contourcarpet": [
           {
            "colorbar": {
             "outlinewidth": 0,
             "ticks": ""
            },
            "type": "contourcarpet"
           }
          ],
          "heatmap": [
           {
            "colorbar": {
             "outlinewidth": 0,
             "ticks": ""
            },
            "colorscale": [
             [
              0,
              "#0d0887"
             ],
             [
              0.1111111111111111,
              "#46039f"
             ],
             [
              0.2222222222222222,
              "#7201a8"
             ],
             [
              0.3333333333333333,
              "#9c179e"
             ],
             [
              0.4444444444444444,
              "#bd3786"
             ],
             [
              0.5555555555555556,
              "#d8576b"
             ],
             [
              0.6666666666666666,
              "#ed7953"
             ],
             [
              0.7777777777777778,
              "#fb9f3a"
             ],
             [
              0.8888888888888888,
              "#fdca26"
             ],
             [
              1,
              "#f0f921"
             ]
            ],
            "type": "heatmap"
           }
          ],
          "heatmapgl": [
           {
            "colorbar": {
             "outlinewidth": 0,
             "ticks": ""
            },
            "colorscale": [
             [
              0,
              "#0d0887"
             ],
             [
              0.1111111111111111,
              "#46039f"
             ],
             [
              0.2222222222222222,
              "#7201a8"
             ],
             [
              0.3333333333333333,
              "#9c179e"
             ],
             [
              0.4444444444444444,
              "#bd3786"
             ],
             [
              0.5555555555555556,
              "#d8576b"
             ],
             [
              0.6666666666666666,
              "#ed7953"
             ],
             [
              0.7777777777777778,
              "#fb9f3a"
             ],
             [
              0.8888888888888888,
              "#fdca26"
             ],
             [
              1,
              "#f0f921"
             ]
            ],
            "type": "heatmapgl"
           }
          ],
          "histogram": [
           {
            "marker": {
             "pattern": {
              "fillmode": "overlay",
              "size": 10,
              "solidity": 0.2
             }
            },
            "type": "histogram"
           }
          ],
          "histogram2d": [
           {
            "colorbar": {
             "outlinewidth": 0,
             "ticks": ""
            },
            "colorscale": [
             [
              0,
              "#0d0887"
             ],
             [
              0.1111111111111111,
              "#46039f"
             ],
             [
              0.2222222222222222,
              "#7201a8"
             ],
             [
              0.3333333333333333,
              "#9c179e"
             ],
             [
              0.4444444444444444,
              "#bd3786"
             ],
             [
              0.5555555555555556,
              "#d8576b"
             ],
             [
              0.6666666666666666,
              "#ed7953"
             ],
             [
              0.7777777777777778,
              "#fb9f3a"
             ],
             [
              0.8888888888888888,
              "#fdca26"
             ],
             [
              1,
              "#f0f921"
             ]
            ],
            "type": "histogram2d"
           }
          ],
          "histogram2dcontour": [
           {
            "colorbar": {
             "outlinewidth": 0,
             "ticks": ""
            },
            "colorscale": [
             [
              0,
              "#0d0887"
             ],
             [
              0.1111111111111111,
              "#46039f"
             ],
             [
              0.2222222222222222,
              "#7201a8"
             ],
             [
              0.3333333333333333,
              "#9c179e"
             ],
             [
              0.4444444444444444,
              "#bd3786"
             ],
             [
              0.5555555555555556,
              "#d8576b"
             ],
             [
              0.6666666666666666,
              "#ed7953"
             ],
             [
              0.7777777777777778,
              "#fb9f3a"
             ],
             [
              0.8888888888888888,
              "#fdca26"
             ],
             [
              1,
              "#f0f921"
             ]
            ],
            "type": "histogram2dcontour"
           }
          ],
          "mesh3d": [
           {
            "colorbar": {
             "outlinewidth": 0,
             "ticks": ""
            },
            "type": "mesh3d"
           }
          ],
          "parcoords": [
           {
            "line": {
             "colorbar": {
              "outlinewidth": 0,
              "ticks": ""
             }
            },
            "type": "parcoords"
           }
          ],
          "pie": [
           {
            "automargin": true,
            "type": "pie"
           }
          ],
          "scatter": [
           {
            "fillpattern": {
             "fillmode": "overlay",
             "size": 10,
             "solidity": 0.2
            },
            "type": "scatter"
           }
          ],
          "scatter3d": [
           {
            "line": {
             "colorbar": {
              "outlinewidth": 0,
              "ticks": ""
             }
            },
            "marker": {
             "colorbar": {
              "outlinewidth": 0,
              "ticks": ""
             }
            },
            "type": "scatter3d"
           }
          ],
          "scattercarpet": [
           {
            "marker": {
             "colorbar": {
              "outlinewidth": 0,
              "ticks": ""
             }
            },
            "type": "scattercarpet"
           }
          ],
          "scattergeo": [
           {
            "marker": {
             "colorbar": {
              "outlinewidth": 0,
              "ticks": ""
             }
            },
            "type": "scattergeo"
           }
          ],
          "scattergl": [
           {
            "marker": {
             "colorbar": {
              "outlinewidth": 0,
              "ticks": ""
             }
            },
            "type": "scattergl"
           }
          ],
          "scattermapbox": [
           {
            "marker": {
             "colorbar": {
              "outlinewidth": 0,
              "ticks": ""
             }
            },
            "type": "scattermapbox"
           }
          ],
          "scatterpolar": [
           {
            "marker": {
             "colorbar": {
              "outlinewidth": 0,
              "ticks": ""
             }
            },
            "type": "scatterpolar"
           }
          ],
          "scatterpolargl": [
           {
            "marker": {
             "colorbar": {
              "outlinewidth": 0,
              "ticks": ""
             }
            },
            "type": "scatterpolargl"
           }
          ],
          "scatterternary": [
           {
            "marker": {
             "colorbar": {
              "outlinewidth": 0,
              "ticks": ""
             }
            },
            "type": "scatterternary"
           }
          ],
          "surface": [
           {
            "colorbar": {
             "outlinewidth": 0,
             "ticks": ""
            },
            "colorscale": [
             [
              0,
              "#0d0887"
             ],
             [
              0.1111111111111111,
              "#46039f"
             ],
             [
              0.2222222222222222,
              "#7201a8"
             ],
             [
              0.3333333333333333,
              "#9c179e"
             ],
             [
              0.4444444444444444,
              "#bd3786"
             ],
             [
              0.5555555555555556,
              "#d8576b"
             ],
             [
              0.6666666666666666,
              "#ed7953"
             ],
             [
              0.7777777777777778,
              "#fb9f3a"
             ],
             [
              0.8888888888888888,
              "#fdca26"
             ],
             [
              1,
              "#f0f921"
             ]
            ],
            "type": "surface"
           }
          ],
          "table": [
           {
            "cells": {
             "fill": {
              "color": "#EBF0F8"
             },
             "line": {
              "color": "white"
             }
            },
            "header": {
             "fill": {
              "color": "#C8D4E3"
             },
             "line": {
              "color": "white"
             }
            },
            "type": "table"
           }
          ]
         },
         "layout": {
          "annotationdefaults": {
           "arrowcolor": "#2a3f5f",
           "arrowhead": 0,
           "arrowwidth": 1
          },
          "autotypenumbers": "strict",
          "coloraxis": {
           "colorbar": {
            "outlinewidth": 0,
            "ticks": ""
           }
          },
          "colorscale": {
           "diverging": [
            [
             0,
             "#8e0152"
            ],
            [
             0.1,
             "#c51b7d"
            ],
            [
             0.2,
             "#de77ae"
            ],
            [
             0.3,
             "#f1b6da"
            ],
            [
             0.4,
             "#fde0ef"
            ],
            [
             0.5,
             "#f7f7f7"
            ],
            [
             0.6,
             "#e6f5d0"
            ],
            [
             0.7,
             "#b8e186"
            ],
            [
             0.8,
             "#7fbc41"
            ],
            [
             0.9,
             "#4d9221"
            ],
            [
             1,
             "#276419"
            ]
           ],
           "sequential": [
            [
             0,
             "#0d0887"
            ],
            [
             0.1111111111111111,
             "#46039f"
            ],
            [
             0.2222222222222222,
             "#7201a8"
            ],
            [
             0.3333333333333333,
             "#9c179e"
            ],
            [
             0.4444444444444444,
             "#bd3786"
            ],
            [
             0.5555555555555556,
             "#d8576b"
            ],
            [
             0.6666666666666666,
             "#ed7953"
            ],
            [
             0.7777777777777778,
             "#fb9f3a"
            ],
            [
             0.8888888888888888,
             "#fdca26"
            ],
            [
             1,
             "#f0f921"
            ]
           ],
           "sequentialminus": [
            [
             0,
             "#0d0887"
            ],
            [
             0.1111111111111111,
             "#46039f"
            ],
            [
             0.2222222222222222,
             "#7201a8"
            ],
            [
             0.3333333333333333,
             "#9c179e"
            ],
            [
             0.4444444444444444,
             "#bd3786"
            ],
            [
             0.5555555555555556,
             "#d8576b"
            ],
            [
             0.6666666666666666,
             "#ed7953"
            ],
            [
             0.7777777777777778,
             "#fb9f3a"
            ],
            [
             0.8888888888888888,
             "#fdca26"
            ],
            [
             1,
             "#f0f921"
            ]
           ]
          },
          "colorway": [
           "#636efa",
           "#EF553B",
           "#00cc96",
           "#ab63fa",
           "#FFA15A",
           "#19d3f3",
           "#FF6692",
           "#B6E880",
           "#FF97FF",
           "#FECB52"
          ],
          "font": {
           "color": "#2a3f5f"
          },
          "geo": {
           "bgcolor": "white",
           "lakecolor": "white",
           "landcolor": "#E5ECF6",
           "showlakes": true,
           "showland": true,
           "subunitcolor": "white"
          },
          "hoverlabel": {
           "align": "left"
          },
          "hovermode": "closest",
          "mapbox": {
           "style": "light"
          },
          "paper_bgcolor": "white",
          "plot_bgcolor": "#E5ECF6",
          "polar": {
           "angularaxis": {
            "gridcolor": "white",
            "linecolor": "white",
            "ticks": ""
           },
           "bgcolor": "#E5ECF6",
           "radialaxis": {
            "gridcolor": "white",
            "linecolor": "white",
            "ticks": ""
           }
          },
          "scene": {
           "xaxis": {
            "backgroundcolor": "#E5ECF6",
            "gridcolor": "white",
            "gridwidth": 2,
            "linecolor": "white",
            "showbackground": true,
            "ticks": "",
            "zerolinecolor": "white"
           },
           "yaxis": {
            "backgroundcolor": "#E5ECF6",
            "gridcolor": "white",
            "gridwidth": 2,
            "linecolor": "white",
            "showbackground": true,
            "ticks": "",
            "zerolinecolor": "white"
           },
           "zaxis": {
            "backgroundcolor": "#E5ECF6",
            "gridcolor": "white",
            "gridwidth": 2,
            "linecolor": "white",
            "showbackground": true,
            "ticks": "",
            "zerolinecolor": "white"
           }
          },
          "shapedefaults": {
           "line": {
            "color": "#2a3f5f"
           }
          },
          "ternary": {
           "aaxis": {
            "gridcolor": "white",
            "linecolor": "white",
            "ticks": ""
           },
           "baxis": {
            "gridcolor": "white",
            "linecolor": "white",
            "ticks": ""
           },
           "bgcolor": "#E5ECF6",
           "caxis": {
            "gridcolor": "white",
            "linecolor": "white",
            "ticks": ""
           }
          },
          "title": {
           "x": 0.05
          },
          "xaxis": {
           "automargin": true,
           "gridcolor": "white",
           "linecolor": "white",
           "ticks": "",
           "title": {
            "standoff": 15
           },
           "zerolinecolor": "white",
           "zerolinewidth": 2
          },
          "yaxis": {
           "automargin": true,
           "gridcolor": "white",
           "linecolor": "white",
           "ticks": "",
           "title": {
            "standoff": 15
           },
           "zerolinecolor": "white",
           "zerolinewidth": 2
          }
         }
        },
        "title": {
         "text": "Average Price by Brand of EVs"
        },
        "width": 800,
        "xaxis": {
         "anchor": "y",
         "categoryorder": "total descending",
         "domain": [
          0,
          1
         ],
         "showgrid": false,
         "title": {
          "text": "Brand Name"
         }
        },
        "yaxis": {
         "anchor": "x",
         "domain": [
          0,
          1
         ],
         "showgrid": false,
         "title": {
          "text": "avg of Price (Euros)"
         }
        }
       }
      }
     },
     "metadata": {},
     "output_type": "display_data"
    }
   ],
   "source": [
    "# Create a bar chart of average price by brand\n",
    "price_bar = px.histogram(top_brands, x='brand', y='price_euro', histfunc='avg', \n",
    "                          title='Average Price by Brand of EVs', text_auto='.2s',\n",
    "                          labels={'price_euro':'Price (Euros)', 'brand':'Brand Name'},\n",
    "                          color_discrete_sequence=[px.colors.qualitative.Plotly[7]],\n",
    "                          width=800, height=500)\n",
    "\n",
    "price_bar.update_layout({\n",
    "    'plot_bgcolor':'rgba(0, 0, 0, 0)',\n",
    "    'paper_bgcolor':'rgba(0, 0, 0, 0)'\n",
    "}) # Turn off background color\n",
    "\n",
    "price_bar.update_traces(textfont_size=11, textposition='outside') # Add labels above bars\n",
    "\n",
    "price_bar.update_layout(xaxis={'categoryorder':'total descending'}) # Arrange in order from expensive to inexpensive\n",
    "\n",
    "price_bar.update_xaxes(showgrid=False) # Turn off x grid\n",
    "price_bar.update_yaxes(showgrid=False) # Turn off y grid\n",
    "\n",
    "price_bar.show()"
   ]
  },
  {
   "cell_type": "code",
   "execution_count": 20,
   "metadata": {},
   "outputs": [
    {
     "data": {
      "application/vnd.plotly.v1+json": {
       "config": {
        "plotlyServerURL": "https://plot.ly"
       },
       "data": [
        {
         "alignmentgroup": "True",
         "bingroup": "x",
         "histfunc": "avg",
         "hovertemplate": "Brand Name=%{x}<br>avg of Efficiency (WhKm)=%{y}<extra></extra>",
         "legendgroup": "",
         "marker": {
          "color": "#B6E880",
          "pattern": {
           "shape": ""
          }
         },
         "name": "",
         "offsetgroup": "",
         "orientation": "v",
         "showlegend": false,
         "textfont": {
          "size": 11
         },
         "textposition": "outside",
         "texttemplate": "%{value:.2s}",
         "type": "histogram",
         "x": [
          "Tesla ",
          "Volkswagen ",
          "BMW ",
          "Volkswagen ",
          "Tesla ",
          "Audi ",
          "Mercedes ",
          "Nissan ",
          "Hyundai ",
          "BMW ",
          "Hyundai ",
          "Volkswagen ",
          "Porsche ",
          "Volkswagen ",
          "Opel ",
          "Tesla ",
          "Skoda ",
          "Audi ",
          "Tesla ",
          "Volkswagen ",
          "Volkswagen ",
          "BMW ",
          "Audi ",
          "Kia ",
          "Renault ",
          "Tesla ",
          "Nissan ",
          "Renault ",
          "Mercedes ",
          "Tesla ",
          "Hyundai ",
          "Audi ",
          "Skoda ",
          "Kia ",
          "Opel ",
          "Porsche ",
          "Audi ",
          "Tesla ",
          "Opel ",
          "Skoda ",
          "Tesla ",
          "Renault ",
          "Tesla ",
          "Renault ",
          "Tesla ",
          "Nissan ",
          "Ford ",
          "Porsche ",
          "Nissan ",
          "Tesla ",
          "Renault ",
          "Ford ",
          "BMW ",
          "Skoda ",
          "Porsche ",
          "Byton ",
          "Kia ",
          "Audi ",
          "Smart ",
          "Ford ",
          "Porsche ",
          "Volkswagen ",
          "Tesla ",
          "Smart ",
          "Ford ",
          "Mercedes ",
          "Tesla ",
          "Audi ",
          "Skoda ",
          "Skoda ",
          "Audi ",
          "Smart ",
          "Nissan ",
          "Volkswagen ",
          "Kia ",
          "Byton ",
          "Nissan ",
          "Audi ",
          "Nissan ",
          "Nissan ",
          "Byton "
         ],
         "xaxis": "x",
         "y": [
          161,
          167,
          206,
          168,
          153,
          193,
          216,
          164,
          160,
          178,
          153,
          175,
          223,
          166,
          164,
          171,
          179,
          197,
          167,
          183,
          166,
          161,
          231,
          173,
          165,
          267,
          172,
          168,
          171,
          184,
          154,
          228,
          166,
          175,
          173,
          195,
          237,
          206,
          176,
          183,
          211,
          164,
          188,
          161,
          177,
          198,
          200,
          197,
          200,
          261,
          194,
          209,
          165,
          193,
          217,
          244,
          167,
          188,
          176,
          206,
          215,
          171,
          216,
          167,
          194,
          273,
          256,
          219,
          193,
          181,
          270,
          176,
          207,
          171,
          170,
          222,
          191,
          258,
          194,
          232,
          238
         ],
         "yaxis": "y"
        }
       ],
       "layout": {
        "barmode": "relative",
        "height": 500,
        "legend": {
         "tracegroupgap": 0
        },
        "paper_bgcolor": "rgba(0, 0, 0, 0)",
        "plot_bgcolor": "rgba(0, 0, 0, 0)",
        "template": {
         "data": {
          "bar": [
           {
            "error_x": {
             "color": "#2a3f5f"
            },
            "error_y": {
             "color": "#2a3f5f"
            },
            "marker": {
             "line": {
              "color": "#E5ECF6",
              "width": 0.5
             },
             "pattern": {
              "fillmode": "overlay",
              "size": 10,
              "solidity": 0.2
             }
            },
            "type": "bar"
           }
          ],
          "barpolar": [
           {
            "marker": {
             "line": {
              "color": "#E5ECF6",
              "width": 0.5
             },
             "pattern": {
              "fillmode": "overlay",
              "size": 10,
              "solidity": 0.2
             }
            },
            "type": "barpolar"
           }
          ],
          "carpet": [
           {
            "aaxis": {
             "endlinecolor": "#2a3f5f",
             "gridcolor": "white",
             "linecolor": "white",
             "minorgridcolor": "white",
             "startlinecolor": "#2a3f5f"
            },
            "baxis": {
             "endlinecolor": "#2a3f5f",
             "gridcolor": "white",
             "linecolor": "white",
             "minorgridcolor": "white",
             "startlinecolor": "#2a3f5f"
            },
            "type": "carpet"
           }
          ],
          "choropleth": [
           {
            "colorbar": {
             "outlinewidth": 0,
             "ticks": ""
            },
            "type": "choropleth"
           }
          ],
          "contour": [
           {
            "colorbar": {
             "outlinewidth": 0,
             "ticks": ""
            },
            "colorscale": [
             [
              0,
              "#0d0887"
             ],
             [
              0.1111111111111111,
              "#46039f"
             ],
             [
              0.2222222222222222,
              "#7201a8"
             ],
             [
              0.3333333333333333,
              "#9c179e"
             ],
             [
              0.4444444444444444,
              "#bd3786"
             ],
             [
              0.5555555555555556,
              "#d8576b"
             ],
             [
              0.6666666666666666,
              "#ed7953"
             ],
             [
              0.7777777777777778,
              "#fb9f3a"
             ],
             [
              0.8888888888888888,
              "#fdca26"
             ],
             [
              1,
              "#f0f921"
             ]
            ],
            "type": "contour"
           }
          ],
          "contourcarpet": [
           {
            "colorbar": {
             "outlinewidth": 0,
             "ticks": ""
            },
            "type": "contourcarpet"
           }
          ],
          "heatmap": [
           {
            "colorbar": {
             "outlinewidth": 0,
             "ticks": ""
            },
            "colorscale": [
             [
              0,
              "#0d0887"
             ],
             [
              0.1111111111111111,
              "#46039f"
             ],
             [
              0.2222222222222222,
              "#7201a8"
             ],
             [
              0.3333333333333333,
              "#9c179e"
             ],
             [
              0.4444444444444444,
              "#bd3786"
             ],
             [
              0.5555555555555556,
              "#d8576b"
             ],
             [
              0.6666666666666666,
              "#ed7953"
             ],
             [
              0.7777777777777778,
              "#fb9f3a"
             ],
             [
              0.8888888888888888,
              "#fdca26"
             ],
             [
              1,
              "#f0f921"
             ]
            ],
            "type": "heatmap"
           }
          ],
          "heatmapgl": [
           {
            "colorbar": {
             "outlinewidth": 0,
             "ticks": ""
            },
            "colorscale": [
             [
              0,
              "#0d0887"
             ],
             [
              0.1111111111111111,
              "#46039f"
             ],
             [
              0.2222222222222222,
              "#7201a8"
             ],
             [
              0.3333333333333333,
              "#9c179e"
             ],
             [
              0.4444444444444444,
              "#bd3786"
             ],
             [
              0.5555555555555556,
              "#d8576b"
             ],
             [
              0.6666666666666666,
              "#ed7953"
             ],
             [
              0.7777777777777778,
              "#fb9f3a"
             ],
             [
              0.8888888888888888,
              "#fdca26"
             ],
             [
              1,
              "#f0f921"
             ]
            ],
            "type": "heatmapgl"
           }
          ],
          "histogram": [
           {
            "marker": {
             "pattern": {
              "fillmode": "overlay",
              "size": 10,
              "solidity": 0.2
             }
            },
            "type": "histogram"
           }
          ],
          "histogram2d": [
           {
            "colorbar": {
             "outlinewidth": 0,
             "ticks": ""
            },
            "colorscale": [
             [
              0,
              "#0d0887"
             ],
             [
              0.1111111111111111,
              "#46039f"
             ],
             [
              0.2222222222222222,
              "#7201a8"
             ],
             [
              0.3333333333333333,
              "#9c179e"
             ],
             [
              0.4444444444444444,
              "#bd3786"
             ],
             [
              0.5555555555555556,
              "#d8576b"
             ],
             [
              0.6666666666666666,
              "#ed7953"
             ],
             [
              0.7777777777777778,
              "#fb9f3a"
             ],
             [
              0.8888888888888888,
              "#fdca26"
             ],
             [
              1,
              "#f0f921"
             ]
            ],
            "type": "histogram2d"
           }
          ],
          "histogram2dcontour": [
           {
            "colorbar": {
             "outlinewidth": 0,
             "ticks": ""
            },
            "colorscale": [
             [
              0,
              "#0d0887"
             ],
             [
              0.1111111111111111,
              "#46039f"
             ],
             [
              0.2222222222222222,
              "#7201a8"
             ],
             [
              0.3333333333333333,
              "#9c179e"
             ],
             [
              0.4444444444444444,
              "#bd3786"
             ],
             [
              0.5555555555555556,
              "#d8576b"
             ],
             [
              0.6666666666666666,
              "#ed7953"
             ],
             [
              0.7777777777777778,
              "#fb9f3a"
             ],
             [
              0.8888888888888888,
              "#fdca26"
             ],
             [
              1,
              "#f0f921"
             ]
            ],
            "type": "histogram2dcontour"
           }
          ],
          "mesh3d": [
           {
            "colorbar": {
             "outlinewidth": 0,
             "ticks": ""
            },
            "type": "mesh3d"
           }
          ],
          "parcoords": [
           {
            "line": {
             "colorbar": {
              "outlinewidth": 0,
              "ticks": ""
             }
            },
            "type": "parcoords"
           }
          ],
          "pie": [
           {
            "automargin": true,
            "type": "pie"
           }
          ],
          "scatter": [
           {
            "fillpattern": {
             "fillmode": "overlay",
             "size": 10,
             "solidity": 0.2
            },
            "type": "scatter"
           }
          ],
          "scatter3d": [
           {
            "line": {
             "colorbar": {
              "outlinewidth": 0,
              "ticks": ""
             }
            },
            "marker": {
             "colorbar": {
              "outlinewidth": 0,
              "ticks": ""
             }
            },
            "type": "scatter3d"
           }
          ],
          "scattercarpet": [
           {
            "marker": {
             "colorbar": {
              "outlinewidth": 0,
              "ticks": ""
             }
            },
            "type": "scattercarpet"
           }
          ],
          "scattergeo": [
           {
            "marker": {
             "colorbar": {
              "outlinewidth": 0,
              "ticks": ""
             }
            },
            "type": "scattergeo"
           }
          ],
          "scattergl": [
           {
            "marker": {
             "colorbar": {
              "outlinewidth": 0,
              "ticks": ""
             }
            },
            "type": "scattergl"
           }
          ],
          "scattermapbox": [
           {
            "marker": {
             "colorbar": {
              "outlinewidth": 0,
              "ticks": ""
             }
            },
            "type": "scattermapbox"
           }
          ],
          "scatterpolar": [
           {
            "marker": {
             "colorbar": {
              "outlinewidth": 0,
              "ticks": ""
             }
            },
            "type": "scatterpolar"
           }
          ],
          "scatterpolargl": [
           {
            "marker": {
             "colorbar": {
              "outlinewidth": 0,
              "ticks": ""
             }
            },
            "type": "scatterpolargl"
           }
          ],
          "scatterternary": [
           {
            "marker": {
             "colorbar": {
              "outlinewidth": 0,
              "ticks": ""
             }
            },
            "type": "scatterternary"
           }
          ],
          "surface": [
           {
            "colorbar": {
             "outlinewidth": 0,
             "ticks": ""
            },
            "colorscale": [
             [
              0,
              "#0d0887"
             ],
             [
              0.1111111111111111,
              "#46039f"
             ],
             [
              0.2222222222222222,
              "#7201a8"
             ],
             [
              0.3333333333333333,
              "#9c179e"
             ],
             [
              0.4444444444444444,
              "#bd3786"
             ],
             [
              0.5555555555555556,
              "#d8576b"
             ],
             [
              0.6666666666666666,
              "#ed7953"
             ],
             [
              0.7777777777777778,
              "#fb9f3a"
             ],
             [
              0.8888888888888888,
              "#fdca26"
             ],
             [
              1,
              "#f0f921"
             ]
            ],
            "type": "surface"
           }
          ],
          "table": [
           {
            "cells": {
             "fill": {
              "color": "#EBF0F8"
             },
             "line": {
              "color": "white"
             }
            },
            "header": {
             "fill": {
              "color": "#C8D4E3"
             },
             "line": {
              "color": "white"
             }
            },
            "type": "table"
           }
          ]
         },
         "layout": {
          "annotationdefaults": {
           "arrowcolor": "#2a3f5f",
           "arrowhead": 0,
           "arrowwidth": 1
          },
          "autotypenumbers": "strict",
          "coloraxis": {
           "colorbar": {
            "outlinewidth": 0,
            "ticks": ""
           }
          },
          "colorscale": {
           "diverging": [
            [
             0,
             "#8e0152"
            ],
            [
             0.1,
             "#c51b7d"
            ],
            [
             0.2,
             "#de77ae"
            ],
            [
             0.3,
             "#f1b6da"
            ],
            [
             0.4,
             "#fde0ef"
            ],
            [
             0.5,
             "#f7f7f7"
            ],
            [
             0.6,
             "#e6f5d0"
            ],
            [
             0.7,
             "#b8e186"
            ],
            [
             0.8,
             "#7fbc41"
            ],
            [
             0.9,
             "#4d9221"
            ],
            [
             1,
             "#276419"
            ]
           ],
           "sequential": [
            [
             0,
             "#0d0887"
            ],
            [
             0.1111111111111111,
             "#46039f"
            ],
            [
             0.2222222222222222,
             "#7201a8"
            ],
            [
             0.3333333333333333,
             "#9c179e"
            ],
            [
             0.4444444444444444,
             "#bd3786"
            ],
            [
             0.5555555555555556,
             "#d8576b"
            ],
            [
             0.6666666666666666,
             "#ed7953"
            ],
            [
             0.7777777777777778,
             "#fb9f3a"
            ],
            [
             0.8888888888888888,
             "#fdca26"
            ],
            [
             1,
             "#f0f921"
            ]
           ],
           "sequentialminus": [
            [
             0,
             "#0d0887"
            ],
            [
             0.1111111111111111,
             "#46039f"
            ],
            [
             0.2222222222222222,
             "#7201a8"
            ],
            [
             0.3333333333333333,
             "#9c179e"
            ],
            [
             0.4444444444444444,
             "#bd3786"
            ],
            [
             0.5555555555555556,
             "#d8576b"
            ],
            [
             0.6666666666666666,
             "#ed7953"
            ],
            [
             0.7777777777777778,
             "#fb9f3a"
            ],
            [
             0.8888888888888888,
             "#fdca26"
            ],
            [
             1,
             "#f0f921"
            ]
           ]
          },
          "colorway": [
           "#636efa",
           "#EF553B",
           "#00cc96",
           "#ab63fa",
           "#FFA15A",
           "#19d3f3",
           "#FF6692",
           "#B6E880",
           "#FF97FF",
           "#FECB52"
          ],
          "font": {
           "color": "#2a3f5f"
          },
          "geo": {
           "bgcolor": "white",
           "lakecolor": "white",
           "landcolor": "#E5ECF6",
           "showlakes": true,
           "showland": true,
           "subunitcolor": "white"
          },
          "hoverlabel": {
           "align": "left"
          },
          "hovermode": "closest",
          "mapbox": {
           "style": "light"
          },
          "paper_bgcolor": "white",
          "plot_bgcolor": "#E5ECF6",
          "polar": {
           "angularaxis": {
            "gridcolor": "white",
            "linecolor": "white",
            "ticks": ""
           },
           "bgcolor": "#E5ECF6",
           "radialaxis": {
            "gridcolor": "white",
            "linecolor": "white",
            "ticks": ""
           }
          },
          "scene": {
           "xaxis": {
            "backgroundcolor": "#E5ECF6",
            "gridcolor": "white",
            "gridwidth": 2,
            "linecolor": "white",
            "showbackground": true,
            "ticks": "",
            "zerolinecolor": "white"
           },
           "yaxis": {
            "backgroundcolor": "#E5ECF6",
            "gridcolor": "white",
            "gridwidth": 2,
            "linecolor": "white",
            "showbackground": true,
            "ticks": "",
            "zerolinecolor": "white"
           },
           "zaxis": {
            "backgroundcolor": "#E5ECF6",
            "gridcolor": "white",
            "gridwidth": 2,
            "linecolor": "white",
            "showbackground": true,
            "ticks": "",
            "zerolinecolor": "white"
           }
          },
          "shapedefaults": {
           "line": {
            "color": "#2a3f5f"
           }
          },
          "ternary": {
           "aaxis": {
            "gridcolor": "white",
            "linecolor": "white",
            "ticks": ""
           },
           "baxis": {
            "gridcolor": "white",
            "linecolor": "white",
            "ticks": ""
           },
           "bgcolor": "#E5ECF6",
           "caxis": {
            "gridcolor": "white",
            "linecolor": "white",
            "ticks": ""
           }
          },
          "title": {
           "x": 0.05
          },
          "xaxis": {
           "automargin": true,
           "gridcolor": "white",
           "linecolor": "white",
           "ticks": "",
           "title": {
            "standoff": 15
           },
           "zerolinecolor": "white",
           "zerolinewidth": 2
          },
          "yaxis": {
           "automargin": true,
           "gridcolor": "white",
           "linecolor": "white",
           "ticks": "",
           "title": {
            "standoff": 15
           },
           "zerolinecolor": "white",
           "zerolinewidth": 2
          }
         }
        },
        "title": {
         "text": "Average Efficiency by Brand of EVs"
        },
        "width": 800,
        "xaxis": {
         "anchor": "y",
         "categoryarray": [
          "Porsche ",
          "Audi ",
          "Tesla ",
          "Mercedes ",
          "Byton ",
          "Ford ",
          "BMW ",
          "Nissan ",
          "Skoda ",
          "Hyundai ",
          "Kia ",
          "Opel ",
          "Volkswagen ",
          "Renault ",
          "Smart "
         ],
         "categoryorder": "array",
         "domain": [
          0,
          1
         ],
         "showgrid": false,
         "title": {
          "text": "Brand Name"
         }
        },
        "yaxis": {
         "anchor": "x",
         "domain": [
          0,
          1
         ],
         "range": [
          0,
          250
         ],
         "showgrid": false,
         "title": {
          "text": "avg of Efficiency (WhKm)"
         }
        }
       }
      }
     },
     "metadata": {},
     "output_type": "display_data"
    }
   ],
   "source": [
    "# Create a bar chart of average efficiency by brand\n",
    "eff_bar = px.histogram(top_brands, x='brand', y='efficiency_whkm', histfunc='avg', \n",
    "                          title='Average Efficiency by Brand of EVs', text_auto='.2s',\n",
    "                          labels={'efficiency_whkm':'Efficiency (WhKm)', 'brand':'Brand Name'},\n",
    "                          color_discrete_sequence=[px.colors.qualitative.Plotly[7]],\n",
    "                          width=800, height=500)\n",
    "\n",
    "eff_bar.update_layout({\n",
    "    'plot_bgcolor':'rgba(0, 0, 0, 0)',\n",
    "    'paper_bgcolor':'rgba(0, 0, 0, 0)'\n",
    "}) \n",
    "\n",
    "eff_bar.update_traces(textfont_size=11, textposition='outside')\n",
    "\n",
    "# Arrange the bars in the same order as the price chart\n",
    "eff_bar.update_layout(xaxis={'categoryorder':'array', 'categoryarray':\n",
    "    ['Porsche ', 'Audi ', 'Tesla ', 'Mercedes ', 'Byton ', 'Ford ', 'BMW ',\n",
    "     'Nissan ', 'Skoda ', 'Hyundai ', 'Kia ', 'Opel ', 'Volkswagen ', 'Renault ', 'Smart ']})\n",
    "\n",
    "eff_bar.update_xaxes(showgrid=False)\n",
    "eff_bar.update_yaxes(range=[0,250], showgrid=False) # Set y axis range\n",
    "\n",
    "eff_bar.show()"
   ]
  },
  {
   "cell_type": "code",
   "execution_count": 21,
   "metadata": {},
   "outputs": [
    {
     "data": {
      "application/vnd.plotly.v1+json": {
       "config": {
        "plotlyServerURL": "https://plot.ly"
       },
       "data": [
        {
         "customdata": [
          0,
          1,
          2,
          3,
          4,
          5,
          6,
          7,
          8,
          9,
          10
         ],
         "hovertemplate": "%{y}[%{customdata}] = %{marker.color}<extra></extra>",
         "marker": {
          "color": [
           "rgb(229, 134, 6)",
           "rgb(93, 105, 177)",
           "rgb(82, 188, 163)",
           "rgb(153, 201, 69)",
           "rgb(204, 97, 176)",
           "rgb(36, 121, 108)",
           "rgb(218, 165, 27)",
           "rgb(47, 138, 196)",
           "rgb(118, 78, 159)",
           "rgb(237, 100, 90)",
           "rgb(165, 170, 153)"
          ]
         },
         "orientation": "h",
         "type": "bar",
         "x": [
          1,
          1,
          1,
          1,
          1,
          1,
          1,
          1,
          1,
          1,
          1
         ],
         "y": [
          "Vivid",
          "Vivid",
          "Vivid",
          "Vivid",
          "Vivid",
          "Vivid",
          "Vivid",
          "Vivid",
          "Vivid",
          "Vivid",
          "Vivid"
         ]
        },
        {
         "customdata": [
          0,
          1,
          2,
          3,
          4,
          5,
          6,
          7,
          8,
          9,
          10
         ],
         "hovertemplate": "%{y}[%{customdata}] = %{marker.color}<extra></extra>",
         "marker": {
          "color": [
           "rgb(136, 204, 238)",
           "rgb(204, 102, 119)",
           "rgb(221, 204, 119)",
           "rgb(17, 119, 51)",
           "rgb(51, 34, 136)",
           "rgb(170, 68, 153)",
           "rgb(68, 170, 153)",
           "rgb(153, 153, 51)",
           "rgb(136, 34, 85)",
           "rgb(102, 17, 0)",
           "rgb(136, 136, 136)"
          ]
         },
         "orientation": "h",
         "type": "bar",
         "x": [
          1,
          1,
          1,
          1,
          1,
          1,
          1,
          1,
          1,
          1,
          1
         ],
         "y": [
          "Safe",
          "Safe",
          "Safe",
          "Safe",
          "Safe",
          "Safe",
          "Safe",
          "Safe",
          "Safe",
          "Safe",
          "Safe"
         ]
        },
        {
         "customdata": [
          0,
          1,
          2,
          3,
          4,
          5,
          6,
          7,
          8,
          9,
          10
         ],
         "hovertemplate": "%{y}[%{customdata}] = %{marker.color}<extra></extra>",
         "marker": {
          "color": [
           "rgb(95, 70, 144)",
           "rgb(29, 105, 150)",
           "rgb(56, 166, 165)",
           "rgb(15, 133, 84)",
           "rgb(115, 175, 72)",
           "rgb(237, 173, 8)",
           "rgb(225, 124, 5)",
           "rgb(204, 80, 62)",
           "rgb(148, 52, 110)",
           "rgb(111, 64, 112)",
           "rgb(102, 102, 102)"
          ]
         },
         "orientation": "h",
         "type": "bar",
         "x": [
          1,
          1,
          1,
          1,
          1,
          1,
          1,
          1,
          1,
          1,
          1
         ],
         "y": [
          "Prism",
          "Prism",
          "Prism",
          "Prism",
          "Prism",
          "Prism",
          "Prism",
          "Prism",
          "Prism",
          "Prism",
          "Prism"
         ]
        },
        {
         "customdata": [
          0,
          1,
          2,
          3,
          4,
          5,
          6,
          7,
          8,
          9,
          10
         ],
         "hovertemplate": "%{y}[%{customdata}] = %{marker.color}<extra></extra>",
         "marker": {
          "color": [
           "rgb(102, 197, 204)",
           "rgb(246, 207, 113)",
           "rgb(248, 156, 116)",
           "rgb(220, 176, 242)",
           "rgb(135, 197, 95)",
           "rgb(158, 185, 243)",
           "rgb(254, 136, 177)",
           "rgb(201, 219, 116)",
           "rgb(139, 224, 164)",
           "rgb(180, 151, 231)",
           "rgb(179, 179, 179)"
          ]
         },
         "orientation": "h",
         "type": "bar",
         "x": [
          1,
          1,
          1,
          1,
          1,
          1,
          1,
          1,
          1,
          1,
          1
         ],
         "y": [
          "Pastel",
          "Pastel",
          "Pastel",
          "Pastel",
          "Pastel",
          "Pastel",
          "Pastel",
          "Pastel",
          "Pastel",
          "Pastel",
          "Pastel"
         ]
        },
        {
         "customdata": [
          0,
          1,
          2,
          3,
          4,
          5,
          6,
          7,
          8,
          9,
          10
         ],
         "hovertemplate": "%{y}[%{customdata}] = %{marker.color}<extra></extra>",
         "marker": {
          "color": [
           "rgb(127, 60, 141)",
           "rgb(17, 165, 121)",
           "rgb(57, 105, 172)",
           "rgb(242, 183, 1)",
           "rgb(231, 63, 116)",
           "rgb(128, 186, 90)",
           "rgb(230, 131, 16)",
           "rgb(0, 134, 149)",
           "rgb(207, 28, 144)",
           "rgb(249, 123, 114)",
           "rgb(165, 170, 153)"
          ]
         },
         "orientation": "h",
         "type": "bar",
         "x": [
          1,
          1,
          1,
          1,
          1,
          1,
          1,
          1,
          1,
          1,
          1
         ],
         "y": [
          "Bold",
          "Bold",
          "Bold",
          "Bold",
          "Bold",
          "Bold",
          "Bold",
          "Bold",
          "Bold",
          "Bold",
          "Bold"
         ]
        },
        {
         "customdata": [
          0,
          1,
          2,
          3,
          4,
          5,
          6,
          7,
          8,
          9,
          10
         ],
         "hovertemplate": "%{y}[%{customdata}] = %{marker.color}<extra></extra>",
         "marker": {
          "color": [
           "rgb(133, 92, 117)",
           "rgb(217, 175, 107)",
           "rgb(175, 100, 88)",
           "rgb(115, 111, 76)",
           "rgb(82, 106, 131)",
           "rgb(98, 83, 119)",
           "rgb(104, 133, 92)",
           "rgb(156, 156, 94)",
           "rgb(160, 97, 119)",
           "rgb(140, 120, 93)",
           "rgb(124, 124, 124)"
          ]
         },
         "orientation": "h",
         "type": "bar",
         "x": [
          1,
          1,
          1,
          1,
          1,
          1,
          1,
          1,
          1,
          1,
          1
         ],
         "y": [
          "Antique",
          "Antique",
          "Antique",
          "Antique",
          "Antique",
          "Antique",
          "Antique",
          "Antique",
          "Antique",
          "Antique",
          "Antique"
         ]
        },
        {
         "customdata": [
          0,
          1,
          2,
          3,
          4,
          5,
          6,
          7,
          8,
          9,
          10,
          11
         ],
         "hovertemplate": "%{y}[%{customdata}] = %{marker.color}<extra></extra>",
         "marker": {
          "color": [
           "rgb(141,211,199)",
           "rgb(255,255,179)",
           "rgb(190,186,218)",
           "rgb(251,128,114)",
           "rgb(128,177,211)",
           "rgb(253,180,98)",
           "rgb(179,222,105)",
           "rgb(252,205,229)",
           "rgb(217,217,217)",
           "rgb(188,128,189)",
           "rgb(204,235,197)",
           "rgb(255,237,111)"
          ]
         },
         "orientation": "h",
         "type": "bar",
         "x": [
          1,
          1,
          1,
          1,
          1,
          1,
          1,
          1,
          1,
          1,
          1,
          1
         ],
         "y": [
          "Set3",
          "Set3",
          "Set3",
          "Set3",
          "Set3",
          "Set3",
          "Set3",
          "Set3",
          "Set3",
          "Set3",
          "Set3",
          "Set3"
         ]
        },
        {
         "customdata": [
          0,
          1,
          2,
          3,
          4,
          5,
          6,
          7
         ],
         "hovertemplate": "%{y}[%{customdata}] = %{marker.color}<extra></extra>",
         "marker": {
          "color": [
           "rgb(179,226,205)",
           "rgb(253,205,172)",
           "rgb(203,213,232)",
           "rgb(244,202,228)",
           "rgb(230,245,201)",
           "rgb(255,242,174)",
           "rgb(241,226,204)",
           "rgb(204,204,204)"
          ]
         },
         "orientation": "h",
         "type": "bar",
         "x": [
          1,
          1,
          1,
          1,
          1,
          1,
          1,
          1
         ],
         "y": [
          "Pastel2",
          "Pastel2",
          "Pastel2",
          "Pastel2",
          "Pastel2",
          "Pastel2",
          "Pastel2",
          "Pastel2"
         ]
        },
        {
         "customdata": [
          0,
          1,
          2,
          3,
          4,
          5,
          6,
          7
         ],
         "hovertemplate": "%{y}[%{customdata}] = %{marker.color}<extra></extra>",
         "marker": {
          "color": [
           "rgb(102,194,165)",
           "rgb(252,141,98)",
           "rgb(141,160,203)",
           "rgb(231,138,195)",
           "rgb(166,216,84)",
           "rgb(255,217,47)",
           "rgb(229,196,148)",
           "rgb(179,179,179)"
          ]
         },
         "orientation": "h",
         "type": "bar",
         "x": [
          1,
          1,
          1,
          1,
          1,
          1,
          1,
          1
         ],
         "y": [
          "Set2",
          "Set2",
          "Set2",
          "Set2",
          "Set2",
          "Set2",
          "Set2",
          "Set2"
         ]
        },
        {
         "customdata": [
          0,
          1,
          2,
          3,
          4,
          5,
          6,
          7
         ],
         "hovertemplate": "%{y}[%{customdata}] = %{marker.color}<extra></extra>",
         "marker": {
          "color": [
           "rgb(27,158,119)",
           "rgb(217,95,2)",
           "rgb(117,112,179)",
           "rgb(231,41,138)",
           "rgb(102,166,30)",
           "rgb(230,171,2)",
           "rgb(166,118,29)",
           "rgb(102,102,102)"
          ]
         },
         "orientation": "h",
         "type": "bar",
         "x": [
          1,
          1,
          1,
          1,
          1,
          1,
          1,
          1
         ],
         "y": [
          "Dark2",
          "Dark2",
          "Dark2",
          "Dark2",
          "Dark2",
          "Dark2",
          "Dark2",
          "Dark2"
         ]
        },
        {
         "customdata": [
          0,
          1,
          2,
          3,
          4,
          5,
          6,
          7,
          8
         ],
         "hovertemplate": "%{y}[%{customdata}] = %{marker.color}<extra></extra>",
         "marker": {
          "color": [
           "rgb(251,180,174)",
           "rgb(179,205,227)",
           "rgb(204,235,197)",
           "rgb(222,203,228)",
           "rgb(254,217,166)",
           "rgb(255,255,204)",
           "rgb(229,216,189)",
           "rgb(253,218,236)",
           "rgb(242,242,242)"
          ]
         },
         "orientation": "h",
         "type": "bar",
         "x": [
          1,
          1,
          1,
          1,
          1,
          1,
          1,
          1,
          1
         ],
         "y": [
          "Pastel1",
          "Pastel1",
          "Pastel1",
          "Pastel1",
          "Pastel1",
          "Pastel1",
          "Pastel1",
          "Pastel1",
          "Pastel1"
         ]
        },
        {
         "customdata": [
          0,
          1,
          2,
          3,
          4,
          5,
          6,
          7,
          8
         ],
         "hovertemplate": "%{y}[%{customdata}] = %{marker.color}<extra></extra>",
         "marker": {
          "color": [
           "rgb(228,26,28)",
           "rgb(55,126,184)",
           "rgb(77,175,74)",
           "rgb(152,78,163)",
           "rgb(255,127,0)",
           "rgb(255,255,51)",
           "rgb(166,86,40)",
           "rgb(247,129,191)",
           "rgb(153,153,153)"
          ]
         },
         "orientation": "h",
         "type": "bar",
         "x": [
          1,
          1,
          1,
          1,
          1,
          1,
          1,
          1,
          1
         ],
         "y": [
          "Set1",
          "Set1",
          "Set1",
          "Set1",
          "Set1",
          "Set1",
          "Set1",
          "Set1",
          "Set1"
         ]
        },
        {
         "customdata": [
          0,
          1,
          2,
          3,
          4,
          5,
          6,
          7,
          8,
          9,
          10,
          11,
          12,
          13,
          14,
          15,
          16,
          17,
          18,
          19,
          20,
          21,
          22,
          23
         ],
         "hovertemplate": "%{y}[%{customdata}] = %{marker.color}<extra></extra>",
         "marker": {
          "color": [
           "#FD3216",
           "#00FE35",
           "#6A76FC",
           "#FED4C4",
           "#FE00CE",
           "#0DF9FF",
           "#F6F926",
           "#FF9616",
           "#479B55",
           "#EEA6FB",
           "#DC587D",
           "#D626FF",
           "#6E899C",
           "#00B5F7",
           "#B68E00",
           "#C9FBE5",
           "#FF0092",
           "#22FFA7",
           "#E3EE9E",
           "#86CE00",
           "#BC7196",
           "#7E7DCD",
           "#FC6955",
           "#E48F72"
          ]
         },
         "orientation": "h",
         "type": "bar",
         "x": [
          1,
          1,
          1,
          1,
          1,
          1,
          1,
          1,
          1,
          1,
          1,
          1,
          1,
          1,
          1,
          1,
          1,
          1,
          1,
          1,
          1,
          1,
          1,
          1
         ],
         "y": [
          "Light24",
          "Light24",
          "Light24",
          "Light24",
          "Light24",
          "Light24",
          "Light24",
          "Light24",
          "Light24",
          "Light24",
          "Light24",
          "Light24",
          "Light24",
          "Light24",
          "Light24",
          "Light24",
          "Light24",
          "Light24",
          "Light24",
          "Light24",
          "Light24",
          "Light24",
          "Light24",
          "Light24"
         ]
        },
        {
         "customdata": [
          0,
          1,
          2,
          3,
          4,
          5,
          6,
          7,
          8,
          9,
          10,
          11,
          12,
          13,
          14,
          15,
          16,
          17,
          18,
          19,
          20,
          21,
          22,
          23
         ],
         "hovertemplate": "%{y}[%{customdata}] = %{marker.color}<extra></extra>",
         "marker": {
          "color": [
           "#2E91E5",
           "#E15F99",
           "#1CA71C",
           "#FB0D0D",
           "#DA16FF",
           "#222A2A",
           "#B68100",
           "#750D86",
           "#EB663B",
           "#511CFB",
           "#00A08B",
           "#FB00D1",
           "#FC0080",
           "#B2828D",
           "#6C7C32",
           "#778AAE",
           "#862A16",
           "#A777F1",
           "#620042",
           "#1616A7",
           "#DA60CA",
           "#6C4516",
           "#0D2A63",
           "#AF0038"
          ]
         },
         "orientation": "h",
         "type": "bar",
         "x": [
          1,
          1,
          1,
          1,
          1,
          1,
          1,
          1,
          1,
          1,
          1,
          1,
          1,
          1,
          1,
          1,
          1,
          1,
          1,
          1,
          1,
          1,
          1,
          1
         ],
         "y": [
          "Dark24",
          "Dark24",
          "Dark24",
          "Dark24",
          "Dark24",
          "Dark24",
          "Dark24",
          "Dark24",
          "Dark24",
          "Dark24",
          "Dark24",
          "Dark24",
          "Dark24",
          "Dark24",
          "Dark24",
          "Dark24",
          "Dark24",
          "Dark24",
          "Dark24",
          "Dark24",
          "Dark24",
          "Dark24",
          "Dark24",
          "Dark24"
         ]
        },
        {
         "customdata": [
          0,
          1,
          2,
          3,
          4,
          5,
          6,
          7,
          8,
          9,
          10,
          11,
          12,
          13,
          14,
          15,
          16,
          17,
          18,
          19,
          20,
          21,
          22,
          23,
          24,
          25
         ],
         "hovertemplate": "%{y}[%{customdata}] = %{marker.color}<extra></extra>",
         "marker": {
          "color": [
           "#AA0DFE",
           "#3283FE",
           "#85660D",
           "#782AB6",
           "#565656",
           "#1C8356",
           "#16FF32",
           "#F7E1A0",
           "#E2E2E2",
           "#1CBE4F",
           "#C4451C",
           "#DEA0FD",
           "#FE00FA",
           "#325A9B",
           "#FEAF16",
           "#F8A19F",
           "#90AD1C",
           "#F6222E",
           "#1CFFCE",
           "#2ED9FF",
           "#B10DA1",
           "#C075A6",
           "#FC1CBF",
           "#B00068",
           "#FBE426",
           "#FA0087"
          ]
         },
         "orientation": "h",
         "type": "bar",
         "x": [
          1,
          1,
          1,
          1,
          1,
          1,
          1,
          1,
          1,
          1,
          1,
          1,
          1,
          1,
          1,
          1,
          1,
          1,
          1,
          1,
          1,
          1,
          1,
          1,
          1,
          1
         ],
         "y": [
          "Alphabet",
          "Alphabet",
          "Alphabet",
          "Alphabet",
          "Alphabet",
          "Alphabet",
          "Alphabet",
          "Alphabet",
          "Alphabet",
          "Alphabet",
          "Alphabet",
          "Alphabet",
          "Alphabet",
          "Alphabet",
          "Alphabet",
          "Alphabet",
          "Alphabet",
          "Alphabet",
          "Alphabet",
          "Alphabet",
          "Alphabet",
          "Alphabet",
          "Alphabet",
          "Alphabet",
          "Alphabet",
          "Alphabet"
         ]
        },
        {
         "customdata": [
          0,
          1,
          2,
          3,
          4,
          5,
          6,
          7,
          8,
          9
         ],
         "hovertemplate": "%{y}[%{customdata}] = %{marker.color}<extra></extra>",
         "marker": {
          "color": [
           "#4C78A8",
           "#F58518",
           "#E45756",
           "#72B7B2",
           "#54A24B",
           "#EECA3B",
           "#B279A2",
           "#FF9DA6",
           "#9D755D",
           "#BAB0AC"
          ]
         },
         "orientation": "h",
         "type": "bar",
         "x": [
          1,
          1,
          1,
          1,
          1,
          1,
          1,
          1,
          1,
          1
         ],
         "y": [
          "T10",
          "T10",
          "T10",
          "T10",
          "T10",
          "T10",
          "T10",
          "T10",
          "T10",
          "T10"
         ]
        },
        {
         "customdata": [
          0,
          1,
          2,
          3,
          4,
          5,
          6,
          7,
          8,
          9
         ],
         "hovertemplate": "%{y}[%{customdata}] = %{marker.color}<extra></extra>",
         "marker": {
          "color": [
           "#3366CC",
           "#DC3912",
           "#FF9900",
           "#109618",
           "#990099",
           "#0099C6",
           "#DD4477",
           "#66AA00",
           "#B82E2E",
           "#316395"
          ]
         },
         "orientation": "h",
         "type": "bar",
         "x": [
          1,
          1,
          1,
          1,
          1,
          1,
          1,
          1,
          1,
          1
         ],
         "y": [
          "G10",
          "G10",
          "G10",
          "G10",
          "G10",
          "G10",
          "G10",
          "G10",
          "G10",
          "G10"
         ]
        },
        {
         "customdata": [
          0,
          1,
          2,
          3,
          4,
          5,
          6,
          7,
          8,
          9
         ],
         "hovertemplate": "%{y}[%{customdata}] = %{marker.color}<extra></extra>",
         "marker": {
          "color": [
           "#1F77B4",
           "#FF7F0E",
           "#2CA02C",
           "#D62728",
           "#9467BD",
           "#8C564B",
           "#E377C2",
           "#7F7F7F",
           "#BCBD22",
           "#17BECF"
          ]
         },
         "orientation": "h",
         "type": "bar",
         "x": [
          1,
          1,
          1,
          1,
          1,
          1,
          1,
          1,
          1,
          1
         ],
         "y": [
          "D3",
          "D3",
          "D3",
          "D3",
          "D3",
          "D3",
          "D3",
          "D3",
          "D3",
          "D3"
         ]
        },
        {
         "customdata": [
          0,
          1,
          2,
          3,
          4,
          5,
          6,
          7,
          8,
          9
         ],
         "hovertemplate": "%{y}[%{customdata}] = %{marker.color}<extra></extra>",
         "marker": {
          "color": [
           "#636EFA",
           "#EF553B",
           "#00CC96",
           "#AB63FA",
           "#FFA15A",
           "#19D3F3",
           "#FF6692",
           "#B6E880",
           "#FF97FF",
           "#FECB52"
          ]
         },
         "orientation": "h",
         "type": "bar",
         "x": [
          1,
          1,
          1,
          1,
          1,
          1,
          1,
          1,
          1,
          1
         ],
         "y": [
          "Plotly",
          "Plotly",
          "Plotly",
          "Plotly",
          "Plotly",
          "Plotly",
          "Plotly",
          "Plotly",
          "Plotly",
          "Plotly"
         ]
        }
       ],
       "layout": {
        "bargap": 0.5,
        "barmode": "stack",
        "barnorm": "fraction",
        "height": 760,
        "margin": {
         "b": 10
        },
        "showlegend": false,
        "template": {
         "data": {
          "bar": [
           {
            "error_x": {
             "color": "#2a3f5f"
            },
            "error_y": {
             "color": "#2a3f5f"
            },
            "marker": {
             "line": {
              "color": "#E5ECF6",
              "width": 0.5
             },
             "pattern": {
              "fillmode": "overlay",
              "size": 10,
              "solidity": 0.2
             }
            },
            "type": "bar"
           }
          ],
          "barpolar": [
           {
            "marker": {
             "line": {
              "color": "#E5ECF6",
              "width": 0.5
             },
             "pattern": {
              "fillmode": "overlay",
              "size": 10,
              "solidity": 0.2
             }
            },
            "type": "barpolar"
           }
          ],
          "carpet": [
           {
            "aaxis": {
             "endlinecolor": "#2a3f5f",
             "gridcolor": "white",
             "linecolor": "white",
             "minorgridcolor": "white",
             "startlinecolor": "#2a3f5f"
            },
            "baxis": {
             "endlinecolor": "#2a3f5f",
             "gridcolor": "white",
             "linecolor": "white",
             "minorgridcolor": "white",
             "startlinecolor": "#2a3f5f"
            },
            "type": "carpet"
           }
          ],
          "choropleth": [
           {
            "colorbar": {
             "outlinewidth": 0,
             "ticks": ""
            },
            "type": "choropleth"
           }
          ],
          "contour": [
           {
            "colorbar": {
             "outlinewidth": 0,
             "ticks": ""
            },
            "colorscale": [
             [
              0,
              "#0d0887"
             ],
             [
              0.1111111111111111,
              "#46039f"
             ],
             [
              0.2222222222222222,
              "#7201a8"
             ],
             [
              0.3333333333333333,
              "#9c179e"
             ],
             [
              0.4444444444444444,
              "#bd3786"
             ],
             [
              0.5555555555555556,
              "#d8576b"
             ],
             [
              0.6666666666666666,
              "#ed7953"
             ],
             [
              0.7777777777777778,
              "#fb9f3a"
             ],
             [
              0.8888888888888888,
              "#fdca26"
             ],
             [
              1,
              "#f0f921"
             ]
            ],
            "type": "contour"
           }
          ],
          "contourcarpet": [
           {
            "colorbar": {
             "outlinewidth": 0,
             "ticks": ""
            },
            "type": "contourcarpet"
           }
          ],
          "heatmap": [
           {
            "colorbar": {
             "outlinewidth": 0,
             "ticks": ""
            },
            "colorscale": [
             [
              0,
              "#0d0887"
             ],
             [
              0.1111111111111111,
              "#46039f"
             ],
             [
              0.2222222222222222,
              "#7201a8"
             ],
             [
              0.3333333333333333,
              "#9c179e"
             ],
             [
              0.4444444444444444,
              "#bd3786"
             ],
             [
              0.5555555555555556,
              "#d8576b"
             ],
             [
              0.6666666666666666,
              "#ed7953"
             ],
             [
              0.7777777777777778,
              "#fb9f3a"
             ],
             [
              0.8888888888888888,
              "#fdca26"
             ],
             [
              1,
              "#f0f921"
             ]
            ],
            "type": "heatmap"
           }
          ],
          "heatmapgl": [
           {
            "colorbar": {
             "outlinewidth": 0,
             "ticks": ""
            },
            "colorscale": [
             [
              0,
              "#0d0887"
             ],
             [
              0.1111111111111111,
              "#46039f"
             ],
             [
              0.2222222222222222,
              "#7201a8"
             ],
             [
              0.3333333333333333,
              "#9c179e"
             ],
             [
              0.4444444444444444,
              "#bd3786"
             ],
             [
              0.5555555555555556,
              "#d8576b"
             ],
             [
              0.6666666666666666,
              "#ed7953"
             ],
             [
              0.7777777777777778,
              "#fb9f3a"
             ],
             [
              0.8888888888888888,
              "#fdca26"
             ],
             [
              1,
              "#f0f921"
             ]
            ],
            "type": "heatmapgl"
           }
          ],
          "histogram": [
           {
            "marker": {
             "pattern": {
              "fillmode": "overlay",
              "size": 10,
              "solidity": 0.2
             }
            },
            "type": "histogram"
           }
          ],
          "histogram2d": [
           {
            "colorbar": {
             "outlinewidth": 0,
             "ticks": ""
            },
            "colorscale": [
             [
              0,
              "#0d0887"
             ],
             [
              0.1111111111111111,
              "#46039f"
             ],
             [
              0.2222222222222222,
              "#7201a8"
             ],
             [
              0.3333333333333333,
              "#9c179e"
             ],
             [
              0.4444444444444444,
              "#bd3786"
             ],
             [
              0.5555555555555556,
              "#d8576b"
             ],
             [
              0.6666666666666666,
              "#ed7953"
             ],
             [
              0.7777777777777778,
              "#fb9f3a"
             ],
             [
              0.8888888888888888,
              "#fdca26"
             ],
             [
              1,
              "#f0f921"
             ]
            ],
            "type": "histogram2d"
           }
          ],
          "histogram2dcontour": [
           {
            "colorbar": {
             "outlinewidth": 0,
             "ticks": ""
            },
            "colorscale": [
             [
              0,
              "#0d0887"
             ],
             [
              0.1111111111111111,
              "#46039f"
             ],
             [
              0.2222222222222222,
              "#7201a8"
             ],
             [
              0.3333333333333333,
              "#9c179e"
             ],
             [
              0.4444444444444444,
              "#bd3786"
             ],
             [
              0.5555555555555556,
              "#d8576b"
             ],
             [
              0.6666666666666666,
              "#ed7953"
             ],
             [
              0.7777777777777778,
              "#fb9f3a"
             ],
             [
              0.8888888888888888,
              "#fdca26"
             ],
             [
              1,
              "#f0f921"
             ]
            ],
            "type": "histogram2dcontour"
           }
          ],
          "mesh3d": [
           {
            "colorbar": {
             "outlinewidth": 0,
             "ticks": ""
            },
            "type": "mesh3d"
           }
          ],
          "parcoords": [
           {
            "line": {
             "colorbar": {
              "outlinewidth": 0,
              "ticks": ""
             }
            },
            "type": "parcoords"
           }
          ],
          "pie": [
           {
            "automargin": true,
            "type": "pie"
           }
          ],
          "scatter": [
           {
            "fillpattern": {
             "fillmode": "overlay",
             "size": 10,
             "solidity": 0.2
            },
            "type": "scatter"
           }
          ],
          "scatter3d": [
           {
            "line": {
             "colorbar": {
              "outlinewidth": 0,
              "ticks": ""
             }
            },
            "marker": {
             "colorbar": {
              "outlinewidth": 0,
              "ticks": ""
             }
            },
            "type": "scatter3d"
           }
          ],
          "scattercarpet": [
           {
            "marker": {
             "colorbar": {
              "outlinewidth": 0,
              "ticks": ""
             }
            },
            "type": "scattercarpet"
           }
          ],
          "scattergeo": [
           {
            "marker": {
             "colorbar": {
              "outlinewidth": 0,
              "ticks": ""
             }
            },
            "type": "scattergeo"
           }
          ],
          "scattergl": [
           {
            "marker": {
             "colorbar": {
              "outlinewidth": 0,
              "ticks": ""
             }
            },
            "type": "scattergl"
           }
          ],
          "scattermapbox": [
           {
            "marker": {
             "colorbar": {
              "outlinewidth": 0,
              "ticks": ""
             }
            },
            "type": "scattermapbox"
           }
          ],
          "scatterpolar": [
           {
            "marker": {
             "colorbar": {
              "outlinewidth": 0,
              "ticks": ""
             }
            },
            "type": "scatterpolar"
           }
          ],
          "scatterpolargl": [
           {
            "marker": {
             "colorbar": {
              "outlinewidth": 0,
              "ticks": ""
             }
            },
            "type": "scatterpolargl"
           }
          ],
          "scatterternary": [
           {
            "marker": {
             "colorbar": {
              "outlinewidth": 0,
              "ticks": ""
             }
            },
            "type": "scatterternary"
           }
          ],
          "surface": [
           {
            "colorbar": {
             "outlinewidth": 0,
             "ticks": ""
            },
            "colorscale": [
             [
              0,
              "#0d0887"
             ],
             [
              0.1111111111111111,
              "#46039f"
             ],
             [
              0.2222222222222222,
              "#7201a8"
             ],
             [
              0.3333333333333333,
              "#9c179e"
             ],
             [
              0.4444444444444444,
              "#bd3786"
             ],
             [
              0.5555555555555556,
              "#d8576b"
             ],
             [
              0.6666666666666666,
              "#ed7953"
             ],
             [
              0.7777777777777778,
              "#fb9f3a"
             ],
             [
              0.8888888888888888,
              "#fdca26"
             ],
             [
              1,
              "#f0f921"
             ]
            ],
            "type": "surface"
           }
          ],
          "table": [
           {
            "cells": {
             "fill": {
              "color": "#EBF0F8"
             },
             "line": {
              "color": "white"
             }
            },
            "header": {
             "fill": {
              "color": "#C8D4E3"
             },
             "line": {
              "color": "white"
             }
            },
            "type": "table"
           }
          ]
         },
         "layout": {
          "annotationdefaults": {
           "arrowcolor": "#2a3f5f",
           "arrowhead": 0,
           "arrowwidth": 1
          },
          "autotypenumbers": "strict",
          "coloraxis": {
           "colorbar": {
            "outlinewidth": 0,
            "ticks": ""
           }
          },
          "colorscale": {
           "diverging": [
            [
             0,
             "#8e0152"
            ],
            [
             0.1,
             "#c51b7d"
            ],
            [
             0.2,
             "#de77ae"
            ],
            [
             0.3,
             "#f1b6da"
            ],
            [
             0.4,
             "#fde0ef"
            ],
            [
             0.5,
             "#f7f7f7"
            ],
            [
             0.6,
             "#e6f5d0"
            ],
            [
             0.7,
             "#b8e186"
            ],
            [
             0.8,
             "#7fbc41"
            ],
            [
             0.9,
             "#4d9221"
            ],
            [
             1,
             "#276419"
            ]
           ],
           "sequential": [
            [
             0,
             "#0d0887"
            ],
            [
             0.1111111111111111,
             "#46039f"
            ],
            [
             0.2222222222222222,
             "#7201a8"
            ],
            [
             0.3333333333333333,
             "#9c179e"
            ],
            [
             0.4444444444444444,
             "#bd3786"
            ],
            [
             0.5555555555555556,
             "#d8576b"
            ],
            [
             0.6666666666666666,
             "#ed7953"
            ],
            [
             0.7777777777777778,
             "#fb9f3a"
            ],
            [
             0.8888888888888888,
             "#fdca26"
            ],
            [
             1,
             "#f0f921"
            ]
           ],
           "sequentialminus": [
            [
             0,
             "#0d0887"
            ],
            [
             0.1111111111111111,
             "#46039f"
            ],
            [
             0.2222222222222222,
             "#7201a8"
            ],
            [
             0.3333333333333333,
             "#9c179e"
            ],
            [
             0.4444444444444444,
             "#bd3786"
            ],
            [
             0.5555555555555556,
             "#d8576b"
            ],
            [
             0.6666666666666666,
             "#ed7953"
            ],
            [
             0.7777777777777778,
             "#fb9f3a"
            ],
            [
             0.8888888888888888,
             "#fdca26"
            ],
            [
             1,
             "#f0f921"
            ]
           ]
          },
          "colorway": [
           "#636efa",
           "#EF553B",
           "#00cc96",
           "#ab63fa",
           "#FFA15A",
           "#19d3f3",
           "#FF6692",
           "#B6E880",
           "#FF97FF",
           "#FECB52"
          ],
          "font": {
           "color": "#2a3f5f"
          },
          "geo": {
           "bgcolor": "white",
           "lakecolor": "white",
           "landcolor": "#E5ECF6",
           "showlakes": true,
           "showland": true,
           "subunitcolor": "white"
          },
          "hoverlabel": {
           "align": "left"
          },
          "hovermode": "closest",
          "mapbox": {
           "style": "light"
          },
          "paper_bgcolor": "white",
          "plot_bgcolor": "#E5ECF6",
          "polar": {
           "angularaxis": {
            "gridcolor": "white",
            "linecolor": "white",
            "ticks": ""
           },
           "bgcolor": "#E5ECF6",
           "radialaxis": {
            "gridcolor": "white",
            "linecolor": "white",
            "ticks": ""
           }
          },
          "scene": {
           "xaxis": {
            "backgroundcolor": "#E5ECF6",
            "gridcolor": "white",
            "gridwidth": 2,
            "linecolor": "white",
            "showbackground": true,
            "ticks": "",
            "zerolinecolor": "white"
           },
           "yaxis": {
            "backgroundcolor": "#E5ECF6",
            "gridcolor": "white",
            "gridwidth": 2,
            "linecolor": "white",
            "showbackground": true,
            "ticks": "",
            "zerolinecolor": "white"
           },
           "zaxis": {
            "backgroundcolor": "#E5ECF6",
            "gridcolor": "white",
            "gridwidth": 2,
            "linecolor": "white",
            "showbackground": true,
            "ticks": "",
            "zerolinecolor": "white"
           }
          },
          "shapedefaults": {
           "line": {
            "color": "#2a3f5f"
           }
          },
          "ternary": {
           "aaxis": {
            "gridcolor": "white",
            "linecolor": "white",
            "ticks": ""
           },
           "baxis": {
            "gridcolor": "white",
            "linecolor": "white",
            "ticks": ""
           },
           "bgcolor": "#E5ECF6",
           "caxis": {
            "gridcolor": "white",
            "linecolor": "white",
            "ticks": ""
           }
          },
          "title": {
           "x": 0.05
          },
          "xaxis": {
           "automargin": true,
           "gridcolor": "white",
           "linecolor": "white",
           "ticks": "",
           "title": {
            "standoff": 15
           },
           "zerolinecolor": "white",
           "zerolinewidth": 2
          },
          "yaxis": {
           "automargin": true,
           "gridcolor": "white",
           "linecolor": "white",
           "ticks": "",
           "title": {
            "standoff": 15
           },
           "zerolinecolor": "white",
           "zerolinewidth": 2
          }
         }
        },
        "title": {
         "text": "plotly.colors.qualitative"
        },
        "xaxis": {
         "range": [
          -0.02,
          1.02
         ],
         "showgrid": false,
         "showticklabels": false
        }
       }
      }
     },
     "metadata": {},
     "output_type": "display_data"
    }
   ],
   "source": [
    "# Print plotly colors to grab for charts\n",
    "fig = px.colors.qualitative.swatches()\n",
    "fig.show()"
   ]
  },
  {
   "cell_type": "code",
   "execution_count": 22,
   "metadata": {},
   "outputs": [
    {
     "data": {
      "application/vnd.plotly.v1+json": {
       "config": {
        "plotlyServerURL": "https://plot.ly"
       },
       "data": [
        {
         "alignmentgroup": "True",
         "bingroup": "x",
         "histfunc": "avg",
         "hovertemplate": "Brand Name=%{x}<br>avg of Range (Km)=%{y}<extra></extra>",
         "legendgroup": "",
         "marker": {
          "color": "#B6E880",
          "pattern": {
           "shape": ""
          }
         },
         "name": "",
         "offsetgroup": "",
         "orientation": "v",
         "showlegend": false,
         "textfont": {
          "size": 11
         },
         "textposition": "outside",
         "texttemplate": "%{value:.2s}",
         "type": "histogram",
         "x": [
          "Tesla ",
          "Volkswagen ",
          "BMW ",
          "Volkswagen ",
          "Tesla ",
          "Audi ",
          "Mercedes ",
          "Nissan ",
          "Hyundai ",
          "BMW ",
          "Hyundai ",
          "Volkswagen ",
          "Porsche ",
          "Volkswagen ",
          "Opel ",
          "Tesla ",
          "Skoda ",
          "Audi ",
          "Tesla ",
          "Volkswagen ",
          "Volkswagen ",
          "BMW ",
          "Audi ",
          "Kia ",
          "Renault ",
          "Tesla ",
          "Nissan ",
          "Renault ",
          "Mercedes ",
          "Tesla ",
          "Hyundai ",
          "Audi ",
          "Skoda ",
          "Kia ",
          "Opel ",
          "Porsche ",
          "Audi ",
          "Tesla ",
          "Opel ",
          "Skoda ",
          "Tesla ",
          "Renault ",
          "Tesla ",
          "Renault ",
          "Tesla ",
          "Nissan ",
          "Ford ",
          "Porsche ",
          "Nissan ",
          "Tesla ",
          "Renault ",
          "Ford ",
          "BMW ",
          "Skoda ",
          "Porsche ",
          "Byton ",
          "Kia ",
          "Audi ",
          "Smart ",
          "Ford ",
          "Porsche ",
          "Volkswagen ",
          "Tesla ",
          "Smart ",
          "Ford ",
          "Mercedes ",
          "Tesla ",
          "Audi ",
          "Skoda ",
          "Skoda ",
          "Audi ",
          "Smart ",
          "Nissan ",
          "Volkswagen ",
          "Kia ",
          "Byton ",
          "Nissan ",
          "Audi ",
          "Nissan ",
          "Nissan ",
          "Byton "
         ],
         "xaxis": "x",
         "y": [
          450,
          270,
          360,
          190,
          310,
          400,
          370,
          220,
          400,
          450,
          250,
          440,
          375,
          195,
          275,
          425,
          290,
          425,
          435,
          420,
          350,
          235,
          280,
          370,
          315,
          750,
          325,
          310,
          350,
          515,
          255,
          380,
          195,
          365,
          335,
          365,
          365,
          970,
          255,
          420,
          450,
          130,
          505,
          255,
          410,
          440,
          450,
          425,
          190,
          460,
          160,
          430,
          230,
          400,
          385,
          390,
          235,
          410,
          95,
          340,
          390,
          340,
          440,
          100,
          360,
          330,
          390,
          295,
          400,
          320,
          320,
          95,
          420,
          340,
          230,
          325,
          330,
          335,
          325,
          375,
          400
         ],
         "yaxis": "y"
        }
       ],
       "layout": {
        "barmode": "relative",
        "height": 500,
        "legend": {
         "tracegroupgap": 0
        },
        "paper_bgcolor": "rgba(0, 0, 0, 0)",
        "plot_bgcolor": "rgba(0, 0, 0, 0)",
        "template": {
         "data": {
          "bar": [
           {
            "error_x": {
             "color": "#2a3f5f"
            },
            "error_y": {
             "color": "#2a3f5f"
            },
            "marker": {
             "line": {
              "color": "#E5ECF6",
              "width": 0.5
             },
             "pattern": {
              "fillmode": "overlay",
              "size": 10,
              "solidity": 0.2
             }
            },
            "type": "bar"
           }
          ],
          "barpolar": [
           {
            "marker": {
             "line": {
              "color": "#E5ECF6",
              "width": 0.5
             },
             "pattern": {
              "fillmode": "overlay",
              "size": 10,
              "solidity": 0.2
             }
            },
            "type": "barpolar"
           }
          ],
          "carpet": [
           {
            "aaxis": {
             "endlinecolor": "#2a3f5f",
             "gridcolor": "white",
             "linecolor": "white",
             "minorgridcolor": "white",
             "startlinecolor": "#2a3f5f"
            },
            "baxis": {
             "endlinecolor": "#2a3f5f",
             "gridcolor": "white",
             "linecolor": "white",
             "minorgridcolor": "white",
             "startlinecolor": "#2a3f5f"
            },
            "type": "carpet"
           }
          ],
          "choropleth": [
           {
            "colorbar": {
             "outlinewidth": 0,
             "ticks": ""
            },
            "type": "choropleth"
           }
          ],
          "contour": [
           {
            "colorbar": {
             "outlinewidth": 0,
             "ticks": ""
            },
            "colorscale": [
             [
              0,
              "#0d0887"
             ],
             [
              0.1111111111111111,
              "#46039f"
             ],
             [
              0.2222222222222222,
              "#7201a8"
             ],
             [
              0.3333333333333333,
              "#9c179e"
             ],
             [
              0.4444444444444444,
              "#bd3786"
             ],
             [
              0.5555555555555556,
              "#d8576b"
             ],
             [
              0.6666666666666666,
              "#ed7953"
             ],
             [
              0.7777777777777778,
              "#fb9f3a"
             ],
             [
              0.8888888888888888,
              "#fdca26"
             ],
             [
              1,
              "#f0f921"
             ]
            ],
            "type": "contour"
           }
          ],
          "contourcarpet": [
           {
            "colorbar": {
             "outlinewidth": 0,
             "ticks": ""
            },
            "type": "contourcarpet"
           }
          ],
          "heatmap": [
           {
            "colorbar": {
             "outlinewidth": 0,
             "ticks": ""
            },
            "colorscale": [
             [
              0,
              "#0d0887"
             ],
             [
              0.1111111111111111,
              "#46039f"
             ],
             [
              0.2222222222222222,
              "#7201a8"
             ],
             [
              0.3333333333333333,
              "#9c179e"
             ],
             [
              0.4444444444444444,
              "#bd3786"
             ],
             [
              0.5555555555555556,
              "#d8576b"
             ],
             [
              0.6666666666666666,
              "#ed7953"
             ],
             [
              0.7777777777777778,
              "#fb9f3a"
             ],
             [
              0.8888888888888888,
              "#fdca26"
             ],
             [
              1,
              "#f0f921"
             ]
            ],
            "type": "heatmap"
           }
          ],
          "heatmapgl": [
           {
            "colorbar": {
             "outlinewidth": 0,
             "ticks": ""
            },
            "colorscale": [
             [
              0,
              "#0d0887"
             ],
             [
              0.1111111111111111,
              "#46039f"
             ],
             [
              0.2222222222222222,
              "#7201a8"
             ],
             [
              0.3333333333333333,
              "#9c179e"
             ],
             [
              0.4444444444444444,
              "#bd3786"
             ],
             [
              0.5555555555555556,
              "#d8576b"
             ],
             [
              0.6666666666666666,
              "#ed7953"
             ],
             [
              0.7777777777777778,
              "#fb9f3a"
             ],
             [
              0.8888888888888888,
              "#fdca26"
             ],
             [
              1,
              "#f0f921"
             ]
            ],
            "type": "heatmapgl"
           }
          ],
          "histogram": [
           {
            "marker": {
             "pattern": {
              "fillmode": "overlay",
              "size": 10,
              "solidity": 0.2
             }
            },
            "type": "histogram"
           }
          ],
          "histogram2d": [
           {
            "colorbar": {
             "outlinewidth": 0,
             "ticks": ""
            },
            "colorscale": [
             [
              0,
              "#0d0887"
             ],
             [
              0.1111111111111111,
              "#46039f"
             ],
             [
              0.2222222222222222,
              "#7201a8"
             ],
             [
              0.3333333333333333,
              "#9c179e"
             ],
             [
              0.4444444444444444,
              "#bd3786"
             ],
             [
              0.5555555555555556,
              "#d8576b"
             ],
             [
              0.6666666666666666,
              "#ed7953"
             ],
             [
              0.7777777777777778,
              "#fb9f3a"
             ],
             [
              0.8888888888888888,
              "#fdca26"
             ],
             [
              1,
              "#f0f921"
             ]
            ],
            "type": "histogram2d"
           }
          ],
          "histogram2dcontour": [
           {
            "colorbar": {
             "outlinewidth": 0,
             "ticks": ""
            },
            "colorscale": [
             [
              0,
              "#0d0887"
             ],
             [
              0.1111111111111111,
              "#46039f"
             ],
             [
              0.2222222222222222,
              "#7201a8"
             ],
             [
              0.3333333333333333,
              "#9c179e"
             ],
             [
              0.4444444444444444,
              "#bd3786"
             ],
             [
              0.5555555555555556,
              "#d8576b"
             ],
             [
              0.6666666666666666,
              "#ed7953"
             ],
             [
              0.7777777777777778,
              "#fb9f3a"
             ],
             [
              0.8888888888888888,
              "#fdca26"
             ],
             [
              1,
              "#f0f921"
             ]
            ],
            "type": "histogram2dcontour"
           }
          ],
          "mesh3d": [
           {
            "colorbar": {
             "outlinewidth": 0,
             "ticks": ""
            },
            "type": "mesh3d"
           }
          ],
          "parcoords": [
           {
            "line": {
             "colorbar": {
              "outlinewidth": 0,
              "ticks": ""
             }
            },
            "type": "parcoords"
           }
          ],
          "pie": [
           {
            "automargin": true,
            "type": "pie"
           }
          ],
          "scatter": [
           {
            "fillpattern": {
             "fillmode": "overlay",
             "size": 10,
             "solidity": 0.2
            },
            "type": "scatter"
           }
          ],
          "scatter3d": [
           {
            "line": {
             "colorbar": {
              "outlinewidth": 0,
              "ticks": ""
             }
            },
            "marker": {
             "colorbar": {
              "outlinewidth": 0,
              "ticks": ""
             }
            },
            "type": "scatter3d"
           }
          ],
          "scattercarpet": [
           {
            "marker": {
             "colorbar": {
              "outlinewidth": 0,
              "ticks": ""
             }
            },
            "type": "scattercarpet"
           }
          ],
          "scattergeo": [
           {
            "marker": {
             "colorbar": {
              "outlinewidth": 0,
              "ticks": ""
             }
            },
            "type": "scattergeo"
           }
          ],
          "scattergl": [
           {
            "marker": {
             "colorbar": {
              "outlinewidth": 0,
              "ticks": ""
             }
            },
            "type": "scattergl"
           }
          ],
          "scattermapbox": [
           {
            "marker": {
             "colorbar": {
              "outlinewidth": 0,
              "ticks": ""
             }
            },
            "type": "scattermapbox"
           }
          ],
          "scatterpolar": [
           {
            "marker": {
             "colorbar": {
              "outlinewidth": 0,
              "ticks": ""
             }
            },
            "type": "scatterpolar"
           }
          ],
          "scatterpolargl": [
           {
            "marker": {
             "colorbar": {
              "outlinewidth": 0,
              "ticks": ""
             }
            },
            "type": "scatterpolargl"
           }
          ],
          "scatterternary": [
           {
            "marker": {
             "colorbar": {
              "outlinewidth": 0,
              "ticks": ""
             }
            },
            "type": "scatterternary"
           }
          ],
          "surface": [
           {
            "colorbar": {
             "outlinewidth": 0,
             "ticks": ""
            },
            "colorscale": [
             [
              0,
              "#0d0887"
             ],
             [
              0.1111111111111111,
              "#46039f"
             ],
             [
              0.2222222222222222,
              "#7201a8"
             ],
             [
              0.3333333333333333,
              "#9c179e"
             ],
             [
              0.4444444444444444,
              "#bd3786"
             ],
             [
              0.5555555555555556,
              "#d8576b"
             ],
             [
              0.6666666666666666,
              "#ed7953"
             ],
             [
              0.7777777777777778,
              "#fb9f3a"
             ],
             [
              0.8888888888888888,
              "#fdca26"
             ],
             [
              1,
              "#f0f921"
             ]
            ],
            "type": "surface"
           }
          ],
          "table": [
           {
            "cells": {
             "fill": {
              "color": "#EBF0F8"
             },
             "line": {
              "color": "white"
             }
            },
            "header": {
             "fill": {
              "color": "#C8D4E3"
             },
             "line": {
              "color": "white"
             }
            },
            "type": "table"
           }
          ]
         },
         "layout": {
          "annotationdefaults": {
           "arrowcolor": "#2a3f5f",
           "arrowhead": 0,
           "arrowwidth": 1
          },
          "autotypenumbers": "strict",
          "coloraxis": {
           "colorbar": {
            "outlinewidth": 0,
            "ticks": ""
           }
          },
          "colorscale": {
           "diverging": [
            [
             0,
             "#8e0152"
            ],
            [
             0.1,
             "#c51b7d"
            ],
            [
             0.2,
             "#de77ae"
            ],
            [
             0.3,
             "#f1b6da"
            ],
            [
             0.4,
             "#fde0ef"
            ],
            [
             0.5,
             "#f7f7f7"
            ],
            [
             0.6,
             "#e6f5d0"
            ],
            [
             0.7,
             "#b8e186"
            ],
            [
             0.8,
             "#7fbc41"
            ],
            [
             0.9,
             "#4d9221"
            ],
            [
             1,
             "#276419"
            ]
           ],
           "sequential": [
            [
             0,
             "#0d0887"
            ],
            [
             0.1111111111111111,
             "#46039f"
            ],
            [
             0.2222222222222222,
             "#7201a8"
            ],
            [
             0.3333333333333333,
             "#9c179e"
            ],
            [
             0.4444444444444444,
             "#bd3786"
            ],
            [
             0.5555555555555556,
             "#d8576b"
            ],
            [
             0.6666666666666666,
             "#ed7953"
            ],
            [
             0.7777777777777778,
             "#fb9f3a"
            ],
            [
             0.8888888888888888,
             "#fdca26"
            ],
            [
             1,
             "#f0f921"
            ]
           ],
           "sequentialminus": [
            [
             0,
             "#0d0887"
            ],
            [
             0.1111111111111111,
             "#46039f"
            ],
            [
             0.2222222222222222,
             "#7201a8"
            ],
            [
             0.3333333333333333,
             "#9c179e"
            ],
            [
             0.4444444444444444,
             "#bd3786"
            ],
            [
             0.5555555555555556,
             "#d8576b"
            ],
            [
             0.6666666666666666,
             "#ed7953"
            ],
            [
             0.7777777777777778,
             "#fb9f3a"
            ],
            [
             0.8888888888888888,
             "#fdca26"
            ],
            [
             1,
             "#f0f921"
            ]
           ]
          },
          "colorway": [
           "#636efa",
           "#EF553B",
           "#00cc96",
           "#ab63fa",
           "#FFA15A",
           "#19d3f3",
           "#FF6692",
           "#B6E880",
           "#FF97FF",
           "#FECB52"
          ],
          "font": {
           "color": "#2a3f5f"
          },
          "geo": {
           "bgcolor": "white",
           "lakecolor": "white",
           "landcolor": "#E5ECF6",
           "showlakes": true,
           "showland": true,
           "subunitcolor": "white"
          },
          "hoverlabel": {
           "align": "left"
          },
          "hovermode": "closest",
          "mapbox": {
           "style": "light"
          },
          "paper_bgcolor": "white",
          "plot_bgcolor": "#E5ECF6",
          "polar": {
           "angularaxis": {
            "gridcolor": "white",
            "linecolor": "white",
            "ticks": ""
           },
           "bgcolor": "#E5ECF6",
           "radialaxis": {
            "gridcolor": "white",
            "linecolor": "white",
            "ticks": ""
           }
          },
          "scene": {
           "xaxis": {
            "backgroundcolor": "#E5ECF6",
            "gridcolor": "white",
            "gridwidth": 2,
            "linecolor": "white",
            "showbackground": true,
            "ticks": "",
            "zerolinecolor": "white"
           },
           "yaxis": {
            "backgroundcolor": "#E5ECF6",
            "gridcolor": "white",
            "gridwidth": 2,
            "linecolor": "white",
            "showbackground": true,
            "ticks": "",
            "zerolinecolor": "white"
           },
           "zaxis": {
            "backgroundcolor": "#E5ECF6",
            "gridcolor": "white",
            "gridwidth": 2,
            "linecolor": "white",
            "showbackground": true,
            "ticks": "",
            "zerolinecolor": "white"
           }
          },
          "shapedefaults": {
           "line": {
            "color": "#2a3f5f"
           }
          },
          "ternary": {
           "aaxis": {
            "gridcolor": "white",
            "linecolor": "white",
            "ticks": ""
           },
           "baxis": {
            "gridcolor": "white",
            "linecolor": "white",
            "ticks": ""
           },
           "bgcolor": "#E5ECF6",
           "caxis": {
            "gridcolor": "white",
            "linecolor": "white",
            "ticks": ""
           }
          },
          "title": {
           "x": 0.05
          },
          "xaxis": {
           "automargin": true,
           "gridcolor": "white",
           "linecolor": "white",
           "ticks": "",
           "title": {
            "standoff": 15
           },
           "zerolinecolor": "white",
           "zerolinewidth": 2
          },
          "yaxis": {
           "automargin": true,
           "gridcolor": "white",
           "linecolor": "white",
           "ticks": "",
           "title": {
            "standoff": 15
           },
           "zerolinecolor": "white",
           "zerolinewidth": 2
          }
         }
        },
        "title": {
         "text": "Average Range by Brand of EVs"
        },
        "width": 800,
        "xaxis": {
         "anchor": "y",
         "categoryarray": [
          "Porsche ",
          "Audi ",
          "Tesla ",
          "Mercedes ",
          "Byton ",
          "Ford ",
          "BMW ",
          "Nissan ",
          "Skoda ",
          "Hyundai ",
          "Kia ",
          "Opel ",
          "Volkswagen ",
          "Renault ",
          "Smart "
         ],
         "categoryorder": "array",
         "domain": [
          0,
          1
         ],
         "showgrid": false,
         "title": {
          "text": "Brand Name"
         }
        },
        "yaxis": {
         "anchor": "x",
         "domain": [
          0,
          1
         ],
         "showgrid": false,
         "title": {
          "text": "avg of Range (Km)"
         }
        }
       }
      }
     },
     "metadata": {},
     "output_type": "display_data"
    }
   ],
   "source": [
    "# Create a bar chart of average range by brand\n",
    "range_bar = px.histogram(top_brands, x='brand', y='range_km', histfunc='avg', \n",
    "                          title='Average Range by Brand of EVs', text_auto='.2s',\n",
    "                          labels={'range_km':'Range (Km)', 'brand':'Brand Name'},\n",
    "                          color_discrete_sequence=[px.colors.qualitative.Plotly[7]],\n",
    "                          width=800, height=500)\n",
    "\n",
    "range_bar.update_layout({\n",
    "    'plot_bgcolor':'rgba(0, 0, 0, 0)',\n",
    "    'paper_bgcolor':'rgba(0, 0, 0, 0)'\n",
    "})\n",
    "\n",
    "range_bar.update_traces(textfont_size=11, textposition='outside')\n",
    "\n",
    "range_bar.update_layout(xaxis={'categoryorder':'array', 'categoryarray':\n",
    "    ['Porsche ', 'Audi ', 'Tesla ', 'Mercedes ', 'Byton ', 'Ford ', 'BMW ',\n",
    "     'Nissan ', 'Skoda ', 'Hyundai ', 'Kia ', 'Opel ', 'Volkswagen ', 'Renault ', 'Smart ']})\n",
    "\n",
    "range_bar.update_xaxes(showgrid=False)\n",
    "range_bar.update_yaxes(showgrid=False)\n",
    "\n",
    "range_bar.show()"
   ]
  },
  {
   "attachments": {},
   "cell_type": "markdown",
   "metadata": {},
   "source": [
    "### 2b. Run descriptive analysis for efficiency, range, and price by body style"
   ]
  },
  {
   "cell_type": "code",
   "execution_count": 23,
   "metadata": {},
   "outputs": [
    {
     "data": {
      "text/plain": [
       "SUV          44\n",
       "Hatchback    32\n",
       "Sedan        10\n",
       "Liftback      5\n",
       "Pickup        3\n",
       "Cabrio        3\n",
       "SPV           3\n",
       "MPV           1\n",
       "Station       1\n",
       "Name: body_style, dtype: int64"
      ]
     },
     "execution_count": 23,
     "metadata": {},
     "output_type": "execute_result"
    }
   ],
   "source": [
    "# Find how many of each body style are in the data frame\n",
    "ev['body_style'].value_counts() "
   ]
  },
  {
   "cell_type": "code",
   "execution_count": 36,
   "metadata": {},
   "outputs": [
    {
     "data": {
      "text/html": [
       "<div>\n",
       "<style scoped>\n",
       "    .dataframe tbody tr th:only-of-type {\n",
       "        vertical-align: middle;\n",
       "    }\n",
       "\n",
       "    .dataframe tbody tr th {\n",
       "        vertical-align: top;\n",
       "    }\n",
       "\n",
       "    .dataframe thead th {\n",
       "        text-align: right;\n",
       "    }\n",
       "</style>\n",
       "<table border=\"1\" class=\"dataframe\">\n",
       "  <thead>\n",
       "    <tr style=\"text-align: right;\">\n",
       "      <th></th>\n",
       "      <th>brand</th>\n",
       "      <th>model</th>\n",
       "      <th>accel_sec</th>\n",
       "      <th>top_speed_kmh</th>\n",
       "      <th>range_km</th>\n",
       "      <th>efficiency_whkm</th>\n",
       "      <th>fast_charge_kmh</th>\n",
       "      <th>rapid_charge</th>\n",
       "      <th>power_train</th>\n",
       "      <th>plug_type</th>\n",
       "      <th>body_style</th>\n",
       "      <th>segment</th>\n",
       "      <th>seats</th>\n",
       "      <th>price_euro</th>\n",
       "    </tr>\n",
       "  </thead>\n",
       "  <tbody>\n",
       "    <tr>\n",
       "      <th>0</th>\n",
       "      <td>Tesla</td>\n",
       "      <td>Model 3 Long Range Dual Motor</td>\n",
       "      <td>4.6</td>\n",
       "      <td>233</td>\n",
       "      <td>450</td>\n",
       "      <td>161</td>\n",
       "      <td>940.0</td>\n",
       "      <td>Yes</td>\n",
       "      <td>AWD</td>\n",
       "      <td>Type 2 CCS</td>\n",
       "      <td>Sedan</td>\n",
       "      <td>D</td>\n",
       "      <td>5</td>\n",
       "      <td>55480</td>\n",
       "    </tr>\n",
       "    <tr>\n",
       "      <th>1</th>\n",
       "      <td>Volkswagen</td>\n",
       "      <td>ID.3 Pure</td>\n",
       "      <td>10.0</td>\n",
       "      <td>160</td>\n",
       "      <td>270</td>\n",
       "      <td>167</td>\n",
       "      <td>250.0</td>\n",
       "      <td>Yes</td>\n",
       "      <td>RWD</td>\n",
       "      <td>Type 2 CCS</td>\n",
       "      <td>Hatchback</td>\n",
       "      <td>C</td>\n",
       "      <td>5</td>\n",
       "      <td>30000</td>\n",
       "    </tr>\n",
       "    <tr>\n",
       "      <th>3</th>\n",
       "      <td>BMW</td>\n",
       "      <td>iX3</td>\n",
       "      <td>6.8</td>\n",
       "      <td>180</td>\n",
       "      <td>360</td>\n",
       "      <td>206</td>\n",
       "      <td>560.0</td>\n",
       "      <td>Yes</td>\n",
       "      <td>RWD</td>\n",
       "      <td>Type 2 CCS</td>\n",
       "      <td>SUV</td>\n",
       "      <td>D</td>\n",
       "      <td>5</td>\n",
       "      <td>68040</td>\n",
       "    </tr>\n",
       "    <tr>\n",
       "      <th>4</th>\n",
       "      <td>Honda</td>\n",
       "      <td>e</td>\n",
       "      <td>9.5</td>\n",
       "      <td>145</td>\n",
       "      <td>170</td>\n",
       "      <td>168</td>\n",
       "      <td>190.0</td>\n",
       "      <td>Yes</td>\n",
       "      <td>RWD</td>\n",
       "      <td>Type 2 CCS</td>\n",
       "      <td>Hatchback</td>\n",
       "      <td>B</td>\n",
       "      <td>4</td>\n",
       "      <td>32997</td>\n",
       "    </tr>\n",
       "    <tr>\n",
       "      <th>5</th>\n",
       "      <td>Lucid</td>\n",
       "      <td>Air</td>\n",
       "      <td>2.8</td>\n",
       "      <td>250</td>\n",
       "      <td>610</td>\n",
       "      <td>180</td>\n",
       "      <td>620.0</td>\n",
       "      <td>Yes</td>\n",
       "      <td>AWD</td>\n",
       "      <td>Type 2 CCS</td>\n",
       "      <td>Sedan</td>\n",
       "      <td>F</td>\n",
       "      <td>5</td>\n",
       "      <td>105000</td>\n",
       "    </tr>\n",
       "  </tbody>\n",
       "</table>\n",
       "</div>"
      ],
      "text/plain": [
       "         brand                          model  accel_sec  top_speed_kmh  \\\n",
       "0       Tesla   Model 3 Long Range Dual Motor        4.6            233   \n",
       "1  Volkswagen                       ID.3 Pure       10.0            160   \n",
       "3         BMW                            iX3         6.8            180   \n",
       "4       Honda                              e         9.5            145   \n",
       "5       Lucid                            Air         2.8            250   \n",
       "\n",
       "   range_km  efficiency_whkm  fast_charge_kmh rapid_charge power_train  \\\n",
       "0       450              161            940.0          Yes         AWD   \n",
       "1       270              167            250.0          Yes         RWD   \n",
       "3       360              206            560.0          Yes         RWD   \n",
       "4       170              168            190.0          Yes         RWD   \n",
       "5       610              180            620.0          Yes         AWD   \n",
       "\n",
       "    plug_type body_style segment  seats  price_euro  \n",
       "0  Type 2 CCS      Sedan       D      5       55480  \n",
       "1  Type 2 CCS  Hatchback       C      5       30000  \n",
       "3  Type 2 CCS        SUV       D      5       68040  \n",
       "4  Type 2 CCS  Hatchback       B      4       32997  \n",
       "5  Type 2 CCS      Sedan       F      5      105000  "
      ]
     },
     "metadata": {},
     "output_type": "display_data"
    }
   ],
   "source": [
    "# Create data frame with only top 3 body styles\n",
    "suv_hatch_sed = ev[(ev['body_style']=='SUV') | (ev['body_style']=='Hatchback') | (ev['body_style']=='Sedan')]\n",
    "\n",
    "display(suv_hatch_sed.head())"
   ]
  },
  {
   "cell_type": "code",
   "execution_count": 25,
   "metadata": {},
   "outputs": [
    {
     "data": {
      "text/html": [
       "<div>\n",
       "<style scoped>\n",
       "    .dataframe tbody tr th:only-of-type {\n",
       "        vertical-align: middle;\n",
       "    }\n",
       "\n",
       "    .dataframe tbody tr th {\n",
       "        vertical-align: top;\n",
       "    }\n",
       "\n",
       "    .dataframe thead tr th {\n",
       "        text-align: left;\n",
       "    }\n",
       "\n",
       "    .dataframe thead tr:last-of-type th {\n",
       "        text-align: right;\n",
       "    }\n",
       "</style>\n",
       "<table border=\"1\" class=\"dataframe\">\n",
       "  <thead>\n",
       "    <tr>\n",
       "      <th></th>\n",
       "      <th colspan=\"3\" halign=\"left\">min</th>\n",
       "      <th colspan=\"3\" halign=\"left\">max</th>\n",
       "      <th colspan=\"3\" halign=\"left\">mean</th>\n",
       "      <th colspan=\"3\" halign=\"left\">median</th>\n",
       "      <th colspan=\"3\" halign=\"left\">std</th>\n",
       "    </tr>\n",
       "    <tr>\n",
       "      <th></th>\n",
       "      <th>efficiency_whkm</th>\n",
       "      <th>price_euro</th>\n",
       "      <th>range_km</th>\n",
       "      <th>efficiency_whkm</th>\n",
       "      <th>price_euro</th>\n",
       "      <th>range_km</th>\n",
       "      <th>efficiency_whkm</th>\n",
       "      <th>price_euro</th>\n",
       "      <th>range_km</th>\n",
       "      <th>efficiency_whkm</th>\n",
       "      <th>price_euro</th>\n",
       "      <th>range_km</th>\n",
       "      <th>efficiency_whkm</th>\n",
       "      <th>price_euro</th>\n",
       "      <th>range_km</th>\n",
       "    </tr>\n",
       "    <tr>\n",
       "      <th>body_style</th>\n",
       "      <th></th>\n",
       "      <th></th>\n",
       "      <th></th>\n",
       "      <th></th>\n",
       "      <th></th>\n",
       "      <th></th>\n",
       "      <th></th>\n",
       "      <th></th>\n",
       "      <th></th>\n",
       "      <th></th>\n",
       "      <th></th>\n",
       "      <th></th>\n",
       "      <th></th>\n",
       "      <th></th>\n",
       "      <th></th>\n",
       "    </tr>\n",
       "  </thead>\n",
       "  <tbody>\n",
       "    <tr>\n",
       "      <th>Hatchback</th>\n",
       "      <td>156</td>\n",
       "      <td>20129</td>\n",
       "      <td>95</td>\n",
       "      <td>232</td>\n",
       "      <td>65000</td>\n",
       "      <td>440</td>\n",
       "      <td>172.687500</td>\n",
       "      <td>34893.156250</td>\n",
       "      <td>268.593750</td>\n",
       "      <td>167.5</td>\n",
       "      <td>32998.5</td>\n",
       "      <td>262.5</td>\n",
       "      <td>15.883523</td>\n",
       "      <td>10516.855964</td>\n",
       "      <td>95.446610</td>\n",
       "    </tr>\n",
       "    <tr>\n",
       "      <th>SUV</th>\n",
       "      <td>154</td>\n",
       "      <td>30000</td>\n",
       "      <td>180</td>\n",
       "      <td>270</td>\n",
       "      <td>102990</td>\n",
       "      <td>450</td>\n",
       "      <td>198.090909</td>\n",
       "      <td>54372.204545</td>\n",
       "      <td>344.090909</td>\n",
       "      <td>193.0</td>\n",
       "      <td>51750.0</td>\n",
       "      <td>362.5</td>\n",
       "      <td>26.733672</td>\n",
       "      <td>19073.516759</td>\n",
       "      <td>70.754018</td>\n",
       "    </tr>\n",
       "    <tr>\n",
       "      <th>Sedan</th>\n",
       "      <td>153</td>\n",
       "      <td>46380</td>\n",
       "      <td>310</td>\n",
       "      <td>223</td>\n",
       "      <td>180781</td>\n",
       "      <td>610</td>\n",
       "      <td>186.600000</td>\n",
       "      <td>99966.900000</td>\n",
       "      <td>423.500000</td>\n",
       "      <td>187.5</td>\n",
       "      <td>103972.5</td>\n",
       "      <td>425.0</td>\n",
       "      <td>22.862876</td>\n",
       "      <td>43677.697125</td>\n",
       "      <td>78.953221</td>\n",
       "    </tr>\n",
       "  </tbody>\n",
       "</table>\n",
       "</div>"
      ],
      "text/plain": [
       "                       min                                 max             \\\n",
       "           efficiency_whkm price_euro range_km efficiency_whkm price_euro   \n",
       "body_style                                                                  \n",
       "Hatchback              156      20129       95             232      65000   \n",
       "SUV                    154      30000      180             270     102990   \n",
       "Sedan                  153      46380      310             223     180781   \n",
       "\n",
       "                               mean                                    median  \\\n",
       "           range_km efficiency_whkm    price_euro    range_km efficiency_whkm   \n",
       "body_style                                                                      \n",
       "Hatchback       440      172.687500  34893.156250  268.593750           167.5   \n",
       "SUV             450      198.090909  54372.204545  344.090909           193.0   \n",
       "Sedan           610      186.600000  99966.900000  423.500000           187.5   \n",
       "\n",
       "                                           std                           \n",
       "           price_euro range_km efficiency_whkm    price_euro   range_km  \n",
       "body_style                                                               \n",
       "Hatchback     32998.5    262.5       15.883523  10516.855964  95.446610  \n",
       "SUV           51750.0    362.5       26.733672  19073.516759  70.754018  \n",
       "Sedan        103972.5    425.0       22.862876  43677.697125  78.953221  "
      ]
     },
     "metadata": {},
     "output_type": "display_data"
    }
   ],
   "source": [
    "# Run pivot table for min, max, mean, median, and standard deviation for each body style\n",
    "suv_hatch_sed_pivot = suv_hatch_sed.pivot_table(index='body_style', values=['range_km', 'efficiency_whkm', 'price_euro'], \n",
    "                                          aggfunc=['min', 'max', 'mean', 'median', 'std'])\n",
    "\n",
    "display(suv_hatch_sed_pivot)"
   ]
  },
  {
   "cell_type": "code",
   "execution_count": 26,
   "metadata": {},
   "outputs": [
    {
     "data": {
      "application/vnd.plotly.v1+json": {
       "config": {
        "plotlyServerURL": "https://plot.ly"
       },
       "data": [
        {
         "alignmentgroup": "True",
         "bingroup": "x",
         "hovertemplate": "body_style=Sedan<br>Price (Euros)=%{x}<br>count=%{y}<extra></extra>",
         "legendgroup": "Sedan",
         "marker": {
          "color": "#636EFA",
          "pattern": {
           "shape": ""
          }
         },
         "name": "Sedan",
         "nbinsx": 30,
         "offsetgroup": "Sedan",
         "opacity": 0.7,
         "orientation": "v",
         "showlegend": true,
         "type": "histogram",
         "x": [
          55480,
          105000,
          46380,
          65000,
          180781,
          125000,
          61480,
          102945,
          109302,
          148301
         ],
         "xaxis": "x",
         "yaxis": "y"
        },
        {
         "alignmentgroup": "True",
         "bingroup": "x",
         "hovertemplate": "body_style=Hatchback<br>Price (Euros)=%{x}<br>count=%{y}<extra></extra>",
         "legendgroup": "Hatchback",
         "marker": {
          "color": "#B6E880",
          "pattern": {
           "shape": ""
          }
         },
         "name": "Hatchback",
         "nbinsx": 30,
         "offsetgroup": "Hatchback",
         "opacity": 0.7,
         "orientation": "v",
         "showlegend": true,
         "type": "histogram",
         "x": [
          30000,
          32997,
          31900,
          29682,
          29234,
          40936,
          21421,
          31681,
          29146,
          33000,
          38017,
          31184,
          37237,
          45000,
          33133,
          24534,
          20129,
          35921,
          24790,
          29234,
          50000,
          41526,
          25500,
          22030,
          38987,
          21387,
          34900,
          57500,
          35575,
          45000,
          50000,
          65000
         ],
         "xaxis": "x",
         "yaxis": "y"
        },
        {
         "alignmentgroup": "True",
         "bingroup": "x",
         "hovertemplate": "body_style=SUV<br>Price (Euros)=%{x}<br>count=%{y}<extra></extra>",
         "legendgroup": "SUV",
         "marker": {
          "color": "#FECB52",
          "pattern": {
           "shape": ""
          }
         },
         "name": "SUV",
         "nbinsx": 30,
         "offsetgroup": "SUV",
         "opacity": 0.7,
         "orientation": "v",
         "showlegend": true,
         "type": "histogram",
         "x": [
          68040,
          55000,
          69484,
          40795,
          30000,
          58620,
          35000,
          45000,
          60437,
          34361,
          67358,
          38105,
          32646,
          50000,
          45000,
          33971,
          81639,
          36837,
          36057,
          79445,
          35000,
          40000,
          85990,
          37422,
          40000,
          65620,
          75351,
          54475,
          62900,
          45000,
          64000,
          34400,
          57500,
          54000,
          102990,
          46900,
          69551,
          47500,
          37500,
          93800,
          33133,
          53500,
          96050,
          62000
         ],
         "xaxis": "x",
         "yaxis": "y"
        }
       ],
       "layout": {
        "barmode": "overlay",
        "height": 500,
        "legend": {
         "title": {
          "text": "body_style"
         },
         "tracegroupgap": 0
        },
        "paper_bgcolor": "rgba(0, 0, 0, 0)",
        "plot_bgcolor": "rgba(0, 0, 0, 0)",
        "template": {
         "data": {
          "bar": [
           {
            "error_x": {
             "color": "#2a3f5f"
            },
            "error_y": {
             "color": "#2a3f5f"
            },
            "marker": {
             "line": {
              "color": "#E5ECF6",
              "width": 0.5
             },
             "pattern": {
              "fillmode": "overlay",
              "size": 10,
              "solidity": 0.2
             }
            },
            "type": "bar"
           }
          ],
          "barpolar": [
           {
            "marker": {
             "line": {
              "color": "#E5ECF6",
              "width": 0.5
             },
             "pattern": {
              "fillmode": "overlay",
              "size": 10,
              "solidity": 0.2
             }
            },
            "type": "barpolar"
           }
          ],
          "carpet": [
           {
            "aaxis": {
             "endlinecolor": "#2a3f5f",
             "gridcolor": "white",
             "linecolor": "white",
             "minorgridcolor": "white",
             "startlinecolor": "#2a3f5f"
            },
            "baxis": {
             "endlinecolor": "#2a3f5f",
             "gridcolor": "white",
             "linecolor": "white",
             "minorgridcolor": "white",
             "startlinecolor": "#2a3f5f"
            },
            "type": "carpet"
           }
          ],
          "choropleth": [
           {
            "colorbar": {
             "outlinewidth": 0,
             "ticks": ""
            },
            "type": "choropleth"
           }
          ],
          "contour": [
           {
            "colorbar": {
             "outlinewidth": 0,
             "ticks": ""
            },
            "colorscale": [
             [
              0,
              "#0d0887"
             ],
             [
              0.1111111111111111,
              "#46039f"
             ],
             [
              0.2222222222222222,
              "#7201a8"
             ],
             [
              0.3333333333333333,
              "#9c179e"
             ],
             [
              0.4444444444444444,
              "#bd3786"
             ],
             [
              0.5555555555555556,
              "#d8576b"
             ],
             [
              0.6666666666666666,
              "#ed7953"
             ],
             [
              0.7777777777777778,
              "#fb9f3a"
             ],
             [
              0.8888888888888888,
              "#fdca26"
             ],
             [
              1,
              "#f0f921"
             ]
            ],
            "type": "contour"
           }
          ],
          "contourcarpet": [
           {
            "colorbar": {
             "outlinewidth": 0,
             "ticks": ""
            },
            "type": "contourcarpet"
           }
          ],
          "heatmap": [
           {
            "colorbar": {
             "outlinewidth": 0,
             "ticks": ""
            },
            "colorscale": [
             [
              0,
              "#0d0887"
             ],
             [
              0.1111111111111111,
              "#46039f"
             ],
             [
              0.2222222222222222,
              "#7201a8"
             ],
             [
              0.3333333333333333,
              "#9c179e"
             ],
             [
              0.4444444444444444,
              "#bd3786"
             ],
             [
              0.5555555555555556,
              "#d8576b"
             ],
             [
              0.6666666666666666,
              "#ed7953"
             ],
             [
              0.7777777777777778,
              "#fb9f3a"
             ],
             [
              0.8888888888888888,
              "#fdca26"
             ],
             [
              1,
              "#f0f921"
             ]
            ],
            "type": "heatmap"
           }
          ],
          "heatmapgl": [
           {
            "colorbar": {
             "outlinewidth": 0,
             "ticks": ""
            },
            "colorscale": [
             [
              0,
              "#0d0887"
             ],
             [
              0.1111111111111111,
              "#46039f"
             ],
             [
              0.2222222222222222,
              "#7201a8"
             ],
             [
              0.3333333333333333,
              "#9c179e"
             ],
             [
              0.4444444444444444,
              "#bd3786"
             ],
             [
              0.5555555555555556,
              "#d8576b"
             ],
             [
              0.6666666666666666,
              "#ed7953"
             ],
             [
              0.7777777777777778,
              "#fb9f3a"
             ],
             [
              0.8888888888888888,
              "#fdca26"
             ],
             [
              1,
              "#f0f921"
             ]
            ],
            "type": "heatmapgl"
           }
          ],
          "histogram": [
           {
            "marker": {
             "pattern": {
              "fillmode": "overlay",
              "size": 10,
              "solidity": 0.2
             }
            },
            "type": "histogram"
           }
          ],
          "histogram2d": [
           {
            "colorbar": {
             "outlinewidth": 0,
             "ticks": ""
            },
            "colorscale": [
             [
              0,
              "#0d0887"
             ],
             [
              0.1111111111111111,
              "#46039f"
             ],
             [
              0.2222222222222222,
              "#7201a8"
             ],
             [
              0.3333333333333333,
              "#9c179e"
             ],
             [
              0.4444444444444444,
              "#bd3786"
             ],
             [
              0.5555555555555556,
              "#d8576b"
             ],
             [
              0.6666666666666666,
              "#ed7953"
             ],
             [
              0.7777777777777778,
              "#fb9f3a"
             ],
             [
              0.8888888888888888,
              "#fdca26"
             ],
             [
              1,
              "#f0f921"
             ]
            ],
            "type": "histogram2d"
           }
          ],
          "histogram2dcontour": [
           {
            "colorbar": {
             "outlinewidth": 0,
             "ticks": ""
            },
            "colorscale": [
             [
              0,
              "#0d0887"
             ],
             [
              0.1111111111111111,
              "#46039f"
             ],
             [
              0.2222222222222222,
              "#7201a8"
             ],
             [
              0.3333333333333333,
              "#9c179e"
             ],
             [
              0.4444444444444444,
              "#bd3786"
             ],
             [
              0.5555555555555556,
              "#d8576b"
             ],
             [
              0.6666666666666666,
              "#ed7953"
             ],
             [
              0.7777777777777778,
              "#fb9f3a"
             ],
             [
              0.8888888888888888,
              "#fdca26"
             ],
             [
              1,
              "#f0f921"
             ]
            ],
            "type": "histogram2dcontour"
           }
          ],
          "mesh3d": [
           {
            "colorbar": {
             "outlinewidth": 0,
             "ticks": ""
            },
            "type": "mesh3d"
           }
          ],
          "parcoords": [
           {
            "line": {
             "colorbar": {
              "outlinewidth": 0,
              "ticks": ""
             }
            },
            "type": "parcoords"
           }
          ],
          "pie": [
           {
            "automargin": true,
            "type": "pie"
           }
          ],
          "scatter": [
           {
            "fillpattern": {
             "fillmode": "overlay",
             "size": 10,
             "solidity": 0.2
            },
            "type": "scatter"
           }
          ],
          "scatter3d": [
           {
            "line": {
             "colorbar": {
              "outlinewidth": 0,
              "ticks": ""
             }
            },
            "marker": {
             "colorbar": {
              "outlinewidth": 0,
              "ticks": ""
             }
            },
            "type": "scatter3d"
           }
          ],
          "scattercarpet": [
           {
            "marker": {
             "colorbar": {
              "outlinewidth": 0,
              "ticks": ""
             }
            },
            "type": "scattercarpet"
           }
          ],
          "scattergeo": [
           {
            "marker": {
             "colorbar": {
              "outlinewidth": 0,
              "ticks": ""
             }
            },
            "type": "scattergeo"
           }
          ],
          "scattergl": [
           {
            "marker": {
             "colorbar": {
              "outlinewidth": 0,
              "ticks": ""
             }
            },
            "type": "scattergl"
           }
          ],
          "scattermapbox": [
           {
            "marker": {
             "colorbar": {
              "outlinewidth": 0,
              "ticks": ""
             }
            },
            "type": "scattermapbox"
           }
          ],
          "scatterpolar": [
           {
            "marker": {
             "colorbar": {
              "outlinewidth": 0,
              "ticks": ""
             }
            },
            "type": "scatterpolar"
           }
          ],
          "scatterpolargl": [
           {
            "marker": {
             "colorbar": {
              "outlinewidth": 0,
              "ticks": ""
             }
            },
            "type": "scatterpolargl"
           }
          ],
          "scatterternary": [
           {
            "marker": {
             "colorbar": {
              "outlinewidth": 0,
              "ticks": ""
             }
            },
            "type": "scatterternary"
           }
          ],
          "surface": [
           {
            "colorbar": {
             "outlinewidth": 0,
             "ticks": ""
            },
            "colorscale": [
             [
              0,
              "#0d0887"
             ],
             [
              0.1111111111111111,
              "#46039f"
             ],
             [
              0.2222222222222222,
              "#7201a8"
             ],
             [
              0.3333333333333333,
              "#9c179e"
             ],
             [
              0.4444444444444444,
              "#bd3786"
             ],
             [
              0.5555555555555556,
              "#d8576b"
             ],
             [
              0.6666666666666666,
              "#ed7953"
             ],
             [
              0.7777777777777778,
              "#fb9f3a"
             ],
             [
              0.8888888888888888,
              "#fdca26"
             ],
             [
              1,
              "#f0f921"
             ]
            ],
            "type": "surface"
           }
          ],
          "table": [
           {
            "cells": {
             "fill": {
              "color": "#EBF0F8"
             },
             "line": {
              "color": "white"
             }
            },
            "header": {
             "fill": {
              "color": "#C8D4E3"
             },
             "line": {
              "color": "white"
             }
            },
            "type": "table"
           }
          ]
         },
         "layout": {
          "annotationdefaults": {
           "arrowcolor": "#2a3f5f",
           "arrowhead": 0,
           "arrowwidth": 1
          },
          "autotypenumbers": "strict",
          "coloraxis": {
           "colorbar": {
            "outlinewidth": 0,
            "ticks": ""
           }
          },
          "colorscale": {
           "diverging": [
            [
             0,
             "#8e0152"
            ],
            [
             0.1,
             "#c51b7d"
            ],
            [
             0.2,
             "#de77ae"
            ],
            [
             0.3,
             "#f1b6da"
            ],
            [
             0.4,
             "#fde0ef"
            ],
            [
             0.5,
             "#f7f7f7"
            ],
            [
             0.6,
             "#e6f5d0"
            ],
            [
             0.7,
             "#b8e186"
            ],
            [
             0.8,
             "#7fbc41"
            ],
            [
             0.9,
             "#4d9221"
            ],
            [
             1,
             "#276419"
            ]
           ],
           "sequential": [
            [
             0,
             "#0d0887"
            ],
            [
             0.1111111111111111,
             "#46039f"
            ],
            [
             0.2222222222222222,
             "#7201a8"
            ],
            [
             0.3333333333333333,
             "#9c179e"
            ],
            [
             0.4444444444444444,
             "#bd3786"
            ],
            [
             0.5555555555555556,
             "#d8576b"
            ],
            [
             0.6666666666666666,
             "#ed7953"
            ],
            [
             0.7777777777777778,
             "#fb9f3a"
            ],
            [
             0.8888888888888888,
             "#fdca26"
            ],
            [
             1,
             "#f0f921"
            ]
           ],
           "sequentialminus": [
            [
             0,
             "#0d0887"
            ],
            [
             0.1111111111111111,
             "#46039f"
            ],
            [
             0.2222222222222222,
             "#7201a8"
            ],
            [
             0.3333333333333333,
             "#9c179e"
            ],
            [
             0.4444444444444444,
             "#bd3786"
            ],
            [
             0.5555555555555556,
             "#d8576b"
            ],
            [
             0.6666666666666666,
             "#ed7953"
            ],
            [
             0.7777777777777778,
             "#fb9f3a"
            ],
            [
             0.8888888888888888,
             "#fdca26"
            ],
            [
             1,
             "#f0f921"
            ]
           ]
          },
          "colorway": [
           "#636efa",
           "#EF553B",
           "#00cc96",
           "#ab63fa",
           "#FFA15A",
           "#19d3f3",
           "#FF6692",
           "#B6E880",
           "#FF97FF",
           "#FECB52"
          ],
          "font": {
           "color": "#2a3f5f"
          },
          "geo": {
           "bgcolor": "white",
           "lakecolor": "white",
           "landcolor": "#E5ECF6",
           "showlakes": true,
           "showland": true,
           "subunitcolor": "white"
          },
          "hoverlabel": {
           "align": "left"
          },
          "hovermode": "closest",
          "mapbox": {
           "style": "light"
          },
          "paper_bgcolor": "white",
          "plot_bgcolor": "#E5ECF6",
          "polar": {
           "angularaxis": {
            "gridcolor": "white",
            "linecolor": "white",
            "ticks": ""
           },
           "bgcolor": "#E5ECF6",
           "radialaxis": {
            "gridcolor": "white",
            "linecolor": "white",
            "ticks": ""
           }
          },
          "scene": {
           "xaxis": {
            "backgroundcolor": "#E5ECF6",
            "gridcolor": "white",
            "gridwidth": 2,
            "linecolor": "white",
            "showbackground": true,
            "ticks": "",
            "zerolinecolor": "white"
           },
           "yaxis": {
            "backgroundcolor": "#E5ECF6",
            "gridcolor": "white",
            "gridwidth": 2,
            "linecolor": "white",
            "showbackground": true,
            "ticks": "",
            "zerolinecolor": "white"
           },
           "zaxis": {
            "backgroundcolor": "#E5ECF6",
            "gridcolor": "white",
            "gridwidth": 2,
            "linecolor": "white",
            "showbackground": true,
            "ticks": "",
            "zerolinecolor": "white"
           }
          },
          "shapedefaults": {
           "line": {
            "color": "#2a3f5f"
           }
          },
          "ternary": {
           "aaxis": {
            "gridcolor": "white",
            "linecolor": "white",
            "ticks": ""
           },
           "baxis": {
            "gridcolor": "white",
            "linecolor": "white",
            "ticks": ""
           },
           "bgcolor": "#E5ECF6",
           "caxis": {
            "gridcolor": "white",
            "linecolor": "white",
            "ticks": ""
           }
          },
          "title": {
           "x": 0.05
          },
          "xaxis": {
           "automargin": true,
           "gridcolor": "white",
           "linecolor": "white",
           "ticks": "",
           "title": {
            "standoff": 15
           },
           "zerolinecolor": "white",
           "zerolinewidth": 2
          },
          "yaxis": {
           "automargin": true,
           "gridcolor": "white",
           "linecolor": "white",
           "ticks": "",
           "title": {
            "standoff": 15
           },
           "zerolinecolor": "white",
           "zerolinewidth": 2
          }
         }
        },
        "title": {
         "text": "Price by Body Style for EVs"
        },
        "width": 800,
        "xaxis": {
         "anchor": "y",
         "domain": [
          0,
          1
         ],
         "showgrid": false,
         "title": {
          "text": "Price (Euros)"
         }
        },
        "yaxis": {
         "anchor": "x",
         "domain": [
          0,
          1
         ],
         "showgrid": false,
         "title": {
          "text": "count"
         }
        }
       }
      }
     },
     "metadata": {},
     "output_type": "display_data"
    }
   ],
   "source": [
    "# Create a histogram of price by body style\n",
    "price_hist = px.histogram(suv_hatch_sed, title='Price by Body Style for EVs', x='price_euro', color='body_style', nbins=30,\n",
    "                          labels={'price_euro':'Price (Euros)', 'count':'Frequency'},\n",
    "                          color_discrete_sequence=[px.colors.qualitative.Plotly[0],\n",
    "                                                   px.colors.qualitative.Plotly[7],\n",
    "                                                   px.colors.qualitative.Plotly[9]],\n",
    "                          width=800, height=500)\n",
    "                                                   \n",
    "\n",
    "price_hist.update_layout({\n",
    "    'plot_bgcolor':'rgba(0, 0, 0, 0)',\n",
    "    'paper_bgcolor':'rgba(0, 0, 0, 0)'\n",
    "})\n",
    "\n",
    "price_hist.update_layout(barmode='overlay')\n",
    "price_hist.update_traces(opacity=0.7)\n",
    "\n",
    "price_hist.update_xaxes(showgrid=False)\n",
    "price_hist.update_yaxes(showgrid=False)\n",
    "\n",
    "price_hist.show()"
   ]
  },
  {
   "cell_type": "code",
   "execution_count": 56,
   "metadata": {},
   "outputs": [
    {
     "data": {
      "application/vnd.plotly.v1+json": {
       "config": {
        "plotlyServerURL": "https://plot.ly"
       },
       "data": [
        {
         "legendgroup": "Sedan",
         "marker": {
          "color": "#636EFA"
         },
         "mode": "lines",
         "name": "Sedan",
         "showlegend": true,
         "type": "scatter",
         "x": [
          46380,
          46648.802,
          46917.604,
          47186.406,
          47455.208,
          47724.01,
          47992.812,
          48261.614,
          48530.416,
          48799.218,
          49068.02,
          49336.822,
          49605.623999999996,
          49874.426,
          50143.228,
          50412.03,
          50680.832,
          50949.634,
          51218.436,
          51487.238,
          51756.04,
          52024.842,
          52293.644,
          52562.445999999996,
          52831.248,
          53100.05,
          53368.852,
          53637.654,
          53906.456,
          54175.258,
          54444.06,
          54712.862,
          54981.664000000004,
          55250.466,
          55519.268,
          55788.07,
          56056.872,
          56325.674,
          56594.476,
          56863.278,
          57132.08,
          57400.882,
          57669.684,
          57938.486000000004,
          58207.288,
          58476.09,
          58744.892,
          59013.694,
          59282.496,
          59551.298,
          59820.1,
          60088.902,
          60357.704,
          60626.506,
          60895.308000000005,
          61164.11,
          61432.912,
          61701.714,
          61970.516,
          62239.318,
          62508.12,
          62776.922,
          63045.724,
          63314.526,
          63583.328,
          63852.130000000005,
          64120.932,
          64389.734,
          64658.536,
          64927.338,
          65196.14,
          65464.941999999995,
          65733.744,
          66002.546,
          66271.348,
          66540.15,
          66808.952,
          67077.754,
          67346.556,
          67615.35800000001,
          67884.16,
          68152.962,
          68421.764,
          68690.56599999999,
          68959.368,
          69228.17,
          69496.97200000001,
          69765.774,
          70034.576,
          70303.378,
          70572.18,
          70840.982,
          71109.784,
          71378.586,
          71647.388,
          71916.19,
          72184.992,
          72453.794,
          72722.596,
          72991.398,
          73260.2,
          73529.00200000001,
          73797.804,
          74066.606,
          74335.408,
          74604.20999999999,
          74873.012,
          75141.814,
          75410.61600000001,
          75679.418,
          75948.22,
          76217.022,
          76485.824,
          76754.626,
          77023.428,
          77292.23,
          77561.032,
          77829.834,
          78098.636,
          78367.438,
          78636.24,
          78905.042,
          79173.844,
          79442.64600000001,
          79711.448,
          79980.25,
          80249.052,
          80517.85399999999,
          80786.656,
          81055.458,
          81324.26000000001,
          81593.062,
          81861.864,
          82130.666,
          82399.468,
          82668.26999999999,
          82937.072,
          83205.87400000001,
          83474.676,
          83743.478,
          84012.28,
          84281.082,
          84549.88399999999,
          84818.686,
          85087.488,
          85356.29000000001,
          85625.092,
          85893.894,
          86162.696,
          86431.49799999999,
          86700.3,
          86969.102,
          87237.90400000001,
          87506.706,
          87775.508,
          88044.31,
          88313.112,
          88581.91399999999,
          88850.716,
          89119.518,
          89388.32,
          89657.122,
          89925.924,
          90194.726,
          90463.52799999999,
          90732.33,
          91001.132,
          91269.93400000001,
          91538.736,
          91807.538,
          92076.34,
          92345.14199999999,
          92613.944,
          92882.746,
          93151.54800000001,
          93420.35,
          93689.152,
          93957.954,
          94226.756,
          94495.55799999999,
          94764.36,
          95033.162,
          95301.964,
          95570.766,
          95839.568,
          96108.37,
          96377.17199999999,
          96645.974,
          96914.776,
          97183.57800000001,
          97452.38,
          97721.182,
          97989.984,
          98258.786,
          98527.588,
          98796.39,
          99065.19200000001,
          99333.994,
          99602.796,
          99871.598,
          100140.4,
          100409.20199999999,
          100678.004,
          100946.806,
          101215.60800000001,
          101484.41,
          101753.212,
          102022.014,
          102290.81599999999,
          102559.618,
          102828.42,
          103097.22200000001,
          103366.024,
          103634.826,
          103903.628,
          104172.43,
          104441.232,
          104710.034,
          104978.83600000001,
          105247.638,
          105516.44,
          105785.242,
          106054.044,
          106322.84599999999,
          106591.648,
          106860.45,
          107129.25200000001,
          107398.054,
          107666.856,
          107935.658,
          108204.45999999999,
          108473.262,
          108742.064,
          109010.86600000001,
          109279.668,
          109548.47,
          109817.272,
          110086.074,
          110354.87599999999,
          110623.678,
          110892.48000000001,
          111161.282,
          111430.084,
          111698.886,
          111967.688,
          112236.49,
          112505.292,
          112774.094,
          113042.896,
          113311.698,
          113580.5,
          113849.302,
          114118.104,
          114386.906,
          114655.708,
          114924.51,
          115193.312,
          115462.114,
          115730.916,
          115999.718,
          116268.52,
          116537.322,
          116806.124,
          117074.926,
          117343.728,
          117612.53,
          117881.332,
          118150.134,
          118418.936,
          118687.738,
          118956.54,
          119225.342,
          119494.144,
          119762.946,
          120031.748,
          120300.55,
          120569.352,
          120838.154,
          121106.956,
          121375.758,
          121644.56,
          121913.362,
          122182.164,
          122450.966,
          122719.768,
          122988.57,
          123257.372,
          123526.174,
          123794.976,
          124063.778,
          124332.58,
          124601.382,
          124870.184,
          125138.986,
          125407.788,
          125676.59,
          125945.392,
          126214.194,
          126482.996,
          126751.798,
          127020.6,
          127289.402,
          127558.204,
          127827.006,
          128095.808,
          128364.61,
          128633.412,
          128902.214,
          129171.016,
          129439.818,
          129708.62,
          129977.422,
          130246.224,
          130515.026,
          130783.828,
          131052.63,
          131321.432,
          131590.234,
          131859.036,
          132127.838,
          132396.64,
          132665.44199999998,
          132934.244,
          133203.046,
          133471.848,
          133740.65,
          134009.452,
          134278.25400000002,
          134547.05599999998,
          134815.858,
          135084.66,
          135353.462,
          135622.264,
          135891.066,
          136159.86800000002,
          136428.66999999998,
          136697.472,
          136966.274,
          137235.076,
          137503.878,
          137772.68,
          138041.48200000002,
          138310.28399999999,
          138579.086,
          138847.888,
          139116.69,
          139385.492,
          139654.294,
          139923.09600000002,
          140191.898,
          140460.7,
          140729.50199999998,
          140998.304,
          141267.106,
          141535.908,
          141804.71000000002,
          142073.512,
          142342.314,
          142611.11599999998,
          142879.918,
          143148.72,
          143417.522,
          143686.324,
          143955.126,
          144223.928,
          144492.72999999998,
          144761.532,
          145030.334,
          145299.136,
          145567.938,
          145836.74,
          146105.54200000002,
          146374.34399999998,
          146643.146,
          146911.948,
          147180.75,
          147449.552,
          147718.354,
          147987.15600000002,
          148255.95799999998,
          148524.76,
          148793.562,
          149062.364,
          149331.166,
          149599.968,
          149868.77000000002,
          150137.572,
          150406.374,
          150675.176,
          150943.978,
          151212.78,
          151481.582,
          151750.38400000002,
          152019.186,
          152287.988,
          152556.78999999998,
          152825.592,
          153094.394,
          153363.196,
          153631.99800000002,
          153900.8,
          154169.602,
          154438.40399999998,
          154707.206,
          154976.008,
          155244.81,
          155513.612,
          155782.414,
          156051.21600000001,
          156320.01799999998,
          156588.82,
          156857.622,
          157126.424,
          157395.226,
          157664.028,
          157932.83000000002,
          158201.63199999998,
          158470.434,
          158739.236,
          159008.038,
          159276.84,
          159545.642,
          159814.44400000002,
          160083.24599999998,
          160352.048,
          160620.85,
          160889.652,
          161158.454,
          161427.256,
          161696.05800000002,
          161964.86,
          162233.662,
          162502.464,
          162771.266,
          163040.068,
          163308.87,
          163577.67200000002,
          163846.474,
          164115.276,
          164384.07799999998,
          164652.88,
          164921.682,
          165190.484,
          165459.286,
          165728.088,
          165996.89,
          166265.69199999998,
          166534.494,
          166803.296,
          167072.098,
          167340.9,
          167609.702,
          167878.50400000002,
          168147.30599999998,
          168416.108,
          168684.91,
          168953.712,
          169222.514,
          169491.316,
          169760.11800000002,
          170028.91999999998,
          170297.722,
          170566.524,
          170835.326,
          171104.128,
          171372.93,
          171641.73200000002,
          171910.53399999999,
          172179.336,
          172448.138,
          172716.94,
          172985.742,
          173254.544,
          173523.34600000002,
          173792.148,
          174060.95,
          174329.75199999998,
          174598.554,
          174867.356,
          175136.158,
          175404.96000000002,
          175673.762,
          175942.564,
          176211.36599999998,
          176480.168,
          176748.97,
          177017.772,
          177286.574,
          177555.376,
          177824.178,
          178092.98,
          178361.782,
          178630.584,
          178899.386,
          179168.188,
          179436.99,
          179705.792,
          179974.594,
          180243.396,
          180512.198
         ],
         "xaxis": "x",
         "y": [
          0.000005676397498828854,
          0.000005704724694103167,
          0.000005732818383974936,
          0.000005760675684994577,
          0.00000578829379694468,
          0.000005815670003988149,
          0.000005842801675770219,
          0.000005869686268473458,
          0.0000058963213258248084,
          0.000005922704480053863,
          0.000005948833452801519,
          0.000005974706055978227,
          0.000006000320192571065,
          0.000006025673857398907,
          0.00000605076513781503,
          0.00000607559221435644,
          0.00000610015336133934,
          0.000006124446947400163,
          0.0000061484714359815785,
          0.000006172225385763012,
          0.000006195707451035185,
          0.00000621891638201824,
          0.000006241851025123095,
          0.000006264510323155629,
          0.000006286893315463438,
          0.000006308999138024866,
          0.000006330827023480107,
          0.000006352376301104184,
          0.000006373646396721656,
          0.000006394636832563016,
          0.000006415347227062629,
          0.000006435777294598313,
          0.000006455926845172503,
          0.000006475795784035159,
          0.0000064953841112484815,
          0.000006514691921193627,
          0.000006533719402019658,
          0.000006552466835034953,
          0.000006570934594041394,
          0.000006589123144611667,
          0.000006607033043310105,
          0.000006624664936857451,
          0.000006642019561240074,
          0.000006659097740764117,
          0.000006675900387055195,
          0.000006692428498004192,
          0.000006708683156659867,
          0.00000672466553006893,
          0.000006740376868064335,
          0.000006755818502002582,
          0.000006770991843450817,
          0.000006785898382824646,
          0.00000680053968797749,
          0.000006814917402742507,
          0.000006829033245427973,
          0.000006842889007267231,
          0.000006856486550824175,
          0.000006869827808355435,
          0.000006882914780130336,
          0.000006895749532709842,
          0.000006908334197185634,
          0.000006920670967380598,
          0.000006932762098011949,
          0.000006944609902818314,
          0.0000069562167526520775,
          0.000006967585073538361,
          0.000006978717344702005,
          0.000006989616096563966,
          0.000007000283908708588,
          0.000007010723407823166,
          0.0000070209372656113155,
          0.0000070309281966816685,
          0.000007040698956413385,
          0.000007050252338800052,
          0.000007059591174273563,
          0.000007068718327509504,
          0.000007077636695215703,
          0.000007086349203905536,
          0.00000709485880765762,
          0.000007103168485863558,
          0.0000071112812409653284,
          0.000007119200096184092,
          0.000007126928093241977,
          0.000007134468290078578,
          0.0000071418237585638605,
          0.000007148997582209123,
          0.000007155992853877752,
          0.0000071628126734974175,
          0.000007169460145775436,
          0.000007175938377918974,
          0.0000071822504773617894,
          0.0000071883995494991815,
          0.0000071943886954328434,
          0.000007200221009727273,
          0.000007205899578179405,
          0.000007211427475603117,
          0.000007216807763630259,
          0.000007222043488529813,
          0.0000072271376790468085,
          0.000007232093344262583,
          0.000007236913471477968,
          0.000007241601024120956,
          0.000007246158939680412,
          0.000007250590127667306,
          0.000007254897467605001,
          0.0000072590838070500545,
          0.000007263151959644978,
          0.0000072671047032043815,
          0.0000072709447778359,
          0.000007274674884097256,
          0.00000727829768119081,
          0.00000728181578519688,
          0.000007285231767347131,
          0.000007288548152339256,
          0.000007291767416694144,
          0.0000072948919871567435,
          0.000007297924239141702,
          0.0000073008664952249245,
          0.000007303721023682077,
          0.000007306490037075088,
          0.000007309175690887574,
          0.0000073117800822101976,
          0.00000731430524847679,
          0.000007316753166252134,
          0.000007319125750072222,
          0.0000073214248513377,
          0.000007323652257261324,
          0.000007325809689870001,
          0.000007327898805062132,
          0.000007329921191720793,
          0.000007331878370883324,
          0.0000073337717949678156,
          0.000007335602847056948,
          0.000007337372840239551,
          0.000007339083017010307,
          0.000007340734548727823,
          0.000007342328535131394,
          0.000007343866003916638,
          0.000007345347910370162,
          0.000007346775137063391,
          0.000007348148493605603,
          0.000007349468716456218,
          0.000007350736468796265,
          0.000007351952340459002,
          0.0000073531168479195065,
          0.000007354230434343111,
          0.000007355293469692419,
          0.0000073563062508926726,
          0.000007357269002055111,
          0.000007358181874757999,
          0.000007359044948384892,
          0.000007359858230519676,
          0.000007360621657397929,
          0.0000073613350944139846,
          0.000007361998336683194,
          0.0000073626111096586714,
          0.000007363173069801924,
          0.000007363683805306606,
          0.000007364142836874651,
          0.000007364549618543979,
          0.000007364903538566963,
          0.000007365203920338742,
          0.000007365450023374524,
          0.000007365641044334843,
          0.0000073657761180978796,
          0.000007365854318877755,
          0.000007365874661387763,
          0.000007365836102047457,
          0.000007365737540232475,
          0.000007365577819565925,
          0.000007365355729250187,
          0.000007365070005437876,
          0.000007364719332640786,
          0.000007364302345175488,
          0.00000736381762864434,
          0.000007363263721450578,
          0.0000073626391163461456,
          0.000007361942262010918,
          0.000007361171564661943,
          0.000007360325389691283,
          0.000007359402063331079,
          0.000007358399874344358,
          0.000007357317075740196,
          0.000007356151886511725,
          0.00000735490249339555,
          0.000007353567052651077,
          0.000007352143691858244,
          0.000007350630511732206,
          0.000007349025587953413,
          0.000007347326973011577,
          0.000007345532698062052,
          0.000007343640774793053,
          0.000007341649197302228,
          0.000007339555943981034,
          0.000007337358979405433,
          0.000007335056256231332,
          0.00000733264571709332,
          0.00000733012529650513,
          0.000007327492922760364,
          0.000007324746519831945,
          0.000007321884009268861,
          0.000007318903312088666,
          0.000007315802350664301,
          0.000007312579050603787,
          0.000007309231342621326,
          0.00000730575716439838,
          0.0000073021544624333695,
          0.0000072984211938785176,
          0.000007294555328362525,
          0.000007290554849797713,
          0.000007286417758170244,
          0.000007282142071312195,
          0.000007277725826654102,
          0.00000727316708295677,
          0.000007268463922021066,
          0.000007263614450374489,
          0.000007258616800933331,
          0.000007253469134639247,
          0.000007248169642069087,
          0.000007242716545016924,
          0.000007237108098047125,
          0.000007231342590017486,
          0.000007225418345571361,
          0.000007219333726597811,
          0.000007213087133658824,
          0.000007206677007382668,
          0.000007200101829822493,
          0.0000071933601257793225,
          0.000007186450464088607,
          0.000007179371458869561,
          0.000007172121770736518,
          0.0000071647001079715975,
          0.0000071571052276579795,
          0.000007149335936773174,
          0.000007141391093241656,
          0.0000071332696069462764,
          0.000007124970440697959,
          0.0000071164926111631326,
          0.000007107835189748478,
          0.000007098997303442544,
          0.000007089978135613859,
          0.000007080776926765164,
          0.0000070713929752434925,
          0.000007061825637905791,
          0.000007052074330739862,
          0.000007042138529440424,
          0.000007032017769940126,
          0.0000070217116488953815,
          0.000007011219824126963,
          0.0000070005420150152675,
          0.000006989678002850265,
          0.00000697862763113613,
          0.0000069673908058506404,
          0.0000069559674956593935,
          0.00000694435773208501,
          0.000006932561609631446,
          0.000006920579285863642,
          0.00000690841098144272,
          0.0000068960569801169805,
          0.000006883517628669014,
          0.000006870793336819249,
          0.000006857884577086288,
          0.0000068447918846044045,
          0.00000683151585689866,
          0.0000068180571536180536,
          0.000006804416496227201,
          0.000006790594667657038,
          0.00000677659251191508,
          0.0000067624109336558225,
          0.000006748050897711832,
          0.000006733513428586172,
          0.000006718799609906773,
          0.000006703910583843439,
          0.0000066888475504881435,
          0.00000667361176719934,
          0.000006658204547911014,
          0.000006642627262407202,
          0.0000066268813355628,
          0.00000661096824655137,
          0.000006594889528020842,
          0.000006578646765237839,
          0.000006562241595201549,
          0.000006545675705727948,
          0.0000065289508345052634,
          0.000006512068768121554,
          0.000006495031341065308,
          0.000006477840434699977,
          0.000006460497976213349,
          0.0000064430059375427014,
          0.0000064253663342766795,
          0.000006407581224534838,
          0.000006389652707825821,
          0.0000063715829238851165,
          0.000006353374051493386,
          0.000006335028307276328,
          0.0000063165479444870624,
          0.000006297935251772007,
          0.000006279192551921263,
          0.000006260322200604452,
          0.000006241326585093038,
          0.000006222208122970102,
          0.0000062029692608285715,
          0.000006183612472958869,
          0.000006164140260026997,
          0.0000061445551477440156,
          0.0000061248596855279325,
          0.000006105056445158922,
          0.000006085148019428902,
          0.000006065137020786402,
          0.000006045026079977688,
          0.000006024817844685099,
          0.000006004514978163547,
          0.0000059841201578760914,
          0.000005963636074129553,
          0.00000594306542871105,
          0.000005922410933526384,
          0.0000059016753092411705,
          0.000005880861283925593,
          0.00000585997159170366,
          0.000005839008971407828,
          0.000005817976165239835,
          0.00000579687591743859,
          0.000005775710972955909,
          0.0000057544840761409725,
          0.000005733197969434203,
          0.000005711855392071437,
          0.0000056904590787990875,
          0.000005669011758601051,
          0.000005647516153438167,
          0.0000056259749770007795,
          0.000005604390933475316,
          0.0000055827667163253565,
          0.000005561105007088007,
          0.000005539408474186131,
          0.000005517679771757121,
          0.0000054959215384987975,
          0.000005474136396533004,
          0.000005452326950287539,
          0.000005430495785396899,
          0.0000054086454676224126,
          0.000005386778541792295,
          0.000005364897530762083,
          0.0000053430049343959505,
          0.000005321103228569346,
          0.000005299194864193446,
          0.000005277282266261762,
          0.000005255367832919371,
          0.000005233453934555117,
          0.0000052115429129171645,
          0.0000051896370802522406,
          0.0000051677387184688545,
          0.000005145850078324916,
          0.000005123973378639836,
          0.000005102110805531624,
          0.000005080264511679003,
          0.00000505843661560892,
          0.00000503662920100961,
          0.000005014844316069372,
          0.000004993083972841322,
          0.000004971350146634149,
          0.000004949644775429152,
          0.000004927969759323544,
          0.000004906326960000219,
          0.0000048847182002240105,
          0.000004863145263364533,
          0.000004841609892945648,
          0.000004820113792221542,
          0.000004798658623779539,
          0.000004777246009169495,
          0.000004755877528559894,
          0.000004734554720420509,
          0.00000471327908123163,
          0.000004692052065219783,
          0.00000467087508411981,
          0.000004649749506963318,
          0.000004628676659893249,
          0.000004607657826004544,
          0.000004586694245210718,
          0.000004565787114136192,
          0.000004544937586034228,
          0.0000045241467707302394,
          0.000004503415734590355,
          0.0000044827455005149416,
          0.000004462137047956925,
          0.000004441591312964648,
          0.000004421109188249019,
          0.000004400691523274725,
          0.0000043803391243751385,
          0.000004360052754890812,
          0.000004339833135331079,
          0.000004319680943558593,
          0.000004299596814996428,
          0.000004279581342857446,
          0.000004259635078395586,
          0.000004239758531178717,
          0.000004219952169382776,
          0.000004200216420106706,
          0.000004180551669707992,
          0.00000416095826415825,
          0.000004141436509418614,
          0.000004121986671834477,
          0.000004102608978549175,
          0.0000040833036179362715,
          0.00000406407074004994,
          0.000004044910457093137,
          0.000004025822843903035,
          0.00000400680793845337,
          0.000003987865742373235,
          0.000003968996221481859,
          0.0000039501993063390085,
          0.000003931474892810433,
          0.000003912822842648058,
          0.000003894242984084327,
          0.00000387573511244034,
          0.000003857298990747249,
          0.000003838934350380506,
          0.000003820640891706455,
          0.000003802418284740786,
          0.0000037842661698184523,
          0.0000037661841582744645,
          0.0000037481718331351735,
          0.000003730228749819531,
          0.0000037123544368498325,
          0.0000036945483965714984,
          0.000003676810105881351,
          0.0000036591390169639907,
          0.000003641534558035699,
          0.000003623996134095444,
          0.000003606523127682488,
          0.0000035891148996400994,
          0.000003571770789884924,
          0.0000035544901181814704,
          0.000003537272184921321,
          0.0000035201162719064928,
          0.000003503021643136536,
          0.00000348598754559887,
          0.0000034690132100618847,
          0.0000034520978518703394,
          0.0000034352406717425705,
          0.0000034184408565690885,
          0.0000034016975802120285,
          0.0000033850100043050675,
          0.000003368377279053291,
          0.0000033517985440325816,
          0.000003335272928988082,
          0.0000033187995546312667,
          0.0000033023775334351975,
          0.000003286005970427489,
          0.0000032696839639806094,
          0.000003253410606599009,
          0.0000032371849857027152,
          0.000003221006184406931,
          0.000003204873282297238,
          0.000003188785356199996,
          0.000003172741480947492,
          0.0000031567407301375284,
          0.000003140782176886932,
          0.000003124864894578699,
          0.0000031089879576023366,
          0.00000309315044208704,
          0.0000030773514266273386,
          0.0000030615899930008124,
          0.00000304586522687759,
          0.0000030301762185211876,
          0.0000030145220634804216,
          0.0000029989018632720093,
          0.0000029833147260535343,
          0.0000029677597672864962,
          0.0000029522361103890297,
          0.0000029367428873781193,
          0.000002921279239500875,
          0.000002905844317854675,
          0.0000028904372839958314,
          0.0000028750573105365333,
          0.0000028597035817297825,
          0.000002844375294042052,
          0.000002829071656713458,
          0.0000028137918923051215,
          0.0000027985352372335907,
          0.0000027833009422919836,
          0.0000027680882731577217,
          0.0000027528965108865993,
          0.0000027377249523929877,
          0.0000027225729109160197,
          0.0000027074397164715112,
          0.000002692324716289515,
          0.000002677227275237277,
          0.0000026621467762274903,
          0.0000026470826206116727,
          0.0000026320342285585323,
          0.00000261700103941723,
          0.000002601982512065345,
          0.0000025869781252415256,
          0.000002571987377862661,
          0.0000025570097893255115,
          0.000002542044899792713,
          0.00000252709227046309,
          0.0000025121514838262046,
          0.000002497222143901109,
          0.0000024823038764592397
         ],
         "yaxis": "y"
        },
        {
         "legendgroup": "SUV",
         "marker": {
          "color": "#B6E880"
         },
         "mode": "lines",
         "name": "SUV",
         "showlegend": true,
         "type": "scatter",
         "x": [
          30000,
          30145.98,
          30291.96,
          30437.94,
          30583.92,
          30729.9,
          30875.88,
          31021.86,
          31167.84,
          31313.82,
          31459.8,
          31605.78,
          31751.76,
          31897.74,
          32043.72,
          32189.7,
          32335.68,
          32481.66,
          32627.64,
          32773.62,
          32919.6,
          33065.58,
          33211.56,
          33357.54,
          33503.52,
          33649.5,
          33795.48,
          33941.46,
          34087.44,
          34233.42,
          34379.4,
          34525.38,
          34671.36,
          34817.34,
          34963.32,
          35109.3,
          35255.28,
          35401.26,
          35547.24,
          35693.22,
          35839.2,
          35985.18,
          36131.16,
          36277.14,
          36423.12,
          36569.1,
          36715.08,
          36861.06,
          37007.04,
          37153.020000000004,
          37299,
          37444.979999999996,
          37590.96,
          37736.94,
          37882.92,
          38028.9,
          38174.88,
          38320.86,
          38466.84,
          38612.82,
          38758.8,
          38904.78,
          39050.76,
          39196.74,
          39342.72,
          39488.7,
          39634.68,
          39780.66,
          39926.64,
          40072.62,
          40218.6,
          40364.58,
          40510.56,
          40656.54,
          40802.520000000004,
          40948.5,
          41094.479999999996,
          41240.46,
          41386.44,
          41532.42,
          41678.4,
          41824.38,
          41970.36,
          42116.34,
          42262.32,
          42408.3,
          42554.28,
          42700.26,
          42846.24,
          42992.22,
          43138.2,
          43284.18,
          43430.16,
          43576.14,
          43722.12,
          43868.1,
          44014.08,
          44160.06,
          44306.04,
          44452.020000000004,
          44598,
          44743.979999999996,
          44889.96,
          45035.94,
          45181.92,
          45327.9,
          45473.88,
          45619.86,
          45765.84,
          45911.82,
          46057.8,
          46203.78,
          46349.76,
          46495.740000000005,
          46641.72,
          46787.7,
          46933.68,
          47079.66,
          47225.64,
          47371.619999999995,
          47517.6,
          47663.58,
          47809.56,
          47955.54,
          48101.520000000004,
          48247.5,
          48393.479999999996,
          48539.46,
          48685.44,
          48831.42,
          48977.4,
          49123.380000000005,
          49269.36,
          49415.34,
          49561.32,
          49707.3,
          49853.28,
          49999.259999999995,
          50145.240000000005,
          50291.22,
          50437.2,
          50583.18,
          50729.16,
          50875.14,
          51021.119999999995,
          51167.1,
          51313.08,
          51459.06,
          51605.04,
          51751.020000000004,
          51897,
          52042.979999999996,
          52188.96,
          52334.94,
          52480.92,
          52626.9,
          52772.880000000005,
          52918.86,
          53064.84,
          53210.82,
          53356.8,
          53502.78,
          53648.759999999995,
          53794.740000000005,
          53940.72,
          54086.7,
          54232.68,
          54378.66,
          54524.64,
          54670.619999999995,
          54816.6,
          54962.58,
          55108.56,
          55254.54,
          55400.520000000004,
          55546.5,
          55692.479999999996,
          55838.46,
          55984.44,
          56130.42,
          56276.4,
          56422.380000000005,
          56568.36,
          56714.34,
          56860.32,
          57006.3,
          57152.28,
          57298.259999999995,
          57444.240000000005,
          57590.22,
          57736.2,
          57882.18,
          58028.16,
          58174.14,
          58320.119999999995,
          58466.1,
          58612.08,
          58758.06,
          58904.04,
          59050.020000000004,
          59196,
          59341.979999999996,
          59487.96,
          59633.94,
          59779.92,
          59925.9,
          60071.880000000005,
          60217.86,
          60363.84,
          60509.82,
          60655.8,
          60801.78,
          60947.759999999995,
          61093.740000000005,
          61239.72,
          61385.7,
          61531.68,
          61677.66,
          61823.64,
          61969.619999999995,
          62115.6,
          62261.58,
          62407.56,
          62553.54,
          62699.520000000004,
          62845.5,
          62991.48,
          63137.46,
          63283.44,
          63429.42,
          63575.4,
          63721.38,
          63867.36,
          64013.34,
          64159.32,
          64305.3,
          64451.28,
          64597.26,
          64743.24,
          64889.22,
          65035.2,
          65181.18,
          65327.16,
          65473.14,
          65619.12,
          65765.1,
          65911.08,
          66057.06,
          66203.04000000001,
          66349.01999999999,
          66495,
          66640.98000000001,
          66786.95999999999,
          66932.94,
          67078.92,
          67224.9,
          67370.88,
          67516.86,
          67662.84,
          67808.82,
          67954.8,
          68100.78,
          68246.76000000001,
          68392.73999999999,
          68538.72,
          68684.7,
          68830.68,
          68976.66,
          69122.64,
          69268.62,
          69414.6,
          69560.58,
          69706.56,
          69852.54000000001,
          69998.51999999999,
          70144.5,
          70290.48000000001,
          70436.45999999999,
          70582.44,
          70728.42,
          70874.4,
          71020.38,
          71166.36,
          71312.34,
          71458.32,
          71604.3,
          71750.28,
          71896.26000000001,
          72042.23999999999,
          72188.22,
          72334.2,
          72480.18,
          72626.16,
          72772.14,
          72918.12,
          73064.1,
          73210.08,
          73356.06,
          73502.04000000001,
          73648.01999999999,
          73794,
          73939.98000000001,
          74085.95999999999,
          74231.94,
          74377.92,
          74523.9,
          74669.88,
          74815.86,
          74961.84,
          75107.82,
          75253.8,
          75399.78,
          75545.76000000001,
          75691.73999999999,
          75837.72,
          75983.7,
          76129.68,
          76275.66,
          76421.64,
          76567.62,
          76713.6,
          76859.58,
          77005.56,
          77151.54000000001,
          77297.51999999999,
          77443.5,
          77589.48000000001,
          77735.45999999999,
          77881.44,
          78027.42,
          78173.4,
          78319.38,
          78465.36,
          78611.34,
          78757.32,
          78903.3,
          79049.28,
          79195.26000000001,
          79341.23999999999,
          79487.22,
          79633.2,
          79779.18,
          79925.16,
          80071.14,
          80217.12,
          80363.1,
          80509.08,
          80655.06,
          80801.04000000001,
          80947.01999999999,
          81093,
          81238.98000000001,
          81384.95999999999,
          81530.94,
          81676.92,
          81822.9,
          81968.88,
          82114.86,
          82260.84,
          82406.82,
          82552.8,
          82698.78,
          82844.76000000001,
          82990.73999999999,
          83136.72,
          83282.7,
          83428.68,
          83574.66,
          83720.64,
          83866.62,
          84012.6,
          84158.58,
          84304.56,
          84450.54000000001,
          84596.51999999999,
          84742.5,
          84888.48000000001,
          85034.45999999999,
          85180.44,
          85326.42,
          85472.4,
          85618.38,
          85764.36,
          85910.34,
          86056.32,
          86202.3,
          86348.28,
          86494.26000000001,
          86640.23999999999,
          86786.22,
          86932.2,
          87078.18,
          87224.16,
          87370.14,
          87516.12,
          87662.1,
          87808.08,
          87954.06,
          88100.04000000001,
          88246.01999999999,
          88392,
          88537.98000000001,
          88683.95999999999,
          88829.94,
          88975.92,
          89121.9,
          89267.88,
          89413.86,
          89559.84,
          89705.82,
          89851.8,
          89997.78,
          90143.76000000001,
          90289.73999999999,
          90435.72,
          90581.7,
          90727.68,
          90873.66,
          91019.64,
          91165.62,
          91311.6,
          91457.58,
          91603.56,
          91749.54000000001,
          91895.51999999999,
          92041.5,
          92187.48000000001,
          92333.45999999999,
          92479.44,
          92625.42,
          92771.4,
          92917.38,
          93063.36,
          93209.34,
          93355.32,
          93501.3,
          93647.28,
          93793.26000000001,
          93939.23999999999,
          94085.22,
          94231.2,
          94377.18,
          94523.16,
          94669.14,
          94815.12,
          94961.1,
          95107.08,
          95253.06,
          95399.04000000001,
          95545.02,
          95691,
          95836.98,
          95982.96,
          96128.94,
          96274.92,
          96420.9,
          96566.88,
          96712.86,
          96858.84,
          97004.82,
          97150.8,
          97296.78,
          97442.76,
          97588.74,
          97734.72,
          97880.7,
          98026.68,
          98172.66,
          98318.64,
          98464.62,
          98610.6,
          98756.58,
          98902.56,
          99048.54,
          99194.52,
          99340.5,
          99486.48,
          99632.46,
          99778.44,
          99924.42,
          100070.4,
          100216.38,
          100362.36,
          100508.34,
          100654.32,
          100800.3,
          100946.28,
          101092.26,
          101238.24,
          101384.22,
          101530.2,
          101676.18,
          101822.16,
          101968.14,
          102114.12,
          102260.1,
          102406.08,
          102552.06,
          102698.04,
          102844.02
         ],
         "xaxis": "x",
         "y": [
          0.000013903051180265323,
          0.000014065937544534371,
          0.000014227845428897655,
          0.000014388708028121404,
          0.000014548458957519782,
          0.000014707032318308638,
          0.000014864362762755724,
          0.000015020385559031208,
          0.000015175036655662563,
          0.00001532825274549791,
          0.0000154799713290822,
          0.000015630130777351216,
          0.00001577867039354886,
          0.000015925530474274246,
          0.000016070652369566154,
          0.00001621397854193336,
          0.000016355452624241288,
          0.000016495019476366524,
          0.000016632625240532697,
          0.000016768217395243452,
          0.000016901744807729743,
          0.00001703315778483159,
          0.000017162408122236516,
          0.000017289449151999522,
          0.000017414235788272333,
          0.00001753672457117248,
          0.00001765687370872565,
          0.00001777464311681828,
          0.000017889994457100212,
          0.000018002891172780974,
          0.000018113298522266596,
          0.000018221183610587533,
          0.000018326515418572023,
          0.00001842926482972281,
          0.000018529404654759548,
          0.000018626909653792268,
          0.000018721756556096328,
          0.00001881392407746257,
          0.000018903392935100783,
          0.000018990145860078725,
          0.00001907416760728312,
          0.00001915544496289317,
          0.000019233966749361222,
          0.00001930972382789971,
          0.000019382709098477363,
          0.00001945291749733186,
          0.000019520345992010503,
          0.000019584993573954093,
          0.000019646861248643797,
          0.00001970595202333422,
          0.000019762270892400073,
          0.000019815824820328045,
          0.000019866622722388214,
          0.000019914675443024235,
          0.0000199599957320043,
          0.000020002598218378546,
          0.00002004249938229218,
          0.00002007971752470643,
          0.00002011427273508302,
          0.000020146186857090544,
          0.00002017548345239396,
          0.000020202187762591622,
          0.000020226326669366087,
          0.000020247928652918152,
          0.000020267023748755303,
          0.000020283643502908216,
          0.00002029782092565078,
          0.00002030959044380094,
          0.000020318987851681387,
          0.000020326050260820447,
          0.000020330816048475142,
          0.00002033332480505914,
          0.00002033361728055963,
          0.00002033173533002786,
          0.000020327721858228676,
          0.00002032162076353499,
          0.000020313476881153246,
          0.000020303335925766305,
          0.000020291244433680107,
          0.000020277249704560054,
          0.000020261399742843188,
          0.000020243743198911198,
          0.00002022432931010922,
          0.000020203207841694047,
          0.000020180429027794885,
          0.000020156043512468458,
          0.000020130102290929154,
          0.000020102656651033365,
          0.00002007375811509626,
          0.00002004345838211667,
          0.000020011809270485303,
          0.000019978862661248233,
          0.000019944670441997232,
          0.000019909284451455234,
          0.00001987275642482363,
          0.000019835137939956067,
          0.00001979648036442073,
          0.00001975683480351094,
          0.000019716252049261568,
          0.00001967478253052601,
          0.000019632476264166157,
          0.000019589382807405202,
          0.000019545551211390198,
          0.00001950102997600911,
          0.0000194558670060039,
          0.00001941010956841882,
          0.000019363804251420226,
          0.000019316996924521446,
          0.000019269732700243503,
          0.00001922205589723993,
          0.00001917401000491073,
          0.00001912563764952844,
          0.000019076980561895822,
          0.000019028079546552872,
          0.000018978974452547218,
          0.000018929704145780205,
          0.000018880306482937955,
          0.00001883081828701417,
          0.000018781275324429114,
          0.00001873171228374663,
          0.000018682162755988782,
          0.000018632659216545267,
          0.00001858323300867261,
          0.000018533914328575912,
          0.000018484732212063745,
          0.000018435714522764827,
          0.000018386887941893047,
          0.00001833827795954565,
          0.00001828990886751737,
          0.000018241803753611675,
          0.000018193984497428625,
          0.00001814647176760729,
          0.000018099285020499045,
          0.00001805244250024672,
          0.000018005961240243403,
          0.000017959857065943073,
          0.000017914144598994513,
          0.00001786883726266849,
          0.000017823947288547573,
          0.00001777948572444649,
          0.000017735462443530818,
          0.0000176918861546004,
          0.000017648764413503556,
          0.000017606103635647356,
          0.00001756390910956903,
          0.000017522185011532688,
          0.000017480934421115484,
          0.000017440159337746897,
          0.000017399860698164674,
          0.000017360038394750612,
          0.000017320691294709536,
          0.000017281817260054393,
          0.000017243413168360867,
          0.00001720547493425446,
          0.000017167997531593582,
          0.000017130975016311958,
          0.000017094400549884198,
          0.000017058266423378407,
          0.000017022564082060044,
          0.000016987284150511794,
          0.000016952416458234183,
          0.000016917950065692507,
          0.000016883873290775723,
          0.000016850173735633735,
          0.000016816838313859682,
          0.000016783853277984502,
          0.000016751204247251744,
          0.000016718876235640745,
          0.000016686853680107252,
          0.000016655120469010773,
          0.000016623659970699025,
          0.000016592455062219755,
          0.00001656148815813152,
          0.00001653074123938504,
          0.000016500195882247693,
          0.000016469833287244153,
          0.000016439634308086843,
          0.000016409579480570464,
          0.000016379649051405368,
          0.00001634982300696522,
          0.00001632008110192502,
          0.000016290402887765943,
          0.00001626076774112413,
          0.000016231154891961176,
          0.000016201543451534455,
          0.00001617191244014599,
          0.000016142240814649237,
          0.000016112507495693294,
          0.000016082691394685098,
          0.000016052771440449998,
          0.00001602272660557208,
          0.000015992535932395822,
          0.000015962178558671078,
          0.000015931633742824038,
          0.00001590088088883688,
          0.000015869899570719605,
          0.000015838669556557665,
          0.000015807170832119514,
          0.000015775383624008635,
          0.00001574328842234476,
          0.000015710866002959593,
          0.00001567809744909268,
          0.00001564496417257319,
          0.00001561144793447407,
          0.000015577530865225124,
          0.00001554319548417203,
          0.000015508424718568676,
          0.000015473201921990476,
          0.000015437510892156733,
          0.000015401335888150464,
          0.000015364661647024547,
          0.00001532747339978318,
          0.00001528975688672839,
          0.00001525149837216139,
          0.000015212684658429188,
          0.00001517330309930713,
          0.000015133341612708601,
          0.000015092788692713544,
          0.000015051633420907668,
          0.00001500986547702514,
          0.000014967475148887555,
          0.000014924453341632857,
          0.000014880791586228137,
          0.000014836482047260986,
          0.000014791517530004448,
          0.000014745891486751323,
          0.000014699598022414137,
          0.000014652631899387609,
          0.000014604988541671268,
          0.000014556664038250375,
          0.000014507655145733886,
          0.000014457959290249245,
          0.000014407574568594105,
          0.000014356499748645902,
          0.000014304734269031222,
          0.000014252278238057162,
          0.000014199132431908238,
          0.000014145298292112503,
          0.000014090777922282109,
          0.000014035574084133615,
          0.000013979690192794742,
          0.000013923130311404652,
          0.000013865899145016128,
          0.000013808002033808406,
          0.000013749444945620572,
          0.000013690234467816228,
          0.000013630377798490913,
          0.000013569882737034541,
          0.000013508757674062293,
          0.00001344701158072784,
          0.000013384653997433783,
          0.000013321695021955207,
          0.000013258145296992595,
          0.000013194015997171652,
          0.000013129318815508011,
          0.000013064065949355762,
          0.00001299827008585933,
          0.000012931944386929095,
          0.00001286510247376174,
          0.000012797758410927053,
          0.000012729926690043447,
          0.000012661622213065178,
          0.000012592860275204787,
          0.000012523656547514819,
          0.00001245402705915317,
          0.000012383988179357523,
          0.000012313556599153781,
          0.000012242749312824697,
          0.00001217158359916467,
          0.000012100077002547238,
          0.000012028247313831853,
          0.000011956112551136925,
          0.000011883690940506132,
          0.000011811000896495068,
          0.00001173806100270554,
          0.00001166488999229445,
          0.000011591506728484705,
          0.000011517930185104858,
          0.000011444179427184467,
          0.000011370273591631866,
          0.000011296231868020521,
          0.000011222073479510249,
          0.000011147817663928817,
          0.000011073483655039227,
          0.000010999090664017475,
          0.000010924657861165151,
          0.000010850204357880293,
          0.000010775749188909974,
          0.000010701311294906684,
          0.000010626909505310327,
          0.000010552562521577035,
          0.000010478288900774421,
          0.000010404107039563145,
          0.000010330035158582992,
          0.000010256091287260924,
          0.000010182293249057971,
          0.000010108658647170462,
          0.00001003520485070012,
          0.000009961948981306912,
          0.000009888907900357102,
          0.0000098160981965778,
          0.000009743536174228925,
          0.00000967123784180131,
          0.000009599218901249572,
          0.000009527494737766798,
          0.000009456080410106693,
          0.000009384990641458336,
          0.000009314239810877229,
          0.000009243841945274793,
          0.000009173810711968349,
          0.000009104159411791494,
          0.000009034900972764077,
          0.000008966047944320204,
          0.000008897612492091111,
          0.000008829606393238795,
          0.000008762041032335743,
          0.00000869492739778441,
          0.000008628276078769483,
          0.000008562097262735211,
          0.000008496400733378616,
          0.000008431195869149084,
          0.000008366491642243644,
          0.000008302296618086578,
          0.000008238618955281204,
          0.000008175466406021015,
          0.000008112846316946553,
          0.000008050765630434002,
          0.000007989230886300561,
          0.000007928248223911472,
          0.000007867823384672961,
          0.000007807961714894761,
          0.000007748668169005763,
          0.000007689947313105923,
          0.00000763180332883714,
          0.000007574240017555748,
          0.000007517260804789129,
          0.000007460868744958647,
          0.000007405066526351121,
          0.000007349856476321208,
          0.000007295240566706725,
          0.000007241220419439453,
          0.0000071877973123336535,
          0.000007134972185035193,
          0.000007082745645113876,
          0.00000703111797428228,
          0.000006980089134724513,
          0.0000069296587755186094,
          0.0000068798262391368235,
          0.000006830590568008479,
          0.000006781950511130323,
          0.000006733904530710159,
          0.000006686450808829784,
          0.000006639587254113946,
          0.0000065933115083926225,
          0.000006547620953344584,
          0.0000065025127171106795,
          0.000006457983680866218,
          0.000006414030485342186,
          0.000006370649537285985,
          0.000006327837015853012,
          0.000006285588878921016,
          0.000006243900869320006,
          0.000006202768520971238,
          0.000006162187164929423,
          0.000006122151935323064,
          0.0000060826577751887546,
          0.000006043699442195558,
          0.000006005271514256837,
          0.000005967368395027218,
          0.000005929984319283137,
          0.000005893113358186318,
          0.000005856749424429884,
          0.000005820886277267642,
          0.000005785517527427671,
          0.00000575063664191191,
          0.000005716236948683954,
          0.000005682311641248103,
          0.000005648853783122726,
          0.000005615856312212001,
          0.000005583312045080347,
          0.000005551213681134052,
          0.000005519553806715512,
          0.000005488324899115438,
          0.000005457519330508788,
          0.0000054271293718206885,
          0.000005397147196528671,
          0.000005367564884407677,
          0.00000533837442522485,
          0.000005309567722390875,
          0.0000052811365965748765,
          0.000005253072789290188,
          0.000005225367966457887,
          0.000005198013721955445,
          0.000005171001581157508,
          0.000005144323004475933,
          0.000005117969390905942,
          0.000005091932081585314,
          0.000005066202363373214,
          0.0000050407714724550896,
          0.000005015630597979954,
          0.0000049907708857358835,
          0.000004966183441869601,
          0.000004941859336655371,
          0.000004917789608318289,
          0.000004893965266916734,
          0.000004870377298288199,
          0.000004847016668062441,
          0.000004823874325745486,
          0.000004800941208877504,
          0.000004778208247267204,
          0.000004755666367304916,
          0.000004733306496356023,
          0.000004711119567235992,
          0.000004689096522767721,
          0.000004667228320421425,
          0.000004645505937036859,
          0.000004623920373627058,
          0.000004602462660262423,
          0.000004581123861033377,
          0.000004559895079089385,
          0.000004538767461751623,
          0.000004517732205696145,
          0.0000044967805622038794,
          0.000004475903842473344,
          0.000004455093422991608,
          0.000004434340750958409,
          0.000004413637349758189,
          0.0000043929748244741244,
          0.000004372344867438096,
          0.00000435173926381002,
          0.0000043311498971796734,
          0.000004310568755183876,
          0.000004289987935131489,
          0.000004269399649628501,
          0.000004248796232195204,
          0.0000042281701428671855,
          0.00000420751397377172,
          0.000004186820454670954,
          0.0000041660824584630826,
          0.0000041452930066326305,
          0.000004124445274640884,
          0.000004103532597247329,
          0.000004082548473753072,
          0.000004061486573157031,
          0.000004040340739215807,
          0.0000040191049953981705,
          0.000003997773549725052,
          0.000003976340799486159,
          0.000003954801335824347,
          0.00000393314994817903,
          0.000003911381628580097,
          0.000003889491575783982,
          0.000003867475199243666,
          0.000003845328122904769,
          0.000003823046188819948,
          0.000003800625460574249,
          0.000003778062226514254,
          0.000003755353002774217,
          0.000003732494536092641,
          0.0000037094838064131896,
          0.000003686318029264129,
          0.0000036629946579107797,
          0.0000036395113852760452,
          0.0000036158661456242856,
          0.0000035920571160042963,
          0.000003568082717447562,
          0.0000035439416159184136,
          0.0000035196327230130235,
          0.0000034951551964048217,
          0.0000034705084400341005,
          0.0000034456921040402807,
          0.0000034207060844355983,
          0.000003395550522519403,
          0.0000033702258040329055,
          0.000003344732558054421,
          0.0000033190716556357748,
          0.0000032932442081809008,
          0.0000032672515655681694,
          0.000003241095314018338,
          0.0000032147772737105274,
          0.000003188299496149035,
          0.0000031616642612841453,
          0.000003134874074390656,
          0.000003107931662708057,
          0.0000030808399718468297,
          0.000003053602161965686,
          0.000003026221603724862,
          0.000002998701874021014,
          0.0000029710467515096088,
          0.0000029432602119209624,
          0.0000029153464231764495,
          0.000002887309740311729,
          0.000002859154700214018,
          0.0000028308860161808606,
          0.0000028025085723079405,
          0.000002774027417713832,
          0.000002745447760609799,
          0.000002716774962222867,
          0.000002688014530580682,
          0.0000026591721141668097
         ],
         "yaxis": "y"
        },
        {
         "legendgroup": "Hatchback",
         "marker": {
          "color": "#FECB52"
         },
         "mode": "lines",
         "name": "Hatchback",
         "showlegend": true,
         "type": "scatter",
         "x": [
          20129,
          20218.742,
          20308.484,
          20398.226,
          20487.968,
          20577.71,
          20667.452,
          20757.194,
          20846.936,
          20936.678,
          21026.42,
          21116.162,
          21205.904,
          21295.646,
          21385.388,
          21475.13,
          21564.872,
          21654.614,
          21744.356,
          21834.097999999998,
          21923.84,
          22013.582,
          22103.324,
          22193.066,
          22282.808,
          22372.55,
          22462.292,
          22552.034,
          22641.775999999998,
          22731.518,
          22821.260000000002,
          22911.002,
          23000.744,
          23090.486,
          23180.228,
          23269.97,
          23359.712,
          23449.454,
          23539.196,
          23628.938000000002,
          23718.68,
          23808.422,
          23898.164,
          23987.906,
          24077.648,
          24167.39,
          24257.131999999998,
          24346.874,
          24436.616,
          24526.358,
          24616.1,
          24705.842,
          24795.584,
          24885.326,
          24975.068,
          25064.81,
          25154.552,
          25244.294,
          25334.036,
          25423.778,
          25513.52,
          25603.262,
          25693.004,
          25782.746,
          25872.488,
          25962.23,
          26051.972,
          26141.714,
          26231.456,
          26321.198,
          26410.94,
          26500.682,
          26590.424,
          26680.166,
          26769.908,
          26859.65,
          26949.392,
          27039.134,
          27128.876,
          27218.618000000002,
          27308.36,
          27398.102,
          27487.844,
          27577.586,
          27667.328,
          27757.07,
          27846.811999999998,
          27936.554,
          28026.296000000002,
          28116.038,
          28205.78,
          28295.522,
          28385.264,
          28475.006,
          28564.748,
          28654.489999999998,
          28744.232,
          28833.974000000002,
          28923.716,
          29013.458,
          29103.2,
          29192.942,
          29282.684,
          29372.426,
          29462.167999999998,
          29551.91,
          29641.652000000002,
          29731.394,
          29821.136,
          29910.878,
          30000.620000000003,
          30090.362,
          30180.104,
          30269.845999999998,
          30359.588,
          30449.33,
          30539.072,
          30628.814,
          30718.556,
          30808.298000000003,
          30898.04,
          30987.782,
          31077.523999999998,
          31167.266,
          31257.008,
          31346.75,
          31436.492,
          31526.234,
          31615.976000000002,
          31705.718,
          31795.46,
          31885.201999999997,
          31974.944,
          32064.686,
          32154.428,
          32244.17,
          32333.912,
          32423.654000000002,
          32513.396,
          32603.138,
          32692.879999999997,
          32782.622,
          32872.364,
          32962.106,
          33051.848,
          33141.59,
          33231.332,
          33321.074,
          33410.816,
          33500.558000000005,
          33590.3,
          33680.042,
          33769.784,
          33859.526,
          33949.268,
          34039.01,
          34128.752,
          34218.494,
          34308.236000000004,
          34397.978,
          34487.72,
          34577.462,
          34667.204,
          34756.945999999996,
          34846.688,
          34936.43,
          35026.172,
          35115.914000000004,
          35205.656,
          35295.398,
          35385.14,
          35474.882,
          35564.623999999996,
          35654.366,
          35744.108,
          35833.85,
          35923.592000000004,
          36013.334,
          36103.076,
          36192.818,
          36282.56,
          36372.301999999996,
          36462.044,
          36551.786,
          36641.528,
          36731.270000000004,
          36821.012,
          36910.754,
          37000.496,
          37090.238,
          37179.979999999996,
          37269.722,
          37359.464,
          37449.206,
          37538.948000000004,
          37628.69,
          37718.432,
          37808.174,
          37897.916,
          37987.657999999996,
          38077.4,
          38167.142,
          38256.884,
          38346.626000000004,
          38436.368,
          38526.11,
          38615.852,
          38705.594,
          38795.335999999996,
          38885.078,
          38974.82,
          39064.562000000005,
          39154.304000000004,
          39244.046,
          39333.788,
          39423.53,
          39513.272,
          39603.013999999996,
          39692.756,
          39782.498,
          39872.240000000005,
          39961.982,
          40051.724,
          40141.466,
          40231.208,
          40320.95,
          40410.691999999995,
          40500.434,
          40590.176,
          40679.918000000005,
          40769.66,
          40859.402,
          40949.144,
          41038.886,
          41128.628,
          41218.369999999995,
          41308.112,
          41397.854,
          41487.596000000005,
          41577.338,
          41667.08,
          41756.822,
          41846.564,
          41936.306,
          42026.047999999995,
          42115.79,
          42205.532,
          42295.274000000005,
          42385.016,
          42474.758,
          42564.5,
          42654.242,
          42743.984,
          42833.725999999995,
          42923.468,
          43013.21,
          43102.952000000005,
          43192.694,
          43282.436,
          43372.178,
          43461.92,
          43551.662,
          43641.403999999995,
          43731.146,
          43820.888,
          43910.630000000005,
          44000.372,
          44090.114,
          44179.856,
          44269.598,
          44359.34,
          44449.081999999995,
          44538.824,
          44628.566,
          44718.308000000005,
          44808.05,
          44897.792,
          44987.534,
          45077.276,
          45167.018,
          45256.759999999995,
          45346.502,
          45436.244,
          45525.986000000004,
          45615.728,
          45705.47,
          45795.212,
          45884.954,
          45974.695999999996,
          46064.437999999995,
          46154.18,
          46243.922,
          46333.664000000004,
          46423.406,
          46513.148,
          46602.89,
          46692.632,
          46782.373999999996,
          46872.116,
          46961.858,
          47051.6,
          47141.342000000004,
          47231.084,
          47320.826,
          47410.568,
          47500.31,
          47590.051999999996,
          47679.794,
          47769.536,
          47859.278,
          47949.020000000004,
          48038.762,
          48128.504,
          48218.246,
          48307.988,
          48397.729999999996,
          48487.472,
          48577.214,
          48666.956,
          48756.698000000004,
          48846.44,
          48936.182,
          49025.924,
          49115.666,
          49205.407999999996,
          49295.15,
          49384.892,
          49474.634,
          49564.376000000004,
          49654.118,
          49743.86,
          49833.602,
          49923.344,
          50013.085999999996,
          50102.828,
          50192.57,
          50282.312000000005,
          50372.054000000004,
          50461.796,
          50551.538,
          50641.28,
          50731.022,
          50820.763999999996,
          50910.506,
          51000.248,
          51089.990000000005,
          51179.732,
          51269.474,
          51359.216,
          51448.958,
          51538.7,
          51628.441999999995,
          51718.184,
          51807.926,
          51897.668000000005,
          51987.41,
          52077.152,
          52166.894,
          52256.636,
          52346.378,
          52436.119999999995,
          52525.862,
          52615.604,
          52705.346000000005,
          52795.088,
          52884.83,
          52974.572,
          53064.314,
          53154.056,
          53243.798,
          53333.54,
          53423.282,
          53513.024,
          53602.766,
          53692.508,
          53782.25,
          53871.992,
          53961.734,
          54051.476,
          54141.218,
          54230.96,
          54320.702,
          54410.444,
          54500.186,
          54589.928,
          54679.67,
          54769.412,
          54859.154,
          54948.896,
          55038.638,
          55128.38,
          55218.122,
          55307.864,
          55397.606,
          55487.348,
          55577.09,
          55666.832,
          55756.574,
          55846.316,
          55936.058,
          56025.8,
          56115.542,
          56205.284,
          56295.026,
          56384.768,
          56474.51,
          56564.252,
          56653.994,
          56743.736,
          56833.478,
          56923.22,
          57012.962,
          57102.704,
          57192.446,
          57282.188,
          57371.93,
          57461.672,
          57551.414,
          57641.156,
          57730.898,
          57820.64,
          57910.382,
          58000.124,
          58089.866,
          58179.608,
          58269.35,
          58359.092,
          58448.834,
          58538.576,
          58628.318,
          58718.06,
          58807.802,
          58897.544,
          58987.286,
          59077.028,
          59166.77,
          59256.512,
          59346.254,
          59435.996,
          59525.738,
          59615.48,
          59705.222,
          59794.964,
          59884.706,
          59974.448,
          60064.19,
          60153.932,
          60243.674,
          60333.416,
          60423.158,
          60512.9,
          60602.642,
          60692.384,
          60782.126,
          60871.868,
          60961.61,
          61051.352,
          61141.094,
          61230.836,
          61320.578,
          61410.32,
          61500.062,
          61589.804,
          61679.546,
          61769.288,
          61859.03,
          61948.772,
          62038.514,
          62128.256,
          62217.998,
          62307.74,
          62397.482,
          62487.224,
          62576.966,
          62666.708,
          62756.45,
          62846.192,
          62935.934,
          63025.676,
          63115.418,
          63205.16,
          63294.902,
          63384.644,
          63474.386,
          63564.128,
          63653.87,
          63743.612,
          63833.354,
          63923.096,
          64012.838,
          64102.58,
          64192.322,
          64282.064,
          64371.806,
          64461.548,
          64551.29,
          64641.032,
          64730.774,
          64820.516,
          64910.258
         ],
         "xaxis": "x",
         "y": [
          0.000017482467469429804,
          0.00001770823840789952,
          0.00001793429481037572,
          0.00001816060418586606,
          0.000018387134658550415,
          0.000018613854979193484,
          0.000018840734534310186,
          0.000019067743353051015,
          0.000019294852111781348,
          0.000019522032136333746,
          0.00001974925540191943,
          0.000019976494530690778,
          0.00002020372278695303,
          0.000020430914070030468,
          0.00002065804290479793,
          0.00002088508442989584,
          0.00002111201438365271,
          0.00002133880908774645,
          0.00002156544542864149,
          0.000021791900836845625,
          0.000022018153264036992,
          0.000022244181158117444,
          0.00002246996343625529,
          0.000022695479455985976,
          0.000022920708984445927,
          0.000023145632165819474,
          0.000023370229487085817,
          0.000023594481742156882,
          0.00002381836999450372,
          0.000024041875538372348,
          0.00002426497985869652,
          0.00002448766458981772,
          0.000024709911473128144,
          0.00002493170231375557,
          0.00002515301893641293,
          0.0000253738431405389,
          0.000025594156654858237,
          0.000025813941091493893,
          0.00002603317789976461,
          0.000026251848319804255,
          0.00002646993333614007,
          0.000026687413631368788,
          0.00002690426954006996,
          0.00002712048100309658,
          0.000027336027522383017,
          0.00002755088811640982,
          0.000027765041276464478,
          0.000027978464923836038,
          0.0000281911363680797,
          0.000028403032266486167,
          0.000028614128584887866,
          0.00002882440055993143,
          0.00002903382266294332,
          0.000029242368565511656,
          0.000029450011106903575,
          0.000029656722263433874,
          0.000029862473119895606,
          0.000030067233843159018,
          0.00003027097365804012,
          0.000030473660825534665,
          0.00003067526262350784,
          0.00003087574532992403,
          0.00003107507420869484,
          0.00003127321349821734,
          0.000031470126402667496,
          0.00003166577508610773,
          0.00003186012066945937,
          0.00003205312323038498,
          0.000032244741806117345,
          0.000032434934399264616,
          0.00003262365798661411,
          0.000032810868530948976,
          0.000032996520995884984,
          0.00003318056936372665,
          0.00003336296665633396,
          0.0000335436649589842,
          0.0000337226154472047,
          0.000033899768416545395,
          0.00003407507331525228,
          0.000034248478779795617,
          0.00003441993267319928,
          0.00003458938212611048,
          0.00003475677358054217,
          0.0000349220528362134,
          0.00003508516509940675,
          0.00003524605503425459,
          0.00003540466681636093,
          0.000035560944188658416,
          0.0000357148305193954,
          0.00003586626886214183,
          0.000036015202017698075,
          0.00003616157259778567,
          0.00003630532309039452,
          0.000036446395926657226,
          0.0000365847335491169,
          0.00003672027848125165,
          0.00003685297339811577,
          0.00003698276119795489,
          0.000037109585074649705,
          0.00003723338859084159,
          0.00003735411575159078,
          0.000037471711078417395,
          0.0000375861196835744,
          0.000037697287344400906,
          0.000037805160577604614,
          0.000037909686713321995,
          0.00003801081396880568,
          0.00003810849152158981,
          0.00003820266958198501,
          0.000038293299464756596,
          0.000038380333659842155,
          0.00003846372590196662,
          0.00003854343123901567,
          0.000038619406099032146,
          0.00003869160835570274,
          0.00003875999739220663,
          0.000038824534163301475,
          0.00003888518125552642,
          0.00003894190294540686,
          0.00003899466525554966,
          0.00003904343600852371,
          0.00003908818487842472,
          0.00003912888344003014,
          0.000039165505215454245,
          0.00003919802571822013,
          0.00003922642249467155,
          0.0000392506751626528,
          0.00003927076544739201,
          0.000039286677214528565,
          0.00003929839650023306,
          0.000039305911538373175,
          0.000039309212784686646,
          0.000039308292937928306,
          0.000039303146957964935,
          0.00003929377208079818,
          0.000039280167830502395,
          0.000039262336028070574,
          0.00003924028079716788,
          0.00003921400856679885,
          0.00003918352807090052,
          0.00003914885034487941,
          0.00003910998871911693,
          0.000039066958809473415,
          0.00003901977850482625,
          0.000038968467951683754,
          0.00003891304953592157,
          0.000038853547861693284,
          0.000038789989727572424,
          0.00003872240409998737,
          0.00003865082208401547,
          0.00003857527689160713,
          0.000038495803807314095,
          0.000038412440151601186,
          0.00003832522524182313,
          0.0000382342003509523,
          0.000038139408664146125,
          0.0000380408952332456,
          0.00003793870692929914,
          0.00003783289239320826,
          0.0000377235019845942,
          0.000037610587728984926,
          0.00003749420326342567,
          0.00003737440378061563,
          0.00003725124597167548,
          0.0000371247879676509,
          0.00003699508927985782,
          0.00003686221073917538,
          0.00003672621443439296,
          0.00003658716364971685,
          0.00003644512280154242,
          0.000036300157374596524,
          0.00003615233385755422,
          0.000036001719678232965,
          0.00003584838313846572,
          0.00003569239334875363,
          0.000035533820162796686,
          0.00003537273411199931,
          0.00003520920634004593,
          0.000035043308537638834,
          0.00003487511287748937,
          0.00003470469194965022,
          0.000034532118697273995,
          0.00003435746635288184,
          0.000034180808375221215,
          0.0000340022183867907,
          0.00003382177011210572,
          0.000033639537316776936,
          0.0000334555937474688,
          0.00003327001307280374,
          0.00003308286882527393,
          0.000032894234344218625,
          0.00003270418271992302,
          0.00003251278673889033,
          0.000032320118830336076,
          0.000032126251013949674,
          0.00003193125484896626,
          0.000031735201384586883,
          0.0000315381611117834,
          0.000031340203916520254,
          0.00003114139903442279,
          0.00003094181500691789,
          0.00003074151963887087,
          0.00003054057995773788,
          0.00003033906217425191,
          0.00003013703164465628,
          0.000029934552834497376,
          0.000029731689283985538,
          0.000029528503574930245,
          0.000029325057299253454,
          0.000029121411029082255,
          0.00002891762428841975,
          0.000028713755526390854,
          0.00002850986209205756,
          0.000028306000210795763,
          0.00002810222496222464,
          0.00002789859025967663,
          0.000027695148831195308,
          0.000027491952202045824,
          0.000027289050678722157,
          0.00002708649333443279,
          0.000026884327996045738,
          0.00002668260123247286,
          0.000026481358344471222,
          0.00002628064335583933,
          0.000026080499005984453,
          0.00002588096674383632,
          0.000025682086723082172,
          0.000025483897798696884,
          0.000025286437524741804,
          0.000025089742153404687,
          0.00002489384663525368,
          0.00002469878462067662,
          0.0000245045884624779,
          0.00002431128921960387,
          0.000024118916661968114,
          0.000023927499276347658,
          0.000023737064273320898,
          0.000023547637595218488,
          0.000023359243925057678,
          0.00002317190669643157,
          0.00002298564810432398,
          0.000022800489116821364,
          0.00002261644948769306,
          0.000022433547769811457,
          0.00002225180132938378,
          0.000022071226360967635,
          0.00002189183790324233,
          0.00002171364985550865,
          0.000021536674994889845,
          0.000021360924994206575,
          0.00002118641044049969,
          0.000021013140854173706,
          0.00002084112470873562,
          0.00002067036945110231,
          0.00002050088152245186,
          0.000020332666379592675,
          0.000020165728516825548,
          0.00002000007148827413,
          0.000019835697930658368,
          0.00001967260958648726,
          0.00001951080732764602,
          0.00001935029117935381,
          0.00001919106034446811,
          0.00001903311322811155,
          0.00001887644746259793,
          0.00001872105993263316,
          0.000018566946800768214,
          0.00001841410353308002,
          0.00001826252492505694,
          0.000018112205127665564,
          0.00001796313767357493,
          0.000017815315503515046,
          0.00001766873099274584,
          0.00001752337597761331,
          0.000017379241782168838,
          0.000017236319244828343,
          0.000017094598745047272,
          0.00001695407022998758,
          0.000016814723241152963,
          0.000016676546940968255,
          0.000016539530139278636,
          0.000016403661319745027,
          0.000016268928666110968,
          0.00001613532008831693,
          0.000016002823248437675,
          0.000015871425586418253,
          0.00001574111434558439,
          0.00001561187659790262,
          0.000015483699268966083,
          0.000015356569162681402,
          0.000015230472985632658,
          0.000015105397371098027,
          0.00001498132890269521,
          0.000014858254137631982,
          0.000014736159629537669,
          0.00001461503195085278,
          0.000014494857714753272,
          0.000014375623596586556,
          0.000014257316354797179,
          0.000014139922851319705,
          0.00001402343007141745,
          0.000013907825142945844,
          0.000013793095355020019,
          0.000013679228176066416,
          0.000013566211271239266,
          0.000013454032519183376,
          0.000013342680028125055,
          0.000013232142151274416,
          0.000013122407501522601,
          0.000013013464965418519,
          0.000012905303716410895,
          0.000012797913227341933,
          0.000012691283282180277,
          0.000012585403986982006,
          0.000012480265780069174,
          0.000012375859441417128,
          0.000012272176101242396,
          0.000012169207247784794,
          0.00001206694473427795,
          0.000011965380785104521,
          0.000011864508001133162,
          0.000011764319364235474,
          0.000011664808240983454,
          0.0000115659683855281,
          0.00001146779394166231,
          0.00001137027944407181,
          0.000011273419818779897,
          0.000011177210382792625,
          0.000011081646842952913,
          0.000010986725294013299,
          0.000010892442215938333,
          0.000010798794470449134,
          0.000010705779296824152,
          0.000010613394306970974,
          0.00001052163747978609,
          0.000010430507154820084,
          0.000010340002025267457,
          0.00001025012113030143,
          0.000010160863846774804,
          0.000010072229880309918,
          0.000009984219255800859,
          0.000009896832307352906,
          0.000009810069667684586,
          0.000009723932257018935,
          0.00000963842127149141,
          0.000009553538171102226,
          0.000009469284667242378,
          0.000009385662709822455,
          0.000009302674474034364,
          0.00000922032234677656,
          0.000009138608912773437,
          0.000009057536940420411,
          0.000008977109367385864,
          0.000008897329286001904,
          0.000008818199928475398,
          0.00000873972465195126,
          0.000008661906923459516,
          0.000008584750304777744,
          0.000008508258437240247,
          0.000008432435026524786,
          0.000008357283827447666,
          0.000008282808628797216,
          0.000008209013238235283,
          0.000008135901467295789,
          0.000008063477116508642,
          0.000007991743960676608,
          0.000007920705734332007,
          0.000007850366117398965,
          0.00000778072872108646,
          0.000007711797074035977,
          0.000007643574608746965,
          0.00000757606464830184,
          0.000007509270393411473,
          0.000007443194909800829,
          0.000007377841115953175,
          0.0000073132117712301695,
          0.000007249309464383887,
          0.000007186136602475523,
          0.000007123695400214366,
          0.000007061987869729158,
          0.000007001015810782921,
          0.0000069407808014407864,
          0.000006881284189199368,
          0.000006822527082584655,
          0.000006764510343224317,
          0.000006707234578399117,
          0.00000665070013407667,
          0.000006594907088429925,
          0.000006539855245841254,
          0.000006485544131392126,
          0.000006431972985837221,
          0.000006379140761060615,
          0.000006327046116010985,
          0.000006275687413111391,
          0.000006225062715138743,
          0.000006175169782566861,
          0.000006126006071366339,
          0.000006077568731253785,
          0.000006029854604382057,
          0.000005982860224462866,
          0.000005936581816312119,
          0.000005891015295808235,
          0.000005846156270252964,
          0.000005802000039123974,
          0.0000057585415952081865,
          0.0000057157756261043865,
          0.0000056736965160837055,
          0.000005632298348296153,
          0.000005591574907311495,
          0.000005551519681982665,
          0.000005512125868619885,
          0.0000054733863744638055,
          0.000005435293821446131,
          0.000005397840550226226,
          0.000005361018624492655,
          0.000005324819835518557,
          0.000005289235706960427,
          0.000005254257499889826,
          0.000005219876218048269,
          0.000005186082613315628,
          0.000005152867191383021,
          0.000005120220217621511,
          0.00000508813172313839,
          0.0000050565915110133325,
          0.0000050255891627071565,
          0.000004995114044636415,
          0.000004965155314907582,
          0.0000049357019302049625,
          0.0000049067426528271,
          0.00000487826605786678,
          0.000004850260540530245,
          0.000004822714323591719,
          0.000004795615464979668,
          0.000004768951865491675,
          0.0000047427112766351885,
          0.000004716881308591725,
          0.00000469144943830238,
          0.000004666403017672861,
          0.000004641729281896414,
          0.000004617415357893254,
          0.000004593448272865281,
          0.000004569814962964942,
          0.0000045465022820771935,
          0.0000045234970107135955,
          0.000004500785865017447,
          0.000004478355505878956,
          0.0000044561925481591984,
          0.000004434283570021562,
          0.0000044126151223691746,
          0.000004391173738386495,
          0.000004369945943183127,
          0.000004348918263537368,
          0.0000043280772377369284,
          0.0000043074094255135716,
          0.000004286901418068218,
          0.0000042665398481824656,
          0.000004246311400411968,
          0.000004226202821356724,
          0.000004206200930002558,
          0.000004186292628127722,
          0.000004166464910767757,
          0.000004146704876731258,
          0.0000041269997391585345,
          0.000004107336836114461,
          0.000004087703641206267,
          0.000004068087774216266,
          0.000004048477011738953,
          0.000004028859297811242,
          0.000004009222754523936,
          0.000003989555692601992,
          0.000003969846621940443,
          0.0000039500842620823405,
          0.000003930257552624492,
          0.000003910355663536166,
          0.000003890368005375624,
          0.000003870284239388632,
          0.000003850094287472894,
          0.000003829788341991819,
          0.0000038093568754207516,
          0.0000037887906498085212,
          0.00000376808072603683,
          0.00000374721847285993,
          0.0000037261955757067767,
          0.000003705004045227837,
          0.0000036836362255686964,
          0.0000036620848023525755,
          0.0000036403428103540722,
          0.0000036184036408464413,
          0.0000035962610486051063,
          0.000003573909158550248,
          0.0000035513424720116866,
          0.0000035285558725996955,
          0.000003505544631665814,
          0.0000034823044133382947,
          0.0000034588312791172987,
          0.000003435121692015752,
          0.0000034111725202323,
          0.0000033869810403436724,
          0.0000033625449400045485,
          0.0000033378623201438164
         ],
         "yaxis": "y"
        }
       ],
       "layout": {
        "barmode": "overlay",
        "hovermode": "closest",
        "legend": {
         "traceorder": "reversed"
        },
        "paper_bgcolor": "rgba(0, 0, 0, 0)",
        "plot_bgcolor": "rgba(0, 0, 0, 0)",
        "template": {
         "data": {
          "bar": [
           {
            "error_x": {
             "color": "#2a3f5f"
            },
            "error_y": {
             "color": "#2a3f5f"
            },
            "marker": {
             "line": {
              "color": "#E5ECF6",
              "width": 0.5
             },
             "pattern": {
              "fillmode": "overlay",
              "size": 10,
              "solidity": 0.2
             }
            },
            "type": "bar"
           }
          ],
          "barpolar": [
           {
            "marker": {
             "line": {
              "color": "#E5ECF6",
              "width": 0.5
             },
             "pattern": {
              "fillmode": "overlay",
              "size": 10,
              "solidity": 0.2
             }
            },
            "type": "barpolar"
           }
          ],
          "carpet": [
           {
            "aaxis": {
             "endlinecolor": "#2a3f5f",
             "gridcolor": "white",
             "linecolor": "white",
             "minorgridcolor": "white",
             "startlinecolor": "#2a3f5f"
            },
            "baxis": {
             "endlinecolor": "#2a3f5f",
             "gridcolor": "white",
             "linecolor": "white",
             "minorgridcolor": "white",
             "startlinecolor": "#2a3f5f"
            },
            "type": "carpet"
           }
          ],
          "choropleth": [
           {
            "colorbar": {
             "outlinewidth": 0,
             "ticks": ""
            },
            "type": "choropleth"
           }
          ],
          "contour": [
           {
            "colorbar": {
             "outlinewidth": 0,
             "ticks": ""
            },
            "colorscale": [
             [
              0,
              "#0d0887"
             ],
             [
              0.1111111111111111,
              "#46039f"
             ],
             [
              0.2222222222222222,
              "#7201a8"
             ],
             [
              0.3333333333333333,
              "#9c179e"
             ],
             [
              0.4444444444444444,
              "#bd3786"
             ],
             [
              0.5555555555555556,
              "#d8576b"
             ],
             [
              0.6666666666666666,
              "#ed7953"
             ],
             [
              0.7777777777777778,
              "#fb9f3a"
             ],
             [
              0.8888888888888888,
              "#fdca26"
             ],
             [
              1,
              "#f0f921"
             ]
            ],
            "type": "contour"
           }
          ],
          "contourcarpet": [
           {
            "colorbar": {
             "outlinewidth": 0,
             "ticks": ""
            },
            "type": "contourcarpet"
           }
          ],
          "heatmap": [
           {
            "colorbar": {
             "outlinewidth": 0,
             "ticks": ""
            },
            "colorscale": [
             [
              0,
              "#0d0887"
             ],
             [
              0.1111111111111111,
              "#46039f"
             ],
             [
              0.2222222222222222,
              "#7201a8"
             ],
             [
              0.3333333333333333,
              "#9c179e"
             ],
             [
              0.4444444444444444,
              "#bd3786"
             ],
             [
              0.5555555555555556,
              "#d8576b"
             ],
             [
              0.6666666666666666,
              "#ed7953"
             ],
             [
              0.7777777777777778,
              "#fb9f3a"
             ],
             [
              0.8888888888888888,
              "#fdca26"
             ],
             [
              1,
              "#f0f921"
             ]
            ],
            "type": "heatmap"
           }
          ],
          "heatmapgl": [
           {
            "colorbar": {
             "outlinewidth": 0,
             "ticks": ""
            },
            "colorscale": [
             [
              0,
              "#0d0887"
             ],
             [
              0.1111111111111111,
              "#46039f"
             ],
             [
              0.2222222222222222,
              "#7201a8"
             ],
             [
              0.3333333333333333,
              "#9c179e"
             ],
             [
              0.4444444444444444,
              "#bd3786"
             ],
             [
              0.5555555555555556,
              "#d8576b"
             ],
             [
              0.6666666666666666,
              "#ed7953"
             ],
             [
              0.7777777777777778,
              "#fb9f3a"
             ],
             [
              0.8888888888888888,
              "#fdca26"
             ],
             [
              1,
              "#f0f921"
             ]
            ],
            "type": "heatmapgl"
           }
          ],
          "histogram": [
           {
            "marker": {
             "pattern": {
              "fillmode": "overlay",
              "size": 10,
              "solidity": 0.2
             }
            },
            "type": "histogram"
           }
          ],
          "histogram2d": [
           {
            "colorbar": {
             "outlinewidth": 0,
             "ticks": ""
            },
            "colorscale": [
             [
              0,
              "#0d0887"
             ],
             [
              0.1111111111111111,
              "#46039f"
             ],
             [
              0.2222222222222222,
              "#7201a8"
             ],
             [
              0.3333333333333333,
              "#9c179e"
             ],
             [
              0.4444444444444444,
              "#bd3786"
             ],
             [
              0.5555555555555556,
              "#d8576b"
             ],
             [
              0.6666666666666666,
              "#ed7953"
             ],
             [
              0.7777777777777778,
              "#fb9f3a"
             ],
             [
              0.8888888888888888,
              "#fdca26"
             ],
             [
              1,
              "#f0f921"
             ]
            ],
            "type": "histogram2d"
           }
          ],
          "histogram2dcontour": [
           {
            "colorbar": {
             "outlinewidth": 0,
             "ticks": ""
            },
            "colorscale": [
             [
              0,
              "#0d0887"
             ],
             [
              0.1111111111111111,
              "#46039f"
             ],
             [
              0.2222222222222222,
              "#7201a8"
             ],
             [
              0.3333333333333333,
              "#9c179e"
             ],
             [
              0.4444444444444444,
              "#bd3786"
             ],
             [
              0.5555555555555556,
              "#d8576b"
             ],
             [
              0.6666666666666666,
              "#ed7953"
             ],
             [
              0.7777777777777778,
              "#fb9f3a"
             ],
             [
              0.8888888888888888,
              "#fdca26"
             ],
             [
              1,
              "#f0f921"
             ]
            ],
            "type": "histogram2dcontour"
           }
          ],
          "mesh3d": [
           {
            "colorbar": {
             "outlinewidth": 0,
             "ticks": ""
            },
            "type": "mesh3d"
           }
          ],
          "parcoords": [
           {
            "line": {
             "colorbar": {
              "outlinewidth": 0,
              "ticks": ""
             }
            },
            "type": "parcoords"
           }
          ],
          "pie": [
           {
            "automargin": true,
            "type": "pie"
           }
          ],
          "scatter": [
           {
            "fillpattern": {
             "fillmode": "overlay",
             "size": 10,
             "solidity": 0.2
            },
            "type": "scatter"
           }
          ],
          "scatter3d": [
           {
            "line": {
             "colorbar": {
              "outlinewidth": 0,
              "ticks": ""
             }
            },
            "marker": {
             "colorbar": {
              "outlinewidth": 0,
              "ticks": ""
             }
            },
            "type": "scatter3d"
           }
          ],
          "scattercarpet": [
           {
            "marker": {
             "colorbar": {
              "outlinewidth": 0,
              "ticks": ""
             }
            },
            "type": "scattercarpet"
           }
          ],
          "scattergeo": [
           {
            "marker": {
             "colorbar": {
              "outlinewidth": 0,
              "ticks": ""
             }
            },
            "type": "scattergeo"
           }
          ],
          "scattergl": [
           {
            "marker": {
             "colorbar": {
              "outlinewidth": 0,
              "ticks": ""
             }
            },
            "type": "scattergl"
           }
          ],
          "scattermapbox": [
           {
            "marker": {
             "colorbar": {
              "outlinewidth": 0,
              "ticks": ""
             }
            },
            "type": "scattermapbox"
           }
          ],
          "scatterpolar": [
           {
            "marker": {
             "colorbar": {
              "outlinewidth": 0,
              "ticks": ""
             }
            },
            "type": "scatterpolar"
           }
          ],
          "scatterpolargl": [
           {
            "marker": {
             "colorbar": {
              "outlinewidth": 0,
              "ticks": ""
             }
            },
            "type": "scatterpolargl"
           }
          ],
          "scatterternary": [
           {
            "marker": {
             "colorbar": {
              "outlinewidth": 0,
              "ticks": ""
             }
            },
            "type": "scatterternary"
           }
          ],
          "surface": [
           {
            "colorbar": {
             "outlinewidth": 0,
             "ticks": ""
            },
            "colorscale": [
             [
              0,
              "#0d0887"
             ],
             [
              0.1111111111111111,
              "#46039f"
             ],
             [
              0.2222222222222222,
              "#7201a8"
             ],
             [
              0.3333333333333333,
              "#9c179e"
             ],
             [
              0.4444444444444444,
              "#bd3786"
             ],
             [
              0.5555555555555556,
              "#d8576b"
             ],
             [
              0.6666666666666666,
              "#ed7953"
             ],
             [
              0.7777777777777778,
              "#fb9f3a"
             ],
             [
              0.8888888888888888,
              "#fdca26"
             ],
             [
              1,
              "#f0f921"
             ]
            ],
            "type": "surface"
           }
          ],
          "table": [
           {
            "cells": {
             "fill": {
              "color": "#EBF0F8"
             },
             "line": {
              "color": "white"
             }
            },
            "header": {
             "fill": {
              "color": "#C8D4E3"
             },
             "line": {
              "color": "white"
             }
            },
            "type": "table"
           }
          ]
         },
         "layout": {
          "annotationdefaults": {
           "arrowcolor": "#2a3f5f",
           "arrowhead": 0,
           "arrowwidth": 1
          },
          "autotypenumbers": "strict",
          "coloraxis": {
           "colorbar": {
            "outlinewidth": 0,
            "ticks": ""
           }
          },
          "colorscale": {
           "diverging": [
            [
             0,
             "#8e0152"
            ],
            [
             0.1,
             "#c51b7d"
            ],
            [
             0.2,
             "#de77ae"
            ],
            [
             0.3,
             "#f1b6da"
            ],
            [
             0.4,
             "#fde0ef"
            ],
            [
             0.5,
             "#f7f7f7"
            ],
            [
             0.6,
             "#e6f5d0"
            ],
            [
             0.7,
             "#b8e186"
            ],
            [
             0.8,
             "#7fbc41"
            ],
            [
             0.9,
             "#4d9221"
            ],
            [
             1,
             "#276419"
            ]
           ],
           "sequential": [
            [
             0,
             "#0d0887"
            ],
            [
             0.1111111111111111,
             "#46039f"
            ],
            [
             0.2222222222222222,
             "#7201a8"
            ],
            [
             0.3333333333333333,
             "#9c179e"
            ],
            [
             0.4444444444444444,
             "#bd3786"
            ],
            [
             0.5555555555555556,
             "#d8576b"
            ],
            [
             0.6666666666666666,
             "#ed7953"
            ],
            [
             0.7777777777777778,
             "#fb9f3a"
            ],
            [
             0.8888888888888888,
             "#fdca26"
            ],
            [
             1,
             "#f0f921"
            ]
           ],
           "sequentialminus": [
            [
             0,
             "#0d0887"
            ],
            [
             0.1111111111111111,
             "#46039f"
            ],
            [
             0.2222222222222222,
             "#7201a8"
            ],
            [
             0.3333333333333333,
             "#9c179e"
            ],
            [
             0.4444444444444444,
             "#bd3786"
            ],
            [
             0.5555555555555556,
             "#d8576b"
            ],
            [
             0.6666666666666666,
             "#ed7953"
            ],
            [
             0.7777777777777778,
             "#fb9f3a"
            ],
            [
             0.8888888888888888,
             "#fdca26"
            ],
            [
             1,
             "#f0f921"
            ]
           ]
          },
          "colorway": [
           "#636efa",
           "#EF553B",
           "#00cc96",
           "#ab63fa",
           "#FFA15A",
           "#19d3f3",
           "#FF6692",
           "#B6E880",
           "#FF97FF",
           "#FECB52"
          ],
          "font": {
           "color": "#2a3f5f"
          },
          "geo": {
           "bgcolor": "white",
           "lakecolor": "white",
           "landcolor": "#E5ECF6",
           "showlakes": true,
           "showland": true,
           "subunitcolor": "white"
          },
          "hoverlabel": {
           "align": "left"
          },
          "hovermode": "closest",
          "mapbox": {
           "style": "light"
          },
          "paper_bgcolor": "white",
          "plot_bgcolor": "#E5ECF6",
          "polar": {
           "angularaxis": {
            "gridcolor": "white",
            "linecolor": "white",
            "ticks": ""
           },
           "bgcolor": "#E5ECF6",
           "radialaxis": {
            "gridcolor": "white",
            "linecolor": "white",
            "ticks": ""
           }
          },
          "scene": {
           "xaxis": {
            "backgroundcolor": "#E5ECF6",
            "gridcolor": "white",
            "gridwidth": 2,
            "linecolor": "white",
            "showbackground": true,
            "ticks": "",
            "zerolinecolor": "white"
           },
           "yaxis": {
            "backgroundcolor": "#E5ECF6",
            "gridcolor": "white",
            "gridwidth": 2,
            "linecolor": "white",
            "showbackground": true,
            "ticks": "",
            "zerolinecolor": "white"
           },
           "zaxis": {
            "backgroundcolor": "#E5ECF6",
            "gridcolor": "white",
            "gridwidth": 2,
            "linecolor": "white",
            "showbackground": true,
            "ticks": "",
            "zerolinecolor": "white"
           }
          },
          "shapedefaults": {
           "line": {
            "color": "#2a3f5f"
           }
          },
          "ternary": {
           "aaxis": {
            "gridcolor": "white",
            "linecolor": "white",
            "ticks": ""
           },
           "baxis": {
            "gridcolor": "white",
            "linecolor": "white",
            "ticks": ""
           },
           "bgcolor": "#E5ECF6",
           "caxis": {
            "gridcolor": "white",
            "linecolor": "white",
            "ticks": ""
           }
          },
          "title": {
           "x": 0.05
          },
          "xaxis": {
           "automargin": true,
           "gridcolor": "white",
           "linecolor": "white",
           "ticks": "",
           "title": {
            "standoff": 15
           },
           "zerolinecolor": "white",
           "zerolinewidth": 2
          },
          "yaxis": {
           "automargin": true,
           "gridcolor": "white",
           "linecolor": "white",
           "ticks": "",
           "title": {
            "standoff": 15
           },
           "zerolinecolor": "white",
           "zerolinewidth": 2
          }
         }
        },
        "title": {
         "text": "Price by Body Style"
        },
        "xaxis": {
         "anchor": "y2",
         "domain": [
          0,
          1
         ],
         "showgrid": false,
         "title": {
          "text": "Price (Euros)"
         },
         "zeroline": false
        },
        "yaxis": {
         "anchor": "free",
         "domain": [
          0,
          1
         ],
         "position": 0,
         "showgrid": false,
         "title": {
          "text": "Percent of Cars"
         }
        }
       }
      }
     },
     "metadata": {},
     "output_type": "display_data"
    }
   ],
   "source": [
    "# Price by Body Style Density\n",
    "suv = suv_hatch_sed[suv_hatch_sed['body_style']=='SUV']['price_euro']\n",
    "hatch = suv_hatch_sed[suv_hatch_sed['body_style']=='Hatchback']['price_euro']\n",
    "sedan = suv_hatch_sed[suv_hatch_sed['body_style']=='Sedan']['price_euro']\n",
    "\n",
    "hist_data = [sedan,suv, hatch]\n",
    "group_labels = ['Sedan', 'SUV', 'Hatchback']\n",
    "\n",
    "\n",
    "price_dens = ff.create_distplot(hist_data, group_labels, show_hist=False, show_rug=False,\n",
    "                                colors=[px.colors.qualitative.Plotly[0],\n",
    "                                                   px.colors.qualitative.Plotly[7],\n",
    "                                                   px.colors.qualitative.Plotly[9]])\n",
    "                                                   \n",
    "\n",
    "price_dens.update_layout({\n",
    "    'plot_bgcolor':'rgba(0, 0, 0, 0)',\n",
    "    'paper_bgcolor':'rgba(0, 0, 0, 0)'\n",
    "})\n",
    "\n",
    "price_dens.update_layout(title='Price by Body Style', xaxis_title='Price (Euros)', yaxis_title='Percent of Cars')\n",
    "price_dens.update_xaxes(showgrid=False)\n",
    "price_dens.update_yaxes(showgrid=False)\n",
    "\n",
    "price_dens.show()"
   ]
  },
  {
   "cell_type": "code",
   "execution_count": 27,
   "metadata": {},
   "outputs": [
    {
     "data": {
      "application/vnd.plotly.v1+json": {
       "config": {
        "plotlyServerURL": "https://plot.ly"
       },
       "data": [
        {
         "alignmentgroup": "True",
         "bingroup": "x",
         "hovertemplate": "body_style=Sedan<br>Efficiency (WhKm)=%{x}<br>count=%{y}<extra></extra>",
         "legendgroup": "Sedan",
         "marker": {
          "color": "#636EFA",
          "pattern": {
           "shape": ""
          }
         },
         "name": "Sedan",
         "nbinsx": 22,
         "offsetgroup": "Sedan",
         "opacity": 0.7,
         "orientation": "v",
         "showlegend": true,
         "type": "histogram",
         "x": [
          161,
          180,
          153,
          178,
          223,
          197,
          167,
          195,
          197,
          215
         ],
         "xaxis": "x",
         "yaxis": "y"
        },
        {
         "alignmentgroup": "True",
         "bingroup": "x",
         "hovertemplate": "body_style=Hatchback<br>Efficiency (WhKm)=%{x}<br>count=%{y}<extra></extra>",
         "legendgroup": "Hatchback",
         "marker": {
          "color": "#B6E880",
          "pattern": {
           "shape": ""
          }
         },
         "name": "Hatchback",
         "nbinsx": 22,
         "offsetgroup": "Hatchback",
         "opacity": 0.7,
         "orientation": "v",
         "showlegend": true,
         "type": "histogram",
         "x": [
          167,
          168,
          168,
          164,
          164,
          175,
          166,
          156,
          164,
          166,
          161,
          165,
          172,
          181,
          168,
          166,
          166,
          168,
          164,
          161,
          198,
          165,
          156,
          176,
          171,
          167,
          168,
          207,
          171,
          191,
          194,
          232
         ],
         "xaxis": "x",
         "yaxis": "y"
        },
        {
         "alignmentgroup": "True",
         "bingroup": "x",
         "hovertemplate": "body_style=SUV<br>Efficiency (WhKm)=%{x}<br>count=%{y}<extra></extra>",
         "legendgroup": "SUV",
         "marker": {
          "color": "#FECB52",
          "pattern": {
           "shape": ""
          }
         },
         "name": "SUV",
         "nbinsx": 22,
         "offsetgroup": "SUV",
         "opacity": 0.7,
         "orientation": "v",
         "showlegend": true,
         "type": "histogram",
         "x": [
          206,
          193,
          216,
          160,
          193,
          171,
          179,
          183,
          200,
          180,
          231,
          173,
          178,
          193,
          171,
          154,
          228,
          175,
          188,
          237,
          176,
          183,
          211,
          180,
          180,
          177,
          232,
          200,
          209,
          193,
          244,
          167,
          188,
          206,
          216,
          194,
          219,
          193,
          181,
          270,
          170,
          222,
          258,
          238
         ],
         "xaxis": "x",
         "yaxis": "y"
        }
       ],
       "layout": {
        "barmode": "overlay",
        "height": 500,
        "legend": {
         "title": {
          "text": "body_style"
         },
         "tracegroupgap": 0
        },
        "paper_bgcolor": "rgba(0, 0, 0, 0)",
        "plot_bgcolor": "rgba(0, 0, 0, 0)",
        "template": {
         "data": {
          "bar": [
           {
            "error_x": {
             "color": "#2a3f5f"
            },
            "error_y": {
             "color": "#2a3f5f"
            },
            "marker": {
             "line": {
              "color": "#E5ECF6",
              "width": 0.5
             },
             "pattern": {
              "fillmode": "overlay",
              "size": 10,
              "solidity": 0.2
             }
            },
            "type": "bar"
           }
          ],
          "barpolar": [
           {
            "marker": {
             "line": {
              "color": "#E5ECF6",
              "width": 0.5
             },
             "pattern": {
              "fillmode": "overlay",
              "size": 10,
              "solidity": 0.2
             }
            },
            "type": "barpolar"
           }
          ],
          "carpet": [
           {
            "aaxis": {
             "endlinecolor": "#2a3f5f",
             "gridcolor": "white",
             "linecolor": "white",
             "minorgridcolor": "white",
             "startlinecolor": "#2a3f5f"
            },
            "baxis": {
             "endlinecolor": "#2a3f5f",
             "gridcolor": "white",
             "linecolor": "white",
             "minorgridcolor": "white",
             "startlinecolor": "#2a3f5f"
            },
            "type": "carpet"
           }
          ],
          "choropleth": [
           {
            "colorbar": {
             "outlinewidth": 0,
             "ticks": ""
            },
            "type": "choropleth"
           }
          ],
          "contour": [
           {
            "colorbar": {
             "outlinewidth": 0,
             "ticks": ""
            },
            "colorscale": [
             [
              0,
              "#0d0887"
             ],
             [
              0.1111111111111111,
              "#46039f"
             ],
             [
              0.2222222222222222,
              "#7201a8"
             ],
             [
              0.3333333333333333,
              "#9c179e"
             ],
             [
              0.4444444444444444,
              "#bd3786"
             ],
             [
              0.5555555555555556,
              "#d8576b"
             ],
             [
              0.6666666666666666,
              "#ed7953"
             ],
             [
              0.7777777777777778,
              "#fb9f3a"
             ],
             [
              0.8888888888888888,
              "#fdca26"
             ],
             [
              1,
              "#f0f921"
             ]
            ],
            "type": "contour"
           }
          ],
          "contourcarpet": [
           {
            "colorbar": {
             "outlinewidth": 0,
             "ticks": ""
            },
            "type": "contourcarpet"
           }
          ],
          "heatmap": [
           {
            "colorbar": {
             "outlinewidth": 0,
             "ticks": ""
            },
            "colorscale": [
             [
              0,
              "#0d0887"
             ],
             [
              0.1111111111111111,
              "#46039f"
             ],
             [
              0.2222222222222222,
              "#7201a8"
             ],
             [
              0.3333333333333333,
              "#9c179e"
             ],
             [
              0.4444444444444444,
              "#bd3786"
             ],
             [
              0.5555555555555556,
              "#d8576b"
             ],
             [
              0.6666666666666666,
              "#ed7953"
             ],
             [
              0.7777777777777778,
              "#fb9f3a"
             ],
             [
              0.8888888888888888,
              "#fdca26"
             ],
             [
              1,
              "#f0f921"
             ]
            ],
            "type": "heatmap"
           }
          ],
          "heatmapgl": [
           {
            "colorbar": {
             "outlinewidth": 0,
             "ticks": ""
            },
            "colorscale": [
             [
              0,
              "#0d0887"
             ],
             [
              0.1111111111111111,
              "#46039f"
             ],
             [
              0.2222222222222222,
              "#7201a8"
             ],
             [
              0.3333333333333333,
              "#9c179e"
             ],
             [
              0.4444444444444444,
              "#bd3786"
             ],
             [
              0.5555555555555556,
              "#d8576b"
             ],
             [
              0.6666666666666666,
              "#ed7953"
             ],
             [
              0.7777777777777778,
              "#fb9f3a"
             ],
             [
              0.8888888888888888,
              "#fdca26"
             ],
             [
              1,
              "#f0f921"
             ]
            ],
            "type": "heatmapgl"
           }
          ],
          "histogram": [
           {
            "marker": {
             "pattern": {
              "fillmode": "overlay",
              "size": 10,
              "solidity": 0.2
             }
            },
            "type": "histogram"
           }
          ],
          "histogram2d": [
           {
            "colorbar": {
             "outlinewidth": 0,
             "ticks": ""
            },
            "colorscale": [
             [
              0,
              "#0d0887"
             ],
             [
              0.1111111111111111,
              "#46039f"
             ],
             [
              0.2222222222222222,
              "#7201a8"
             ],
             [
              0.3333333333333333,
              "#9c179e"
             ],
             [
              0.4444444444444444,
              "#bd3786"
             ],
             [
              0.5555555555555556,
              "#d8576b"
             ],
             [
              0.6666666666666666,
              "#ed7953"
             ],
             [
              0.7777777777777778,
              "#fb9f3a"
             ],
             [
              0.8888888888888888,
              "#fdca26"
             ],
             [
              1,
              "#f0f921"
             ]
            ],
            "type": "histogram2d"
           }
          ],
          "histogram2dcontour": [
           {
            "colorbar": {
             "outlinewidth": 0,
             "ticks": ""
            },
            "colorscale": [
             [
              0,
              "#0d0887"
             ],
             [
              0.1111111111111111,
              "#46039f"
             ],
             [
              0.2222222222222222,
              "#7201a8"
             ],
             [
              0.3333333333333333,
              "#9c179e"
             ],
             [
              0.4444444444444444,
              "#bd3786"
             ],
             [
              0.5555555555555556,
              "#d8576b"
             ],
             [
              0.6666666666666666,
              "#ed7953"
             ],
             [
              0.7777777777777778,
              "#fb9f3a"
             ],
             [
              0.8888888888888888,
              "#fdca26"
             ],
             [
              1,
              "#f0f921"
             ]
            ],
            "type": "histogram2dcontour"
           }
          ],
          "mesh3d": [
           {
            "colorbar": {
             "outlinewidth": 0,
             "ticks": ""
            },
            "type": "mesh3d"
           }
          ],
          "parcoords": [
           {
            "line": {
             "colorbar": {
              "outlinewidth": 0,
              "ticks": ""
             }
            },
            "type": "parcoords"
           }
          ],
          "pie": [
           {
            "automargin": true,
            "type": "pie"
           }
          ],
          "scatter": [
           {
            "fillpattern": {
             "fillmode": "overlay",
             "size": 10,
             "solidity": 0.2
            },
            "type": "scatter"
           }
          ],
          "scatter3d": [
           {
            "line": {
             "colorbar": {
              "outlinewidth": 0,
              "ticks": ""
             }
            },
            "marker": {
             "colorbar": {
              "outlinewidth": 0,
              "ticks": ""
             }
            },
            "type": "scatter3d"
           }
          ],
          "scattercarpet": [
           {
            "marker": {
             "colorbar": {
              "outlinewidth": 0,
              "ticks": ""
             }
            },
            "type": "scattercarpet"
           }
          ],
          "scattergeo": [
           {
            "marker": {
             "colorbar": {
              "outlinewidth": 0,
              "ticks": ""
             }
            },
            "type": "scattergeo"
           }
          ],
          "scattergl": [
           {
            "marker": {
             "colorbar": {
              "outlinewidth": 0,
              "ticks": ""
             }
            },
            "type": "scattergl"
           }
          ],
          "scattermapbox": [
           {
            "marker": {
             "colorbar": {
              "outlinewidth": 0,
              "ticks": ""
             }
            },
            "type": "scattermapbox"
           }
          ],
          "scatterpolar": [
           {
            "marker": {
             "colorbar": {
              "outlinewidth": 0,
              "ticks": ""
             }
            },
            "type": "scatterpolar"
           }
          ],
          "scatterpolargl": [
           {
            "marker": {
             "colorbar": {
              "outlinewidth": 0,
              "ticks": ""
             }
            },
            "type": "scatterpolargl"
           }
          ],
          "scatterternary": [
           {
            "marker": {
             "colorbar": {
              "outlinewidth": 0,
              "ticks": ""
             }
            },
            "type": "scatterternary"
           }
          ],
          "surface": [
           {
            "colorbar": {
             "outlinewidth": 0,
             "ticks": ""
            },
            "colorscale": [
             [
              0,
              "#0d0887"
             ],
             [
              0.1111111111111111,
              "#46039f"
             ],
             [
              0.2222222222222222,
              "#7201a8"
             ],
             [
              0.3333333333333333,
              "#9c179e"
             ],
             [
              0.4444444444444444,
              "#bd3786"
             ],
             [
              0.5555555555555556,
              "#d8576b"
             ],
             [
              0.6666666666666666,
              "#ed7953"
             ],
             [
              0.7777777777777778,
              "#fb9f3a"
             ],
             [
              0.8888888888888888,
              "#fdca26"
             ],
             [
              1,
              "#f0f921"
             ]
            ],
            "type": "surface"
           }
          ],
          "table": [
           {
            "cells": {
             "fill": {
              "color": "#EBF0F8"
             },
             "line": {
              "color": "white"
             }
            },
            "header": {
             "fill": {
              "color": "#C8D4E3"
             },
             "line": {
              "color": "white"
             }
            },
            "type": "table"
           }
          ]
         },
         "layout": {
          "annotationdefaults": {
           "arrowcolor": "#2a3f5f",
           "arrowhead": 0,
           "arrowwidth": 1
          },
          "autotypenumbers": "strict",
          "coloraxis": {
           "colorbar": {
            "outlinewidth": 0,
            "ticks": ""
           }
          },
          "colorscale": {
           "diverging": [
            [
             0,
             "#8e0152"
            ],
            [
             0.1,
             "#c51b7d"
            ],
            [
             0.2,
             "#de77ae"
            ],
            [
             0.3,
             "#f1b6da"
            ],
            [
             0.4,
             "#fde0ef"
            ],
            [
             0.5,
             "#f7f7f7"
            ],
            [
             0.6,
             "#e6f5d0"
            ],
            [
             0.7,
             "#b8e186"
            ],
            [
             0.8,
             "#7fbc41"
            ],
            [
             0.9,
             "#4d9221"
            ],
            [
             1,
             "#276419"
            ]
           ],
           "sequential": [
            [
             0,
             "#0d0887"
            ],
            [
             0.1111111111111111,
             "#46039f"
            ],
            [
             0.2222222222222222,
             "#7201a8"
            ],
            [
             0.3333333333333333,
             "#9c179e"
            ],
            [
             0.4444444444444444,
             "#bd3786"
            ],
            [
             0.5555555555555556,
             "#d8576b"
            ],
            [
             0.6666666666666666,
             "#ed7953"
            ],
            [
             0.7777777777777778,
             "#fb9f3a"
            ],
            [
             0.8888888888888888,
             "#fdca26"
            ],
            [
             1,
             "#f0f921"
            ]
           ],
           "sequentialminus": [
            [
             0,
             "#0d0887"
            ],
            [
             0.1111111111111111,
             "#46039f"
            ],
            [
             0.2222222222222222,
             "#7201a8"
            ],
            [
             0.3333333333333333,
             "#9c179e"
            ],
            [
             0.4444444444444444,
             "#bd3786"
            ],
            [
             0.5555555555555556,
             "#d8576b"
            ],
            [
             0.6666666666666666,
             "#ed7953"
            ],
            [
             0.7777777777777778,
             "#fb9f3a"
            ],
            [
             0.8888888888888888,
             "#fdca26"
            ],
            [
             1,
             "#f0f921"
            ]
           ]
          },
          "colorway": [
           "#636efa",
           "#EF553B",
           "#00cc96",
           "#ab63fa",
           "#FFA15A",
           "#19d3f3",
           "#FF6692",
           "#B6E880",
           "#FF97FF",
           "#FECB52"
          ],
          "font": {
           "color": "#2a3f5f"
          },
          "geo": {
           "bgcolor": "white",
           "lakecolor": "white",
           "landcolor": "#E5ECF6",
           "showlakes": true,
           "showland": true,
           "subunitcolor": "white"
          },
          "hoverlabel": {
           "align": "left"
          },
          "hovermode": "closest",
          "mapbox": {
           "style": "light"
          },
          "paper_bgcolor": "white",
          "plot_bgcolor": "#E5ECF6",
          "polar": {
           "angularaxis": {
            "gridcolor": "white",
            "linecolor": "white",
            "ticks": ""
           },
           "bgcolor": "#E5ECF6",
           "radialaxis": {
            "gridcolor": "white",
            "linecolor": "white",
            "ticks": ""
           }
          },
          "scene": {
           "xaxis": {
            "backgroundcolor": "#E5ECF6",
            "gridcolor": "white",
            "gridwidth": 2,
            "linecolor": "white",
            "showbackground": true,
            "ticks": "",
            "zerolinecolor": "white"
           },
           "yaxis": {
            "backgroundcolor": "#E5ECF6",
            "gridcolor": "white",
            "gridwidth": 2,
            "linecolor": "white",
            "showbackground": true,
            "ticks": "",
            "zerolinecolor": "white"
           },
           "zaxis": {
            "backgroundcolor": "#E5ECF6",
            "gridcolor": "white",
            "gridwidth": 2,
            "linecolor": "white",
            "showbackground": true,
            "ticks": "",
            "zerolinecolor": "white"
           }
          },
          "shapedefaults": {
           "line": {
            "color": "#2a3f5f"
           }
          },
          "ternary": {
           "aaxis": {
            "gridcolor": "white",
            "linecolor": "white",
            "ticks": ""
           },
           "baxis": {
            "gridcolor": "white",
            "linecolor": "white",
            "ticks": ""
           },
           "bgcolor": "#E5ECF6",
           "caxis": {
            "gridcolor": "white",
            "linecolor": "white",
            "ticks": ""
           }
          },
          "title": {
           "x": 0.05
          },
          "xaxis": {
           "automargin": true,
           "gridcolor": "white",
           "linecolor": "white",
           "ticks": "",
           "title": {
            "standoff": 15
           },
           "zerolinecolor": "white",
           "zerolinewidth": 2
          },
          "yaxis": {
           "automargin": true,
           "gridcolor": "white",
           "linecolor": "white",
           "ticks": "",
           "title": {
            "standoff": 15
           },
           "zerolinecolor": "white",
           "zerolinewidth": 2
          }
         }
        },
        "title": {
         "text": "Efficiency by Body Style for EVs"
        },
        "width": 800,
        "xaxis": {
         "anchor": "y",
         "domain": [
          0,
          1
         ],
         "showgrid": false,
         "title": {
          "text": "Efficiency (WhKm)"
         }
        },
        "yaxis": {
         "anchor": "x",
         "domain": [
          0,
          1
         ],
         "showgrid": false,
         "title": {
          "text": "count"
         }
        }
       }
      }
     },
     "metadata": {},
     "output_type": "display_data"
    }
   ],
   "source": [
    "# Create a histogram of efficiency by body style\n",
    "eff_hist = px.histogram(suv_hatch_sed, title='Efficiency by Body Style for EVs', x='efficiency_whkm', color='body_style', nbins=22,\n",
    "                          labels={'efficiency_whkm':'Efficiency (WhKm)', 'count':'Frequency'},\n",
    "                          color_discrete_sequence=[px.colors.qualitative.Plotly[0],\n",
    "                                                   px.colors.qualitative.Plotly[7],\n",
    "                                                   px.colors.qualitative.Plotly[9]],\n",
    "                          width=800, height=500)\n",
    "                                                   \n",
    "\n",
    "eff_hist.update_layout({\n",
    "    'plot_bgcolor':'rgba(0, 0, 0, 0)',\n",
    "    'paper_bgcolor':'rgba(0, 0, 0, 0)'\n",
    "})\n",
    "\n",
    "eff_hist.update_layout(barmode='overlay')\n",
    "eff_hist.update_traces(opacity=0.7)\n",
    "\n",
    "eff_hist.update_xaxes(showgrid=False)\n",
    "eff_hist.update_yaxes(showgrid=False)\n",
    "\n",
    "eff_hist.show()"
   ]
  },
  {
   "cell_type": "code",
   "execution_count": 54,
   "metadata": {},
   "outputs": [
    {
     "data": {
      "application/vnd.plotly.v1+json": {
       "config": {
        "plotlyServerURL": "https://plot.ly"
       },
       "data": [
        {
         "legendgroup": "Sedan",
         "marker": {
          "color": "#636EFA"
         },
         "mode": "lines",
         "name": "Sedan",
         "showlegend": true,
         "type": "scatter",
         "x": [
          153,
          153.14,
          153.28,
          153.42,
          153.56,
          153.7,
          153.84,
          153.98,
          154.12,
          154.26,
          154.4,
          154.54,
          154.68,
          154.82,
          154.96,
          155.1,
          155.24,
          155.38,
          155.52,
          155.66,
          155.8,
          155.94,
          156.08,
          156.22,
          156.36,
          156.5,
          156.64,
          156.78,
          156.92,
          157.06,
          157.2,
          157.34,
          157.48,
          157.62,
          157.76,
          157.9,
          158.04,
          158.18,
          158.32,
          158.46,
          158.6,
          158.74,
          158.88,
          159.02,
          159.16,
          159.3,
          159.44,
          159.58,
          159.72,
          159.86,
          160,
          160.14,
          160.28,
          160.42,
          160.56,
          160.7,
          160.84,
          160.98,
          161.12,
          161.26,
          161.4,
          161.54,
          161.68,
          161.82,
          161.96,
          162.1,
          162.24,
          162.38,
          162.52,
          162.66,
          162.8,
          162.94,
          163.08,
          163.22,
          163.36,
          163.5,
          163.64,
          163.78,
          163.92,
          164.06,
          164.2,
          164.34,
          164.48,
          164.62,
          164.76,
          164.9,
          165.04,
          165.18,
          165.32,
          165.46,
          165.6,
          165.74,
          165.88,
          166.02,
          166.16,
          166.3,
          166.44,
          166.58,
          166.72,
          166.86,
          167,
          167.14,
          167.28,
          167.42,
          167.56,
          167.7,
          167.84,
          167.98,
          168.12,
          168.26,
          168.4,
          168.54,
          168.68,
          168.82,
          168.96,
          169.1,
          169.24,
          169.38,
          169.52,
          169.66,
          169.8,
          169.94,
          170.07999999999998,
          170.22,
          170.36,
          170.5,
          170.64,
          170.78,
          170.92000000000002,
          171.06,
          171.2,
          171.34,
          171.48,
          171.62,
          171.76,
          171.9,
          172.04,
          172.18,
          172.32,
          172.46,
          172.6,
          172.74,
          172.88,
          173.02,
          173.16,
          173.3,
          173.44,
          173.57999999999998,
          173.72,
          173.86,
          174,
          174.14,
          174.28,
          174.42000000000002,
          174.56,
          174.7,
          174.84,
          174.98,
          175.12,
          175.26,
          175.4,
          175.54,
          175.68,
          175.82,
          175.96,
          176.1,
          176.24,
          176.38,
          176.52,
          176.66,
          176.8,
          176.94,
          177.07999999999998,
          177.22,
          177.36,
          177.5,
          177.64,
          177.78,
          177.92000000000002,
          178.06,
          178.2,
          178.34,
          178.48,
          178.62,
          178.76,
          178.9,
          179.04,
          179.18,
          179.32,
          179.46,
          179.6,
          179.74,
          179.88,
          180.02,
          180.16,
          180.3,
          180.44,
          180.57999999999998,
          180.72,
          180.86,
          181,
          181.14,
          181.28,
          181.42000000000002,
          181.56,
          181.7,
          181.84,
          181.98,
          182.12,
          182.26,
          182.4,
          182.54,
          182.68,
          182.82,
          182.96,
          183.1,
          183.24,
          183.38,
          183.52,
          183.66,
          183.8,
          183.94,
          184.07999999999998,
          184.22,
          184.36,
          184.5,
          184.64,
          184.78,
          184.92000000000002,
          185.06,
          185.2,
          185.34,
          185.48,
          185.62,
          185.76,
          185.9,
          186.04,
          186.18,
          186.32,
          186.46,
          186.6,
          186.74,
          186.88,
          187.02,
          187.16,
          187.3,
          187.44,
          187.57999999999998,
          187.72,
          187.86,
          188,
          188.14,
          188.28,
          188.42000000000002,
          188.56,
          188.7,
          188.84,
          188.98,
          189.12,
          189.26,
          189.4,
          189.54,
          189.68,
          189.82,
          189.96,
          190.1,
          190.24,
          190.38,
          190.52,
          190.66,
          190.8,
          190.94,
          191.07999999999998,
          191.22,
          191.36,
          191.5,
          191.64,
          191.78,
          191.92000000000002,
          192.06,
          192.2,
          192.34,
          192.48,
          192.62,
          192.76,
          192.9,
          193.04,
          193.18,
          193.32,
          193.46,
          193.6,
          193.74,
          193.88,
          194.02,
          194.16,
          194.3,
          194.44,
          194.57999999999998,
          194.72,
          194.86,
          195,
          195.14,
          195.28,
          195.42000000000002,
          195.56,
          195.7,
          195.84,
          195.98,
          196.12,
          196.26,
          196.4,
          196.54,
          196.68,
          196.82,
          196.96,
          197.1,
          197.24,
          197.38,
          197.52,
          197.66,
          197.8,
          197.94,
          198.07999999999998,
          198.22,
          198.36,
          198.5,
          198.64,
          198.78,
          198.92000000000002,
          199.06,
          199.2,
          199.34,
          199.48,
          199.62,
          199.76,
          199.9,
          200.04,
          200.18,
          200.32,
          200.46,
          200.6,
          200.74,
          200.88,
          201.02,
          201.16,
          201.3,
          201.44,
          201.57999999999998,
          201.72,
          201.86,
          202,
          202.14,
          202.28,
          202.42000000000002,
          202.56,
          202.7,
          202.84,
          202.98,
          203.12,
          203.26,
          203.4,
          203.54,
          203.68,
          203.82,
          203.96,
          204.1,
          204.24,
          204.38,
          204.52,
          204.66,
          204.8,
          204.94,
          205.07999999999998,
          205.22,
          205.36,
          205.5,
          205.64,
          205.78,
          205.92000000000002,
          206.06,
          206.2,
          206.34,
          206.48,
          206.62,
          206.76,
          206.9,
          207.04,
          207.18,
          207.32,
          207.46,
          207.6,
          207.74,
          207.88,
          208.02,
          208.16,
          208.3,
          208.44,
          208.57999999999998,
          208.72,
          208.86,
          209,
          209.14,
          209.28,
          209.42000000000002,
          209.56,
          209.7,
          209.84,
          209.98,
          210.12,
          210.26,
          210.4,
          210.54,
          210.68,
          210.82,
          210.96,
          211.1,
          211.24,
          211.38,
          211.52,
          211.66,
          211.8,
          211.94,
          212.07999999999998,
          212.22,
          212.36,
          212.5,
          212.64,
          212.78,
          212.92000000000002,
          213.06,
          213.2,
          213.34,
          213.48,
          213.62,
          213.76,
          213.9,
          214.04,
          214.18,
          214.32,
          214.46,
          214.6,
          214.74,
          214.88,
          215.02,
          215.16,
          215.3,
          215.44,
          215.57999999999998,
          215.72,
          215.86,
          216,
          216.14,
          216.28,
          216.42000000000002,
          216.56,
          216.7,
          216.84,
          216.98,
          217.12,
          217.26,
          217.4,
          217.54000000000002,
          217.68,
          217.82,
          217.95999999999998,
          218.1,
          218.24,
          218.38,
          218.51999999999998,
          218.66,
          218.8,
          218.94,
          219.07999999999998,
          219.22,
          219.36,
          219.5,
          219.64,
          219.78,
          219.92000000000002,
          220.06,
          220.2,
          220.34,
          220.48000000000002,
          220.62,
          220.76,
          220.9,
          221.04000000000002,
          221.18,
          221.32,
          221.45999999999998,
          221.6,
          221.74,
          221.88,
          222.01999999999998,
          222.16,
          222.3,
          222.44,
          222.57999999999998,
          222.72,
          222.86
         ],
         "xaxis": "x",
         "y": [
          0.008052542450772837,
          0.00810328595566083,
          0.008153899695465533,
          0.008204379287364783,
          0.008254720391635407,
          0.008304918712906055,
          0.008354970001390006,
          0.008404870054097267,
          0.008454614716025504,
          0.008504199881328967,
          0.00855362149446518,
          0.008602875551318532,
          0.008651958100300568,
          0.00870086524342603,
          0.008749593137364607,
          0.008798137994467527,
          0.008846496083768715,
          0.008894663731959906,
          0.00894263732433952,
          0.008990413305734399,
          0.009037988181394521,
          0.00908535851785987,
          0.009132520943799257,
          0.00917947215082063,
          0.00922620889425268,
          0.009272727993897048,
          0.009319026334751221,
          0.009365100867701509,
          0.009410948610185816,
          0.009456566646826144,
          0.009501952130030283,
          0.009547102280562629,
          0.009592014388083747,
          0.0096366858116587,
          0.009681113980233531,
          0.009725296393080207,
          0.009769230620209414,
          0.009812914302751398,
          0.009856345153304406,
          0.009899520956250872,
          0.0099424395680411,
          0.009985098917444354,
          0.01002749700576733,
          0.010069631907040024,
          0.010111501768168699,
          0.010153104809056311,
          0.01019443932269003,
          0.01023550367519611,
          0.010276296305861961,
          0.0103168157271257,
          0.010357060524532884,
          0.010397029356660887,
          0.010436720955010763,
          0.010476134123866712,
          0.010515267740123428,
          0.010554120753081316,
          0.010592692184209752,
          0.010630981126878623,
          0.010668986746058306,
          0.01070670827798814,
          0.010744145029813905,
          0.01078129637919417,
          0.010818161773876102,
          0.010854740731240646,
          0.01089103283781767,
          0.010927037748771105,
          0.0109627551873545,
          0.010998184944337257,
          0.011033326877401946,
          0.011068180910512832,
          0.011102747033256241,
          0.011137025300152878,
          0.011171015829942616,
          0.011204718804842029,
          0.011238134469775238,
          0.011271263131578215,
          0.011304105158177202,
          0.011336660977741584,
          0.011368931077811539,
          0.011400916004401192,
          0.011432616361077397,
          0.011464032808014935,
          0.011495166061028286,
          0.01152601689058085,
          0.011556586120771683,
          0.011586874628300643,
          0.011616883341412181,
          0.011646613238818545,
          0.011676065348602634,
          0.011705240747101383,
          0.011734140557769971,
          0.011762765950027523,
          0.011791118138084856,
          0.011819198379754873,
          0.011847007975246095,
          0.011874548265940046,
          0.011901820633152973,
          0.011928826496882606,
          0.01195556731454042,
          0.011982044579670269,
          0.012008259820653662,
          0.012034214599402637,
          0.012059910510040704,
          0.012085349177572443,
          0.012110532256542576,
          0.012135461429684977,
          0.012160138406562448,
          0.012184564922197716,
          0.01220874273569651,
          0.012232673628863266,
          0.012256359404810166,
          0.012279801886560133,
          0.012303002915644618,
          0.012325964350696607,
          0.01234868806603978,
          0.01237117595027434,
          0.012393429904860276,
          0.012415451842698716,
          0.012437243686712132,
          0.012458807368423974,
          0.012480144826538546,
          0.012501258005521751,
          0.012522148854183438,
          0.012542819324262036,
          0.012563271369012205,
          0.012583506941796123,
          0.012603527994679268,
          0.01262333647703125,
          0.012642934334132414,
          0.01266232350578703,
          0.012681505924943668,
          0.01270048351632347,
          0.012719258195057056,
          0.012737831865330757,
          0.012756206419042815,
          0.012774383734470375,
          0.012792365674947789,
          0.012810154087557108,
          0.012827750801831265,
          0.012845157628470829,
          0.012862376358074835,
          0.012879408759886512,
          0.012896256580554441,
          0.01291292154291004,
          0.012929405344761726,
          0.012945709657706724,
          0.012961836125961006,
          0.012977786365208051,
          0.012993561961467077,
          0.01300916446998141,
          0.013024595414127581,
          0.013039856284345822,
          0.013054948537092551,
          0.013069873593815453,
          0.01308463283995183,
          0.013099227623950728,
          0.013113659256319488,
          0.013127929008695282,
          0.013142038112942235,
          0.01315598776027462,
          0.013169779100406802,
          0.01318341324073033,
          0.01319689124551883,
          0.01321021413516113,
          0.013223382885423211,
          0.01323639842673939,
          0.013249261643533286,
          0.013261973373568998,
          0.01327453440733303,
          0.013286945487447252,
          0.013299207308113542,
          0.013311320514590315,
          0.013323285702701495,
          0.013335103418378248,
          0.013346774157233817,
          0.013358298364171926,
          0.01336967643302894,
          0.013380908706250274,
          0.01339199547460115,
          0.01340293697691219,
          0.013413733399860012,
          0.013424384877783037,
          0.01343489149253287,
          0.01344525327336132,
          0.013455470196843376,
          0.013465542186836198,
          0.013475469114474399,
          0.013485250798201629,
          0.013494887003838635,
          0.013504377444687899,
          0.013513721781674877,
          0.013522919623525883,
          0.013531970526982686,
          0.013540873997053818,
          0.01354962948730247,
          0.013558236400171057,
          0.01356669408734233,
          0.01357500185013691,
          0.013583158939947177,
          0.013591164558707312,
          0.013599017859399425,
          0.013606717946595442,
          0.013614263877034669,
          0.01362165466023666,
          0.013628889259149261,
          0.013635966590831413,
          0.013642885527170487,
          0.01364964489563374,
          0.013656243480053584,
          0.013662680021446237,
          0.013668953218863331,
          0.013675061730276078,
          0.013681004173491468,
          0.013686779127100035,
          0.013692385131454661,
          0.013697820689679901,
          0.013703084268711179,
          0.013708174300363364,
          0.01371308918242802,
          0.013717827279798714,
          0.013722386925623744,
          0.013726766422485511,
          0.01373096404360593,
          0.01373497803407702,
          0.013738806612115994,
          0.01374244797034402,
          0.013745900277087853,
          0.013749161677703523,
          0.013752230295921172,
          0.013755104235210234,
          0.013757781580163986,
          0.013760260397902664,
          0.013762538739494037,
          0.01376461464139068,
          0.013766486126882818,
          0.013768151207565828,
          0.013769607884821355,
          0.013770854151311046,
          0.013771887992481831,
          0.013772707388081708,
          0.013773310313684943,
          0.013773694742225657,
          0.013773858645538602,
          0.013773799995906107,
          0.01377351676761003,
          0.013773006938487577,
          0.013772268491489867,
          0.013771299416242073,
          0.01377009771060401,
          0.013768661382229945,
          0.01376698845012653,
          0.013765076946207624,
          0.013762924916844842,
          0.013760530424412666,
          0.013757891548826891,
          0.013755006389075255,
          0.013751873064739024,
          0.013748489717504418,
          0.013744854512662597,
          0.013740965640597116,
          0.013736821318257578,
          0.013732419790618424,
          0.01372775933212158,
          0.013722838248101898,
          0.013717654876194153,
          0.013712207587720553,
          0.013706494789057515,
          0.013700514922980717,
          0.013694266469987197,
          0.013687747949593498,
          0.01368095792160874,
          0.013673894987381554,
          0.013666557791019864,
          0.013658945020582448,
          0.01365105540924132,
          0.013642887736413907,
          0.013634440828864055,
          0.013625713561770982,
          0.013616704859765148,
          0.013607413697930278,
          0.013597839102770534,
          0.013587980153142104,
          0.013577835981148327,
          0.013567405772997582,
          0.013556688769823175,
          0.013545684268464513,
          0.01353439162220884,
          0.013522810241492883,
          0.013510939594563771,
          0.0134987792080986,
          0.013486328667782125,
          0.013473587618841994,
          0.013460555766541048,
          0.013447232876626202,
          0.013433618775733555,
          0.01341971335174919,
          0.0134055165541255,
          0.013391028394152528,
          0.013376248945184233,
          0.013361178342819297,
          0.013345816785036345,
          0.01333016453228342,
          0.013314221907521582,
          0.013297989296222527,
          0.013281467146320267,
          0.01326465596811676,
          0.013247556334141646,
          0.013230168878966112,
          0.013212494298971032,
          0.013194533352069526,
          0.013176286857384195,
          0.013157755694879241,
          0.013138940804947773,
          0.013119843187954661,
          0.013100463903735251,
          0.013080804071050434,
          0.013060864866998412,
          0.013040647526383843,
          0.013020153341044635,
          0.012999383659137222,
          0.012978339884380772,
          0.012957023475261032,
          0.012935435944194482,
          0.01291357885665355,
          0.012891453830253665,
          0.012869062533802812,
          0.01284640668631466,
          0.012823488055985904,
          0.012800308459138857,
          0.012776869759130187,
          0.01275317386522677,
          0.012729222731449613,
          0.012705018355387024,
          0.012680562776977872,
          0.012655858077266206,
          0.012630906377128258,
          0.012605709835973028,
          0.012580270650417499,
          0.012554591052937897,
          0.012528673310497928,
          0.012502519723155508,
          0.012476132622648985,
          0.012449514370964395,
          0.01242266735888478,
          0.01239559400452311,
          0.012368296751839985,
          0.012340778069147558,
          0.012313040447600922,
          0.012285086399678522,
          0.012256918457652746,
          0.012228539172052237,
          0.012199951110117275,
          0.012171156854249642,
          0.01214215900045835,
          0.012112960156802698,
          0.012083562941834016,
          0.012053969983037524,
          0.012024183915275813,
          0.011994207379235176,
          0.011964043019876382,
          0.011933693484891185,
          0.011903161423166064,
          0.011872449483254399,
          0.011841560311858767,
          0.011810496552324407,
          0.011779260843145472,
          0.011747855816485188,
          0.011716284096711549,
          0.011684548298949514,
          0.011652651027651286,
          0.011620594875185825,
          0.01158838242044891,
          0.01155601622749488,
          0.011523498844191475,
          0.011490832800898817,
          0.011458020609173673,
          0.011425064760500323,
          0.011391967725048973,
          0.011358731950462908,
          0.011325359860675408,
          0.01129185385475745,
          0.011258216305797198,
          0.01122444955981236,
          0.011190555934696079,
          0.011156537719197598,
          0.011122397171938268,
          0.011088136520463966,
          0.011053757960334476,
          0.011019263654250877,
          0.010984655731221366,
          0.010949936285766425,
          0.01091510737716378,
          0.010880171028733985,
          0.010845129227166924,
          0.010809983921889947,
          0.010774737024478044,
          0.010739390408106531,
          0.010703945907046498,
          0.010668405316203635,
          0.010632770390700494,
          0.01059704284550255,
          0.010561224355088304,
          0.010525316553163586,
          0.010489321032420158,
          0.010453239344338783,
          0.01041707299903668,
          0.0103808234651595,
          0.01034449216981778,
          0.010308080498567615,
          0.010271589795435632,
          0.010235021362987987,
          0.010198376462443225,
          0.010161656313828602,
          0.010124862096179865,
          0.010087994947783787,
          0.010051055966463409,
          0.010014046209905265,
          0.009976966696028471,
          0.009939818403394782,
          0.009902602271659426,
          0.009865319202061924,
          0.009827970057956381,
          0.009790555665380486,
          0.009753076813662692,
          0.009715534256066728,
          0.009677928710472662,
          0.009640260860093851,
          0.009602531354228831,
          0.00956474080904733,
          0.00952688980840955,
          0.00948897890471771,
          0.00945100861979897,
          0.009412979445818793,
          0.009374891846223615,
          0.009336746256711936,
          0.00929854308623261,
          0.009260282718009522,
          0.009221965510591217,
          0.00918359179892463,
          0.009145161895451646,
          0.009106676091227391,
          0.00906813465705895,
          0.009029537844663564,
          0.008990885887844809,
          0.008952179003685745,
          0.008913417393757716,
          0.008874601245343576,
          0.008835730732674015,
          0.008796806018175876,
          0.008757827253731046,
          0.008718794581944665,
          0.008679708137421454,
          0.008640568048048795,
          0.008601374436285295,
          0.008562127420453581,
          0.008522827116035959,
          0.008483473636971717,
          0.008444067096954841,
          0.008404607610730657,
          0.008365095295390408,
          0.008325530271662192,
          0.008285912665197364,
          0.008246242607850781,
          0.008206520238953862,
          0.008166745706579274,
          0.008126919168795859,
          0.008087040794912726,
          0.00804711076671132,
          0.008007129279664203,
          0.007967096544139471,
          0.007927012786589758,
          0.007886878250724483,
          0.00784669319866441,
          0.007806457912077486,
          0.0077661726932947775,
          0.0077258378664055195,
          0.007685453778330323,
          0.007645020799871522,
          0.0076045393267397,
          0.007564009780555519,
          0.007523432609825858,
          0.007482808290893463,
          0.007442137328859324,
          0.007401420258476807,
          0.007360657645016852,
          0.007319850085103498,
          0.007278998207519044,
          0.007238102673978025,
          0.007197164179869421,
          0.007156183454966582,
          0.007115161264104078,
          0.007074098407821061,
          0.007032995722970579,
          0.006991854083294304,
          0.006950674399962267,
          0.006909457622077246,
          0.006868204737143261,
          0.0068269167714978905,
          0.006785594790708237,
          0.006744239899930055
         ],
         "yaxis": "y"
        },
        {
         "legendgroup": "SUV",
         "marker": {
          "color": "#B6E880"
         },
         "mode": "lines",
         "name": "SUV",
         "showlegend": true,
         "type": "scatter",
         "x": [
          154,
          154.232,
          154.464,
          154.696,
          154.928,
          155.16,
          155.392,
          155.624,
          155.856,
          156.088,
          156.32,
          156.552,
          156.784,
          157.016,
          157.248,
          157.48,
          157.712,
          157.944,
          158.176,
          158.408,
          158.64,
          158.872,
          159.104,
          159.336,
          159.568,
          159.8,
          160.032,
          160.264,
          160.496,
          160.728,
          160.96,
          161.192,
          161.424,
          161.656,
          161.888,
          162.12,
          162.352,
          162.584,
          162.816,
          163.048,
          163.28,
          163.512,
          163.744,
          163.976,
          164.208,
          164.44,
          164.672,
          164.904,
          165.136,
          165.368,
          165.6,
          165.832,
          166.064,
          166.296,
          166.528,
          166.76,
          166.992,
          167.224,
          167.456,
          167.688,
          167.92,
          168.152,
          168.38400000000001,
          168.61599999999999,
          168.848,
          169.08,
          169.312,
          169.544,
          169.776,
          170.008,
          170.24,
          170.472,
          170.704,
          170.936,
          171.168,
          171.4,
          171.632,
          171.864,
          172.096,
          172.328,
          172.56,
          172.792,
          173.024,
          173.256,
          173.488,
          173.72,
          173.952,
          174.184,
          174.416,
          174.648,
          174.88,
          175.112,
          175.344,
          175.576,
          175.808,
          176.04,
          176.272,
          176.504,
          176.736,
          176.968,
          177.2,
          177.432,
          177.664,
          177.89600000000002,
          178.128,
          178.36,
          178.59199999999998,
          178.824,
          179.056,
          179.288,
          179.52,
          179.752,
          179.984,
          180.216,
          180.448,
          180.68,
          180.912,
          181.144,
          181.376,
          181.608,
          181.84,
          182.072,
          182.304,
          182.536,
          182.768,
          183,
          183.232,
          183.464,
          183.696,
          183.928,
          184.16,
          184.392,
          184.624,
          184.856,
          185.088,
          185.32,
          185.552,
          185.784,
          186.016,
          186.248,
          186.48,
          186.712,
          186.94400000000002,
          187.176,
          187.40800000000002,
          187.64,
          187.872,
          188.10399999999998,
          188.336,
          188.56799999999998,
          188.8,
          189.03199999999998,
          189.264,
          189.496,
          189.728,
          189.96,
          190.192,
          190.424,
          190.656,
          190.888,
          191.12,
          191.352,
          191.584,
          191.816,
          192.048,
          192.28,
          192.512,
          192.744,
          192.976,
          193.208,
          193.44,
          193.672,
          193.904,
          194.136,
          194.368,
          194.6,
          194.832,
          195.064,
          195.296,
          195.528,
          195.76,
          195.992,
          196.224,
          196.45600000000002,
          196.688,
          196.92000000000002,
          197.152,
          197.38400000000001,
          197.61599999999999,
          197.848,
          198.07999999999998,
          198.312,
          198.54399999999998,
          198.776,
          199.008,
          199.24,
          199.472,
          199.704,
          199.936,
          200.168,
          200.4,
          200.632,
          200.864,
          201.096,
          201.328,
          201.56,
          201.792,
          202.024,
          202.256,
          202.488,
          202.72,
          202.952,
          203.184,
          203.416,
          203.648,
          203.88,
          204.112,
          204.344,
          204.576,
          204.808,
          205.04,
          205.272,
          205.504,
          205.736,
          205.96800000000002,
          206.2,
          206.43200000000002,
          206.664,
          206.89600000000002,
          207.128,
          207.36,
          207.59199999999998,
          207.824,
          208.05599999999998,
          208.288,
          208.52,
          208.752,
          208.984,
          209.216,
          209.448,
          209.68,
          209.912,
          210.144,
          210.376,
          210.608,
          210.84,
          211.072,
          211.304,
          211.536,
          211.768,
          212,
          212.232,
          212.464,
          212.696,
          212.928,
          213.16,
          213.392,
          213.624,
          213.856,
          214.088,
          214.32,
          214.552,
          214.784,
          215.016,
          215.248,
          215.48,
          215.712,
          215.94400000000002,
          216.176,
          216.40800000000002,
          216.64,
          216.872,
          217.10399999999998,
          217.336,
          217.56799999999998,
          217.8,
          218.03199999999998,
          218.264,
          218.49599999999998,
          218.728,
          218.95999999999998,
          219.192,
          219.424,
          219.656,
          219.888,
          220.12,
          220.352,
          220.584,
          220.816,
          221.048,
          221.28,
          221.512,
          221.744,
          221.976,
          222.208,
          222.44,
          222.672,
          222.904,
          223.136,
          223.368,
          223.6,
          223.832,
          224.064,
          224.296,
          224.52800000000002,
          224.76,
          224.99200000000002,
          225.224,
          225.45600000000002,
          225.688,
          225.92000000000002,
          226.152,
          226.38400000000001,
          226.61599999999999,
          226.848,
          227.07999999999998,
          227.312,
          227.54399999999998,
          227.776,
          228.00799999999998,
          228.24,
          228.47199999999998,
          228.704,
          228.936,
          229.168,
          229.4,
          229.632,
          229.864,
          230.096,
          230.328,
          230.56,
          230.792,
          231.024,
          231.256,
          231.488,
          231.72,
          231.952,
          232.184,
          232.416,
          232.648,
          232.88,
          233.112,
          233.344,
          233.576,
          233.808,
          234.04000000000002,
          234.272,
          234.50400000000002,
          234.736,
          234.96800000000002,
          235.2,
          235.43200000000002,
          235.664,
          235.89600000000002,
          236.128,
          236.36,
          236.59199999999998,
          236.824,
          237.05599999999998,
          237.288,
          237.51999999999998,
          237.752,
          237.98399999999998,
          238.216,
          238.44799999999998,
          238.68,
          238.912,
          239.144,
          239.376,
          239.608,
          239.84,
          240.072,
          240.304,
          240.536,
          240.768,
          241,
          241.232,
          241.464,
          241.696,
          241.928,
          242.16,
          242.392,
          242.624,
          242.856,
          243.088,
          243.32,
          243.55200000000002,
          243.784,
          244.01600000000002,
          244.248,
          244.48000000000002,
          244.712,
          244.94400000000002,
          245.176,
          245.40800000000002,
          245.64,
          245.872,
          246.10399999999998,
          246.336,
          246.56799999999998,
          246.8,
          247.03199999999998,
          247.264,
          247.49599999999998,
          247.728,
          247.95999999999998,
          248.192,
          248.424,
          248.656,
          248.888,
          249.12,
          249.352,
          249.584,
          249.816,
          250.048,
          250.28,
          250.512,
          250.744,
          250.976,
          251.208,
          251.44,
          251.672,
          251.904,
          252.136,
          252.368,
          252.6,
          252.832,
          253.064,
          253.296,
          253.52800000000002,
          253.76,
          253.99200000000002,
          254.224,
          254.45600000000002,
          254.688,
          254.92000000000002,
          255.152,
          255.38400000000001,
          255.61599999999999,
          255.848,
          256.08,
          256.312,
          256.544,
          256.776,
          257.008,
          257.24,
          257.472,
          257.704,
          257.93600000000004,
          258.168,
          258.4,
          258.632,
          258.86400000000003,
          259.096,
          259.328,
          259.56,
          259.79200000000003,
          260.024,
          260.256,
          260.488,
          260.72,
          260.952,
          261.18399999999997,
          261.416,
          261.648,
          261.88,
          262.11199999999997,
          262.344,
          262.576,
          262.808,
          263.04,
          263.272,
          263.504,
          263.736,
          263.968,
          264.2,
          264.432,
          264.664,
          264.896,
          265.128,
          265.36,
          265.592,
          265.824,
          266.056,
          266.288,
          266.52,
          266.752,
          266.984,
          267.216,
          267.448,
          267.68,
          267.91200000000003,
          268.144,
          268.376,
          268.608,
          268.84000000000003,
          269.072,
          269.304,
          269.536,
          269.76800000000003
         ],
         "xaxis": "x",
         "y": [
          0.004095714577048099,
          0.004182140701693804,
          0.004269739385076666,
          0.00435850740800429,
          0.004448440776986348,
          0.0045395347032509276,
          0.0046317835821334434,
          0.004725180972892391,
          0.004819719579006735,
          0.004915391229010729,
          0.005012186857922146,
          0.005110096489320568,
          0.005209109218132329,
          0.005309213194179073,
          0.005410395606546654,
          0.005512642668830654,
          0.0056159396053148515,
          0.005720270638137929,
          0.0058256189755032,
          0.005931966800985027,
          0.006039295263984714,
          0.006147584471387161,
          0.006256813480468114,
          0.006366960293100521,
          0.006478001851306015,
          0.006589914034196413,
          0.006702671656347237,
          0.0068162484676434374,
          0.006930617154634548,
          0.0070457493434344124,
          0.007161615604197366,
          0.007278185457200036,
          0.007395427380554661,
          0.007513308819577005,
          0.007631796197828056,
          0.007750854929845708,
          0.007870449435578696,
          0.00799054315653173,
          0.008111098573626681,
          0.008232077226781124,
          0.008353439736201302,
          0.008475145825383045,
          0.008597154345809755,
          0.00871942330333267,
          0.008841909886214748,
          0.008964570494814993,
          0.009087360772886497,
          0.009210235640456775,
          0.009333149328255661,
          0.009456055413651365,
          0.009578906858051815,
          0.009701656045724132,
          0.009824254823981747,
          0.009946654544684498,
          0.010068806106993783,
          0.010190660001321024,
          0.010312166354404672,
          0.010433274975447545,
          0.010553935403243262,
          0.010674096954217456,
          0.010793708771307125,
          0.010912719873598459,
          0.011031079206641321,
          0.01114873569335627,
          0.011265638285448394,
          0.011381736015239735,
          0.011496978047831483,
          0.011611313733504849,
          0.011724692660269357,
          0.011837064706465639,
          0.011948380093329887,
          0.01205858943742614,
          0.012167643802853128,
          0.012275494753131841,
          0.012382094402680975,
          0.012487395467787531,
          0.012591351316981077,
          0.012693916020721103,
          0.01279504440030824,
          0.012894692075931781,
          0.012992815513767679,
          0.013089372072043345,
          0.013184320045987607,
          0.013277618711586843,
          0.013369228368071013,
          0.013459110379055901,
          0.013547227212271244,
          0.013633542477807422,
          0.013718020964816923,
          0.013800628676610163,
          0.013881332864089215,
          0.013960102057466454,
          0.01403690609621932,
          0.014111716157236429,
          0.014184504781114163,
          0.014255245896567448,
          0.014323914842922301,
          0.014390488390662457,
          0.01445494476000634,
          0.014517263637495424,
          0.014577426190579211,
          0.014635415080186379,
          0.014691214471276243,
          0.014744810041368982,
          0.014796188987057136,
          0.014845340028505554,
          0.014892253411950645,
          0.014936920910214476,
          0.014979335821252555,
          0.01501949296475888,
          0.015057388676854673,
          0.015093020802891719,
          0.015126388688404251,
          0.015157493168246834,
          0.015186336553958889,
          0.015212922619399785,
          0.015237256584700824,
          0.015259345098583791,
          0.01527919621909774,
          0.015296819392828306,
          0.015312225432636089,
          0.015325426493982313,
          0.01533643604990204,
          0.015345268864686675,
          0.015351940966338894,
          0.015356469617864339,
          0.015358873287465397,
          0.015359171617703202,
          0.015357385393694599,
          0.015353536510411216,
          0.015347647939148093,
          0.015339743693229171,
          0.015329848793017105,
          0.015317989230294324,
          0.015304191932081908,
          0.01528848472396216,
          0.015270896292970154,
          0.01525145615011825,
          0.015230194592616963,
          0.015207142665854026,
          0.01518233212519231,
          0.015155795397645841,
          0.015127565543491704,
          0.015097676217873725,
          0.015066161632452486,
          0.015033056517154177,
          0.014998396082068958,
          0.014962215979547836,
          0.014924552266544641,
          0.014885441367248274,
          0.014844920036047819,
          0.014803025320871407,
          0.014759794526937505,
          0.014715265180955353,
          0.014669474995808994,
          0.01462246183575744,
          0.014574263682181624,
          0.014524918599906192,
          0.014474464704123084,
          0.014422940127940945,
          0.014370382990583309,
          0.014316831366256048,
          0.01426232325370317,
          0.014206896546467982,
          0.014150589003875187,
          0.0140934382227476,
          0.01403548160986992,
          0.013976756355210078,
          0.013917299405907635,
          0.013857147441036987,
          0.013796336847152263,
          0.013734903694619022,
          0.013672883714737167,
          0.013610312277658233,
          0.013547224371099092,
          0.01348365457985329,
          0.013419637066100297,
          0.013355205550512185,
          0.013290393294156232,
          0.013225233081191709,
          0.013159757202357852,
          0.013093997439250021,
          0.013027985049379938,
          0.012961750752015885,
          0.012895324714797821,
          0.012828736541122173,
          0.012762015258290859,
          0.012695189306418032,
          0.01262828652808868,
          0.012561334158761752,
          0.012494358817911378,
          0.012427386500898212,
          0.012360442571563842,
          0.012293551755539787,
          0.012226738134263416,
          0.01216002513969182,
          0.012093435549705234,
          0.012026991484190756,
          0.01196071440179717,
          0.01189462509735109,
          0.01182874369992457,
          0.011763089671543912,
          0.011697681806529008,
          0.011632538231452223,
          0.01156767640570569,
          0.011503113122664969,
          0.011438864511437276,
          0.011374946039181672,
          0.01131137251398808,
          0.01124815808830211,
          0.011185316262881492,
          0.011122859891270112,
          0.01106080118477479,
          0.010999151717929477,
          0.010937922434431376,
          0.010877123653532684,
          0.010816765076871206,
          0.010756855795723006,
          0.01069740429865912,
          0.010638418479588636,
          0.010579905646169441,
          0.010521872528567783,
          0.01046432528854734,
          0.010407269528868182,
          0.01035071030297535,
          0.010294652124957077,
          0.01023909897975152,
          0.010184054333581601,
          0.01012952114459641,
          0.01007550187369827,
          0.010021998495533684,
          0.009969012509627163,
          0.009916544951635955,
          0.009864596404704658,
          0.009813167010897983,
          0.009762256482690818,
          0.009711864114494203,
          0.009661988794196871,
          0.009612629014701524,
          0.009563782885436184,
          0.009515448143820812,
          0.009467622166670183,
          0.00942030198151456,
          0.009373484277820327,
          0.009327165418093263,
          0.009281341448848289,
          0.009236008111429828,
          0.009191160852668263,
          0.009146794835358534,
          0.009102904948548,
          0.009059485817621872,
          0.009016531814175263,
          0.00897403706566222,
          0.008931995464813198,
          0.008890400678813594,
          0.00884924615823701,
          0.008808525145728413,
          0.008768230684433288,
          0.00872835562617036,
          0.008688892639346584,
          0.00864983421661438,
          0.00861117268227233,
          0.008572900199412016,
          0.008535008776814408,
          0.008497490275601056,
          0.008460336415646046,
          0.008423538781756093,
          0.008387088829627182,
          0.00835097789158733,
          0.008315197182135907,
          0.00827973780329137,
          0.00824459074975956,
          0.0082097469139363,
          0.00817519709075829,
          0.008140931982417433,
          0.008106942202954116,
          0.008073218282745936,
          0.00803975067290837,
          0.008006529749625013,
          0.007973545818424703,
          0.007940789118423655,
          0.00790824982655054,
          0.007875918061772952,
          0.007843783889343177,
          0.007811837325081757,
          0.007780068339716512,
          0.007748466863294989,
          0.007717022789687576,
          0.007685725981198189,
          0.007654566273299032,
          0.0076235334795051206,
          0.007592617396403609,
          0.007561807808852328,
          0.0075310944953607415,
          0.007500467233665964,
          0.007469915806515177,
          0.007439430007664741,
          0.007408999648105269,
          0.007378614562520611,
          0.007348264615987287,
          0.007317939710919879,
          0.007287629794266287,
          0.007257324864955272,
          0.007227014981597568,
          0.007196690270439978,
          0.007166340933570658,
          0.007135957257372042,
          0.007105529621216531,
          0.0070750485063982484,
          0.007044504505293031,
          0.007013888330736712,
          0.006983190825610884,
          0.006952402972623219,
          0.006921515904268468,
          0.006890520912954331,
          0.006859409461275483,
          0.006828173192417188,
          0.0067968039406691065,
          0.006765293742028191,
          0.0067336348448687935,
          0.0067018197206566476,
          0.0066698410746826135,
          0.006637691856790872,
          0.006605365272075596,
          0.006572854791519115,
          0.006540154162544014,
          0.0065072574194509954,
          0.006474158893713668,
          0.006440853224101213,
          0.006407335366599452,
          0.006373600604100494,
          0.006339644555831431,
          0.006305463186491993,
          0.006271052815071734,
          0.006236410123317156,
          0.006201532163819575,
          0.0061664163676951765,
          0.006131060551828961,
          0.006095462925655014,
          0.006059622097446513,
          0.0060235370800892345,
          0.00598720729631385,
          0.005950632583362923,
          0.005913813197069788,
          0.005876749815327785,
          0.005839443540929606,
          0.005801895903757787,
          0.005764108862309004,
          0.005726084804536396,
          0.005687826547995464,
          0.0056493373392812775,
          0.005610620852745829,
          0.005571681188486807,
          0.005532522869600247,
          0.005493150838692024,
          0.0054535704536443925,
          0.005413787482636416,
          0.0053738080984182994,
          0.005333638871842376,
          0.005293286764654748,
          0.005252759121554208,
          0.005212063661526404,
          0.005171208468463741,
          0.005130201981082889,
          0.005089052982154275,
          0.005047770587059117,
          0.0050063642316920745,
          0.004964843659728886,
          0.004923218909280314,
          0.0048815002989554615,
          0.004839698413359024,
          0.00479782408804857,
          0.004755888393979685,
          0.004713902621467968,
          0.004671878263698252,
          0.0046298269998129166,
          0.004587760677611918,
          0.00454569129589864,
          0.004503630986506467,
          0.004461591996041717,
          0.00441958666737977,
          0.004377627420951551,
          0.0043357267358581746,
          0.004293897130852263,
          0.004252151145224595,
          0.004210501319635008,
          0.004168960176926914,
          0.004127540202964491,
          0.004086253827531737,
          0.004045113405332663,
          0.004004131197131009,
          0.003963319351068288,
          0.003922689884197837,
          0.003882254664272505,
          0.003842025391822516,
          0.0038020135825597608,
          0.003762230550143393,
          0.0037226873893413314,
          0.0036833949596205115,
          0.0036443638691983707,
          0.003605604459586277,
          0.0035671267906548496,
          0.003528940626249384,
          0.0034910554203826487,
          0.0034534803040303986,
          0.0034162240725540624,
          0.0033792951737728187,
          0.003342701696706374,
          0.0033064513610075704,
          0.003270551507102736,
          0.0032350090870555794,
          0.0031998306561691163,
          0.0031650223653380905,
          0.003130589954162648,
          0.003096538744832445,
          0.003062873636788282,
          0.0030295991021669164,
          0.002996719182032715,
          0.00296423748339808,
          0.0029321571770329715,
          0.0029004809960619985,
          0.0028692112353458066,
          0.002838349751642051,
          0.002807897964539256,
          0.002777856858155577,
          0.002748226983592722,
          0.00271900846213374,
          0.002690200989172079,
          0.002661803838857709,
          0.0026338158694447222,
          0.002606235529323706,
          0.00257906086372056,
          0.0025522895220426037,
          0.002525918765851295,
          0.002499945477440159,
          0.002474366168995086,
          0.0024491769923137056,
          0.002424373749059077,
          0.0023999519015226634,
          0.0023759065838703497,
          0.0023522326138449563,
          0.002328924504897724,
          0.0023059764787210797,
          0.0022833824781541144,
          0.0022611361804322546,
          0.0022392310107517714,
          0.002217660156119992,
          0.0021964165794614806,
          0.0021754930339506354,
          0.002154882077540848,
          0.002134576087660522,
          0.002114567276046252,
          0.0020948477036836473,
          0.002075409295826342,
          0.0020562438570641338,
          0.0020373430864114328,
          0.0020186985923875502,
          0.00200030190806077,
          0.001982144506028616,
          0.001964217813307323,
          0.0019465132261039157,
          0.0019290221244450472,
          0.0019117358866373281,
          0.001894645903534619,
          0.001877743592588433,
          0.0018610204116583711,
          0.0018444678725603218,
          0.001828077554331031,
          0.0018118411161883938,
          0.0017957503101677882,
          0.0017797969934156578,
          0.0017639731401225076,
          0.0017482708530783236,
          0.0017326823748345635,
          0.001717200098457634,
          0.0017018165778600238,
          0.0016865245376959618,
          0.0016713168828097948,
          0.0016561867072260228,
          0.0016411273026711917,
          0.0016261321666186553,
          0.0016111950098484493,
          0.0015963097635153418,
          0.0015814705857193794,
          0.0015666718675739965,
          0.0015519082387680445,
          0.001537174572618854,
          0.0015224659906146422,
          0.0015077778664453773,
          0.0014931058295223525,
          0.0014784457679874866,
          0.0014637938312145385,
          0.0014491464318050758,
          0.0014345002470831562,
          0.0014198522200934652,
          0.001405199560108512,
          0.001390539742651327,
          0.0013758705090409409,
          0.0013611898654686792,
          0.0013464960816141265
         ],
         "yaxis": "y"
        },
        {
         "legendgroup": "Hatchback",
         "marker": {
          "color": "#FECB52"
         },
         "mode": "lines",
         "name": "Hatchback",
         "showlegend": true,
         "type": "scatter",
         "x": [
          156,
          156.152,
          156.304,
          156.456,
          156.608,
          156.76,
          156.912,
          157.064,
          157.216,
          157.368,
          157.52,
          157.672,
          157.824,
          157.976,
          158.128,
          158.28,
          158.432,
          158.584,
          158.736,
          158.888,
          159.04,
          159.192,
          159.344,
          159.496,
          159.648,
          159.8,
          159.952,
          160.104,
          160.256,
          160.408,
          160.56,
          160.712,
          160.864,
          161.016,
          161.168,
          161.32,
          161.472,
          161.624,
          161.776,
          161.928,
          162.08,
          162.232,
          162.38400000000001,
          162.536,
          162.688,
          162.84,
          162.992,
          163.144,
          163.296,
          163.448,
          163.6,
          163.752,
          163.904,
          164.056,
          164.208,
          164.36,
          164.512,
          164.664,
          164.816,
          164.968,
          165.12,
          165.272,
          165.424,
          165.576,
          165.728,
          165.88,
          166.032,
          166.184,
          166.336,
          166.488,
          166.64,
          166.792,
          166.944,
          167.096,
          167.248,
          167.4,
          167.552,
          167.704,
          167.856,
          168.008,
          168.16,
          168.312,
          168.464,
          168.61599999999999,
          168.768,
          168.92,
          169.072,
          169.224,
          169.376,
          169.528,
          169.68,
          169.832,
          169.984,
          170.136,
          170.288,
          170.44,
          170.592,
          170.744,
          170.89600000000002,
          171.048,
          171.2,
          171.352,
          171.504,
          171.656,
          171.808,
          171.96,
          172.112,
          172.264,
          172.416,
          172.568,
          172.72,
          172.872,
          173.024,
          173.176,
          173.328,
          173.48,
          173.632,
          173.784,
          173.936,
          174.088,
          174.24,
          174.392,
          174.544,
          174.696,
          174.848,
          175,
          175.152,
          175.304,
          175.456,
          175.608,
          175.76,
          175.912,
          176.064,
          176.216,
          176.368,
          176.52,
          176.672,
          176.824,
          176.976,
          177.128,
          177.28,
          177.432,
          177.584,
          177.736,
          177.888,
          178.04,
          178.192,
          178.344,
          178.496,
          178.648,
          178.8,
          178.952,
          179.10399999999998,
          179.256,
          179.40800000000002,
          179.56,
          179.712,
          179.864,
          180.016,
          180.168,
          180.32,
          180.472,
          180.624,
          180.776,
          180.928,
          181.07999999999998,
          181.232,
          181.38400000000001,
          181.536,
          181.688,
          181.84,
          181.992,
          182.144,
          182.296,
          182.448,
          182.6,
          182.752,
          182.904,
          183.056,
          183.208,
          183.36,
          183.512,
          183.664,
          183.816,
          183.968,
          184.12,
          184.272,
          184.424,
          184.576,
          184.728,
          184.88,
          185.032,
          185.184,
          185.336,
          185.488,
          185.64,
          185.792,
          185.944,
          186.096,
          186.248,
          186.4,
          186.552,
          186.704,
          186.856,
          187.008,
          187.16,
          187.312,
          187.464,
          187.61599999999999,
          187.768,
          187.92000000000002,
          188.072,
          188.224,
          188.376,
          188.528,
          188.68,
          188.832,
          188.984,
          189.136,
          189.288,
          189.44,
          189.59199999999998,
          189.744,
          189.89600000000002,
          190.048,
          190.2,
          190.352,
          190.504,
          190.656,
          190.808,
          190.96,
          191.112,
          191.264,
          191.416,
          191.56799999999998,
          191.72,
          191.872,
          192.024,
          192.176,
          192.328,
          192.48,
          192.632,
          192.784,
          192.936,
          193.088,
          193.24,
          193.392,
          193.54399999999998,
          193.696,
          193.848,
          194,
          194.152,
          194.304,
          194.45600000000002,
          194.608,
          194.76,
          194.912,
          195.064,
          195.216,
          195.368,
          195.52,
          195.672,
          195.824,
          195.976,
          196.128,
          196.28,
          196.43200000000002,
          196.584,
          196.736,
          196.888,
          197.04,
          197.192,
          197.344,
          197.496,
          197.648,
          197.8,
          197.952,
          198.10399999999998,
          198.256,
          198.40800000000002,
          198.56,
          198.712,
          198.864,
          199.016,
          199.168,
          199.32,
          199.472,
          199.624,
          199.776,
          199.928,
          200.07999999999998,
          200.232,
          200.38400000000001,
          200.536,
          200.688,
          200.84,
          200.992,
          201.144,
          201.296,
          201.448,
          201.6,
          201.752,
          201.904,
          202.05599999999998,
          202.208,
          202.36,
          202.512,
          202.664,
          202.816,
          202.96800000000002,
          203.12,
          203.272,
          203.424,
          203.576,
          203.728,
          203.88,
          204.03199999999998,
          204.184,
          204.336,
          204.488,
          204.64,
          204.792,
          204.94400000000002,
          205.096,
          205.248,
          205.4,
          205.552,
          205.704,
          205.856,
          206.008,
          206.16,
          206.312,
          206.464,
          206.61599999999999,
          206.768,
          206.92000000000002,
          207.072,
          207.224,
          207.376,
          207.528,
          207.68,
          207.832,
          207.984,
          208.136,
          208.288,
          208.44,
          208.59199999999998,
          208.744,
          208.89600000000002,
          209.048,
          209.2,
          209.352,
          209.504,
          209.656,
          209.808,
          209.96,
          210.112,
          210.264,
          210.416,
          210.56799999999998,
          210.72,
          210.872,
          211.024,
          211.176,
          211.328,
          211.48,
          211.632,
          211.784,
          211.936,
          212.088,
          212.24,
          212.392,
          212.54399999999998,
          212.696,
          212.848,
          213,
          213.152,
          213.304,
          213.45600000000002,
          213.608,
          213.76,
          213.912,
          214.064,
          214.216,
          214.368,
          214.52,
          214.672,
          214.824,
          214.976,
          215.128,
          215.28,
          215.43200000000002,
          215.584,
          215.736,
          215.888,
          216.04,
          216.192,
          216.344,
          216.496,
          216.648,
          216.8,
          216.952,
          217.10399999999998,
          217.256,
          217.40800000000002,
          217.56,
          217.712,
          217.864,
          218.016,
          218.168,
          218.32,
          218.472,
          218.624,
          218.776,
          218.928,
          219.07999999999998,
          219.232,
          219.38400000000001,
          219.536,
          219.688,
          219.84,
          219.992,
          220.144,
          220.296,
          220.44799999999998,
          220.6,
          220.752,
          220.904,
          221.05599999999998,
          221.208,
          221.36,
          221.512,
          221.664,
          221.816,
          221.96800000000002,
          222.12,
          222.272,
          222.424,
          222.576,
          222.728,
          222.88,
          223.03199999999998,
          223.184,
          223.336,
          223.488,
          223.64,
          223.792,
          223.94400000000002,
          224.096,
          224.248,
          224.4,
          224.55200000000002,
          224.704,
          224.856,
          225.00799999999998,
          225.16,
          225.312,
          225.464,
          225.61599999999999,
          225.768,
          225.92000000000002,
          226.072,
          226.224,
          226.376,
          226.52800000000002,
          226.68,
          226.832,
          226.98399999999998,
          227.136,
          227.288,
          227.44,
          227.59199999999998,
          227.744,
          227.89600000000002,
          228.048,
          228.2,
          228.352,
          228.50400000000002,
          228.656,
          228.808,
          228.95999999999998,
          229.112,
          229.264,
          229.416,
          229.56799999999998,
          229.72,
          229.872,
          230.024,
          230.176,
          230.328,
          230.48000000000002,
          230.632,
          230.784,
          230.936,
          231.088,
          231.24,
          231.392,
          231.54399999999998,
          231.696,
          231.848
         ],
         "xaxis": "x",
         "y": [
          0.018599214696090015,
          0.01894764260204825,
          0.019297625844229758,
          0.019649001905000435,
          0.02000160368524108,
          0.020355259599724895,
          0.020709793681605686,
          0.021065025696041316,
          0.021420771262960513,
          0.02177684198895627,
          0.02213304560827098,
          0.02248918613281392,
          0.022845064011131747,
          0.023200476296227356,
          0.0235552168221028,
          0.023909076388875582,
          0.02426184295629741,
          0.02461330184547923,
          0.02496323594860396,
          0.02531142594638609,
          0.025657650533011812,
          0.026001686648274527,
          0.026343309716593828,
          0.026682293892588596,
          0.027018412312849207,
          0.027351437353536245,
          0.0276811408934106,
          0.028007294581882204,
          0.028329670111643245,
          0.028648039495437153,
          0.02896217534649441,
          0.029271851162152255,
          0.02957684161016004,
          0.02987692281715721,
          0.03017187265880007,
          0.030461471050999604,
          0.030745500241725572,
          0.031023745102819963,
          0.031295993421259036,
          0.031562036189294033,
          0.03182166789289862,
          0.03207468679794663,
          0.032320895233543576,
          0.032560099871933756,
          0.03279211200440877,
          0.033016747812644166,
          0.03323382863489791,
          0.03344318122650921,
          0.03364463801414533,
          0.03383803734325348,
          0.034023223718185024,
          0.03420004803447386,
          0.03436836780276286,
          0.03452804736389028,
          0.03467895809466236,
          0.03482097860386032,
          0.03495399491804596,
          0.03507790065675492,
          0.03519259719668601,
          0.03529799382452042,
          0.03539400787802887,
          0.03548056487514956,
          0.03555759863074763,
          0.03562505136079357,
          0.03568287377372645,
          0.035731025148796704,
          0.035769473401213364,
          0.035798195133949565,
          0.03581717567609223,
          0.03582640910765111,
          0.03582589827077484,
          0.03581565476735206,
          0.035795698943007,
          0.03576605985753088,
          0.03572677524182053,
          0.03567789144142735,
          0.03561946334684976,
          0.03555155431073247,
          0.03547423605216556,
          0.035387588548305,
          0.035291699913564976,
          0.035186666266659006,
          0.03507259158579438,
          0.034949587552348914,
          0.03481777338338515,
          0.034677275653378664,
          0.03452822810556092,
          0.03437077145329826,
          0.03420505317194691,
          0.034031227281644386,
          0.03384945412151286,
          0.03365990011576797,
          0.03346273753223758,
          0.033258144233811564,
          0.03304630342335117,
          0.03282740338259951,
          0.03260163720563957,
          0.03236920252745617,
          0.0321303012481595,
          0.031885139253435404,
          0.0316339261317851,
          0.031376874889121206,
          0.031114201661283338,
          0.030846125425034274,
          0.03057286770809481,
          0.030294652298767082,
          0.0300117049556931,
          0.02972425311828206,
          0.029432525618334933,
          0.029136752393380084,
          0.028837164202224628,
          0.028533992343209965,
          0.02822746837564867,
          0.027917823844900883,
          0.02760529001153608,
          0.02729009758500506,
          0.02697247646223074,
          0.02665265547150834,
          0.02633086212208334,
          0.026007322359758882,
          0.0256822603288598,
          0.025355898140864176,
          0.02502845564998625,
          0.024700150235978314,
          0.024371196594392564,
          0.024041806534525964,
          0.023712188785244954,
          0.023382548808868055,
          0.023053088623261254,
          0.02272400663227696,
          0.02239549746465011,
          0.022067751821438504,
          0.021740956332078024,
          0.02141529341909831,
          0.021090941171528554,
          0.020768073226998664,
          0.02044685866252718,
          0.020127461893962906,
          0.019810042584034793,
          0.019494755558942804,
          0.019181750733409397,
          0.018871173044093525,
          0.018563162391253562,
          0.018257853588534757,
          0.017955376320738115,
          0.017655855109420634,
          0.01735940928616047,
          0.017066152973313733,
          0.016776195072076082,
          0.016489639257656827,
          0.016206583981361145,
          0.01592712247937357,
          0.015651342788023808,
          0.015379327765315615,
          0.015111155118491447,
          0.014846897437402577,
          0.01458662223345165,
          0.014330391983871918,
          0.014078264181106411,
          0.01383029138704768,
          0.013586521291901564,
          0.013346996777435846,
          0.013111755984378581,
          0.012880832383730115,
          0.012654254851757616,
          0.012432047748441814,
          0.012214230999150172,
          0.012000820179314468,
          0.011791826601894317,
          0.01158725740741365,
          0.011387115656362079,
          0.01119140042375788,
          0.01100010689567486,
          0.010813226467542831,
          0.01063074684403443,
          0.010452652140360615,
          0.010278922984800468,
          0.010109536622299829,
          0.009944467018977625,
          0.009783684967387034,
          0.009627158192383837,
          0.009474851457461566,
          0.009326726671418727,
          0.009182742995230631,
          0.009042856949003803,
          0.008907022518896955,
          0.008775191263899473,
          0.008647312422362335,
          0.008523333018184264,
          0.008403197966558626,
          0.00828685017919424,
          0.00817423066892619,
          0.008065278653638942,
          0.007959931659427199,
          0.007858125622925254,
          0.007759794992738753,
          0.007664872829916758,
          0.007573290907405631,
          0.007484979808428845,
          0.007399869023740676,
          0.007317887047703329,
          0.007238961473140626,
          0.007163019084922508,
          0.007089985952237769,
          0.00701978751951297,
          0.006952348695938288,
          0.006887593943561478,
          0.006825447363913129,
          0.006765832783126772,
          0.006708673835518908,
          0.006653894045594545,
          0.006601416908444368,
          0.0065511659685005,
          0.006503064896618276,
          0.006457037565451691,
          0.006413008123090606,
          0.006370901064928293,
          0.0063306413037279964,
          0.006292154237857593,
          0.006255365817661631,
          0.006220202609940631,
          0.006186591860507449,
          0.006154461554791436,
          0.00612374047646118,
          0.00609435826403739,
          0.006066245465468143,
          0.006039333590639317,
          0.006013555161794025,
          0.0059888437618356915,
          0.005965134080490653,
          0.00594236195830721,
          0.005920464428469552,
          0.005899379756406342,
          0.005879047477175489,
          0.005859408430608246,
          0.005840404794197874,
          0.005821980113720017,
          0.005804079331574214,
          0.00578664881283821,
          0.00576963636902936,
          0.0057529912795699035,
          0.005736664310955568,
          0.0057206077336300065,
          0.005704775336570282,
          0.0056891224395919275,
          0.005673605903385006,
          0.005658184137296077,
          0.00564281710487411,
          0.0056274663272018605,
          0.005612094884037593,
          0.005596667412795546,
          0.005581150105396954,
          0.005565510703027033,
          0.0055497184888367085,
          0.005533744278631502,
          0.00551756040959322,
          0.005501140727083767,
          0.005484460569583505,
          0.00546749675181998,
          0.005450227546146025,
          0.005432632662229282,
          0.005414693225118183,
          0.005396391751752308,
          0.005377712125987715,
          0.00535863957221033,
          0.005339160627613059,
          0.005319263113214313,
          0.0052989361036977715,
          0.0052781698961550045,
          0.00525695597781433,
          0.005235286992840526,
          0.005213156708291343,
          0.005190559979317814,
          0.0051674927136958855,
          0.005143951835777747,
          0.005119935249951146,
          0.005095441803695374,
          0.005070471250322164,
          0.005045024211489382,
          0.005019102139574786,
          0.004992707279996052,
          0.004965842633562217,
          0.004938511918940302,
          0.004910719535319147,
          0.00488247052535074,
          0.004853770538447218,
          0.00482462579450935,
          0.004795043048160054,
          0.004765029553553453,
          0.0047345930298275515,
          0.004703741627265067,
          0.0046724838942242665,
          0.004640828744897836,
          0.0046087854279545735,
          0.0045763634961149815,
          0.004543572776708099,
          0.004510423343253074,
          0.004476925488104925,
          0.004443089696200157,
          0.0044089266199335946,
          0.004374447055193825,
          0.004339661918580383,
          0.004304582225821827,
          0.004269219071409433,
          0.0042335836094573665,
          0.004197687035795836,
          0.004161540571299837,
          0.004125155446451881,
          0.004088542887133394,
          0.004051714101635402,
          0.0040146802688754,
          0.003977452527803677,
          0.003940041967978856,
          0.0039024596212888694,
          0.003864716454790411,
          0.003826823364636836,
          0.003788791171061321,
          0.0037506306143795794,
          0.0037123523519736025,
          0.0036739669562155255,
          0.003635484913288443,
          0.003596916622859164,
          0.0035582723985556597,
          0.0035195624692006293,
          0.003480796980751014,
          0.0034419859988921555,
          0.0034031395122341586,
          0.0033642674360571294,
          0.0033253796165517314,
          0.003286485835500427,
          0.003247595815345293,
          0.0032087192245876294,
          0.00316986568346534,
          0.003131044769853886,
          0.0030922660253376805,
          0.003053538961399138,
          0.0030148730656737637,
          0.0029762778082205047,
          0.0029377626477581106,
          0.0028993370378193823,
          0.002861010432776753,
          0.002822792293694521,
          0.002784692093964421,
          0.0027467193246836505,
          0.0027088834997358443,
          0.002671194160538198,
          0.00263366088041958,
          0.0025962932685971133,
          0.0025591009737208083,
          0.0025220936869581943,
          0.002485281144593349,
          0.0024486731301172683,
          0.0024122794757887147,
          0.002376110063647311,
          0.0023401748259632422,
          0.0023044837451100465,
          0.0022690468528498552,
          0.002233874229022398,
          0.002198975999632038,
          0.00216436233432881,
          0.0021300434432823534,
          0.0020960295734494816,
          0.002062331004238447,
          0.002028958042575111,
          0.0019959210173782463,
          0.0019632302734532456,
          0.0019308961648151586,
          0.001898929047454202,
          0.0018673392715581462,
          0.0018361371732080356,
          0.0018053330655648267,
          0.001774937229566373,
          0.0017449599041550927,
          0.001715411276058361,
          0.0016863014691443992,
          0.0016576405333777106,
          0.0016294384333990204,
          0.0016017050367555237,
          0.0015744501018079928,
          0.0015476832653419138,
          0.0015214140299105517,
          0.0014956517509381508,
          0.00147040562361202,
          0.001445684669592437,
          0.0014214977235697485,
          0.0013978534196979458,
          0.0013747601779343882,
          0.0013522261903150489,
          0.0013302594071950018,
          0.0013088675234833467,
          0.0012880579649020138,
          0.0012678378742974226,
          0.0012482140980338153,
          0.0012291931724967894,
          0.0012107813107352025,
          0.0011929843892693028,
          0.0011758079350923656,
          0.0011592571128929553,
          0.001143336712524173,
          0.0011280511367460298,
          0.001113404389266348,
          0.001099400063105273,
          0.0010860413293077432,
          0.0010733309260279136,
          0.0010612711480087694,
          0.0010498638364797152,
          0.0010391103694942904,
          0.001029011652729585,
          0.001019568110768311,
          0.0010107796788838453,
          0.0010026457953480543,
          0.0009951653942809116,
          0.0009883368990604596,
          0.0009821582163108936,
          0.0009766267304859918,
          0.0009717392990643693,
          0.0009674922483724389,
          0.0009638813700502307,
          0.0009609019181745249,
          0.0009585486070530588,
          0.0009568156097028275,
          0.0009556965570247369,
          0.0009551845376861053,
          0.0009552720987217126,
          0.0009559512468632733,
          0.0009572134506063635,
          0.0009590496430229533,
          0.0009614502253267982,
          0.0009644050711979948,
          0.0009679035318720448,
          0.0009719344419977536,
          0.0009764861262672704,
          0.0009815464068204714,
          0.0009871026114247952,
          0.0009931415824304722,
          0.0009996496864999153,
          0.001006612825108794,
          0.0010140164458150552,
          0.0010218455542908473,
          0.0010300847271109978,
          0.0010387181252902375,
          0.0010477295085600843,
          0.0010571022503747364,
          0.0010668193536339408,
          0.0010768634671092896,
          0.0010872169025588703,
          0.001097861652513679,
          0.0011087794087176158,
          0.0011199515812014026,
          0.0011313593179691022,
          0.0011429835252743776,
          0.0011548048884620697,
          0.001166803893349097,
          0.001178960848117129,
          0.0011912559056878873,
          0.0012036690865505316,
          0.0012161803020089726,
          0.0012287693778155863,
          0.0012414160781563475,
          0.0012541001299510247,
          0.0012668012474307895,
          0.0012794991569543355,
          0.001292173622022354,
          0.0013048044684491578,
          0.0013173716096491364,
          0.001329855071994809,
          0.0013422350202023214,
          0.0013544917826994454,
          0.0013666058769305001,
          0.0013785580345519284,
          0.0013903292264719144,
          0.0014019006876869388,
          0.0014132539418679716,
          0.001424370825648863,
          0.0014352335125694957,
          0.0014458245366263428,
          0.001456126815383343,
          0.0014661236725963449,
          0.0014757988603049505,
          0.0014851365803461218,
          0.0014941215052447444,
          0.0015027387984372306,
          0.0015109741337852617,
          0.001518813714337953,
          0.0015262442903019784,
          0.0015332531761806472,
          0.0015398282670444374,
          0.0015459580538971704,
          0.001551631638103777,
          0.0015568387448474897,
          0.0015615697355863174,
          0.001565815619480732,
          0.001569568063766722,
          0.0015728194030506224,
          0.0015755626475045335,
          0.0015777914899435814,
          0.001579500311768779,
          0.0015806841877618527,
          0.0015813388897210165,
          0.0015814608889293666
         ],
         "yaxis": "y"
        }
       ],
       "layout": {
        "barmode": "overlay",
        "hovermode": "closest",
        "legend": {
         "traceorder": "reversed"
        },
        "paper_bgcolor": "rgba(0, 0, 0, 0)",
        "plot_bgcolor": "rgba(0, 0, 0, 0)",
        "template": {
         "data": {
          "bar": [
           {
            "error_x": {
             "color": "#2a3f5f"
            },
            "error_y": {
             "color": "#2a3f5f"
            },
            "marker": {
             "line": {
              "color": "#E5ECF6",
              "width": 0.5
             },
             "pattern": {
              "fillmode": "overlay",
              "size": 10,
              "solidity": 0.2
             }
            },
            "type": "bar"
           }
          ],
          "barpolar": [
           {
            "marker": {
             "line": {
              "color": "#E5ECF6",
              "width": 0.5
             },
             "pattern": {
              "fillmode": "overlay",
              "size": 10,
              "solidity": 0.2
             }
            },
            "type": "barpolar"
           }
          ],
          "carpet": [
           {
            "aaxis": {
             "endlinecolor": "#2a3f5f",
             "gridcolor": "white",
             "linecolor": "white",
             "minorgridcolor": "white",
             "startlinecolor": "#2a3f5f"
            },
            "baxis": {
             "endlinecolor": "#2a3f5f",
             "gridcolor": "white",
             "linecolor": "white",
             "minorgridcolor": "white",
             "startlinecolor": "#2a3f5f"
            },
            "type": "carpet"
           }
          ],
          "choropleth": [
           {
            "colorbar": {
             "outlinewidth": 0,
             "ticks": ""
            },
            "type": "choropleth"
           }
          ],
          "contour": [
           {
            "colorbar": {
             "outlinewidth": 0,
             "ticks": ""
            },
            "colorscale": [
             [
              0,
              "#0d0887"
             ],
             [
              0.1111111111111111,
              "#46039f"
             ],
             [
              0.2222222222222222,
              "#7201a8"
             ],
             [
              0.3333333333333333,
              "#9c179e"
             ],
             [
              0.4444444444444444,
              "#bd3786"
             ],
             [
              0.5555555555555556,
              "#d8576b"
             ],
             [
              0.6666666666666666,
              "#ed7953"
             ],
             [
              0.7777777777777778,
              "#fb9f3a"
             ],
             [
              0.8888888888888888,
              "#fdca26"
             ],
             [
              1,
              "#f0f921"
             ]
            ],
            "type": "contour"
           }
          ],
          "contourcarpet": [
           {
            "colorbar": {
             "outlinewidth": 0,
             "ticks": ""
            },
            "type": "contourcarpet"
           }
          ],
          "heatmap": [
           {
            "colorbar": {
             "outlinewidth": 0,
             "ticks": ""
            },
            "colorscale": [
             [
              0,
              "#0d0887"
             ],
             [
              0.1111111111111111,
              "#46039f"
             ],
             [
              0.2222222222222222,
              "#7201a8"
             ],
             [
              0.3333333333333333,
              "#9c179e"
             ],
             [
              0.4444444444444444,
              "#bd3786"
             ],
             [
              0.5555555555555556,
              "#d8576b"
             ],
             [
              0.6666666666666666,
              "#ed7953"
             ],
             [
              0.7777777777777778,
              "#fb9f3a"
             ],
             [
              0.8888888888888888,
              "#fdca26"
             ],
             [
              1,
              "#f0f921"
             ]
            ],
            "type": "heatmap"
           }
          ],
          "heatmapgl": [
           {
            "colorbar": {
             "outlinewidth": 0,
             "ticks": ""
            },
            "colorscale": [
             [
              0,
              "#0d0887"
             ],
             [
              0.1111111111111111,
              "#46039f"
             ],
             [
              0.2222222222222222,
              "#7201a8"
             ],
             [
              0.3333333333333333,
              "#9c179e"
             ],
             [
              0.4444444444444444,
              "#bd3786"
             ],
             [
              0.5555555555555556,
              "#d8576b"
             ],
             [
              0.6666666666666666,
              "#ed7953"
             ],
             [
              0.7777777777777778,
              "#fb9f3a"
             ],
             [
              0.8888888888888888,
              "#fdca26"
             ],
             [
              1,
              "#f0f921"
             ]
            ],
            "type": "heatmapgl"
           }
          ],
          "histogram": [
           {
            "marker": {
             "pattern": {
              "fillmode": "overlay",
              "size": 10,
              "solidity": 0.2
             }
            },
            "type": "histogram"
           }
          ],
          "histogram2d": [
           {
            "colorbar": {
             "outlinewidth": 0,
             "ticks": ""
            },
            "colorscale": [
             [
              0,
              "#0d0887"
             ],
             [
              0.1111111111111111,
              "#46039f"
             ],
             [
              0.2222222222222222,
              "#7201a8"
             ],
             [
              0.3333333333333333,
              "#9c179e"
             ],
             [
              0.4444444444444444,
              "#bd3786"
             ],
             [
              0.5555555555555556,
              "#d8576b"
             ],
             [
              0.6666666666666666,
              "#ed7953"
             ],
             [
              0.7777777777777778,
              "#fb9f3a"
             ],
             [
              0.8888888888888888,
              "#fdca26"
             ],
             [
              1,
              "#f0f921"
             ]
            ],
            "type": "histogram2d"
           }
          ],
          "histogram2dcontour": [
           {
            "colorbar": {
             "outlinewidth": 0,
             "ticks": ""
            },
            "colorscale": [
             [
              0,
              "#0d0887"
             ],
             [
              0.1111111111111111,
              "#46039f"
             ],
             [
              0.2222222222222222,
              "#7201a8"
             ],
             [
              0.3333333333333333,
              "#9c179e"
             ],
             [
              0.4444444444444444,
              "#bd3786"
             ],
             [
              0.5555555555555556,
              "#d8576b"
             ],
             [
              0.6666666666666666,
              "#ed7953"
             ],
             [
              0.7777777777777778,
              "#fb9f3a"
             ],
             [
              0.8888888888888888,
              "#fdca26"
             ],
             [
              1,
              "#f0f921"
             ]
            ],
            "type": "histogram2dcontour"
           }
          ],
          "mesh3d": [
           {
            "colorbar": {
             "outlinewidth": 0,
             "ticks": ""
            },
            "type": "mesh3d"
           }
          ],
          "parcoords": [
           {
            "line": {
             "colorbar": {
              "outlinewidth": 0,
              "ticks": ""
             }
            },
            "type": "parcoords"
           }
          ],
          "pie": [
           {
            "automargin": true,
            "type": "pie"
           }
          ],
          "scatter": [
           {
            "fillpattern": {
             "fillmode": "overlay",
             "size": 10,
             "solidity": 0.2
            },
            "type": "scatter"
           }
          ],
          "scatter3d": [
           {
            "line": {
             "colorbar": {
              "outlinewidth": 0,
              "ticks": ""
             }
            },
            "marker": {
             "colorbar": {
              "outlinewidth": 0,
              "ticks": ""
             }
            },
            "type": "scatter3d"
           }
          ],
          "scattercarpet": [
           {
            "marker": {
             "colorbar": {
              "outlinewidth": 0,
              "ticks": ""
             }
            },
            "type": "scattercarpet"
           }
          ],
          "scattergeo": [
           {
            "marker": {
             "colorbar": {
              "outlinewidth": 0,
              "ticks": ""
             }
            },
            "type": "scattergeo"
           }
          ],
          "scattergl": [
           {
            "marker": {
             "colorbar": {
              "outlinewidth": 0,
              "ticks": ""
             }
            },
            "type": "scattergl"
           }
          ],
          "scattermapbox": [
           {
            "marker": {
             "colorbar": {
              "outlinewidth": 0,
              "ticks": ""
             }
            },
            "type": "scattermapbox"
           }
          ],
          "scatterpolar": [
           {
            "marker": {
             "colorbar": {
              "outlinewidth": 0,
              "ticks": ""
             }
            },
            "type": "scatterpolar"
           }
          ],
          "scatterpolargl": [
           {
            "marker": {
             "colorbar": {
              "outlinewidth": 0,
              "ticks": ""
             }
            },
            "type": "scatterpolargl"
           }
          ],
          "scatterternary": [
           {
            "marker": {
             "colorbar": {
              "outlinewidth": 0,
              "ticks": ""
             }
            },
            "type": "scatterternary"
           }
          ],
          "surface": [
           {
            "colorbar": {
             "outlinewidth": 0,
             "ticks": ""
            },
            "colorscale": [
             [
              0,
              "#0d0887"
             ],
             [
              0.1111111111111111,
              "#46039f"
             ],
             [
              0.2222222222222222,
              "#7201a8"
             ],
             [
              0.3333333333333333,
              "#9c179e"
             ],
             [
              0.4444444444444444,
              "#bd3786"
             ],
             [
              0.5555555555555556,
              "#d8576b"
             ],
             [
              0.6666666666666666,
              "#ed7953"
             ],
             [
              0.7777777777777778,
              "#fb9f3a"
             ],
             [
              0.8888888888888888,
              "#fdca26"
             ],
             [
              1,
              "#f0f921"
             ]
            ],
            "type": "surface"
           }
          ],
          "table": [
           {
            "cells": {
             "fill": {
              "color": "#EBF0F8"
             },
             "line": {
              "color": "white"
             }
            },
            "header": {
             "fill": {
              "color": "#C8D4E3"
             },
             "line": {
              "color": "white"
             }
            },
            "type": "table"
           }
          ]
         },
         "layout": {
          "annotationdefaults": {
           "arrowcolor": "#2a3f5f",
           "arrowhead": 0,
           "arrowwidth": 1
          },
          "autotypenumbers": "strict",
          "coloraxis": {
           "colorbar": {
            "outlinewidth": 0,
            "ticks": ""
           }
          },
          "colorscale": {
           "diverging": [
            [
             0,
             "#8e0152"
            ],
            [
             0.1,
             "#c51b7d"
            ],
            [
             0.2,
             "#de77ae"
            ],
            [
             0.3,
             "#f1b6da"
            ],
            [
             0.4,
             "#fde0ef"
            ],
            [
             0.5,
             "#f7f7f7"
            ],
            [
             0.6,
             "#e6f5d0"
            ],
            [
             0.7,
             "#b8e186"
            ],
            [
             0.8,
             "#7fbc41"
            ],
            [
             0.9,
             "#4d9221"
            ],
            [
             1,
             "#276419"
            ]
           ],
           "sequential": [
            [
             0,
             "#0d0887"
            ],
            [
             0.1111111111111111,
             "#46039f"
            ],
            [
             0.2222222222222222,
             "#7201a8"
            ],
            [
             0.3333333333333333,
             "#9c179e"
            ],
            [
             0.4444444444444444,
             "#bd3786"
            ],
            [
             0.5555555555555556,
             "#d8576b"
            ],
            [
             0.6666666666666666,
             "#ed7953"
            ],
            [
             0.7777777777777778,
             "#fb9f3a"
            ],
            [
             0.8888888888888888,
             "#fdca26"
            ],
            [
             1,
             "#f0f921"
            ]
           ],
           "sequentialminus": [
            [
             0,
             "#0d0887"
            ],
            [
             0.1111111111111111,
             "#46039f"
            ],
            [
             0.2222222222222222,
             "#7201a8"
            ],
            [
             0.3333333333333333,
             "#9c179e"
            ],
            [
             0.4444444444444444,
             "#bd3786"
            ],
            [
             0.5555555555555556,
             "#d8576b"
            ],
            [
             0.6666666666666666,
             "#ed7953"
            ],
            [
             0.7777777777777778,
             "#fb9f3a"
            ],
            [
             0.8888888888888888,
             "#fdca26"
            ],
            [
             1,
             "#f0f921"
            ]
           ]
          },
          "colorway": [
           "#636efa",
           "#EF553B",
           "#00cc96",
           "#ab63fa",
           "#FFA15A",
           "#19d3f3",
           "#FF6692",
           "#B6E880",
           "#FF97FF",
           "#FECB52"
          ],
          "font": {
           "color": "#2a3f5f"
          },
          "geo": {
           "bgcolor": "white",
           "lakecolor": "white",
           "landcolor": "#E5ECF6",
           "showlakes": true,
           "showland": true,
           "subunitcolor": "white"
          },
          "hoverlabel": {
           "align": "left"
          },
          "hovermode": "closest",
          "mapbox": {
           "style": "light"
          },
          "paper_bgcolor": "white",
          "plot_bgcolor": "#E5ECF6",
          "polar": {
           "angularaxis": {
            "gridcolor": "white",
            "linecolor": "white",
            "ticks": ""
           },
           "bgcolor": "#E5ECF6",
           "radialaxis": {
            "gridcolor": "white",
            "linecolor": "white",
            "ticks": ""
           }
          },
          "scene": {
           "xaxis": {
            "backgroundcolor": "#E5ECF6",
            "gridcolor": "white",
            "gridwidth": 2,
            "linecolor": "white",
            "showbackground": true,
            "ticks": "",
            "zerolinecolor": "white"
           },
           "yaxis": {
            "backgroundcolor": "#E5ECF6",
            "gridcolor": "white",
            "gridwidth": 2,
            "linecolor": "white",
            "showbackground": true,
            "ticks": "",
            "zerolinecolor": "white"
           },
           "zaxis": {
            "backgroundcolor": "#E5ECF6",
            "gridcolor": "white",
            "gridwidth": 2,
            "linecolor": "white",
            "showbackground": true,
            "ticks": "",
            "zerolinecolor": "white"
           }
          },
          "shapedefaults": {
           "line": {
            "color": "#2a3f5f"
           }
          },
          "ternary": {
           "aaxis": {
            "gridcolor": "white",
            "linecolor": "white",
            "ticks": ""
           },
           "baxis": {
            "gridcolor": "white",
            "linecolor": "white",
            "ticks": ""
           },
           "bgcolor": "#E5ECF6",
           "caxis": {
            "gridcolor": "white",
            "linecolor": "white",
            "ticks": ""
           }
          },
          "title": {
           "x": 0.05
          },
          "xaxis": {
           "automargin": true,
           "gridcolor": "white",
           "linecolor": "white",
           "ticks": "",
           "title": {
            "standoff": 15
           },
           "zerolinecolor": "white",
           "zerolinewidth": 2
          },
          "yaxis": {
           "automargin": true,
           "gridcolor": "white",
           "linecolor": "white",
           "ticks": "",
           "title": {
            "standoff": 15
           },
           "zerolinecolor": "white",
           "zerolinewidth": 2
          }
         }
        },
        "title": {
         "text": "Efficiency by Body Style"
        },
        "xaxis": {
         "anchor": "y2",
         "domain": [
          0,
          1
         ],
         "showgrid": false,
         "title": {
          "text": "Efficiency (WhKm)"
         },
         "zeroline": false
        },
        "yaxis": {
         "anchor": "free",
         "domain": [
          0,
          1
         ],
         "position": 0,
         "showgrid": false,
         "title": {
          "text": "Percent of Cars"
         }
        }
       }
      }
     },
     "metadata": {},
     "output_type": "display_data"
    }
   ],
   "source": [
    "# Efficiency by Body Style Density\n",
    "suv = suv_hatch_sed[suv_hatch_sed['body_style']=='SUV']['efficiency_whkm']\n",
    "hatch = suv_hatch_sed[suv_hatch_sed['body_style']=='Hatchback']['efficiency_whkm']\n",
    "sedan = suv_hatch_sed[suv_hatch_sed['body_style']=='Sedan']['efficiency_whkm']\n",
    "\n",
    "hist_data = [sedan,suv, hatch]\n",
    "group_labels = ['Sedan', 'SUV', 'Hatchback']\n",
    "\n",
    "\n",
    "eff_dens = ff.create_distplot(hist_data, group_labels, show_hist=False, show_rug=False,\n",
    "                                colors=[px.colors.qualitative.Plotly[0],\n",
    "                                                   px.colors.qualitative.Plotly[7],\n",
    "                                                   px.colors.qualitative.Plotly[9]])\n",
    "                                                   \n",
    "\n",
    "eff_dens.update_layout({\n",
    "    'plot_bgcolor':'rgba(0, 0, 0, 0)',\n",
    "    'paper_bgcolor':'rgba(0, 0, 0, 0)'\n",
    "})\n",
    "\n",
    "eff_dens.update_layout(title='Efficiency by Body Style', xaxis_title='Efficiency (WhKm)', yaxis_title='Percent of Cars')\n",
    "eff_dens.update_xaxes(showgrid=False)\n",
    "eff_dens.update_yaxes(showgrid=False)\n",
    "\n",
    "eff_dens.show()"
   ]
  },
  {
   "cell_type": "code",
   "execution_count": 28,
   "metadata": {},
   "outputs": [
    {
     "data": {
      "application/vnd.plotly.v1+json": {
       "config": {
        "plotlyServerURL": "https://plot.ly"
       },
       "data": [
        {
         "alignmentgroup": "True",
         "bingroup": "x",
         "hovertemplate": "body_style=Sedan<br>Range (Km)=%{x}<br>count=%{y}<extra></extra>",
         "legendgroup": "Sedan",
         "marker": {
          "color": "#636EFA",
          "pattern": {
           "shape": ""
          }
         },
         "name": "Sedan",
         "nbinsx": 25,
         "offsetgroup": "Sedan",
         "opacity": 0.7,
         "orientation": "v",
         "showlegend": true,
         "type": "histogram",
         "x": [
          450,
          610,
          310,
          450,
          375,
          425,
          435,
          365,
          425,
          390
         ],
         "xaxis": "x",
         "yaxis": "y"
        },
        {
         "alignmentgroup": "True",
         "bingroup": "x",
         "hovertemplate": "body_style=Hatchback<br>Range (Km)=%{x}<br>count=%{y}<extra></extra>",
         "legendgroup": "Hatchback",
         "marker": {
          "color": "#B6E880",
          "pattern": {
           "shape": ""
          }
         },
         "name": "Hatchback",
         "nbinsx": 25,
         "offsetgroup": "Hatchback",
         "opacity": 0.7,
         "orientation": "v",
         "showlegend": true,
         "type": "histogram",
         "x": [
          270,
          170,
          190,
          275,
          220,
          440,
          195,
          185,
          275,
          350,
          235,
          315,
          325,
          425,
          310,
          195,
          195,
          170,
          130,
          255,
          440,
          230,
          225,
          95,
          340,
          100,
          250,
          420,
          340,
          330,
          325,
          375
         ],
         "xaxis": "x",
         "yaxis": "y"
        },
        {
         "alignmentgroup": "True",
         "bingroup": "x",
         "hovertemplate": "body_style=SUV<br>Range (Km)=%{x}<br>count=%{y}<extra></extra>",
         "legendgroup": "SUV",
         "marker": {
          "color": "#FECB52",
          "pattern": {
           "shape": ""
          }
         },
         "name": "SUV",
         "nbinsx": 25,
         "offsetgroup": "SUV",
         "opacity": 0.7,
         "orientation": "v",
         "showlegend": true,
         "type": "histogram",
         "x": [
          360,
          400,
          370,
          400,
          220,
          425,
          290,
          420,
          375,
          250,
          280,
          370,
          180,
          270,
          350,
          255,
          380,
          365,
          335,
          365,
          255,
          420,
          450,
          250,
          250,
          410,
          365,
          450,
          430,
          400,
          390,
          235,
          410,
          340,
          440,
          360,
          295,
          400,
          320,
          320,
          230,
          325,
          335,
          400
         ],
         "xaxis": "x",
         "yaxis": "y"
        }
       ],
       "layout": {
        "barmode": "overlay",
        "height": 500,
        "legend": {
         "title": {
          "text": "body_style"
         },
         "tracegroupgap": 0
        },
        "paper_bgcolor": "rgba(0, 0, 0, 0)",
        "plot_bgcolor": "rgba(0, 0, 0, 0)",
        "template": {
         "data": {
          "bar": [
           {
            "error_x": {
             "color": "#2a3f5f"
            },
            "error_y": {
             "color": "#2a3f5f"
            },
            "marker": {
             "line": {
              "color": "#E5ECF6",
              "width": 0.5
             },
             "pattern": {
              "fillmode": "overlay",
              "size": 10,
              "solidity": 0.2
             }
            },
            "type": "bar"
           }
          ],
          "barpolar": [
           {
            "marker": {
             "line": {
              "color": "#E5ECF6",
              "width": 0.5
             },
             "pattern": {
              "fillmode": "overlay",
              "size": 10,
              "solidity": 0.2
             }
            },
            "type": "barpolar"
           }
          ],
          "carpet": [
           {
            "aaxis": {
             "endlinecolor": "#2a3f5f",
             "gridcolor": "white",
             "linecolor": "white",
             "minorgridcolor": "white",
             "startlinecolor": "#2a3f5f"
            },
            "baxis": {
             "endlinecolor": "#2a3f5f",
             "gridcolor": "white",
             "linecolor": "white",
             "minorgridcolor": "white",
             "startlinecolor": "#2a3f5f"
            },
            "type": "carpet"
           }
          ],
          "choropleth": [
           {
            "colorbar": {
             "outlinewidth": 0,
             "ticks": ""
            },
            "type": "choropleth"
           }
          ],
          "contour": [
           {
            "colorbar": {
             "outlinewidth": 0,
             "ticks": ""
            },
            "colorscale": [
             [
              0,
              "#0d0887"
             ],
             [
              0.1111111111111111,
              "#46039f"
             ],
             [
              0.2222222222222222,
              "#7201a8"
             ],
             [
              0.3333333333333333,
              "#9c179e"
             ],
             [
              0.4444444444444444,
              "#bd3786"
             ],
             [
              0.5555555555555556,
              "#d8576b"
             ],
             [
              0.6666666666666666,
              "#ed7953"
             ],
             [
              0.7777777777777778,
              "#fb9f3a"
             ],
             [
              0.8888888888888888,
              "#fdca26"
             ],
             [
              1,
              "#f0f921"
             ]
            ],
            "type": "contour"
           }
          ],
          "contourcarpet": [
           {
            "colorbar": {
             "outlinewidth": 0,
             "ticks": ""
            },
            "type": "contourcarpet"
           }
          ],
          "heatmap": [
           {
            "colorbar": {
             "outlinewidth": 0,
             "ticks": ""
            },
            "colorscale": [
             [
              0,
              "#0d0887"
             ],
             [
              0.1111111111111111,
              "#46039f"
             ],
             [
              0.2222222222222222,
              "#7201a8"
             ],
             [
              0.3333333333333333,
              "#9c179e"
             ],
             [
              0.4444444444444444,
              "#bd3786"
             ],
             [
              0.5555555555555556,
              "#d8576b"
             ],
             [
              0.6666666666666666,
              "#ed7953"
             ],
             [
              0.7777777777777778,
              "#fb9f3a"
             ],
             [
              0.8888888888888888,
              "#fdca26"
             ],
             [
              1,
              "#f0f921"
             ]
            ],
            "type": "heatmap"
           }
          ],
          "heatmapgl": [
           {
            "colorbar": {
             "outlinewidth": 0,
             "ticks": ""
            },
            "colorscale": [
             [
              0,
              "#0d0887"
             ],
             [
              0.1111111111111111,
              "#46039f"
             ],
             [
              0.2222222222222222,
              "#7201a8"
             ],
             [
              0.3333333333333333,
              "#9c179e"
             ],
             [
              0.4444444444444444,
              "#bd3786"
             ],
             [
              0.5555555555555556,
              "#d8576b"
             ],
             [
              0.6666666666666666,
              "#ed7953"
             ],
             [
              0.7777777777777778,
              "#fb9f3a"
             ],
             [
              0.8888888888888888,
              "#fdca26"
             ],
             [
              1,
              "#f0f921"
             ]
            ],
            "type": "heatmapgl"
           }
          ],
          "histogram": [
           {
            "marker": {
             "pattern": {
              "fillmode": "overlay",
              "size": 10,
              "solidity": 0.2
             }
            },
            "type": "histogram"
           }
          ],
          "histogram2d": [
           {
            "colorbar": {
             "outlinewidth": 0,
             "ticks": ""
            },
            "colorscale": [
             [
              0,
              "#0d0887"
             ],
             [
              0.1111111111111111,
              "#46039f"
             ],
             [
              0.2222222222222222,
              "#7201a8"
             ],
             [
              0.3333333333333333,
              "#9c179e"
             ],
             [
              0.4444444444444444,
              "#bd3786"
             ],
             [
              0.5555555555555556,
              "#d8576b"
             ],
             [
              0.6666666666666666,
              "#ed7953"
             ],
             [
              0.7777777777777778,
              "#fb9f3a"
             ],
             [
              0.8888888888888888,
              "#fdca26"
             ],
             [
              1,
              "#f0f921"
             ]
            ],
            "type": "histogram2d"
           }
          ],
          "histogram2dcontour": [
           {
            "colorbar": {
             "outlinewidth": 0,
             "ticks": ""
            },
            "colorscale": [
             [
              0,
              "#0d0887"
             ],
             [
              0.1111111111111111,
              "#46039f"
             ],
             [
              0.2222222222222222,
              "#7201a8"
             ],
             [
              0.3333333333333333,
              "#9c179e"
             ],
             [
              0.4444444444444444,
              "#bd3786"
             ],
             [
              0.5555555555555556,
              "#d8576b"
             ],
             [
              0.6666666666666666,
              "#ed7953"
             ],
             [
              0.7777777777777778,
              "#fb9f3a"
             ],
             [
              0.8888888888888888,
              "#fdca26"
             ],
             [
              1,
              "#f0f921"
             ]
            ],
            "type": "histogram2dcontour"
           }
          ],
          "mesh3d": [
           {
            "colorbar": {
             "outlinewidth": 0,
             "ticks": ""
            },
            "type": "mesh3d"
           }
          ],
          "parcoords": [
           {
            "line": {
             "colorbar": {
              "outlinewidth": 0,
              "ticks": ""
             }
            },
            "type": "parcoords"
           }
          ],
          "pie": [
           {
            "automargin": true,
            "type": "pie"
           }
          ],
          "scatter": [
           {
            "fillpattern": {
             "fillmode": "overlay",
             "size": 10,
             "solidity": 0.2
            },
            "type": "scatter"
           }
          ],
          "scatter3d": [
           {
            "line": {
             "colorbar": {
              "outlinewidth": 0,
              "ticks": ""
             }
            },
            "marker": {
             "colorbar": {
              "outlinewidth": 0,
              "ticks": ""
             }
            },
            "type": "scatter3d"
           }
          ],
          "scattercarpet": [
           {
            "marker": {
             "colorbar": {
              "outlinewidth": 0,
              "ticks": ""
             }
            },
            "type": "scattercarpet"
           }
          ],
          "scattergeo": [
           {
            "marker": {
             "colorbar": {
              "outlinewidth": 0,
              "ticks": ""
             }
            },
            "type": "scattergeo"
           }
          ],
          "scattergl": [
           {
            "marker": {
             "colorbar": {
              "outlinewidth": 0,
              "ticks": ""
             }
            },
            "type": "scattergl"
           }
          ],
          "scattermapbox": [
           {
            "marker": {
             "colorbar": {
              "outlinewidth": 0,
              "ticks": ""
             }
            },
            "type": "scattermapbox"
           }
          ],
          "scatterpolar": [
           {
            "marker": {
             "colorbar": {
              "outlinewidth": 0,
              "ticks": ""
             }
            },
            "type": "scatterpolar"
           }
          ],
          "scatterpolargl": [
           {
            "marker": {
             "colorbar": {
              "outlinewidth": 0,
              "ticks": ""
             }
            },
            "type": "scatterpolargl"
           }
          ],
          "scatterternary": [
           {
            "marker": {
             "colorbar": {
              "outlinewidth": 0,
              "ticks": ""
             }
            },
            "type": "scatterternary"
           }
          ],
          "surface": [
           {
            "colorbar": {
             "outlinewidth": 0,
             "ticks": ""
            },
            "colorscale": [
             [
              0,
              "#0d0887"
             ],
             [
              0.1111111111111111,
              "#46039f"
             ],
             [
              0.2222222222222222,
              "#7201a8"
             ],
             [
              0.3333333333333333,
              "#9c179e"
             ],
             [
              0.4444444444444444,
              "#bd3786"
             ],
             [
              0.5555555555555556,
              "#d8576b"
             ],
             [
              0.6666666666666666,
              "#ed7953"
             ],
             [
              0.7777777777777778,
              "#fb9f3a"
             ],
             [
              0.8888888888888888,
              "#fdca26"
             ],
             [
              1,
              "#f0f921"
             ]
            ],
            "type": "surface"
           }
          ],
          "table": [
           {
            "cells": {
             "fill": {
              "color": "#EBF0F8"
             },
             "line": {
              "color": "white"
             }
            },
            "header": {
             "fill": {
              "color": "#C8D4E3"
             },
             "line": {
              "color": "white"
             }
            },
            "type": "table"
           }
          ]
         },
         "layout": {
          "annotationdefaults": {
           "arrowcolor": "#2a3f5f",
           "arrowhead": 0,
           "arrowwidth": 1
          },
          "autotypenumbers": "strict",
          "coloraxis": {
           "colorbar": {
            "outlinewidth": 0,
            "ticks": ""
           }
          },
          "colorscale": {
           "diverging": [
            [
             0,
             "#8e0152"
            ],
            [
             0.1,
             "#c51b7d"
            ],
            [
             0.2,
             "#de77ae"
            ],
            [
             0.3,
             "#f1b6da"
            ],
            [
             0.4,
             "#fde0ef"
            ],
            [
             0.5,
             "#f7f7f7"
            ],
            [
             0.6,
             "#e6f5d0"
            ],
            [
             0.7,
             "#b8e186"
            ],
            [
             0.8,
             "#7fbc41"
            ],
            [
             0.9,
             "#4d9221"
            ],
            [
             1,
             "#276419"
            ]
           ],
           "sequential": [
            [
             0,
             "#0d0887"
            ],
            [
             0.1111111111111111,
             "#46039f"
            ],
            [
             0.2222222222222222,
             "#7201a8"
            ],
            [
             0.3333333333333333,
             "#9c179e"
            ],
            [
             0.4444444444444444,
             "#bd3786"
            ],
            [
             0.5555555555555556,
             "#d8576b"
            ],
            [
             0.6666666666666666,
             "#ed7953"
            ],
            [
             0.7777777777777778,
             "#fb9f3a"
            ],
            [
             0.8888888888888888,
             "#fdca26"
            ],
            [
             1,
             "#f0f921"
            ]
           ],
           "sequentialminus": [
            [
             0,
             "#0d0887"
            ],
            [
             0.1111111111111111,
             "#46039f"
            ],
            [
             0.2222222222222222,
             "#7201a8"
            ],
            [
             0.3333333333333333,
             "#9c179e"
            ],
            [
             0.4444444444444444,
             "#bd3786"
            ],
            [
             0.5555555555555556,
             "#d8576b"
            ],
            [
             0.6666666666666666,
             "#ed7953"
            ],
            [
             0.7777777777777778,
             "#fb9f3a"
            ],
            [
             0.8888888888888888,
             "#fdca26"
            ],
            [
             1,
             "#f0f921"
            ]
           ]
          },
          "colorway": [
           "#636efa",
           "#EF553B",
           "#00cc96",
           "#ab63fa",
           "#FFA15A",
           "#19d3f3",
           "#FF6692",
           "#B6E880",
           "#FF97FF",
           "#FECB52"
          ],
          "font": {
           "color": "#2a3f5f"
          },
          "geo": {
           "bgcolor": "white",
           "lakecolor": "white",
           "landcolor": "#E5ECF6",
           "showlakes": true,
           "showland": true,
           "subunitcolor": "white"
          },
          "hoverlabel": {
           "align": "left"
          },
          "hovermode": "closest",
          "mapbox": {
           "style": "light"
          },
          "paper_bgcolor": "white",
          "plot_bgcolor": "#E5ECF6",
          "polar": {
           "angularaxis": {
            "gridcolor": "white",
            "linecolor": "white",
            "ticks": ""
           },
           "bgcolor": "#E5ECF6",
           "radialaxis": {
            "gridcolor": "white",
            "linecolor": "white",
            "ticks": ""
           }
          },
          "scene": {
           "xaxis": {
            "backgroundcolor": "#E5ECF6",
            "gridcolor": "white",
            "gridwidth": 2,
            "linecolor": "white",
            "showbackground": true,
            "ticks": "",
            "zerolinecolor": "white"
           },
           "yaxis": {
            "backgroundcolor": "#E5ECF6",
            "gridcolor": "white",
            "gridwidth": 2,
            "linecolor": "white",
            "showbackground": true,
            "ticks": "",
            "zerolinecolor": "white"
           },
           "zaxis": {
            "backgroundcolor": "#E5ECF6",
            "gridcolor": "white",
            "gridwidth": 2,
            "linecolor": "white",
            "showbackground": true,
            "ticks": "",
            "zerolinecolor": "white"
           }
          },
          "shapedefaults": {
           "line": {
            "color": "#2a3f5f"
           }
          },
          "ternary": {
           "aaxis": {
            "gridcolor": "white",
            "linecolor": "white",
            "ticks": ""
           },
           "baxis": {
            "gridcolor": "white",
            "linecolor": "white",
            "ticks": ""
           },
           "bgcolor": "#E5ECF6",
           "caxis": {
            "gridcolor": "white",
            "linecolor": "white",
            "ticks": ""
           }
          },
          "title": {
           "x": 0.05
          },
          "xaxis": {
           "automargin": true,
           "gridcolor": "white",
           "linecolor": "white",
           "ticks": "",
           "title": {
            "standoff": 15
           },
           "zerolinecolor": "white",
           "zerolinewidth": 2
          },
          "yaxis": {
           "automargin": true,
           "gridcolor": "white",
           "linecolor": "white",
           "ticks": "",
           "title": {
            "standoff": 15
           },
           "zerolinecolor": "white",
           "zerolinewidth": 2
          }
         }
        },
        "title": {
         "text": "Range by Body Style for EVs"
        },
        "width": 800,
        "xaxis": {
         "anchor": "y",
         "domain": [
          0,
          1
         ],
         "showgrid": false,
         "title": {
          "text": "Range (Km)"
         }
        },
        "yaxis": {
         "anchor": "x",
         "domain": [
          0,
          1
         ],
         "showgrid": false,
         "title": {
          "text": "count"
         }
        }
       }
      }
     },
     "metadata": {},
     "output_type": "display_data"
    }
   ],
   "source": [
    "# Create a histogram of range by body style\n",
    "range_hist = px.histogram(suv_hatch_sed, title='Range by Body Style for EVs', x='range_km', color='body_style', nbins=25,\n",
    "                          labels={'range_km':'Range (Km)', 'count':'Frequency'},\n",
    "                          color_discrete_sequence=[px.colors.qualitative.Plotly[0],\n",
    "                                                   px.colors.qualitative.Plotly[7],\n",
    "                                                   px.colors.qualitative.Plotly[9]],\n",
    "                          width=800, height=500)\n",
    "                                                   \n",
    "\n",
    "range_hist.update_layout({\n",
    "    'plot_bgcolor':'rgba(0, 0, 0, 0)',\n",
    "    'paper_bgcolor':'rgba(0, 0, 0, 0)'\n",
    "})\n",
    "\n",
    "range_hist.update_layout(barmode='overlay')\n",
    "range_hist.update_traces(opacity=0.7)\n",
    "\n",
    "range_hist.update_xaxes(showgrid=False)\n",
    "range_hist.update_yaxes(showgrid=False)\n",
    "\n",
    "range_hist.show()"
   ]
  },
  {
   "cell_type": "code",
   "execution_count": 55,
   "metadata": {},
   "outputs": [
    {
     "data": {
      "application/vnd.plotly.v1+json": {
       "config": {
        "plotlyServerURL": "https://plot.ly"
       },
       "data": [
        {
         "legendgroup": "Sedan",
         "marker": {
          "color": "#636EFA"
         },
         "mode": "lines",
         "name": "Sedan",
         "showlegend": true,
         "type": "scatter",
         "x": [
          310,
          310.6,
          311.2,
          311.8,
          312.4,
          313,
          313.6,
          314.2,
          314.8,
          315.4,
          316,
          316.6,
          317.2,
          317.8,
          318.4,
          319,
          319.6,
          320.2,
          320.8,
          321.4,
          322,
          322.6,
          323.2,
          323.8,
          324.4,
          325,
          325.6,
          326.2,
          326.8,
          327.4,
          328,
          328.6,
          329.2,
          329.8,
          330.4,
          331,
          331.6,
          332.2,
          332.8,
          333.4,
          334,
          334.6,
          335.2,
          335.8,
          336.4,
          337,
          337.6,
          338.2,
          338.8,
          339.4,
          340,
          340.6,
          341.2,
          341.8,
          342.4,
          343,
          343.6,
          344.2,
          344.8,
          345.4,
          346,
          346.6,
          347.2,
          347.8,
          348.4,
          349,
          349.6,
          350.2,
          350.8,
          351.4,
          352,
          352.6,
          353.2,
          353.8,
          354.4,
          355,
          355.6,
          356.2,
          356.8,
          357.4,
          358,
          358.6,
          359.2,
          359.8,
          360.4,
          361,
          361.6,
          362.2,
          362.8,
          363.4,
          364,
          364.6,
          365.2,
          365.8,
          366.4,
          367,
          367.6,
          368.2,
          368.8,
          369.4,
          370,
          370.6,
          371.2,
          371.8,
          372.4,
          373,
          373.6,
          374.2,
          374.8,
          375.4,
          376,
          376.6,
          377.2,
          377.8,
          378.4,
          379,
          379.6,
          380.2,
          380.8,
          381.4,
          382,
          382.6,
          383.2,
          383.8,
          384.4,
          385,
          385.6,
          386.2,
          386.8,
          387.4,
          388,
          388.6,
          389.2,
          389.8,
          390.4,
          391,
          391.6,
          392.2,
          392.8,
          393.4,
          394,
          394.6,
          395.2,
          395.8,
          396.4,
          397,
          397.6,
          398.2,
          398.8,
          399.4,
          400,
          400.6,
          401.2,
          401.8,
          402.4,
          403,
          403.6,
          404.2,
          404.8,
          405.4,
          406,
          406.6,
          407.2,
          407.8,
          408.4,
          409,
          409.6,
          410.2,
          410.8,
          411.4,
          412,
          412.6,
          413.2,
          413.8,
          414.4,
          415,
          415.6,
          416.2,
          416.8,
          417.4,
          418,
          418.6,
          419.2,
          419.8,
          420.4,
          421,
          421.6,
          422.2,
          422.8,
          423.4,
          424,
          424.6,
          425.2,
          425.8,
          426.4,
          427,
          427.6,
          428.2,
          428.8,
          429.4,
          430,
          430.6,
          431.2,
          431.8,
          432.4,
          433,
          433.6,
          434.2,
          434.8,
          435.4,
          436,
          436.6,
          437.2,
          437.8,
          438.4,
          439,
          439.6,
          440.2,
          440.8,
          441.4,
          442,
          442.6,
          443.2,
          443.8,
          444.4,
          445,
          445.6,
          446.2,
          446.8,
          447.4,
          448,
          448.6,
          449.2,
          449.8,
          450.4,
          451,
          451.6,
          452.2,
          452.8,
          453.4,
          454,
          454.6,
          455.2,
          455.8,
          456.4,
          457,
          457.6,
          458.2,
          458.8,
          459.4,
          460,
          460.6,
          461.2,
          461.8,
          462.4,
          463,
          463.6,
          464.2,
          464.8,
          465.4,
          466,
          466.6,
          467.2,
          467.8,
          468.4,
          469,
          469.6,
          470.2,
          470.8,
          471.4,
          472,
          472.6,
          473.2,
          473.8,
          474.4,
          475,
          475.6,
          476.2,
          476.8,
          477.4,
          478,
          478.6,
          479.2,
          479.8,
          480.4,
          481,
          481.6,
          482.2,
          482.8,
          483.4,
          484,
          484.6,
          485.2,
          485.8,
          486.4,
          487,
          487.6,
          488.2,
          488.8,
          489.4,
          490,
          490.6,
          491.2,
          491.8,
          492.4,
          493,
          493.6,
          494.2,
          494.8,
          495.4,
          496,
          496.6,
          497.2,
          497.8,
          498.4,
          499,
          499.6,
          500.2,
          500.8,
          501.4,
          502,
          502.6,
          503.2,
          503.8,
          504.4,
          505,
          505.6,
          506.2,
          506.8,
          507.4,
          508,
          508.6,
          509.2,
          509.8,
          510.4,
          511,
          511.6,
          512.2,
          512.8,
          513.4,
          514,
          514.6,
          515.2,
          515.8,
          516.4,
          517,
          517.6,
          518.2,
          518.8,
          519.4,
          520,
          520.6,
          521.2,
          521.8,
          522.4,
          523,
          523.6,
          524.2,
          524.8,
          525.4,
          526,
          526.6,
          527.2,
          527.8,
          528.4,
          529,
          529.6,
          530.2,
          530.8,
          531.4,
          532,
          532.6,
          533.2,
          533.8,
          534.4,
          535,
          535.6,
          536.2,
          536.8,
          537.4,
          538,
          538.6,
          539.2,
          539.8,
          540.4,
          541,
          541.6,
          542.2,
          542.8,
          543.4,
          544,
          544.6,
          545.2,
          545.8,
          546.4,
          547,
          547.6,
          548.2,
          548.8,
          549.4,
          550,
          550.6,
          551.2,
          551.8,
          552.4,
          553,
          553.6,
          554.2,
          554.8,
          555.4,
          556,
          556.6,
          557.2,
          557.8,
          558.4,
          559,
          559.6,
          560.2,
          560.8,
          561.4,
          562,
          562.6,
          563.2,
          563.8,
          564.4,
          565,
          565.6,
          566.2,
          566.8,
          567.4,
          568,
          568.6,
          569.2,
          569.8,
          570.4,
          571,
          571.6,
          572.2,
          572.8,
          573.4,
          574,
          574.6,
          575.2,
          575.8,
          576.4,
          577,
          577.6,
          578.2,
          578.8,
          579.4,
          580,
          580.6,
          581.2,
          581.8,
          582.4,
          583,
          583.6,
          584.2,
          584.8,
          585.4,
          586,
          586.6,
          587.2,
          587.8,
          588.4,
          589,
          589.6,
          590.2,
          590.8,
          591.4,
          592,
          592.6,
          593.2,
          593.8,
          594.4,
          595,
          595.6,
          596.2,
          596.8,
          597.4,
          598,
          598.6,
          599.2,
          599.8,
          600.4,
          601,
          601.6,
          602.2,
          602.8,
          603.4,
          604,
          604.6,
          605.2,
          605.8,
          606.4,
          607,
          607.6,
          608.2,
          608.8,
          609.4
         ],
         "xaxis": "x",
         "y": [
          0.0019753874352118387,
          0.001996055179294609,
          0.0020168327880126947,
          0.002037719750673508,
          0.002058715535769896,
          0.002079819590346969,
          0.002101031339361199,
          0.002122350185032329,
          0.0021437755061885855,
          0.002165306657605678,
          0.0021869429693401666,
          0.0022086837460576917,
          0.0022305282663566033,
          0.0022524757820875907,
          0.0022745255176698006,
          0.002296676669404083,
          0.002318928404783859,
          0.002341279861804261,
          0.0023637301482700877,
          0.0023862783411031556,
          0.002408923485649675,
          0.002431664594988196,
          0.0024545006492387713,
          0.0024774305948739193,
          0.002500453344031949,
          0.002523567773833334,
          0.002546772725700656,
          0.00257006700468279,
          0.0025934493787838904,
          0.0026169185782978,
          0.002640473295148512,
          0.002664112182237227,
          0.0026878338527966767,
          0.002711636879753265,
          0.0027355197950976427,
          0.0027594810892643184,
          0.002783519210520866,
          0.0028076325643673593,
          0.002831819512946606,
          0.002856078374465717,
          0.0028804074226296775,
          0.0029048048860874018,
          0.002929268947890903,
          0.002953797744968131,
          0.00297838936760999,
          0.003003041858972172,
          0.0030277532145922843,
          0.0030525213819228604,
          0.0030773442598807706,
          0.0031022196984135655,
          0.003127145498083325,
          0.0031521194096684442,
          0.0031771391337839855,
          0.003202202320521036,
          0.0032273065691055818,
          0.0032524494275774606,
          0.0032776283924897914,
          0.0033028409086294777,
          0.0033280843687592035,
          0.0033533561133814067,
          0.00337865343052475,
          0.0034039735555535014,
          0.003429313671000342,
          0.0034546709064230356,
          0.003480042338285397,
          0.0035054249898630644,
          0.003530815831174468,
          0.0035562117789374546,
          0.0035816096965520265,
          0.0036070063941095755,
          0.003632398628429105,
          0.003657783103120776,
          0.0036831564686772835,
          0.0037085153225934146,
          0.003733856209514212,
          0.003759175621412149,
          0.0037844699977936944,
          0.0038097357259356895,
          0.0038349691411519093,
          0.003860166527090141,
          0.003885324116060255,
          0.003910438089393524,
          0.003935504577833652,
          0.003960519661959788,
          0.003985479372641924,
          0.004010379691529017,
          0.004035216551570124,
          0.004059985837568943,
          0.0040846833867720445,
          0.004109304989491074,
          0.004133846389759322,
          0.004158303286022823,
          0.004182671331866393,
          0.004206946136774804,
          0.00423112326692936,
          0.004255198246040169,
          0.004279166556214291,
          0.00430302363886004,
          0.004326764895627636,
          0.004350385689386349,
          0.0043738813452384355,
          0.0043972471515699085,
          0.004420478361138384,
          0.004443570192198092,
          0.00446651782966217,
          0.004489316426302377,
          0.004511961103986229,
          0.004534446954951691,
          0.004556769043119424,
          0.004578922405442594,
          0.004600902053294232,
          0.004622702973892158,
          0.004644320131761328,
          0.004665748470233609,
          0.004686982912984772,
          0.004708018365608671,
          0.0047288497172283325,
          0.00474947184214384,
          0.004769879601516745,
          0.004790067845090731,
          0.004810031412948289,
          0.004829765137303008,
          0.004849263844327186,
          0.00486852235601432,
          0.004887535492076061,
          0.004906298071873179,
          0.004924804916379985,
          0.004943050850181726,
          0.004961030703504336,
          0.004978739314275924,
          0.00499617153021933,
          0.005013322210975069,
          0.0050301862302538965,
          0.005046758478018236,
          0.005063033862691581,
          0.005079007313395092,
          0.0050946737822103755,
          0.00511002824646758,
          0.0051250657110577386,
          0.005139781210768343,
          0.005154169812641084,
          0.005168226618350563,
          0.00518194676660288,
          0.005195325435552818,
          0.005208357845238397,
          0.0052210392600314775,
          0.005233364991103063,
          0.005245330398901937,
          0.005256930895645185,
          0.005268161947819112,
          0.005279019078689095,
          0.005289497870816767,
          0.005299593968582952,
          0.005309303080714768,
          0.0053186209828151474,
          0.005327543519893162,
          0.005336066608893346,
          0.0053441862412222756,
          0.005351898485270625,
          0.0053591994889287935,
          0.005366085482094333,
          0.005372552779169197,
          0.005378597781544957,
          0.005384216980073998,
          0.0053894069575247585,
          0.005394164391019007,
          0.0053984860544491545,
          0.005402368820873583,
          0.0054058096648879495,
          0.005408805664970389,
          0.0054113540057986005,
          0.00541345198053669,
          0.00541509699308973,
          0.005416286560323928,
          0.00541701831425033,
          0.0054172900041699595,
          0.005417099498778341,
          0.005416444788227272,
          0.0054153239861418415,
          0.005413735331590585,
          0.005411677191006749,
          0.005409148060058641,
          0.005406146565467022,
          0.005402671466767594,
          0.005398721658016578,
          0.0053942961694374465,
          0.005389394169006908,
          0.005384014963978253,
          0.005378158002340211,
          0.005371822874209512,
          0.005365009313155376,
          0.005357717197454189,
          0.005349946551272706,
          0.005341697545778114,
          0.005332970500173376,
          0.005323765882656307,
          0.005314084311300928,
          0.005303926554859625,
          0.005293293533484766,
          0.005282186319368496,
          0.005270606137299402,
          0.005258554365134919,
          0.005246032534188365,
          0.005233042329529518,
          0.005219585590197814,
          0.005205664309327244,
          0.005191280634182127,
          0.005176436866103023,
          0.005161135460362097,
          0.005145379025927382,
          0.005129170325135387,
          0.0051125122732716705,
          0.005095407938059001,
          0.005077860539052857,
          0.005059873446944123,
          0.00504145018276884,
          0.005022594417025071,
          0.005003309968696902,
          0.004983600804185851,
          0.004963471036149835,
          0.00494292492225013,
          0.004921966863806759,
          0.004900601404362786,
          0.0048788332281581885,
          0.0048566671585140095,
          0.004834108156127535,
          0.0048111613172794705,
          0.004787831871953993,
          0.004764125181872775,
          0.0047400467384441656,
          0.0047156021606286624,
          0.004690797192722063,
          0.004665637702057641,
          0.004640129676628843,
          0.004614279222634061,
          0.004588092561945063,
          0.004561576029500865,
          0.004534736070628757,
          0.004507579238294347,
          0.004480112190282597,
          0.004452341686311749,
          0.004424274585082315,
          0.004395917841263126,
          0.0043672785024167346,
          0.004338363705866314,
          0.004309180675506465,
          0.004279736718560165,
          0.004250039222284347,
          0.0042200956506265146,
          0.004189913540834938,
          0.0041595005000249095,
          0.004128864201703706,
          0.00409801238225683,
          0.00406695283739818,
          0.0040356934185869,
          0.004004242029413531,
          0.003972606621958234,
          0.003940795193123896,
          0.003908815780946799,
          0.003876676460887725,
          0.0038443853421062297,
          0.0038119505637209884,
          0.003779380291058935,
          0.0037466827118960476,
          0.003713866032692665,
          0.0036809384748260074,
          0.0036479082708228768,
          0.00361478366059518,
          0.003581572887681146,
          0.003548284195495,
          0.003514925823587797,
          0.003481506003922168,
          0.003448032957163654,
          0.0034145148889913536,
          0.003380959986430427,
          0.0033473764142091184,
          0.0033137723111428753,
          0.0032801557865480423,
          0.0032465349166875997,
          0.0032129177412514895,
          0.0031793122598737463,
          0.0031457264286889487,
          0.0031121681569301345,
          0.0030786453035704735,
          0.003045165674010906,
          0.003011737016815773,
          0.0029783670204985638,
          0.0029450633103597426,
          0.0029118334453785747,
          0.002878684915160865,
          0.0028456251369442945,
          0.00281266145266322,
          0.0027798011260744666,
          0.002747051339945738,
          0.002714419193308228,
          0.0026819116987747086,
          0.0026495357799246337,
          0.002617298268757409,
          0.0025852059032151114,
          0.0025532653247757452,
          0.002521483076118163,
          0.0024898655988595327,
          0.0024584192313663418,
          0.0024271502066396788,
          0.002396064650275656,
          0.0023651685785014863,
          0.002334467896287964,
          0.002303968395538751,
          0.0022736757533569373,
          0.0022435955303893047,
          0.002213733169248448,
          0.0021840939930131147,
          0.0021546832038067845,
          0.002125505881454616,
          0.0020965669822187462,
          0.002067871337611839,
          0.0020394236532887944,
          0.0020112285080163437,
          0.0019832903527202583,
          0.001955613509609899,
          0.0019282021713795683,
          0.0019010604004863286,
          0.0018741921285036452,
          0.0018476011555503106,
          0.0018212911497940225,
          0.0017952656470288562,
          0.0017695280503258921,
          0.0017440816297562352,
          0.0017189295221854853,
          0.0016940747311388184,
          0.0016695201267356696,
          0.0016452684456930964,
          0.0016213222913966983,
          0.001597684134038053,
          0.0015743563108175987,
          0.0015513410262117057,
          0.0015286403523028763,
          0.001506256229171757,
          0.0014841904653497891,
          0.0014624447383311744,
          0.0014410205951429322,
          0.0014199194529716543,
          0.0013991425998456765,
          0.0013786911953712888,
          0.0013585662715216316,
          0.0013387687334768929,
          0.0013192993605143928,
          0.0013001588069471782,
          0.0012813476031097127,
          0.001262866156389213,
          0.001244714752301296,
          0.0012268935556084086,
          0.0012094026114796994,
          0.0011922418466908864,
          0.0011754110708627,
          0.0011589099777365238,
          0.0011427381464857926,
          0.0011268950430617865,
          0.0011113800215724302,
          0.0010961923256927115,
          0.001081331090105425,
          0.001066795341970808,
          0.001052584002423827,
          0.001038695888097765,
          0.0010251297126728294,
          0.001011884088448528,
          0.0009989575279385546,
          0.0009863484454869496,
          0.0009740551589043557,
          0.0009620758911231687,
          0.0009504087718704559,
          0.0009390518393574814,
          0.0009280030419847603,
          0.0009172602400615555,
          0.0009068212075387567,
          0.000896683633754156,
          0.0008868451251890727,
          0.0008773032072354008,
          0.0008680553259721236,
          0.0008590988499503831,
          0.0008504310719862377,
          0.0008420492109602268,
          0.0008339504136229465,
          0.0008261317564058159,
          0.000818590247236273,
          0.0008113228273566674,
          0.0008043263731461178,
          0.0007975976979446621,
          0.000791133553879033,
          0.0007849306336894209,
          0.0007789855725566403,
          0.0007732949499290784,
          0.0007678552913489001,
          0.0007626630702769646,
          0.0007577147099159365,
          0.0007530065850311213,
          0.0007485350237685396,
          0.0007442963094698087,
          0.0007402866824834083,
          0.0007365023419719149,
          0.0007329394477148326,
          0.0007295941219066431,
          0.0007264624509497262,
          0.0007235404872418217,
          0.0007208242509576991,
          0.00071830973182475,
          0.0007159928908921868,
          0.0007138696622935865,
          0.000711935955002498,
          0.0007101876545808617,
          0.0007086206249199829,
          0.0007072307099738272,
          0.0007060137354843953,
          0.0007049655106989487,
          0.0007040818300788723,
          0.0007033584749999448,
          0.0007027912154438066,
          0.0007023758116804124,
          0.0007021080159412575,
          0.0007019835740831663,
          0.000701998227242434,
          0.0007021477134791105,
          0.0007024277694112109,
          0.0007028341318386426,
          0.0007033625393566238,
          0.0007040087339583788,
          0.000704768462626874,
          0.0007056374789153699,
          0.0007066115445165495,
          0.0007076864308199761,
          0.0007088579204576306,
          0.0007101218088372719,
          0.0007114739056633515,
          0.0007129100364452089,
          0.0007144260439922639,
          0.0007160177898959156,
          0.000717681155997844,
          0.0007194120458444099,
          0.000721206386126824,
          0.0007230601281067651,
          0.0007249692490271015,
          0.0007269297535073715,
          0.0007289376749236579,
          0.0007309890767724971,
          0.000733080054018437,
          0.0007352067344248577,
          0.0007373652798676605,
          0.0007395518876314215,
          0.0007417627916875846,
          0.0007439942639542866,
          0.0007462426155373679,
          0.0007485041979521393,
          0.0007507754043254589,
          0.000753052670577656,
          0.0007553324765838599,
          0.0007576113473142478,
          0.0007598858539527629,
          0.0007621526149938092,
          0.0007644082973164579,
          0.0007666496172356767,
          0.0007688733415300981,
          0.0007710762884458435,
          0.0007732553286759119,
          0.0007754073863146509,
          0.0007775294397868183,
          0.0007796185227507488,
          0.0007816717249751478,
          0.0007836861931890248,
          0.0007856591319042984,
          0.0007875878042105922,
          0.0007894695325417609,
          0.0007913016994136911,
          0.0007930817481329154,
          0.0007948071834756054,
          0.0007964755723365083,
          0.0007980845443473937,
          0.0007996317924646159,
          0.0008011150735253752,
          0.0008025322087722971,
          0.0008038810843459602,
          0.000805159651745002,
          0.0008063659282534742,
          0.0008074979973351083,
          0.0008085540089941853,
          0.0008095321801027286,
          0.000810430794693725,
          0.000811248204220147,
          0.0008119828277795216,
          0.0008126331523038526,
          0.0008131977327146914,
          0.0008136751920432031,
          0.0008140642215150721,
          0.0008143635806001382,
          0.00081457209702666,
          0.0008146886667601399,
          0.0008147122539466632,
          0.0008146418908207328,
          0.0008144766775776079,
          0.0008142157822101811,
          0.0008138584403104502
         ],
         "yaxis": "y"
        },
        {
         "legendgroup": "SUV",
         "marker": {
          "color": "#B6E880"
         },
         "mode": "lines",
         "name": "SUV",
         "showlegend": true,
         "type": "scatter",
         "x": [
          180,
          180.54,
          181.08,
          181.62,
          182.16,
          182.7,
          183.24,
          183.78,
          184.32,
          184.86,
          185.4,
          185.94,
          186.48,
          187.02,
          187.56,
          188.1,
          188.64,
          189.18,
          189.72,
          190.26,
          190.8,
          191.34,
          191.88,
          192.42,
          192.96,
          193.5,
          194.04,
          194.58,
          195.12,
          195.66,
          196.2,
          196.74,
          197.28,
          197.82,
          198.36,
          198.9,
          199.44,
          199.98,
          200.52,
          201.06,
          201.6,
          202.14,
          202.68,
          203.22,
          203.76,
          204.3,
          204.84,
          205.38,
          205.92000000000002,
          206.46,
          207,
          207.54,
          208.07999999999998,
          208.62,
          209.16,
          209.7,
          210.24,
          210.78,
          211.32,
          211.86,
          212.4,
          212.94,
          213.48,
          214.02,
          214.56,
          215.1,
          215.64,
          216.18,
          216.72,
          217.26,
          217.8,
          218.34,
          218.88,
          219.42000000000002,
          219.96,
          220.5,
          221.04,
          221.57999999999998,
          222.12,
          222.66,
          223.2,
          223.74,
          224.28,
          224.82,
          225.36,
          225.9,
          226.44,
          226.98,
          227.52,
          228.06,
          228.6,
          229.14,
          229.68,
          230.22,
          230.76,
          231.3,
          231.84,
          232.38,
          232.92000000000002,
          233.46,
          234,
          234.54,
          235.07999999999998,
          235.62,
          236.16,
          236.7,
          237.24,
          237.78,
          238.32,
          238.86,
          239.4,
          239.94,
          240.48,
          241.02,
          241.56,
          242.1,
          242.64,
          243.18,
          243.72,
          244.26,
          244.8,
          245.34,
          245.88,
          246.42000000000002,
          246.95999999999998,
          247.5,
          248.04000000000002,
          248.57999999999998,
          249.12,
          249.66,
          250.2,
          250.74,
          251.28,
          251.82,
          252.36,
          252.9,
          253.44,
          253.98000000000002,
          254.51999999999998,
          255.06,
          255.6,
          256.14,
          256.68,
          257.22,
          257.76,
          258.3,
          258.84000000000003,
          259.38,
          259.92,
          260.46,
          261,
          261.54,
          262.08,
          262.62,
          263.15999999999997,
          263.7,
          264.24,
          264.78,
          265.32,
          265.86,
          266.4,
          266.94,
          267.48,
          268.02,
          268.56,
          269.1,
          269.64,
          270.18,
          270.72,
          271.26,
          271.8,
          272.34000000000003,
          272.88,
          273.42,
          273.96,
          274.5,
          275.04,
          275.58,
          276.12,
          276.65999999999997,
          277.2,
          277.74,
          278.28,
          278.82,
          279.36,
          279.9,
          280.44,
          280.98,
          281.52,
          282.06,
          282.6,
          283.14,
          283.68,
          284.22,
          284.76,
          285.3,
          285.84000000000003,
          286.38,
          286.92,
          287.46,
          288,
          288.54,
          289.08,
          289.62,
          290.15999999999997,
          290.7,
          291.24,
          291.78,
          292.32,
          292.86,
          293.4,
          293.94,
          294.48,
          295.02,
          295.56,
          296.1,
          296.64,
          297.18,
          297.72,
          298.26,
          298.8,
          299.34000000000003,
          299.88,
          300.42,
          300.96,
          301.5,
          302.04,
          302.58,
          303.12,
          303.65999999999997,
          304.2,
          304.74,
          305.28,
          305.82,
          306.36,
          306.9,
          307.44,
          307.98,
          308.52,
          309.06,
          309.6,
          310.14,
          310.68,
          311.22,
          311.76,
          312.3,
          312.84000000000003,
          313.38,
          313.91999999999996,
          314.46000000000004,
          315,
          315.53999999999996,
          316.08000000000004,
          316.62,
          317.15999999999997,
          317.7,
          318.24,
          318.78,
          319.32,
          319.86,
          320.4,
          320.94,
          321.48,
          322.02,
          322.56,
          323.1,
          323.64,
          324.18,
          324.72,
          325.26,
          325.8,
          326.34000000000003,
          326.88,
          327.41999999999996,
          327.96000000000004,
          328.5,
          329.03999999999996,
          329.58000000000004,
          330.12,
          330.65999999999997,
          331.2,
          331.74,
          332.28,
          332.82,
          333.36,
          333.9,
          334.44,
          334.98,
          335.52,
          336.06,
          336.6,
          337.14,
          337.68,
          338.22,
          338.76,
          339.3,
          339.84000000000003,
          340.38,
          340.91999999999996,
          341.46000000000004,
          342,
          342.53999999999996,
          343.08000000000004,
          343.62,
          344.15999999999997,
          344.7,
          345.24,
          345.78,
          346.32,
          346.86,
          347.4,
          347.94,
          348.48,
          349.02,
          349.56,
          350.1,
          350.64,
          351.18,
          351.72,
          352.26,
          352.8,
          353.34000000000003,
          353.88,
          354.41999999999996,
          354.96000000000004,
          355.5,
          356.03999999999996,
          356.58000000000004,
          357.12,
          357.65999999999997,
          358.2,
          358.74,
          359.28,
          359.82,
          360.36,
          360.9,
          361.44,
          361.98,
          362.52,
          363.06,
          363.6,
          364.14,
          364.68,
          365.22,
          365.76,
          366.3,
          366.84000000000003,
          367.38,
          367.91999999999996,
          368.46000000000004,
          369,
          369.53999999999996,
          370.08000000000004,
          370.62,
          371.15999999999997,
          371.7,
          372.24,
          372.78,
          373.32,
          373.86,
          374.4,
          374.94,
          375.48,
          376.02,
          376.56,
          377.1,
          377.64,
          378.18,
          378.72,
          379.26,
          379.8,
          380.34000000000003,
          380.88,
          381.41999999999996,
          381.96000000000004,
          382.5,
          383.03999999999996,
          383.58000000000004,
          384.12,
          384.65999999999997,
          385.2,
          385.74,
          386.28,
          386.82,
          387.36,
          387.9,
          388.44,
          388.98,
          389.52,
          390.06,
          390.6,
          391.14,
          391.68,
          392.22,
          392.76,
          393.3,
          393.84000000000003,
          394.38,
          394.91999999999996,
          395.46000000000004,
          396,
          396.53999999999996,
          397.08000000000004,
          397.62,
          398.15999999999997,
          398.7,
          399.24,
          399.78,
          400.32,
          400.86,
          401.4,
          401.94,
          402.48,
          403.02,
          403.56,
          404.1,
          404.64,
          405.18,
          405.72,
          406.26,
          406.8,
          407.34000000000003,
          407.88,
          408.41999999999996,
          408.96000000000004,
          409.5,
          410.03999999999996,
          410.58000000000004,
          411.12,
          411.65999999999997,
          412.2,
          412.74,
          413.28,
          413.82,
          414.36,
          414.9,
          415.44,
          415.98,
          416.52,
          417.06,
          417.6,
          418.14,
          418.68,
          419.22,
          419.76,
          420.3,
          420.84000000000003,
          421.38,
          421.91999999999996,
          422.46000000000004,
          423,
          423.53999999999996,
          424.08000000000004,
          424.62,
          425.15999999999997,
          425.7,
          426.24,
          426.78,
          427.32,
          427.86,
          428.4,
          428.94,
          429.48,
          430.02,
          430.56,
          431.1,
          431.64,
          432.18,
          432.72,
          433.26,
          433.8,
          434.34000000000003,
          434.88,
          435.41999999999996,
          435.96000000000004,
          436.5,
          437.04,
          437.58,
          438.12,
          438.66,
          439.2,
          439.74,
          440.28,
          440.82,
          441.36,
          441.9,
          442.44,
          442.98,
          443.52,
          444.06,
          444.6,
          445.14,
          445.68,
          446.22,
          446.76,
          447.3,
          447.84,
          448.38,
          448.92,
          449.46
         ],
         "xaxis": "x",
         "y": [
          0.0007053489111833437,
          0.0007171970165942804,
          0.0007292018084395097,
          0.0007413644804179281,
          0.0007536861744748941,
          0.0007661679772544849,
          0.0007788109165158554,
          0.0007916159575193506,
          0.0008045839993882509,
          0.0008177158714521818,
          0.0008310123295784439,
          0.0008444740524976373,
          0.0008581016381301738,
          0.0008718955999203513,
          0.0008858563631848753,
          0.0008999842614827718,
          0.0009142795330137932,
          0.000928742317052503,
          0.0009433726504252962,
          0.0009581704640377392,
          0.0009731355794595852,
          0.0009882677055749565,
          0.001003566435305152,
          0.001019031242411584,
          0.0010346614783863246,
          0.0010504563694377631,
          0.0010664150135787933,
          0.0010825363778249543,
          0.001098819295509834,
          0.0011152624637250073,
          0.0011318644408916752,
          0.0011486236444710148,
          0.0011655383488202024,
          0.001182606683200856,
          0.0011998266299465177,
          0.0012171960227956135,
          0.001234712545396145,
          0.0012523737299881264,
          0.0012701769562696286,
          0.0012881194504519443,
          0.0013061982845092809,
          0.001324410375627974,
          0.001342752485860038,
          0.0013612212219855499,
          0.0013798130355880248,
          0.0013985242233466753,
          0.0014173509275490716,
          0.001436289136827416,
          0.001455334687121256,
          0.0014744832628691416,
          0.001493730398431314,
          0.0015130714797451895,
          0.0015325017462149457,
          0.001552016292836196,
          0.0015716100725562832,
          0.001591277898870336,
          0.001611014448652835,
          0.0016308142652239792,
          0.0016506717616497856,
          0.0016705812242743664,
          0.0016905368164824514,
          0.0017105325826898,
          0.001730562452558696,
          0.001750620245435307,
          0.001770699675005298,
          0.001790794354163637,
          0.0018108978000941204,
          0.0018310034395537741,
          0.0018511046143568212,
          0.0018711945870525891,
          0.0018912665467912513,
          0.0019113136153709937,
          0.0019313288534597878,
          0.001951305266984579,
          0.001971235813680372,
          0.0019911134097913615,
          0.0020109309369158676,
          0.0020306812489866034,
          0.0020503571793774322,
          0.0020699515481275234,
          0.0020894571692735174,
          0.0021088668582800647,
          0.0021281734395588647,
          0.0021473697540660883,
          0.002166448666967892,
          0.002185403075363477,
          0.0022042259160550766,
          0.0022229101733539695,
          0.002241448886911619,
          0.002259835159564796,
          0.002278062165183561,
          0.0022961231565107876,
          0.002314011472981967,
          0.0023317205485139107,
          0.0023492439192509874,
          0.0023665752312575484,
          0.002383708248145153,
          0.0024006368586233754,
          0.002417355083962884,
          0.0024338570853596874,
          0.0024501371711895016,
          0.0024661898041413257,
          0.0024820096082194265,
          0.002497591375603175,
          0.0025129300733542524,
          0.0025280208499610635,
          0.00254285904171031,
          0.0025574401788759646,
          0.002571759991716201,
          0.0025858144162689417,
          0.00259959959993718,
          0.002613111906855376,
          0.0026263479230286386,
          0.002639304461236693,
          0.002651978565695024,
          0.0026643675164659056,
          0.0026764688336124412,
          0.002688280281089082,
          0.0026997998703625578,
          0.0027110258637574767,
          0.0027219567775213444,
          0.0027325913846041393,
          0.0027429287171480145,
          0.002752968068683188,
          0.0027627089960264137,
          0.0027721513208790786,
          0.002781295131122165,
          0.002790140781806052,
          0.0027986888958333686,
          0.0028069403643337237,
          0.0028148963467295183,
          0.0028225582704925647,
          0.0028299278305916847,
          0.0028370069886318777,
          0.0028437979716862054,
          0.002850303270821902,
          0.0028565256393227358,
          0.0028624680906100316,
          0.0028681338958653014,
          0.002873526581357745,
          0.0028786499254804102,
          0.0028835079554991676,
          0.002888104944019063,
          0.0028924454051730423,
          0.0028965340905383967,
          0.0029003759847866808,
          0.0029039763010731954,
          0.002907340476172505,
          0.0029104741653667903,
          0.002913383237094155,
          0.0029160737673643144,
          0.0029185520339494453,
          0.0029208245103581523,
          0.002922897859600907,
          0.0029247789277554444,
          0.0029264747373409293,
          0.0029279924805098775,
          0.0029293395120670246,
          0.0029305233423245563,
          0.0029315516298032223,
          0.0029324321737890747,
          0.0029331729067556696,
          0.0029337818866616936,
          0.002934267289134065,
          0.0029346373995467233,
          0.0029349006050052363,
          0.0029350653862475627,
          0.0029351403094712443,
          0.002935134018097352,
          0.0029350552244814714,
          0.002934912701582094,
          0.0029347152745965886,
          0.0029344718125750564,
          0.002934191220022156,
          0.0029338824284969845,
          0.0029335543882210236,
          0.00293321605970394,
          0.002932876405397061,
          0.0029325443813840455,
          0.0029322289291182596,
          0.002931938967216099,
          0.0029316833833153886,
          0.002931471026007738,
          0.0029313106968536034,
          0.00293121114248856,
          0.0029311810468289935,
          0.0029312290233853653,
          0.00293136360769076,
          0.0029315932498523403,
          0.0029319263072329544,
          0.0029323710372699653,
          0.0029329355904380364,
          0.0029336280033623653,
          0.002934456192088565,
          0.0029354279455150803,
          0.0029365509189937726,
          0.002937832628103977,
          0.002939280442605041,
          0.002940901580572061,
          0.002942703102719227,
          0.002944691906914848,
          0.0029468747228918674,
          0.002949258107157345,
          0.0029518484381040678,
          0.00295465191132716,
          0.0029576745351482464,
          0.002960922126349423,
          0.0029644003061189946,
          0.0029681144962106065,
          0.0029720699153171553,
          0.0029762715756605366,
          0.0029807242797979657,
          0.0029854326176454423,
          0.00299040096371849,
          0.0029956334745901763,
          0.0030011340865660407,
          0.0030069065135753872,
          0.0030129542452780682,
          0.0030192805453856776,
          0.00302588845019585,
          0.0030327807673380743,
          0.0030399600747292406,
          0.0030474287197369363,
          0.0030551888185482486,
          0.0030632422557416764,
          0.0030715906840595476,
          0.003080235524378108,
          0.0030891779658723693,
          0.003098418966372531,
          0.0031079592529087013,
          0.003117799322440462,
          0.003127939442767677,
          0.0031383796536188584,
          0.0031491197679131967,
          0.003160159373192317,
          0.003171497833217694,
          0.0031831342897295496,
          0.0031950676643629724,
          0.0032072966607169314,
          0.0032198197665717623,
          0.003232635256250632,
          0.003245741193120481,
          0.003259135432227826,
          0.0032728156230647887,
          0.003286779212460722,
          0.0033010234475946984,
          0.003315545379124166,
          0.0033303418644250373,
          0.003345409570938492,
          0.0033607449796196924,
          0.003376344388483755,
          0.003392203916244189,
          0.0034083195060391094,
          0.003424686929240498,
          0.0034413017893419277,
          0.00345815952591998,
          0.003475255418664835,
          0.003492584591475427,
          0.003510142016614659,
          0.0035279225189201115,
          0.0035459207800658927,
          0.0035641313428711754,
          0.0035825486156510797,
          0.003601166876605647,
          0.003619980278242641,
          0.003638982851830001,
          0.003658168511873846,
          0.0036775310606179906,
          0.003697064192560935,
          0.0037167614989864514,
          0.00373661647250388,
          0.0037566225115943474,
          0.003776772925159172,
          0.0037970609370667962,
          0.003817479690694656,
          0.003838022253462424,
          0.003858681621353248,
          0.003879450723419493,
          0.0039003224262696874,
          0.003921289538533495,
          0.00394234481530141,
          0.003963480962536104,
          0.003984690641452371,
          0.004005966472862691,
          0.004027301041485443,
          0.004048686900212978,
          0.004070116574336715,
          0.004091582565726566,
          0.004113077356962022,
          0.00413459341541237,
          0.004156123197263424,
          0.004177659151488436,
          0.0041991937237607375,
          0.004220719360305837,
          0.004242228511690731,
          0.004263713636548273,
          0.0042851672052344695,
          0.004306581703416774,
          0.004327949635591352,
          0.004349263528527484,
          0.004370515934637323,
          0.004391699435269322,
          0.004412806643923665,
          0.0044338302093881584,
          0.004454762818793204,
          0.004475597200584369,
          0.004496326127411373,
          0.004516942418932235,
          0.004537438944531549,
          0.004557808625951815,
          0.004578044439836992,
          0.004598139420187471,
          0.004618086660725698,
          0.004637879317171937,
          0.004657510609429691,
          0.004676973823680325,
          0.004696262314386724,
          0.004715369506205808,
          0.0047342888958098175,
          0.004753014053616583,
          0.004771538625428847,
          0.004789856333983075,
          0.00480796098040814,
          0.004825846445594526,
          0.004843506691474665,
          0.00486093576221531,
          0.0048781277853228895,
          0.004895076972662881,
          0.004911777621394457,
          0.004928224114821746,
          0.004944410923163143,
          0.00496033260424023,
          0.004975983804088145,
          0.004991359257489083,
          0.005006453788430988,
          0.0050212623104934516,
          0.005035779827163099,
          0.0050500014320806344,
          0.005063922309222105,
          0.0050775377330168035,
          0.0050908430684044855,
          0.005103833770834618,
          0.005116505386210461,
          0.005128853550780898,
          0.00514087399098302,
          0.005152562523238507,
          0.005163915053706937,
          0.005174927577999243,
          0.0051855961808545984,
          0.005195917035783956,
          0.005205886404683701,
          0.0052155006374227245,
          0.005224756171406369,
          0.005233649531120675,
          0.00524217732766038,
          0.0052503362582441175,
          0.005258123105720228,
          0.005265534738066692,
          0.005272568107888514,
          0.005279220251915942,
          0.005285488290506927,
          0.005291369427157005,
          0.005296860948019901,
          0.005301960221442001,
          0.005306664697513732,
          0.005310971907640899,
          0.005314879464138857,
          0.0053183850598523316,
          0.005321486467803533,
          0.005324181540871226,
          0.005326468211503114,
          0.005328344491463894,
          0.005329808471621171,
          0.00533085832177121,
          0.005331492290506458,
          0.005331708705126495,
          0.0053315059715940034,
          0.005330882574537118,
          0.005329837077299367,
          0.005328368122038237,
          0.005326474429873175,
          0.005324154801083724,
          0.005321408115358255,
          0.005318233332093544,
          0.005314629490745305,
          0.005310595711229595,
          0.005306131194374723,
          0.005301235222423254,
          0.005295907159583361,
          0.005290146452628645,
          0.005283952631545437,
          0.005277325310226184,
          0.0052702641872076446,
          0.005262769046452109,
          0.005254839758169999,
          0.005246476279681736,
          0.0052376786563168585,
          0.005228447022347998,
          0.005218781601957317,
          0.005208682710232742,
          0.00519815075419132,
          0.00518718623382674,
          0.005175789743178037,
          0.005163961971416343,
          0.005151703703946438,
          0.005139015823519759,
          0.005125899311355413,
          0.005112355248265655,
          0.005098384815782276,
          0.005083989297280177,
          0.005069170079094432,
          0.00505392865162707,
          0.005038266610439772,
          0.00502218565732862,
          0.005005687601377098,
          0.004988774359983446,
          0.004971447959858553,
          0.0049537105379905,
          0.004935564342572029,
          0.004917011733887058,
          0.0048980551851525635,
          0.004878697283312172,
          0.004858940729777775,
          0.004838788341115649,
          0.00481824304967364,
          0.004797307904146002,
          0.004775986070072577,
          0.0047542808302692054,
          0.004732195585186274,
          0.004709733853192366,
          0.004686899270780358,
          0.004663695592693131,
          0.004640126691966391,
          0.004616196559886185,
          0.004591909305858879,
          0.004567269157191454,
          0.004542280458780145,
          0.004516947672705732,
          0.004491275377733738,
          0.004465268268718167,
          0.004438931155907433,
          0.004412268964151412,
          0.004385286732008616,
          0.004357989610752802,
          0.004330382863278344,
          0.004302471862903958,
          0.0042742620920745945,
          0.00424575914096138,
          0.0042169687059596846,
          0.004187896588085672,
          0.004158548691271705,
          0.004128931020561222,
          0.004099049680203922,
          0.004068910871652148,
          0.0040385208914595315,
          0.004007886129083263,
          0.003977013064591301,
          0.00394590826627612,
          0.003914578388176648,
          0.0038830301675103203,
          0.003851270422017142,
          0.003819306047217907,
          0.003787144013588789,
          0.003754791363654664,
          0.0037222552090036163,
          0.0036895427272252415,
          0.003656661158775385,
          0.0036236178037700865,
          0.003590420018711689,
          0.003557075213149963,
          0.003523590846281376,
          0.003489974423489566,
          0.003456233492830279,
          0.0034223756414639337,
          0.003388408492039256,
          0.003354339699031257,
          0.003320176945036974,
          0.0032859279370325515,
          0.003251600402595029,
          0.0032172020860925,
          0.0031827407448460883,
          0.0031482241452674346,
          0.003113660058975269,
          0.0030790562588946767,
          0.003044420515342703,
          0.003009760592103957,
          0.002975084242499797,
          0.002940399205454847,
          0.0029057132015643046,
          0.0028710339291658053,
          0.0028363690604193835,
          0.002801726237399095,
          0.002767113068199879,
          0.002732537123063199,
          0.0026980059305249356,
          0.0026635269735889957,
          0.002629107685930152,
          0.0025947554481293173,
          0.0025604775839448224,
          0.0025262813566228354
         ],
         "yaxis": "y"
        },
        {
         "legendgroup": "Hatchback",
         "marker": {
          "color": "#FECB52"
         },
         "mode": "lines",
         "name": "Hatchback",
         "showlegend": true,
         "type": "scatter",
         "x": [
          95,
          95.69,
          96.38,
          97.07,
          97.76,
          98.45,
          99.14,
          99.83,
          100.52,
          101.21,
          101.9,
          102.59,
          103.28,
          103.97,
          104.66,
          105.35,
          106.03999999999999,
          106.73,
          107.42,
          108.11,
          108.8,
          109.49,
          110.18,
          110.87,
          111.56,
          112.25,
          112.94,
          113.63,
          114.32,
          115.01,
          115.7,
          116.39,
          117.08,
          117.77,
          118.46000000000001,
          119.15,
          119.84,
          120.53,
          121.22,
          121.91,
          122.6,
          123.28999999999999,
          123.98,
          124.67,
          125.36,
          126.05,
          126.74,
          127.43,
          128.12,
          128.81,
          129.5,
          130.19,
          130.88,
          131.57,
          132.26,
          132.95,
          133.64,
          134.32999999999998,
          135.02,
          135.71,
          136.4,
          137.09,
          137.78,
          138.47,
          139.16,
          139.85,
          140.54,
          141.23,
          141.92000000000002,
          142.61,
          143.3,
          143.99,
          144.68,
          145.37,
          146.06,
          146.75,
          147.44,
          148.13,
          148.82,
          149.51,
          150.2,
          150.89,
          151.57999999999998,
          152.27,
          152.96,
          153.65,
          154.34,
          155.03,
          155.72,
          156.41,
          157.1,
          157.79,
          158.48,
          159.17000000000002,
          159.86,
          160.55,
          161.24,
          161.93,
          162.62,
          163.31,
          164,
          164.69,
          165.38,
          166.07,
          166.76,
          167.45,
          168.14,
          168.82999999999998,
          169.51999999999998,
          170.20999999999998,
          170.9,
          171.59,
          172.28,
          172.97,
          173.66,
          174.35,
          175.04000000000002,
          175.73000000000002,
          176.42000000000002,
          177.11,
          177.8,
          178.49,
          179.18,
          179.87,
          180.56,
          181.25,
          181.94,
          182.63,
          183.32,
          184.01,
          184.7,
          185.39,
          186.07999999999998,
          186.76999999999998,
          187.45999999999998,
          188.15,
          188.84,
          189.53,
          190.22,
          190.91,
          191.6,
          192.29000000000002,
          192.98000000000002,
          193.67000000000002,
          194.36,
          195.05,
          195.74,
          196.43,
          197.12,
          197.81,
          198.5,
          199.19,
          199.88,
          200.57,
          201.26,
          201.95,
          202.64,
          203.32999999999998,
          204.01999999999998,
          204.70999999999998,
          205.4,
          206.09,
          206.78,
          207.47,
          208.16,
          208.85,
          209.54000000000002,
          210.23000000000002,
          210.92000000000002,
          211.61,
          212.3,
          212.99,
          213.68,
          214.37,
          215.06,
          215.75,
          216.44,
          217.13,
          217.82,
          218.51,
          219.2,
          219.89,
          220.57999999999998,
          221.26999999999998,
          221.95999999999998,
          222.65,
          223.34,
          224.03,
          224.72,
          225.41,
          226.1,
          226.79,
          227.48,
          228.17,
          228.86,
          229.55,
          230.24,
          230.93,
          231.62,
          232.31,
          233,
          233.69,
          234.38,
          235.07,
          235.76,
          236.45,
          237.14,
          237.83,
          238.52,
          239.21,
          239.9,
          240.59,
          241.28,
          241.97,
          242.66,
          243.35,
          244.04,
          244.73,
          245.42,
          246.11,
          246.8,
          247.49,
          248.18,
          248.87,
          249.56,
          250.25,
          250.94,
          251.63,
          252.32,
          253.01,
          253.7,
          254.39,
          255.08,
          255.77,
          256.46000000000004,
          257.15,
          257.84000000000003,
          258.53,
          259.22,
          259.90999999999997,
          260.6,
          261.28999999999996,
          261.98,
          262.66999999999996,
          263.36,
          264.05,
          264.74,
          265.43,
          266.12,
          266.81,
          267.5,
          268.19,
          268.88,
          269.57,
          270.26,
          270.95,
          271.64,
          272.33000000000004,
          273.02,
          273.71000000000004,
          274.4,
          275.09000000000003,
          275.78,
          276.47,
          277.15999999999997,
          277.85,
          278.53999999999996,
          279.23,
          279.91999999999996,
          280.61,
          281.3,
          281.99,
          282.68,
          283.37,
          284.06,
          284.75,
          285.44,
          286.13,
          286.82,
          287.51,
          288.2,
          288.89,
          289.58000000000004,
          290.27,
          290.96000000000004,
          291.65,
          292.34000000000003,
          293.03,
          293.72,
          294.40999999999997,
          295.1,
          295.78999999999996,
          296.48,
          297.16999999999996,
          297.86,
          298.55,
          299.24,
          299.93,
          300.62,
          301.31,
          302,
          302.69,
          303.38,
          304.07,
          304.76,
          305.45,
          306.14,
          306.83000000000004,
          307.52,
          308.21000000000004,
          308.9,
          309.59000000000003,
          310.28,
          310.97,
          311.65999999999997,
          312.35,
          313.03999999999996,
          313.73,
          314.41999999999996,
          315.11,
          315.8,
          316.49,
          317.18,
          317.87,
          318.56,
          319.25,
          319.94,
          320.63,
          321.32,
          322.01,
          322.7,
          323.39,
          324.08000000000004,
          324.77,
          325.46000000000004,
          326.15,
          326.84000000000003,
          327.53,
          328.22,
          328.90999999999997,
          329.6,
          330.28999999999996,
          330.98,
          331.66999999999996,
          332.36,
          333.05,
          333.74,
          334.43,
          335.12,
          335.81,
          336.5,
          337.19,
          337.88,
          338.57,
          339.26,
          339.95,
          340.64,
          341.33000000000004,
          342.02,
          342.71000000000004,
          343.4,
          344.09000000000003,
          344.78,
          345.47,
          346.15999999999997,
          346.85,
          347.53999999999996,
          348.23,
          348.91999999999996,
          349.61,
          350.3,
          350.99,
          351.68,
          352.37,
          353.06,
          353.75,
          354.44,
          355.13,
          355.82,
          356.51,
          357.2,
          357.89,
          358.58,
          359.27,
          359.96,
          360.65,
          361.34,
          362.03,
          362.72,
          363.41,
          364.1,
          364.79,
          365.48,
          366.17,
          366.86,
          367.55,
          368.24,
          368.93,
          369.62,
          370.31,
          371,
          371.69,
          372.38,
          373.07,
          373.76,
          374.45,
          375.14,
          375.83,
          376.52,
          377.21,
          377.9,
          378.59,
          379.28,
          379.97,
          380.66,
          381.35,
          382.04,
          382.73,
          383.42,
          384.11,
          384.8,
          385.49,
          386.18,
          386.87,
          387.56,
          388.25,
          388.94,
          389.63,
          390.32,
          391.01,
          391.7,
          392.39,
          393.08,
          393.77,
          394.46,
          395.15,
          395.84,
          396.53,
          397.22,
          397.91,
          398.6,
          399.29,
          399.98,
          400.67,
          401.36,
          402.05,
          402.74,
          403.43,
          404.12,
          404.81,
          405.5,
          406.19,
          406.88,
          407.57,
          408.26,
          408.95,
          409.64,
          410.33,
          411.02,
          411.71,
          412.4,
          413.09,
          413.78,
          414.47,
          415.16,
          415.85,
          416.54,
          417.23,
          417.92,
          418.61,
          419.3,
          419.99,
          420.68,
          421.37,
          422.06,
          422.75,
          423.44,
          424.13,
          424.82,
          425.51,
          426.2,
          426.89,
          427.58,
          428.27,
          428.96,
          429.65,
          430.34,
          431.03,
          431.72,
          432.41,
          433.1,
          433.79,
          434.48,
          435.17,
          435.86,
          436.55,
          437.24,
          437.93,
          438.62,
          439.31
         ],
         "xaxis": "x",
         "y": [
          0.0010662422511752674,
          0.0010781890492418255,
          0.001090201568566025,
          0.0011022803833243826,
          0.0011144260853813298,
          0.0011266392829405723,
          0.001138920599128384,
          0.001151270670510225,
          0.001163690145542252,
          0.0011761796829593788,
          0.0011887399501017367,
          0.001201371621181478,
          0.0012140753754920327,
          0.0012268518955620411,
          0.0012397018652563244,
          0.0012526259678263796,
          0.0012656248839130137,
          0.0012786992895038485,
          0.0012918498538485367,
          0.001305077237334667,
          0.0013183820893274102,
          0.0013317650459760862,
          0.0013452267279909415,
          0.001358767738393459,
          0.0013723886602437132,
          0.0013860900543482518,
          0.0013998724569521588,
          0.0014137363774189594,
          0.00142768229590213,
          0.001441710661012013,
          0.0014558218874820038,
          0.0014700163538379101,
          0.001484294400074429,
          0.0014986563253427151,
          0.0015131023856530413,
          0.0015276327915965692,
          0.0015422477060902504,
          0.001556947242148889,
          0.001571731460688393,
          0.001586600368364214,
          0.0016015539154489793,
          0.0016165919937532703,
          0.0016317144345934728,
          0.0016469210068105933,
          0.001662211414843869,
          0.0016775852968629523,
          0.0016930422229623824,
          0.001708581693421978,
          0.0017242031370367284,
          0.0017399059095196373,
          0.0017556892919809188,
          0.001771552489486824,
          0.0017874946297012611,
          0.0018035147616132915,
          0.0018196118543534353,
          0.0018357847961015979,
          0.0018520323930893247,
          0.0018683533686989187,
          0.0018847463626618362,
          0.0019012099303586196,
          0.0019177425422224948,
          0.0019343425832485644,
          0.0019510083526104068,
          0.001967738063385708,
          0.0019845298423923916,
          0.002001381730136536,
          0.0020182916808731887,
          0.002035257562781044,
          0.00205227715825171,
          0.002069348164294174,
          0.002086468193054864,
          0.002103634772453497,
          0.0021208453469347714,
          0.0021380972783357293,
          0.0021553878468684737,
          0.0021727142522176735,
          0.002190073614752196,
          0.0022074629768499255,
          0.00222487930433474,
          0.0022423194880243375,
          0.0022597803453875253,
          0.002277258622309324,
          0.0022947509949621196,
          0.002312254071780897,
          0.0023297643955404396,
          0.002347278445532194,
          0.0023647926398383703,
          0.002382303337700641,
          0.002399806841980726,
          0.0024172994017099235,
          0.0024347772147245653,
          0.002452236430384209,
          0.002469673152369256,
          0.002487083441554568,
          0.0025044633189555145,
          0.00252180876874281,
          0.0025391157413223297,
          0.002556380156476083,
          0.00257359790656033,
          0.002590764859756834,
          0.0026078768633730903,
          0.002624929747187352,
          0.002641919326834177,
          0.002658841407226177,
          0.002675691786007613,
          0.0026924662570353888,
          0.002709160613883035,
          0.002725770653363187,
          0.0027422921790640664,
          0.0027587210048954543,
          0.0027750529586396625,
          0.0027912838855029664,
          0.0028074096516630285,
          0.0028234261478078206,
          0.0028393292926615706,
          0.0028551150364933414,
          0.0028707793646038215,
          0.00288631830078601,
          0.0029017279107554903,
          0.0029170043055460684,
          0.0029321436448665954,
          0.002947142140414903,
          0.0029619960591447956,
          0.002976701726482189,
          0.0029912555294865414,
          0.0030056539199537925,
          0.0030198934174571917,
          0.0030339706123224254,
          0.0030478821685336046,
          0.0030616248265667827,
          0.003075195406147766,
          0.003088590808931116,
          0.003101808021097378,
          0.0031148441158656563,
          0.0031276962559188257,
          0.0031403616957387855,
          0.00315283778384927,
          0.0031651219649639364,
          0.0031772117820374813,
          0.003189104878217792,
          0.003200798998697185,
          0.003212291992460979,
          0.003223581813931778,
          0.0032346665245079707,
          0.0032455442939951034,
          0.003256213401928945,
          0.003266672238789154,
          0.0032769193071026537,
          0.0032869532224359386,
          0.0032967727142756502,
          0.0033063766267969444,
          0.0033157639195192917,
          0.0033249336678494385,
          0.0033338850635114907,
          0.003342617414864097,
          0.0033511301471049475,
          0.0033594228023628085,
          0.0033674950396775753,
          0.003375346634868807,
          0.0033829774802934566,
          0.0033903875844934865,
          0.003397577071734299,
          0.0034045461814349457,
          0.003411295267491189,
          0.0034178247974926156,
          0.003424135351835095,
          0.0034302276227299393,
          0.003436102413111267,
          0.0034417606354430925,
          0.003447203310427818,
          0.0034524315656178357,
          0.0034574466339320335,
          0.0034622498520791036,
          0.0034668426588895475,
          0.003471226593558457,
          0.0034754032938010835,
          0.0034793744939233514,
          0.0034831420228095046,
          0.003486707801829151,
          0.003490073842665919,
          0.0034932422450701774,
          0.0034962151945381065,
          0.0034989949599195783,
          0.003501583890957333,
          0.0035039844157598978,
          0.0035061990382108136,
          0.0035082303353167225,
          0.003510080954496906,
          0.0035117536108168605,
          0.0035132510841686016,
          0.0035145762164003063,
          0.003515731908397991,
          0.0035167211171219345,
          0.003517546852600529,
          0.00351821217488432,
          0.003518720190962953,
          0.0035190740516477807,
          0.003519276948422915,
          0.003519332110267454,
          0.0035192428004517224,
          0.0035190123133102547,
          0.003518643970994367,
          0.0035181411202070646,
          0.00351750712892315,
          0.0035167453830972795,
          0.003515859283362836,
          0.003514852241724391,
          0.003513727678246603,
          0.0035124890177423407,
          0.0035111396864629016,
          0.003509683108793086,
          0.003508122703954007,
          0.0035064618827164136,
          0.0035047040441273823,
          0.003502852572253183,
          0.003500910832941132,
          0.003498882170603268,
          0.0034967699050246527,
          0.0034945773281991194,
          0.003492307701195259,
          0.0034899642510554676,
          0.003487550167730847,
          0.00348506860105473,
          0.0034825226577576535,
          0.003479915398526521,
          0.003477249835110722,
          0.0034745289274779913,
          0.003471755581022716,
          0.0034689326438294343,
          0.003466062903994244,
          0.0034631490870067937,
          0.00346019385319555,
          0.0034571997952390016,
          0.0034541694357453885,
          0.0034511052249036134,
          0.003448009538207874,
          0.003444884674258567,
          0.003441732852641999,
          0.0034385562118913198,
          0.003435356807531191,
          0.0034321366102085123,
          0.0034288975039115837,
          0.003425641284280011,
          0.0034223696570075484,
          0.0034190842363401364,
          0.0034157865436712028,
          0.003412478006236312,
          0.0034091599559091757,
          0.0034058336281009086,
          0.0034025001607644323,
          0.00339916059350574,
          0.0033958158668037563,
          0.003392466821340361,
          0.0033891141974420934,
          0.003385758634634952,
          0.003382400671313579,
          0.003379040744526073,
          0.003375679189875479,
          0.003372316241538986,
          0.003368952032405655,
          0.003365586594333464,
          0.003362219858526252,
          0.0033588516560310974,
          0.0033554817183564334,
          0.0033521096782111823,
          0.0033487350703649485,
          0.003345357332629227,
          0.0033419758069594186,
          0.0033385897406772906,
          0.003335198287813376,
          0.0033318005105686483,
          0.00332839538089464,
          0.0033249817821910306,
          0.00332155851111956,
          0.003318124279532942,
          0.0033146777165173266,
          0.0033112173705466506,
          0.0033077417117470726,
          0.003304249134269528,
          0.0033007379587682234,
          0.0032972064349828033,
          0.003293652744421663,
          0.003290075003143764,
          0.0032864712646361693,
          0.0032828395227842474,
          0.003279177714931464,
          0.0032754837250254013,
          0.0032717553868465434,
          0.003267990487316227,
          0.00326418676987993,
          0.003260341937961989,
          0.0032564536584876705,
          0.0032525195654683385,
          0.003248537263645387,
          0.003244504332188424,
          0.0032404183284430797,
          0.0032362767917236855,
          0.003232077247145976,
          0.0032278172094947918,
          0.0032234941871217555,
          0.0032191056858676785,
          0.0032146492130044804,
          0.0032101222811912167,
          0.0032055224124388107,
          0.003200847142077977,
          0.003196094022724783,
          0.0031912606282382115,
          0.0031863445576641135,
          0.0031813434391598176,
          0.0031762549338936984,
          0.0031710767399139935,
          0.0031658065959810954,
          0.003160442285357626,
          0.003154981639550534,
          0.003149422541999579,
          0.0031437629317064533,
          0.0031380008067990197,
          0.003132134228025018,
          0.0031261613221697827,
          0.0031200802853925233,
          0.00311388938647583,
          0.0031075869699831314,
          0.003101171459318981,
          0.003094641359687102,
          0.003087995260941307,
          0.0030812318403244665,
          0.0030743498650909356,
          0.003067348195007898,
          0.0030602257847313183,
          0.0030529816860523523,
          0.0030456150500101924,
          0.003038125128867582,
          0.003030511277945379,
          0.0030227729573127533,
          0.0030149097333298466,
          0.003006921280039899,
          0.0029988073804080766,
          0.002990567927404508,
          0.0029822029249291964,
          0.002973712488576798,
          0.0029650968462394196,
          0.0029563563385459433,
          0.0029474914191365085,
          0.002938502654771195,
          0.0029293907252720603,
          0.0029201564232980777,
          0.0029108006539527217,
          0.0029013244342242124,
          0.0028917288922587587,
          0.002882015266467357,
          0.0028721849044669985,
          0.002862239261857422,
          0.0028521799008348,
          0.0028420084886440302,
          0.0028317267958715823,
          0.0028213366945811064,
          0.0028108401562942724,
          0.002800239249819587,
          0.0027895361389321826,
          0.0027787330799078284,
          0.0027678324189146833,
          0.002756836589266501,
          0.0027457481085413245,
          0.0027345695755698436,
          0.0027233036672979064,
          0.0027119531355278103,
          0.002700520803543294,
          0.0026890095626232735,
          0.002677422368449656,
          0.0026657622374146243,
          0.0026540322428331388,
          0.002642235511066369,
          0.002630375217562108,
          0.002618454582818262,
          0.0026064768682756757,
          0.0025944453721466992,
          0.002582363425185995,
          0.0025702343864102135,
          0.0025580616387732196,
          0.0025458485848037,
          0.002533598642211985,
          0.0025213152394730166,
          0.0025090018113924483,
          0.0024966617946628475,
          0.0024842986234170747,
          0.0024719157247858263,
          0.0024595165144664258,
          0.0024471043923098394,
          0.0024346827379329613,
          0.0024222549063630705,
          0.0024098242237214095,
          0.0023973939829526956,
          0.0023849674396073496,
          0.0023725478076831044,
          0.0023601382555325933,
          0.0023477419018433543,
          0.0023353618116966346,
          0.002323000992711176,
          0.0023106623912780675,
          0.0022983488888925698,
          0.0022860632985886678,
          0.002273808361481916,
          0.002261586743425974,
          0.0022494010317880156,
          0.00223725373234801,
          0.002225147266326651,
          0.002213083967546497,
          0.0022010660797306424,
          0.0021890957539430268,
          0.002177175046174235,
          0.002165305915076382,
          0.0021534902198504487,
          0.002141729718289143,
          0.002130026064978127,
          0.0021183808096581595,
          0.0021067953957504236,
          0.002095271159047072,
          0.0020838093265686916,
          0.002072411015590139,
          0.0020610772328359017,
          0.002049808873845864,
          0.002038606722512059,
          0.0020274714507866986,
          0.00201640361856151,
          0.0020054036737180824,
          0.0019944719523486837,
          0.001983608679146707,
          0.001972813967965583,
          0.0019620878225448304,
          0.0019514301374014887,
          0.0019408406988850543,
          0.0019303191863936507,
          0.001919865173749006,
          0.001909478130727471,
          0.0018991574247441086,
          0.0018889023226866344,
          0.0018787119928957204,
          0.0018685855072879958,
          0.001858521843617798,
          0.0018485198878735467,
          0.001838578436804396,
          0.0018286962005726309,
          0.001818871805527041,
          0.0018091037970924056,
          0.0017993906427699422,
          0.0017897307352435251,
          0.0017801223955862201,
          0.001770563876561629,
          0.0017610533660143432,
          0.001751588990343711,
          0.0017421688180550218,
          0.0017327908633820725,
          0.0017234530899750487,
          0.0017141534146475263,
          0.0017048897111763515,
          0.001695659814148117,
          0.0016864615228458762,
          0.0016772926051697476,
          0.001668150801584987,
          0.0016590338290911504,
          0.001649939385205942,
          0.0016408651519573415,
          0.0016318087998776832,
          0.0016227679919933137,
          0.0016137403878035963,
          0.0016047236472429929,
          0.001595715434620093,
          0.0015867134225274926,
          0.0015777152957165597,
          0.0015687187549311408,
          0.0015597215206944802,
          0.0015507213370436358,
          0.001541715975205869,
          0.0015327032372116052,
          0.0015236809594386686,
          0.001514647016082718,
          0.0015055993225488867,
          0.0014965358387598782,
          0.0014874545723758629,
          0.001478353581921776,
          0.0014692309798177555,
          0.0014600849353086543,
          0.0014509136772888037,
          0.0014417154970183365,
          0.0014324887507276688,
          0.0014232318621068744,
          0.0014139433246769602,
          0.0014046217040402514,
          0.0013952656400072906,
          0.0013858738485979505,
          0.0013764451239145958,
          0.0013669783398854423,
          0.0013574724518764525,
          0.0013479264981703177,
          0.0013383396013113718,
          0.001328710969315454,
          0.0013190398967439833,
          0.0013093257656417766,
          0.0012995680463383063,
          0.0012897662981123787
         ],
         "yaxis": "y"
        }
       ],
       "layout": {
        "barmode": "overlay",
        "hovermode": "closest",
        "legend": {
         "traceorder": "reversed"
        },
        "paper_bgcolor": "rgba(0, 0, 0, 0)",
        "plot_bgcolor": "rgba(0, 0, 0, 0)",
        "template": {
         "data": {
          "bar": [
           {
            "error_x": {
             "color": "#2a3f5f"
            },
            "error_y": {
             "color": "#2a3f5f"
            },
            "marker": {
             "line": {
              "color": "#E5ECF6",
              "width": 0.5
             },
             "pattern": {
              "fillmode": "overlay",
              "size": 10,
              "solidity": 0.2
             }
            },
            "type": "bar"
           }
          ],
          "barpolar": [
           {
            "marker": {
             "line": {
              "color": "#E5ECF6",
              "width": 0.5
             },
             "pattern": {
              "fillmode": "overlay",
              "size": 10,
              "solidity": 0.2
             }
            },
            "type": "barpolar"
           }
          ],
          "carpet": [
           {
            "aaxis": {
             "endlinecolor": "#2a3f5f",
             "gridcolor": "white",
             "linecolor": "white",
             "minorgridcolor": "white",
             "startlinecolor": "#2a3f5f"
            },
            "baxis": {
             "endlinecolor": "#2a3f5f",
             "gridcolor": "white",
             "linecolor": "white",
             "minorgridcolor": "white",
             "startlinecolor": "#2a3f5f"
            },
            "type": "carpet"
           }
          ],
          "choropleth": [
           {
            "colorbar": {
             "outlinewidth": 0,
             "ticks": ""
            },
            "type": "choropleth"
           }
          ],
          "contour": [
           {
            "colorbar": {
             "outlinewidth": 0,
             "ticks": ""
            },
            "colorscale": [
             [
              0,
              "#0d0887"
             ],
             [
              0.1111111111111111,
              "#46039f"
             ],
             [
              0.2222222222222222,
              "#7201a8"
             ],
             [
              0.3333333333333333,
              "#9c179e"
             ],
             [
              0.4444444444444444,
              "#bd3786"
             ],
             [
              0.5555555555555556,
              "#d8576b"
             ],
             [
              0.6666666666666666,
              "#ed7953"
             ],
             [
              0.7777777777777778,
              "#fb9f3a"
             ],
             [
              0.8888888888888888,
              "#fdca26"
             ],
             [
              1,
              "#f0f921"
             ]
            ],
            "type": "contour"
           }
          ],
          "contourcarpet": [
           {
            "colorbar": {
             "outlinewidth": 0,
             "ticks": ""
            },
            "type": "contourcarpet"
           }
          ],
          "heatmap": [
           {
            "colorbar": {
             "outlinewidth": 0,
             "ticks": ""
            },
            "colorscale": [
             [
              0,
              "#0d0887"
             ],
             [
              0.1111111111111111,
              "#46039f"
             ],
             [
              0.2222222222222222,
              "#7201a8"
             ],
             [
              0.3333333333333333,
              "#9c179e"
             ],
             [
              0.4444444444444444,
              "#bd3786"
             ],
             [
              0.5555555555555556,
              "#d8576b"
             ],
             [
              0.6666666666666666,
              "#ed7953"
             ],
             [
              0.7777777777777778,
              "#fb9f3a"
             ],
             [
              0.8888888888888888,
              "#fdca26"
             ],
             [
              1,
              "#f0f921"
             ]
            ],
            "type": "heatmap"
           }
          ],
          "heatmapgl": [
           {
            "colorbar": {
             "outlinewidth": 0,
             "ticks": ""
            },
            "colorscale": [
             [
              0,
              "#0d0887"
             ],
             [
              0.1111111111111111,
              "#46039f"
             ],
             [
              0.2222222222222222,
              "#7201a8"
             ],
             [
              0.3333333333333333,
              "#9c179e"
             ],
             [
              0.4444444444444444,
              "#bd3786"
             ],
             [
              0.5555555555555556,
              "#d8576b"
             ],
             [
              0.6666666666666666,
              "#ed7953"
             ],
             [
              0.7777777777777778,
              "#fb9f3a"
             ],
             [
              0.8888888888888888,
              "#fdca26"
             ],
             [
              1,
              "#f0f921"
             ]
            ],
            "type": "heatmapgl"
           }
          ],
          "histogram": [
           {
            "marker": {
             "pattern": {
              "fillmode": "overlay",
              "size": 10,
              "solidity": 0.2
             }
            },
            "type": "histogram"
           }
          ],
          "histogram2d": [
           {
            "colorbar": {
             "outlinewidth": 0,
             "ticks": ""
            },
            "colorscale": [
             [
              0,
              "#0d0887"
             ],
             [
              0.1111111111111111,
              "#46039f"
             ],
             [
              0.2222222222222222,
              "#7201a8"
             ],
             [
              0.3333333333333333,
              "#9c179e"
             ],
             [
              0.4444444444444444,
              "#bd3786"
             ],
             [
              0.5555555555555556,
              "#d8576b"
             ],
             [
              0.6666666666666666,
              "#ed7953"
             ],
             [
              0.7777777777777778,
              "#fb9f3a"
             ],
             [
              0.8888888888888888,
              "#fdca26"
             ],
             [
              1,
              "#f0f921"
             ]
            ],
            "type": "histogram2d"
           }
          ],
          "histogram2dcontour": [
           {
            "colorbar": {
             "outlinewidth": 0,
             "ticks": ""
            },
            "colorscale": [
             [
              0,
              "#0d0887"
             ],
             [
              0.1111111111111111,
              "#46039f"
             ],
             [
              0.2222222222222222,
              "#7201a8"
             ],
             [
              0.3333333333333333,
              "#9c179e"
             ],
             [
              0.4444444444444444,
              "#bd3786"
             ],
             [
              0.5555555555555556,
              "#d8576b"
             ],
             [
              0.6666666666666666,
              "#ed7953"
             ],
             [
              0.7777777777777778,
              "#fb9f3a"
             ],
             [
              0.8888888888888888,
              "#fdca26"
             ],
             [
              1,
              "#f0f921"
             ]
            ],
            "type": "histogram2dcontour"
           }
          ],
          "mesh3d": [
           {
            "colorbar": {
             "outlinewidth": 0,
             "ticks": ""
            },
            "type": "mesh3d"
           }
          ],
          "parcoords": [
           {
            "line": {
             "colorbar": {
              "outlinewidth": 0,
              "ticks": ""
             }
            },
            "type": "parcoords"
           }
          ],
          "pie": [
           {
            "automargin": true,
            "type": "pie"
           }
          ],
          "scatter": [
           {
            "fillpattern": {
             "fillmode": "overlay",
             "size": 10,
             "solidity": 0.2
            },
            "type": "scatter"
           }
          ],
          "scatter3d": [
           {
            "line": {
             "colorbar": {
              "outlinewidth": 0,
              "ticks": ""
             }
            },
            "marker": {
             "colorbar": {
              "outlinewidth": 0,
              "ticks": ""
             }
            },
            "type": "scatter3d"
           }
          ],
          "scattercarpet": [
           {
            "marker": {
             "colorbar": {
              "outlinewidth": 0,
              "ticks": ""
             }
            },
            "type": "scattercarpet"
           }
          ],
          "scattergeo": [
           {
            "marker": {
             "colorbar": {
              "outlinewidth": 0,
              "ticks": ""
             }
            },
            "type": "scattergeo"
           }
          ],
          "scattergl": [
           {
            "marker": {
             "colorbar": {
              "outlinewidth": 0,
              "ticks": ""
             }
            },
            "type": "scattergl"
           }
          ],
          "scattermapbox": [
           {
            "marker": {
             "colorbar": {
              "outlinewidth": 0,
              "ticks": ""
             }
            },
            "type": "scattermapbox"
           }
          ],
          "scatterpolar": [
           {
            "marker": {
             "colorbar": {
              "outlinewidth": 0,
              "ticks": ""
             }
            },
            "type": "scatterpolar"
           }
          ],
          "scatterpolargl": [
           {
            "marker": {
             "colorbar": {
              "outlinewidth": 0,
              "ticks": ""
             }
            },
            "type": "scatterpolargl"
           }
          ],
          "scatterternary": [
           {
            "marker": {
             "colorbar": {
              "outlinewidth": 0,
              "ticks": ""
             }
            },
            "type": "scatterternary"
           }
          ],
          "surface": [
           {
            "colorbar": {
             "outlinewidth": 0,
             "ticks": ""
            },
            "colorscale": [
             [
              0,
              "#0d0887"
             ],
             [
              0.1111111111111111,
              "#46039f"
             ],
             [
              0.2222222222222222,
              "#7201a8"
             ],
             [
              0.3333333333333333,
              "#9c179e"
             ],
             [
              0.4444444444444444,
              "#bd3786"
             ],
             [
              0.5555555555555556,
              "#d8576b"
             ],
             [
              0.6666666666666666,
              "#ed7953"
             ],
             [
              0.7777777777777778,
              "#fb9f3a"
             ],
             [
              0.8888888888888888,
              "#fdca26"
             ],
             [
              1,
              "#f0f921"
             ]
            ],
            "type": "surface"
           }
          ],
          "table": [
           {
            "cells": {
             "fill": {
              "color": "#EBF0F8"
             },
             "line": {
              "color": "white"
             }
            },
            "header": {
             "fill": {
              "color": "#C8D4E3"
             },
             "line": {
              "color": "white"
             }
            },
            "type": "table"
           }
          ]
         },
         "layout": {
          "annotationdefaults": {
           "arrowcolor": "#2a3f5f",
           "arrowhead": 0,
           "arrowwidth": 1
          },
          "autotypenumbers": "strict",
          "coloraxis": {
           "colorbar": {
            "outlinewidth": 0,
            "ticks": ""
           }
          },
          "colorscale": {
           "diverging": [
            [
             0,
             "#8e0152"
            ],
            [
             0.1,
             "#c51b7d"
            ],
            [
             0.2,
             "#de77ae"
            ],
            [
             0.3,
             "#f1b6da"
            ],
            [
             0.4,
             "#fde0ef"
            ],
            [
             0.5,
             "#f7f7f7"
            ],
            [
             0.6,
             "#e6f5d0"
            ],
            [
             0.7,
             "#b8e186"
            ],
            [
             0.8,
             "#7fbc41"
            ],
            [
             0.9,
             "#4d9221"
            ],
            [
             1,
             "#276419"
            ]
           ],
           "sequential": [
            [
             0,
             "#0d0887"
            ],
            [
             0.1111111111111111,
             "#46039f"
            ],
            [
             0.2222222222222222,
             "#7201a8"
            ],
            [
             0.3333333333333333,
             "#9c179e"
            ],
            [
             0.4444444444444444,
             "#bd3786"
            ],
            [
             0.5555555555555556,
             "#d8576b"
            ],
            [
             0.6666666666666666,
             "#ed7953"
            ],
            [
             0.7777777777777778,
             "#fb9f3a"
            ],
            [
             0.8888888888888888,
             "#fdca26"
            ],
            [
             1,
             "#f0f921"
            ]
           ],
           "sequentialminus": [
            [
             0,
             "#0d0887"
            ],
            [
             0.1111111111111111,
             "#46039f"
            ],
            [
             0.2222222222222222,
             "#7201a8"
            ],
            [
             0.3333333333333333,
             "#9c179e"
            ],
            [
             0.4444444444444444,
             "#bd3786"
            ],
            [
             0.5555555555555556,
             "#d8576b"
            ],
            [
             0.6666666666666666,
             "#ed7953"
            ],
            [
             0.7777777777777778,
             "#fb9f3a"
            ],
            [
             0.8888888888888888,
             "#fdca26"
            ],
            [
             1,
             "#f0f921"
            ]
           ]
          },
          "colorway": [
           "#636efa",
           "#EF553B",
           "#00cc96",
           "#ab63fa",
           "#FFA15A",
           "#19d3f3",
           "#FF6692",
           "#B6E880",
           "#FF97FF",
           "#FECB52"
          ],
          "font": {
           "color": "#2a3f5f"
          },
          "geo": {
           "bgcolor": "white",
           "lakecolor": "white",
           "landcolor": "#E5ECF6",
           "showlakes": true,
           "showland": true,
           "subunitcolor": "white"
          },
          "hoverlabel": {
           "align": "left"
          },
          "hovermode": "closest",
          "mapbox": {
           "style": "light"
          },
          "paper_bgcolor": "white",
          "plot_bgcolor": "#E5ECF6",
          "polar": {
           "angularaxis": {
            "gridcolor": "white",
            "linecolor": "white",
            "ticks": ""
           },
           "bgcolor": "#E5ECF6",
           "radialaxis": {
            "gridcolor": "white",
            "linecolor": "white",
            "ticks": ""
           }
          },
          "scene": {
           "xaxis": {
            "backgroundcolor": "#E5ECF6",
            "gridcolor": "white",
            "gridwidth": 2,
            "linecolor": "white",
            "showbackground": true,
            "ticks": "",
            "zerolinecolor": "white"
           },
           "yaxis": {
            "backgroundcolor": "#E5ECF6",
            "gridcolor": "white",
            "gridwidth": 2,
            "linecolor": "white",
            "showbackground": true,
            "ticks": "",
            "zerolinecolor": "white"
           },
           "zaxis": {
            "backgroundcolor": "#E5ECF6",
            "gridcolor": "white",
            "gridwidth": 2,
            "linecolor": "white",
            "showbackground": true,
            "ticks": "",
            "zerolinecolor": "white"
           }
          },
          "shapedefaults": {
           "line": {
            "color": "#2a3f5f"
           }
          },
          "ternary": {
           "aaxis": {
            "gridcolor": "white",
            "linecolor": "white",
            "ticks": ""
           },
           "baxis": {
            "gridcolor": "white",
            "linecolor": "white",
            "ticks": ""
           },
           "bgcolor": "#E5ECF6",
           "caxis": {
            "gridcolor": "white",
            "linecolor": "white",
            "ticks": ""
           }
          },
          "title": {
           "x": 0.05
          },
          "xaxis": {
           "automargin": true,
           "gridcolor": "white",
           "linecolor": "white",
           "ticks": "",
           "title": {
            "standoff": 15
           },
           "zerolinecolor": "white",
           "zerolinewidth": 2
          },
          "yaxis": {
           "automargin": true,
           "gridcolor": "white",
           "linecolor": "white",
           "ticks": "",
           "title": {
            "standoff": 15
           },
           "zerolinecolor": "white",
           "zerolinewidth": 2
          }
         }
        },
        "title": {
         "text": "Range by Body Style"
        },
        "xaxis": {
         "anchor": "y2",
         "domain": [
          0,
          1
         ],
         "showgrid": false,
         "title": {
          "text": "Range (Km)"
         },
         "zeroline": false
        },
        "yaxis": {
         "anchor": "free",
         "domain": [
          0,
          1
         ],
         "position": 0,
         "showgrid": false,
         "title": {
          "text": "Percent of Cars"
         }
        }
       }
      }
     },
     "metadata": {},
     "output_type": "display_data"
    }
   ],
   "source": [
    "# Range by Body Style Density\n",
    "suv = suv_hatch_sed[suv_hatch_sed['body_style']=='SUV']['range_km']\n",
    "hatch = suv_hatch_sed[suv_hatch_sed['body_style']=='Hatchback']['range_km']\n",
    "sedan = suv_hatch_sed[suv_hatch_sed['body_style']=='Sedan']['range_km']\n",
    "\n",
    "hist_data = [sedan, suv, hatch]\n",
    "group_labels = ['Sedan', 'SUV', 'Hatchback']\n",
    "\n",
    "\n",
    "range_dens = ff.create_distplot(hist_data, group_labels, show_hist=False, show_rug=False,\n",
    "                                colors=[px.colors.qualitative.Plotly[0],\n",
    "                                                   px.colors.qualitative.Plotly[7],\n",
    "                                                   px.colors.qualitative.Plotly[9]])\n",
    "                                                   \n",
    "\n",
    "range_dens.update_layout({\n",
    "    'plot_bgcolor':'rgba(0, 0, 0, 0)',\n",
    "    'paper_bgcolor':'rgba(0, 0, 0, 0)'\n",
    "})\n",
    "\n",
    "range_dens.update_layout(title='Range by Body Style', xaxis_title='Range (Km)', yaxis_title='Percent of Cars')\n",
    "range_dens.update_xaxes(showgrid=False)\n",
    "range_dens.update_yaxes(showgrid=False)\n",
    "\n",
    "range_dens.show()"
   ]
  },
  {
   "attachments": {},
   "cell_type": "markdown",
   "metadata": {},
   "source": [
    "### 2c. Scatter plots of efficiency by price and range by price"
   ]
  },
  {
   "cell_type": "code",
   "execution_count": 29,
   "metadata": {},
   "outputs": [
    {
     "data": {
      "application/vnd.plotly.v1+json": {
       "config": {
        "plotlyServerURL": "https://plot.ly"
       },
       "data": [
        {
         "hovertemplate": "brand=Tesla <br>Price Euro=%{x}<br>Efficiency WhKm=%{y}<extra></extra>",
         "legendgroup": "Tesla ",
         "marker": {
          "color": "#636efa",
          "symbol": "circle"
         },
         "mode": "markers",
         "name": "Tesla ",
         "orientation": "v",
         "showlegend": true,
         "type": "scatter",
         "x": [
          55480,
          46380,
          58620,
          61480,
          75000,
          79990,
          215000,
          85990,
          96990,
          65620,
          55000,
          102990,
          45000
         ],
         "xaxis": "x",
         "y": [
          161,
          153,
          171,
          167,
          267,
          184,
          206,
          211,
          188,
          177,
          261,
          216,
          256
         ],
         "yaxis": "y"
        },
        {
         "hovertemplate": "brand=Volkswagen <br>Price Euro=%{x}<br>Efficiency WhKm=%{y}<extra></extra>",
         "legendgroup": "Volkswagen ",
         "marker": {
          "color": "#EF553B",
          "symbol": "circle"
         },
         "mode": "markers",
         "name": "Volkswagen ",
         "orientation": "v",
         "showlegend": true,
         "type": "scatter",
         "x": [
          30000,
          31900,
          40936,
          21421,
          45000,
          33000,
          38987,
          35575
         ],
         "xaxis": "x",
         "y": [
          167,
          168,
          175,
          166,
          183,
          166,
          171,
          171
         ],
         "yaxis": "y"
        },
        {
         "hovertemplate": "brand=Polestar <br>Price Euro=%{x}<br>Efficiency WhKm=%{y}<extra></extra>",
         "legendgroup": "Polestar ",
         "marker": {
          "color": "#00cc96",
          "symbol": "circle"
         },
         "mode": "markers",
         "name": "Polestar ",
         "orientation": "v",
         "showlegend": true,
         "type": "scatter",
         "x": [
          56440
         ],
         "xaxis": "x",
         "y": [
          181
         ],
         "yaxis": "y"
        },
        {
         "hovertemplate": "brand=BMW <br>Price Euro=%{x}<br>Efficiency WhKm=%{y}<extra></extra>",
         "legendgroup": "BMW ",
         "marker": {
          "color": "#ab63fa",
          "symbol": "circle"
         },
         "mode": "markers",
         "name": "BMW ",
         "orientation": "v",
         "showlegend": true,
         "type": "scatter",
         "x": [
          68040,
          65000,
          38017,
          41526
         ],
         "xaxis": "x",
         "y": [
          206,
          178,
          161,
          165
         ],
         "yaxis": "y"
        },
        {
         "hovertemplate": "brand=Honda <br>Price Euro=%{x}<br>Efficiency WhKm=%{y}<extra></extra>",
         "legendgroup": "Honda ",
         "marker": {
          "color": "#FFA15A",
          "symbol": "circle"
         },
         "mode": "markers",
         "name": "Honda ",
         "orientation": "v",
         "showlegend": true,
         "type": "scatter",
         "x": [
          32997,
          35921
         ],
         "xaxis": "x",
         "y": [
          168,
          168
         ],
         "yaxis": "y"
        },
        {
         "hovertemplate": "brand=Lucid <br>Price Euro=%{x}<br>Efficiency WhKm=%{y}<extra></extra>",
         "legendgroup": "Lucid ",
         "marker": {
          "color": "#19d3f3",
          "symbol": "circle"
         },
         "mode": "markers",
         "name": "Lucid ",
         "orientation": "v",
         "showlegend": true,
         "type": "scatter",
         "x": [
          105000
         ],
         "xaxis": "x",
         "y": [
          180
         ],
         "yaxis": "y"
        },
        {
         "hovertemplate": "brand=Peugeot <br>Price Euro=%{x}<br>Efficiency WhKm=%{y}<extra></extra>",
         "legendgroup": "Peugeot ",
         "marker": {
          "color": "#FF6692",
          "symbol": "circle"
         },
         "mode": "markers",
         "name": "Peugeot ",
         "orientation": "v",
         "showlegend": true,
         "type": "scatter",
         "x": [
          29682,
          34361
         ],
         "xaxis": "x",
         "y": [
          164,
          180
         ],
         "yaxis": "y"
        },
        {
         "hovertemplate": "brand=Audi <br>Price Euro=%{x}<br>Efficiency WhKm=%{y}<extra></extra>",
         "legendgroup": "Audi ",
         "marker": {
          "color": "#B6E880",
          "symbol": "circle"
         },
         "mode": "markers",
         "name": "Audi ",
         "orientation": "v",
         "showlegend": true,
         "type": "scatter",
         "x": [
          55000,
          125000,
          67358,
          81639,
          79445,
          57500,
          69551,
          93800,
          96050
         ],
         "xaxis": "x",
         "y": [
          193,
          197,
          231,
          228,
          237,
          188,
          219,
          270,
          258
         ],
         "yaxis": "y"
        },
        {
         "hovertemplate": "brand=Mercedes <br>Price Euro=%{x}<br>Efficiency WhKm=%{y}<extra></extra>",
         "legendgroup": "Mercedes ",
         "marker": {
          "color": "#FF97FF",
          "symbol": "circle"
         },
         "mode": "markers",
         "name": "Mercedes ",
         "orientation": "v",
         "showlegend": true,
         "type": "scatter",
         "x": [
          69484,
          45000,
          70631
         ],
         "xaxis": "x",
         "y": [
          216,
          171,
          273
         ],
         "yaxis": "y"
        },
        {
         "hovertemplate": "brand=Nissan <br>Price Euro=%{x}<br>Efficiency WhKm=%{y}<extra></extra>",
         "legendgroup": "Nissan ",
         "marker": {
          "color": "#FECB52",
          "symbol": "circle"
         },
         "mode": "markers",
         "name": "Nissan ",
         "orientation": "v",
         "showlegend": true,
         "type": "scatter",
         "x": [
          29234,
          37237,
          50000,
          33246,
          57500,
          45000,
          50000,
          65000
         ],
         "xaxis": "x",
         "y": [
          164,
          172,
          198,
          200,
          207,
          191,
          194,
          232
         ],
         "yaxis": "y"
        },
        {
         "hovertemplate": "brand=Hyundai <br>Price Euro=%{x}<br>Efficiency WhKm=%{y}<extra></extra>",
         "legendgroup": "Hyundai ",
         "marker": {
          "color": "#636efa",
          "symbol": "circle"
         },
         "mode": "markers",
         "name": "Hyundai ",
         "orientation": "v",
         "showlegend": true,
         "type": "scatter",
         "x": [
          40795,
          34459,
          33971
         ],
         "xaxis": "x",
         "y": [
          160,
          153,
          154
         ],
         "yaxis": "y"
        },
        {
         "hovertemplate": "brand=Porsche <br>Price Euro=%{x}<br>Efficiency WhKm=%{y}<extra></extra>",
         "legendgroup": "Porsche ",
         "marker": {
          "color": "#EF553B",
          "symbol": "circle"
         },
         "mode": "markers",
         "name": "Porsche ",
         "orientation": "v",
         "showlegend": true,
         "type": "scatter",
         "x": [
          180781,
          102945,
          109302,
          150000,
          148301
         ],
         "xaxis": "x",
         "y": [
          223,
          195,
          197,
          217,
          215
         ],
         "yaxis": "y"
        },
        {
         "hovertemplate": "brand=MG <br>Price Euro=%{x}<br>Efficiency WhKm=%{y}<extra></extra>",
         "legendgroup": "MG ",
         "marker": {
          "color": "#00cc96",
          "symbol": "circle"
         },
         "mode": "markers",
         "name": "MG ",
         "orientation": "v",
         "showlegend": true,
         "type": "scatter",
         "x": [
          30000
         ],
         "xaxis": "x",
         "y": [
          193
         ],
         "yaxis": "y"
        },
        {
         "hovertemplate": "brand=Mini <br>Price Euro=%{x}<br>Efficiency WhKm=%{y}<extra></extra>",
         "legendgroup": "Mini ",
         "marker": {
          "color": "#ab63fa",
          "symbol": "circle"
         },
         "mode": "markers",
         "name": "Mini ",
         "orientation": "v",
         "showlegend": true,
         "type": "scatter",
         "x": [
          31681
         ],
         "xaxis": "x",
         "y": [
          156
         ],
         "yaxis": "y"
        },
        {
         "hovertemplate": "brand=Opel <br>Price Euro=%{x}<br>Efficiency WhKm=%{y}<extra></extra>",
         "legendgroup": "Opel ",
         "marker": {
          "color": "#FFA15A",
          "symbol": "circle"
         },
         "mode": "markers",
         "name": "Opel ",
         "orientation": "v",
         "showlegend": true,
         "type": "scatter",
         "x": [
          29146,
          41906,
          35000
         ],
         "xaxis": "x",
         "y": [
          164,
          173,
          176
         ],
         "yaxis": "y"
        },
        {
         "hovertemplate": "brand=Skoda <br>Price Euro=%{x}<br>Efficiency WhKm=%{y}<extra></extra>",
         "legendgroup": "Skoda ",
         "marker": {
          "color": "#19d3f3",
          "symbol": "circle"
         },
         "mode": "markers",
         "name": "Skoda ",
         "orientation": "v",
         "showlegend": true,
         "type": "scatter",
         "x": [
          35000,
          24534,
          40000,
          45000,
          47500,
          37500
         ],
         "xaxis": "x",
         "y": [
          179,
          166,
          183,
          193,
          193,
          181
         ],
         "yaxis": "y"
        },
        {
         "hovertemplate": "brand=Volvo <br>Price Euro=%{x}<br>Efficiency WhKm=%{y}<extra></extra>",
         "legendgroup": "Volvo ",
         "marker": {
          "color": "#FF6692",
          "symbol": "circle"
         },
         "mode": "markers",
         "name": "Volvo ",
         "orientation": "v",
         "showlegend": true,
         "type": "scatter",
         "x": [
          60437
         ],
         "xaxis": "x",
         "y": [
          200
         ],
         "yaxis": "y"
        },
        {
         "hovertemplate": "brand=Kia <br>Price Euro=%{x}<br>Efficiency WhKm=%{y}<extra></extra>",
         "legendgroup": "Kia ",
         "marker": {
          "color": "#B6E880",
          "symbol": "circle"
         },
         "mode": "markers",
         "name": "Kia ",
         "orientation": "v",
         "showlegend": true,
         "type": "scatter",
         "x": [
          38105,
          36837,
          34400,
          33133
         ],
         "xaxis": "x",
         "y": [
          173,
          175,
          167,
          170
         ],
         "yaxis": "y"
        },
        {
         "hovertemplate": "brand=Renault <br>Price Euro=%{x}<br>Efficiency WhKm=%{y}<extra></extra>",
         "legendgroup": "Renault ",
         "marker": {
          "color": "#FF97FF",
          "symbol": "circle"
         },
         "mode": "markers",
         "name": "Renault ",
         "orientation": "v",
         "showlegend": true,
         "type": "scatter",
         "x": [
          31184,
          33133,
          24790,
          29234,
          38000
         ],
         "xaxis": "x",
         "y": [
          165,
          168,
          164,
          161,
          194
         ],
         "yaxis": "y"
        },
        {
         "hovertemplate": "brand=Mazda <br>Price Euro=%{x}<br>Efficiency WhKm=%{y}<extra></extra>",
         "legendgroup": "Mazda ",
         "marker": {
          "color": "#FECB52",
          "symbol": "circle"
         },
         "mode": "markers",
         "name": "Mazda ",
         "orientation": "v",
         "showlegend": true,
         "type": "scatter",
         "x": [
          32646
         ],
         "xaxis": "x",
         "y": [
          178
         ],
         "yaxis": "y"
        },
        {
         "hovertemplate": "brand=Lexus <br>Price Euro=%{x}<br>Efficiency WhKm=%{y}<extra></extra>",
         "legendgroup": "Lexus ",
         "marker": {
          "color": "#636efa",
          "symbol": "circle"
         },
         "mode": "markers",
         "name": "Lexus ",
         "orientation": "v",
         "showlegend": true,
         "type": "scatter",
         "x": [
          50000
         ],
         "xaxis": "x",
         "y": [
          193
         ],
         "yaxis": "y"
        },
        {
         "hovertemplate": "brand=CUPRA <br>Price Euro=%{x}<br>Efficiency WhKm=%{y}<extra></extra>",
         "legendgroup": "CUPRA ",
         "marker": {
          "color": "#EF553B",
          "symbol": "circle"
         },
         "mode": "markers",
         "name": "CUPRA ",
         "orientation": "v",
         "showlegend": true,
         "type": "scatter",
         "x": [
          45000
         ],
         "xaxis": "x",
         "y": [
          181
         ],
         "yaxis": "y"
        },
        {
         "hovertemplate": "brand=SEAT <br>Price Euro=%{x}<br>Efficiency WhKm=%{y}<extra></extra>",
         "legendgroup": "SEAT ",
         "marker": {
          "color": "#00cc96",
          "symbol": "circle"
         },
         "mode": "markers",
         "name": "SEAT ",
         "orientation": "v",
         "showlegend": true,
         "type": "scatter",
         "x": [
          20129
         ],
         "xaxis": "x",
         "y": [
          166
         ],
         "yaxis": "y"
        },
        {
         "hovertemplate": "brand=Lightyear <br>Price Euro=%{x}<br>Efficiency WhKm=%{y}<extra></extra>",
         "legendgroup": "Lightyear ",
         "marker": {
          "color": "#ab63fa",
          "symbol": "circle"
         },
         "mode": "markers",
         "name": "Lightyear ",
         "orientation": "v",
         "showlegend": true,
         "type": "scatter",
         "x": [
          149000
         ],
         "xaxis": "x",
         "y": [
          104
         ],
         "yaxis": "y"
        },
        {
         "hovertemplate": "brand=Aiways <br>Price Euro=%{x}<br>Efficiency WhKm=%{y}<extra></extra>",
         "legendgroup": "Aiways ",
         "marker": {
          "color": "#FFA15A",
          "symbol": "circle"
         },
         "mode": "markers",
         "name": "Aiways ",
         "orientation": "v",
         "showlegend": true,
         "type": "scatter",
         "x": [
          36057
         ],
         "xaxis": "x",
         "y": [
          188
         ],
         "yaxis": "y"
        },
        {
         "hovertemplate": "brand=DS <br>Price Euro=%{x}<br>Efficiency WhKm=%{y}<extra></extra>",
         "legendgroup": "DS ",
         "marker": {
          "color": "#19d3f3",
          "symbol": "circle"
         },
         "mode": "markers",
         "name": "DS ",
         "orientation": "v",
         "showlegend": true,
         "type": "scatter",
         "x": [
          37422
         ],
         "xaxis": "x",
         "y": [
          180
         ],
         "yaxis": "y"
        },
        {
         "hovertemplate": "brand=Citroen <br>Price Euro=%{x}<br>Efficiency WhKm=%{y}<extra></extra>",
         "legendgroup": "Citroen ",
         "marker": {
          "color": "#FF6692",
          "symbol": "circle"
         },
         "mode": "markers",
         "name": "Citroen ",
         "orientation": "v",
         "showlegend": true,
         "type": "scatter",
         "x": [
          40000
         ],
         "xaxis": "x",
         "y": [
          180
         ],
         "yaxis": "y"
        },
        {
         "hovertemplate": "brand=Jaguar <br>Price Euro=%{x}<br>Efficiency WhKm=%{y}<extra></extra>",
         "legendgroup": "Jaguar ",
         "marker": {
          "color": "#B6E880",
          "symbol": "circle"
         },
         "mode": "markers",
         "name": "Jaguar ",
         "orientation": "v",
         "showlegend": true,
         "type": "scatter",
         "x": [
          75351
         ],
         "xaxis": "x",
         "y": [
          232
         ],
         "yaxis": "y"
        },
        {
         "hovertemplate": "brand=Ford <br>Price Euro=%{x}<br>Efficiency WhKm=%{y}<extra></extra>",
         "legendgroup": "Ford ",
         "marker": {
          "color": "#FF97FF",
          "symbol": "circle"
         },
         "mode": "markers",
         "name": "Ford ",
         "orientation": "v",
         "showlegend": true,
         "type": "scatter",
         "x": [
          54475,
          62900,
          54000,
          46900
         ],
         "xaxis": "x",
         "y": [
          200,
          209,
          206,
          194
         ],
         "yaxis": "y"
        },
        {
         "hovertemplate": "brand=Byton <br>Price Euro=%{x}<br>Efficiency WhKm=%{y}<extra></extra>",
         "legendgroup": "Byton ",
         "marker": {
          "color": "#FECB52",
          "symbol": "circle"
         },
         "mode": "markers",
         "name": "Byton ",
         "orientation": "v",
         "showlegend": true,
         "type": "scatter",
         "x": [
          64000,
          53500,
          62000
         ],
         "xaxis": "x",
         "y": [
          244,
          222,
          238
         ],
         "yaxis": "y"
        },
        {
         "hovertemplate": "brand=Sono <br>Price Euro=%{x}<br>Efficiency WhKm=%{y}<extra></extra>",
         "legendgroup": "Sono ",
         "marker": {
          "color": "#636efa",
          "symbol": "circle"
         },
         "mode": "markers",
         "name": "Sono ",
         "orientation": "v",
         "showlegend": true,
         "type": "scatter",
         "x": [
          25500
         ],
         "xaxis": "x",
         "y": [
          156
         ],
         "yaxis": "y"
        },
        {
         "hovertemplate": "brand=Smart <br>Price Euro=%{x}<br>Efficiency WhKm=%{y}<extra></extra>",
         "legendgroup": "Smart ",
         "marker": {
          "color": "#EF553B",
          "symbol": "circle"
         },
         "mode": "markers",
         "name": "Smart ",
         "orientation": "v",
         "showlegend": true,
         "type": "scatter",
         "x": [
          22030,
          21387,
          24565
         ],
         "xaxis": "x",
         "y": [
          176,
          167,
          176
         ],
         "yaxis": "y"
        },
        {
         "hovertemplate": "brand=Fiat <br>Price Euro=%{x}<br>Efficiency WhKm=%{y}<extra></extra>",
         "legendgroup": "Fiat ",
         "marker": {
          "color": "#00cc96",
          "symbol": "circle"
         },
         "mode": "markers",
         "name": "Fiat ",
         "orientation": "v",
         "showlegend": true,
         "type": "scatter",
         "x": [
          34900,
          37900
         ],
         "xaxis": "x",
         "y": [
          168,
          168
         ],
         "yaxis": "y"
        }
       ],
       "layout": {
        "height": 500,
        "legend": {
         "title": {
          "text": "brand"
         },
         "tracegroupgap": 0
        },
        "paper_bgcolor": "rgba(0, 0, 0, 0)",
        "plot_bgcolor": "rgba(0, 0, 0, 0)",
        "template": {
         "data": {
          "bar": [
           {
            "error_x": {
             "color": "#2a3f5f"
            },
            "error_y": {
             "color": "#2a3f5f"
            },
            "marker": {
             "line": {
              "color": "#E5ECF6",
              "width": 0.5
             },
             "pattern": {
              "fillmode": "overlay",
              "size": 10,
              "solidity": 0.2
             }
            },
            "type": "bar"
           }
          ],
          "barpolar": [
           {
            "marker": {
             "line": {
              "color": "#E5ECF6",
              "width": 0.5
             },
             "pattern": {
              "fillmode": "overlay",
              "size": 10,
              "solidity": 0.2
             }
            },
            "type": "barpolar"
           }
          ],
          "carpet": [
           {
            "aaxis": {
             "endlinecolor": "#2a3f5f",
             "gridcolor": "white",
             "linecolor": "white",
             "minorgridcolor": "white",
             "startlinecolor": "#2a3f5f"
            },
            "baxis": {
             "endlinecolor": "#2a3f5f",
             "gridcolor": "white",
             "linecolor": "white",
             "minorgridcolor": "white",
             "startlinecolor": "#2a3f5f"
            },
            "type": "carpet"
           }
          ],
          "choropleth": [
           {
            "colorbar": {
             "outlinewidth": 0,
             "ticks": ""
            },
            "type": "choropleth"
           }
          ],
          "contour": [
           {
            "colorbar": {
             "outlinewidth": 0,
             "ticks": ""
            },
            "colorscale": [
             [
              0,
              "#0d0887"
             ],
             [
              0.1111111111111111,
              "#46039f"
             ],
             [
              0.2222222222222222,
              "#7201a8"
             ],
             [
              0.3333333333333333,
              "#9c179e"
             ],
             [
              0.4444444444444444,
              "#bd3786"
             ],
             [
              0.5555555555555556,
              "#d8576b"
             ],
             [
              0.6666666666666666,
              "#ed7953"
             ],
             [
              0.7777777777777778,
              "#fb9f3a"
             ],
             [
              0.8888888888888888,
              "#fdca26"
             ],
             [
              1,
              "#f0f921"
             ]
            ],
            "type": "contour"
           }
          ],
          "contourcarpet": [
           {
            "colorbar": {
             "outlinewidth": 0,
             "ticks": ""
            },
            "type": "contourcarpet"
           }
          ],
          "heatmap": [
           {
            "colorbar": {
             "outlinewidth": 0,
             "ticks": ""
            },
            "colorscale": [
             [
              0,
              "#0d0887"
             ],
             [
              0.1111111111111111,
              "#46039f"
             ],
             [
              0.2222222222222222,
              "#7201a8"
             ],
             [
              0.3333333333333333,
              "#9c179e"
             ],
             [
              0.4444444444444444,
              "#bd3786"
             ],
             [
              0.5555555555555556,
              "#d8576b"
             ],
             [
              0.6666666666666666,
              "#ed7953"
             ],
             [
              0.7777777777777778,
              "#fb9f3a"
             ],
             [
              0.8888888888888888,
              "#fdca26"
             ],
             [
              1,
              "#f0f921"
             ]
            ],
            "type": "heatmap"
           }
          ],
          "heatmapgl": [
           {
            "colorbar": {
             "outlinewidth": 0,
             "ticks": ""
            },
            "colorscale": [
             [
              0,
              "#0d0887"
             ],
             [
              0.1111111111111111,
              "#46039f"
             ],
             [
              0.2222222222222222,
              "#7201a8"
             ],
             [
              0.3333333333333333,
              "#9c179e"
             ],
             [
              0.4444444444444444,
              "#bd3786"
             ],
             [
              0.5555555555555556,
              "#d8576b"
             ],
             [
              0.6666666666666666,
              "#ed7953"
             ],
             [
              0.7777777777777778,
              "#fb9f3a"
             ],
             [
              0.8888888888888888,
              "#fdca26"
             ],
             [
              1,
              "#f0f921"
             ]
            ],
            "type": "heatmapgl"
           }
          ],
          "histogram": [
           {
            "marker": {
             "pattern": {
              "fillmode": "overlay",
              "size": 10,
              "solidity": 0.2
             }
            },
            "type": "histogram"
           }
          ],
          "histogram2d": [
           {
            "colorbar": {
             "outlinewidth": 0,
             "ticks": ""
            },
            "colorscale": [
             [
              0,
              "#0d0887"
             ],
             [
              0.1111111111111111,
              "#46039f"
             ],
             [
              0.2222222222222222,
              "#7201a8"
             ],
             [
              0.3333333333333333,
              "#9c179e"
             ],
             [
              0.4444444444444444,
              "#bd3786"
             ],
             [
              0.5555555555555556,
              "#d8576b"
             ],
             [
              0.6666666666666666,
              "#ed7953"
             ],
             [
              0.7777777777777778,
              "#fb9f3a"
             ],
             [
              0.8888888888888888,
              "#fdca26"
             ],
             [
              1,
              "#f0f921"
             ]
            ],
            "type": "histogram2d"
           }
          ],
          "histogram2dcontour": [
           {
            "colorbar": {
             "outlinewidth": 0,
             "ticks": ""
            },
            "colorscale": [
             [
              0,
              "#0d0887"
             ],
             [
              0.1111111111111111,
              "#46039f"
             ],
             [
              0.2222222222222222,
              "#7201a8"
             ],
             [
              0.3333333333333333,
              "#9c179e"
             ],
             [
              0.4444444444444444,
              "#bd3786"
             ],
             [
              0.5555555555555556,
              "#d8576b"
             ],
             [
              0.6666666666666666,
              "#ed7953"
             ],
             [
              0.7777777777777778,
              "#fb9f3a"
             ],
             [
              0.8888888888888888,
              "#fdca26"
             ],
             [
              1,
              "#f0f921"
             ]
            ],
            "type": "histogram2dcontour"
           }
          ],
          "mesh3d": [
           {
            "colorbar": {
             "outlinewidth": 0,
             "ticks": ""
            },
            "type": "mesh3d"
           }
          ],
          "parcoords": [
           {
            "line": {
             "colorbar": {
              "outlinewidth": 0,
              "ticks": ""
             }
            },
            "type": "parcoords"
           }
          ],
          "pie": [
           {
            "automargin": true,
            "type": "pie"
           }
          ],
          "scatter": [
           {
            "fillpattern": {
             "fillmode": "overlay",
             "size": 10,
             "solidity": 0.2
            },
            "type": "scatter"
           }
          ],
          "scatter3d": [
           {
            "line": {
             "colorbar": {
              "outlinewidth": 0,
              "ticks": ""
             }
            },
            "marker": {
             "colorbar": {
              "outlinewidth": 0,
              "ticks": ""
             }
            },
            "type": "scatter3d"
           }
          ],
          "scattercarpet": [
           {
            "marker": {
             "colorbar": {
              "outlinewidth": 0,
              "ticks": ""
             }
            },
            "type": "scattercarpet"
           }
          ],
          "scattergeo": [
           {
            "marker": {
             "colorbar": {
              "outlinewidth": 0,
              "ticks": ""
             }
            },
            "type": "scattergeo"
           }
          ],
          "scattergl": [
           {
            "marker": {
             "colorbar": {
              "outlinewidth": 0,
              "ticks": ""
             }
            },
            "type": "scattergl"
           }
          ],
          "scattermapbox": [
           {
            "marker": {
             "colorbar": {
              "outlinewidth": 0,
              "ticks": ""
             }
            },
            "type": "scattermapbox"
           }
          ],
          "scatterpolar": [
           {
            "marker": {
             "colorbar": {
              "outlinewidth": 0,
              "ticks": ""
             }
            },
            "type": "scatterpolar"
           }
          ],
          "scatterpolargl": [
           {
            "marker": {
             "colorbar": {
              "outlinewidth": 0,
              "ticks": ""
             }
            },
            "type": "scatterpolargl"
           }
          ],
          "scatterternary": [
           {
            "marker": {
             "colorbar": {
              "outlinewidth": 0,
              "ticks": ""
             }
            },
            "type": "scatterternary"
           }
          ],
          "surface": [
           {
            "colorbar": {
             "outlinewidth": 0,
             "ticks": ""
            },
            "colorscale": [
             [
              0,
              "#0d0887"
             ],
             [
              0.1111111111111111,
              "#46039f"
             ],
             [
              0.2222222222222222,
              "#7201a8"
             ],
             [
              0.3333333333333333,
              "#9c179e"
             ],
             [
              0.4444444444444444,
              "#bd3786"
             ],
             [
              0.5555555555555556,
              "#d8576b"
             ],
             [
              0.6666666666666666,
              "#ed7953"
             ],
             [
              0.7777777777777778,
              "#fb9f3a"
             ],
             [
              0.8888888888888888,
              "#fdca26"
             ],
             [
              1,
              "#f0f921"
             ]
            ],
            "type": "surface"
           }
          ],
          "table": [
           {
            "cells": {
             "fill": {
              "color": "#EBF0F8"
             },
             "line": {
              "color": "white"
             }
            },
            "header": {
             "fill": {
              "color": "#C8D4E3"
             },
             "line": {
              "color": "white"
             }
            },
            "type": "table"
           }
          ]
         },
         "layout": {
          "annotationdefaults": {
           "arrowcolor": "#2a3f5f",
           "arrowhead": 0,
           "arrowwidth": 1
          },
          "autotypenumbers": "strict",
          "coloraxis": {
           "colorbar": {
            "outlinewidth": 0,
            "ticks": ""
           }
          },
          "colorscale": {
           "diverging": [
            [
             0,
             "#8e0152"
            ],
            [
             0.1,
             "#c51b7d"
            ],
            [
             0.2,
             "#de77ae"
            ],
            [
             0.3,
             "#f1b6da"
            ],
            [
             0.4,
             "#fde0ef"
            ],
            [
             0.5,
             "#f7f7f7"
            ],
            [
             0.6,
             "#e6f5d0"
            ],
            [
             0.7,
             "#b8e186"
            ],
            [
             0.8,
             "#7fbc41"
            ],
            [
             0.9,
             "#4d9221"
            ],
            [
             1,
             "#276419"
            ]
           ],
           "sequential": [
            [
             0,
             "#0d0887"
            ],
            [
             0.1111111111111111,
             "#46039f"
            ],
            [
             0.2222222222222222,
             "#7201a8"
            ],
            [
             0.3333333333333333,
             "#9c179e"
            ],
            [
             0.4444444444444444,
             "#bd3786"
            ],
            [
             0.5555555555555556,
             "#d8576b"
            ],
            [
             0.6666666666666666,
             "#ed7953"
            ],
            [
             0.7777777777777778,
             "#fb9f3a"
            ],
            [
             0.8888888888888888,
             "#fdca26"
            ],
            [
             1,
             "#f0f921"
            ]
           ],
           "sequentialminus": [
            [
             0,
             "#0d0887"
            ],
            [
             0.1111111111111111,
             "#46039f"
            ],
            [
             0.2222222222222222,
             "#7201a8"
            ],
            [
             0.3333333333333333,
             "#9c179e"
            ],
            [
             0.4444444444444444,
             "#bd3786"
            ],
            [
             0.5555555555555556,
             "#d8576b"
            ],
            [
             0.6666666666666666,
             "#ed7953"
            ],
            [
             0.7777777777777778,
             "#fb9f3a"
            ],
            [
             0.8888888888888888,
             "#fdca26"
            ],
            [
             1,
             "#f0f921"
            ]
           ]
          },
          "colorway": [
           "#636efa",
           "#EF553B",
           "#00cc96",
           "#ab63fa",
           "#FFA15A",
           "#19d3f3",
           "#FF6692",
           "#B6E880",
           "#FF97FF",
           "#FECB52"
          ],
          "font": {
           "color": "#2a3f5f"
          },
          "geo": {
           "bgcolor": "white",
           "lakecolor": "white",
           "landcolor": "#E5ECF6",
           "showlakes": true,
           "showland": true,
           "subunitcolor": "white"
          },
          "hoverlabel": {
           "align": "left"
          },
          "hovermode": "closest",
          "mapbox": {
           "style": "light"
          },
          "paper_bgcolor": "white",
          "plot_bgcolor": "#E5ECF6",
          "polar": {
           "angularaxis": {
            "gridcolor": "white",
            "linecolor": "white",
            "ticks": ""
           },
           "bgcolor": "#E5ECF6",
           "radialaxis": {
            "gridcolor": "white",
            "linecolor": "white",
            "ticks": ""
           }
          },
          "scene": {
           "xaxis": {
            "backgroundcolor": "#E5ECF6",
            "gridcolor": "white",
            "gridwidth": 2,
            "linecolor": "white",
            "showbackground": true,
            "ticks": "",
            "zerolinecolor": "white"
           },
           "yaxis": {
            "backgroundcolor": "#E5ECF6",
            "gridcolor": "white",
            "gridwidth": 2,
            "linecolor": "white",
            "showbackground": true,
            "ticks": "",
            "zerolinecolor": "white"
           },
           "zaxis": {
            "backgroundcolor": "#E5ECF6",
            "gridcolor": "white",
            "gridwidth": 2,
            "linecolor": "white",
            "showbackground": true,
            "ticks": "",
            "zerolinecolor": "white"
           }
          },
          "shapedefaults": {
           "line": {
            "color": "#2a3f5f"
           }
          },
          "ternary": {
           "aaxis": {
            "gridcolor": "white",
            "linecolor": "white",
            "ticks": ""
           },
           "baxis": {
            "gridcolor": "white",
            "linecolor": "white",
            "ticks": ""
           },
           "bgcolor": "#E5ECF6",
           "caxis": {
            "gridcolor": "white",
            "linecolor": "white",
            "ticks": ""
           }
          },
          "title": {
           "x": 0.05
          },
          "xaxis": {
           "automargin": true,
           "gridcolor": "white",
           "linecolor": "white",
           "ticks": "",
           "title": {
            "standoff": 15
           },
           "zerolinecolor": "white",
           "zerolinewidth": 2
          },
          "yaxis": {
           "automargin": true,
           "gridcolor": "white",
           "linecolor": "white",
           "ticks": "",
           "title": {
            "standoff": 15
           },
           "zerolinecolor": "white",
           "zerolinewidth": 2
          }
         }
        },
        "title": {
         "text": "Efficiency vs Price for EVs"
        },
        "width": 900,
        "xaxis": {
         "anchor": "y",
         "domain": [
          0,
          1
         ],
         "range": [
          0,
          250000
         ],
         "showgrid": false,
         "title": {
          "text": "Price Euro"
         }
        },
        "yaxis": {
         "anchor": "x",
         "domain": [
          0,
          1
         ],
         "range": [
          125,
          280
         ],
         "showgrid": false,
         "title": {
          "text": "Efficiency WhKm"
         }
        }
       }
      }
     },
     "metadata": {},
     "output_type": "display_data"
    }
   ],
   "source": [
    "# Create a scatter plot of efficiency by price\n",
    "price_efficiency = px.scatter(data_frame=ev, title='Efficiency vs Price for EVs', x='price_euro', y='efficiency_whkm', \n",
    "           labels={'price_euro':'Price Euro', 'efficiency_whkm':'Efficiency WhKm'},\n",
    "           color='brand', width=900, height=500)\n",
    "\n",
    "price_efficiency.update_layout({\n",
    "    'plot_bgcolor':'rgba(0, 0, 0, 0)',\n",
    "    'paper_bgcolor':'rgba(0, 0, 0, 0)'\n",
    "})\n",
    "\n",
    "price_efficiency.update_xaxes(range=[0, 250000], showgrid=False)\n",
    "price_efficiency.update_yaxes(range=[125, 280], showgrid=False)"
   ]
  },
  {
   "cell_type": "code",
   "execution_count": 30,
   "metadata": {},
   "outputs": [
    {
     "data": {
      "application/vnd.plotly.v1+json": {
       "config": {
        "plotlyServerURL": "https://plot.ly"
       },
       "data": [
        {
         "customdata": [
          [
           "Model 3 Long Range Dual Motor"
          ],
          [
           "Model 3 Standard Range Plus"
          ],
          [
           "Model Y Long Range Dual Motor"
          ],
          [
           "Model 3 Long Range Performance"
          ],
          [
           "Cybertruck Tri Motor"
          ],
          [
           "Model S Long Range"
          ],
          [
           "Roadster "
          ],
          [
           "Model X Long Range"
          ],
          [
           "Model S Performance"
          ],
          [
           "Model Y Long Range Performance"
          ],
          [
           "Cybertruck Dual Motor"
          ],
          [
           "Model X Performance"
          ],
          [
           "Cybertruck Single Motor"
          ]
         ],
         "hovertemplate": "brand=Tesla <br>Price Euro=%{x}<br>Range Km=%{y}<br>model=%{customdata[0]}<extra></extra>",
         "legendgroup": "Tesla ",
         "marker": {
          "color": "#636efa",
          "symbol": "circle"
         },
         "mode": "markers",
         "name": "Tesla ",
         "orientation": "v",
         "showlegend": true,
         "type": "scatter",
         "x": [
          55480,
          46380,
          58620,
          61480,
          75000,
          79990,
          215000,
          85990,
          96990,
          65620,
          55000,
          102990,
          45000
         ],
         "xaxis": "x",
         "y": [
          450,
          310,
          425,
          435,
          750,
          515,
          970,
          450,
          505,
          410,
          460,
          440,
          390
         ],
         "yaxis": "y"
        },
        {
         "customdata": [
          [
           "ID.3 Pure"
          ],
          [
           "e-Golf "
          ],
          [
           "ID.3 Pro S"
          ],
          [
           "e-Up! "
          ],
          [
           "ID.4 "
          ],
          [
           "ID.3 Pro"
          ],
          [
           "ID.3 1st"
          ],
          [
           "ID.3 Pro Performance"
          ]
         ],
         "hovertemplate": "brand=Volkswagen <br>Price Euro=%{x}<br>Range Km=%{y}<br>model=%{customdata[0]}<extra></extra>",
         "legendgroup": "Volkswagen ",
         "marker": {
          "color": "#EF553B",
          "symbol": "circle"
         },
         "mode": "markers",
         "name": "Volkswagen ",
         "orientation": "v",
         "showlegend": true,
         "type": "scatter",
         "x": [
          30000,
          31900,
          40936,
          21421,
          45000,
          33000,
          38987,
          35575
         ],
         "xaxis": "x",
         "y": [
          270,
          190,
          440,
          195,
          420,
          350,
          340,
          340
         ],
         "yaxis": "y"
        },
        {
         "customdata": [
          [
           "2"
          ]
         ],
         "hovertemplate": "brand=Polestar <br>Price Euro=%{x}<br>Range Km=%{y}<br>model=%{customdata[0]}<extra></extra>",
         "legendgroup": "Polestar ",
         "marker": {
          "color": "#00cc96",
          "symbol": "circle"
         },
         "mode": "markers",
         "name": "Polestar ",
         "orientation": "v",
         "showlegend": true,
         "type": "scatter",
         "x": [
          56440
         ],
         "xaxis": "x",
         "y": [
          400
         ],
         "yaxis": "y"
        },
        {
         "customdata": [
          [
           "iX3 "
          ],
          [
           "i4 "
          ],
          [
           "i3 120 Ah"
          ],
          [
           "i3s 120 Ah"
          ]
         ],
         "hovertemplate": "brand=BMW <br>Price Euro=%{x}<br>Range Km=%{y}<br>model=%{customdata[0]}<extra></extra>",
         "legendgroup": "BMW ",
         "marker": {
          "color": "#ab63fa",
          "symbol": "circle"
         },
         "mode": "markers",
         "name": "BMW ",
         "orientation": "v",
         "showlegend": true,
         "type": "scatter",
         "x": [
          68040,
          65000,
          38017,
          41526
         ],
         "xaxis": "x",
         "y": [
          360,
          450,
          235,
          230
         ],
         "yaxis": "y"
        },
        {
         "customdata": [
          [
           "e "
          ],
          [
           "e Advance"
          ]
         ],
         "hovertemplate": "brand=Honda <br>Price Euro=%{x}<br>Range Km=%{y}<br>model=%{customdata[0]}<extra></extra>",
         "legendgroup": "Honda ",
         "marker": {
          "color": "#FFA15A",
          "symbol": "circle"
         },
         "mode": "markers",
         "name": "Honda ",
         "orientation": "v",
         "showlegend": true,
         "type": "scatter",
         "x": [
          32997,
          35921
         ],
         "xaxis": "x",
         "y": [
          170,
          170
         ],
         "yaxis": "y"
        },
        {
         "customdata": [
          [
           "Air "
          ]
         ],
         "hovertemplate": "brand=Lucid <br>Price Euro=%{x}<br>Range Km=%{y}<br>model=%{customdata[0]}<extra></extra>",
         "legendgroup": "Lucid ",
         "marker": {
          "color": "#19d3f3",
          "symbol": "circle"
         },
         "mode": "markers",
         "name": "Lucid ",
         "orientation": "v",
         "showlegend": true,
         "type": "scatter",
         "x": [
          105000
         ],
         "xaxis": "x",
         "y": [
          610
         ],
         "yaxis": "y"
        },
        {
         "customdata": [
          [
           "e-208 "
          ],
          [
           "e-2008 SUV "
          ]
         ],
         "hovertemplate": "brand=Peugeot <br>Price Euro=%{x}<br>Range Km=%{y}<br>model=%{customdata[0]}<extra></extra>",
         "legendgroup": "Peugeot ",
         "marker": {
          "color": "#FF6692",
          "symbol": "circle"
         },
         "mode": "markers",
         "name": "Peugeot ",
         "orientation": "v",
         "showlegend": true,
         "type": "scatter",
         "x": [
          29682,
          34361
         ],
         "xaxis": "x",
         "y": [
          275,
          250
         ],
         "yaxis": "y"
        },
        {
         "customdata": [
          [
           "Q4 e-tron "
          ],
          [
           "e-tron GT "
          ],
          [
           "e-tron 50 quattro"
          ],
          [
           "e-tron Sportback 55 quattro"
          ],
          [
           "e-tron 55 quattro"
          ],
          [
           "Q4 Sportback e-tron "
          ],
          [
           "e-tron Sportback 50 quattro"
          ],
          [
           "e-tron S 55 quattro"
          ],
          [
           "e-tron S Sportback 55 quattro"
          ]
         ],
         "hovertemplate": "brand=Audi <br>Price Euro=%{x}<br>Range Km=%{y}<br>model=%{customdata[0]}<extra></extra>",
         "legendgroup": "Audi ",
         "marker": {
          "color": "#B6E880",
          "symbol": "circle"
         },
         "mode": "markers",
         "name": "Audi ",
         "orientation": "v",
         "showlegend": true,
         "type": "scatter",
         "x": [
          55000,
          125000,
          67358,
          81639,
          79445,
          57500,
          69551,
          93800,
          96050
         ],
         "xaxis": "x",
         "y": [
          400,
          425,
          280,
          380,
          365,
          410,
          295,
          320,
          335
         ],
         "yaxis": "y"
        },
        {
         "customdata": [
          [
           "EQC 400 4MATIC"
          ],
          [
           "EQA "
          ],
          [
           "EQV 300 Long"
          ]
         ],
         "hovertemplate": "brand=Mercedes <br>Price Euro=%{x}<br>Range Km=%{y}<br>model=%{customdata[0]}<extra></extra>",
         "legendgroup": "Mercedes ",
         "marker": {
          "color": "#FF97FF",
          "symbol": "circle"
         },
         "mode": "markers",
         "name": "Mercedes ",
         "orientation": "v",
         "showlegend": true,
         "type": "scatter",
         "x": [
          69484,
          45000,
          70631
         ],
         "xaxis": "x",
         "y": [
          370,
          350,
          330
         ],
         "yaxis": "y"
        },
        {
         "customdata": [
          [
           "Leaf "
          ],
          [
           "Leaf e+"
          ],
          [
           "Ariya 87kWh"
          ],
          [
           "e-NV200 Evalia "
          ],
          [
           "Ariya e-4ORCE 87kWh"
          ],
          [
           "Ariya 63kWh"
          ],
          [
           "Ariya e-4ORCE 63kWh"
          ],
          [
           "Ariya e-4ORCE 87kWh Performance"
          ]
         ],
         "hovertemplate": "brand=Nissan <br>Price Euro=%{x}<br>Range Km=%{y}<br>model=%{customdata[0]}<extra></extra>",
         "legendgroup": "Nissan ",
         "marker": {
          "color": "#FECB52",
          "symbol": "circle"
         },
         "mode": "markers",
         "name": "Nissan ",
         "orientation": "v",
         "showlegend": true,
         "type": "scatter",
         "x": [
          29234,
          37237,
          50000,
          33246,
          57500,
          45000,
          50000,
          65000
         ],
         "xaxis": "x",
         "y": [
          220,
          325,
          440,
          190,
          420,
          330,
          325,
          375
         ],
         "yaxis": "y"
        },
        {
         "customdata": [
          [
           "Kona Electric 64 kWh"
          ],
          [
           "IONIQ Electric"
          ],
          [
           "Kona Electric 39 kWh"
          ]
         ],
         "hovertemplate": "brand=Hyundai <br>Price Euro=%{x}<br>Range Km=%{y}<br>model=%{customdata[0]}<extra></extra>",
         "legendgroup": "Hyundai ",
         "marker": {
          "color": "#636efa",
          "symbol": "circle"
         },
         "mode": "markers",
         "name": "Hyundai ",
         "orientation": "v",
         "showlegend": true,
         "type": "scatter",
         "x": [
          40795,
          34459,
          33971
         ],
         "xaxis": "x",
         "y": [
          400,
          250,
          255
         ],
         "yaxis": "y"
        },
        {
         "customdata": [
          [
           "Taycan Turbo S"
          ],
          [
           "Taycan 4S"
          ],
          [
           "Taycan 4S Plus"
          ],
          [
           "Taycan Cross Turismo "
          ],
          [
           "Taycan Turbo"
          ]
         ],
         "hovertemplate": "brand=Porsche <br>Price Euro=%{x}<br>Range Km=%{y}<br>model=%{customdata[0]}<extra></extra>",
         "legendgroup": "Porsche ",
         "marker": {
          "color": "#EF553B",
          "symbol": "circle"
         },
         "mode": "markers",
         "name": "Porsche ",
         "orientation": "v",
         "showlegend": true,
         "type": "scatter",
         "x": [
          180781,
          102945,
          109302,
          150000,
          148301
         ],
         "xaxis": "x",
         "y": [
          375,
          365,
          425,
          385,
          390
         ],
         "yaxis": "y"
        },
        {
         "customdata": [
          [
           "ZS EV"
          ]
         ],
         "hovertemplate": "brand=MG <br>Price Euro=%{x}<br>Range Km=%{y}<br>model=%{customdata[0]}<extra></extra>",
         "legendgroup": "MG ",
         "marker": {
          "color": "#00cc96",
          "symbol": "circle"
         },
         "mode": "markers",
         "name": "MG ",
         "orientation": "v",
         "showlegend": true,
         "type": "scatter",
         "x": [
          30000
         ],
         "xaxis": "x",
         "y": [
          220
         ],
         "yaxis": "y"
        },
        {
         "customdata": [
          [
           "Cooper SE "
          ]
         ],
         "hovertemplate": "brand=Mini <br>Price Euro=%{x}<br>Range Km=%{y}<br>model=%{customdata[0]}<extra></extra>",
         "legendgroup": "Mini ",
         "marker": {
          "color": "#ab63fa",
          "symbol": "circle"
         },
         "mode": "markers",
         "name": "Mini ",
         "orientation": "v",
         "showlegend": true,
         "type": "scatter",
         "x": [
          31681
         ],
         "xaxis": "x",
         "y": [
          185
         ],
         "yaxis": "y"
        },
        {
         "customdata": [
          [
           "Corsa-e "
          ],
          [
           "Ampera-e "
          ],
          [
           "Mokka-e "
          ]
         ],
         "hovertemplate": "brand=Opel <br>Price Euro=%{x}<br>Range Km=%{y}<br>model=%{customdata[0]}<extra></extra>",
         "legendgroup": "Opel ",
         "marker": {
          "color": "#FFA15A",
          "symbol": "circle"
         },
         "mode": "markers",
         "name": "Opel ",
         "orientation": "v",
         "showlegend": true,
         "type": "scatter",
         "x": [
          29146,
          41906,
          35000
         ],
         "xaxis": "x",
         "y": [
          275,
          335,
          255
         ],
         "yaxis": "y"
        },
        {
         "customdata": [
          [
           "Enyaq iV 50"
          ],
          [
           "CITIGOe iV "
          ],
          [
           "Enyaq iV 80"
          ],
          [
           "Enyaq iV 80X"
          ],
          [
           "Enyaq iV vRS"
          ],
          [
           "Enyaq iV 60"
          ]
         ],
         "hovertemplate": "brand=Skoda <br>Price Euro=%{x}<br>Range Km=%{y}<br>model=%{customdata[0]}<extra></extra>",
         "legendgroup": "Skoda ",
         "marker": {
          "color": "#19d3f3",
          "symbol": "circle"
         },
         "mode": "markers",
         "name": "Skoda ",
         "orientation": "v",
         "showlegend": true,
         "type": "scatter",
         "x": [
          35000,
          24534,
          40000,
          45000,
          47500,
          37500
         ],
         "xaxis": "x",
         "y": [
          290,
          195,
          420,
          400,
          400,
          320
         ],
         "yaxis": "y"
        },
        {
         "customdata": [
          [
           "XC40 P8 AWD Recharge"
          ]
         ],
         "hovertemplate": "brand=Volvo <br>Price Euro=%{x}<br>Range Km=%{y}<br>model=%{customdata[0]}<extra></extra>",
         "legendgroup": "Volvo ",
         "marker": {
          "color": "#FF6692",
          "symbol": "circle"
         },
         "mode": "markers",
         "name": "Volvo ",
         "orientation": "v",
         "showlegend": true,
         "type": "scatter",
         "x": [
          60437
         ],
         "xaxis": "x",
         "y": [
          375
         ],
         "yaxis": "y"
        },
        {
         "customdata": [
          [
           "e-Niro 64 kWh"
          ],
          [
           "e-Soul 64 kWh"
          ],
          [
           "e-Niro 39 kWh"
          ],
          [
           "e-Soul 39 kWh"
          ]
         ],
         "hovertemplate": "brand=Kia <br>Price Euro=%{x}<br>Range Km=%{y}<br>model=%{customdata[0]}<extra></extra>",
         "legendgroup": "Kia ",
         "marker": {
          "color": "#B6E880",
          "symbol": "circle"
         },
         "mode": "markers",
         "name": "Kia ",
         "orientation": "v",
         "showlegend": true,
         "type": "scatter",
         "x": [
          38105,
          36837,
          34400,
          33133
         ],
         "xaxis": "x",
         "y": [
          370,
          365,
          235,
          230
         ],
         "yaxis": "y"
        },
        {
         "customdata": [
          [
           "Zoe ZE50 R110"
          ],
          [
           "Zoe ZE50 R135"
          ],
          [
           "Twingo ZE"
          ],
          [
           "Zoe ZE40 R110"
          ],
          [
           "Kangoo Maxi ZE 33"
          ]
         ],
         "hovertemplate": "brand=Renault <br>Price Euro=%{x}<br>Range Km=%{y}<br>model=%{customdata[0]}<extra></extra>",
         "legendgroup": "Renault ",
         "marker": {
          "color": "#FF97FF",
          "symbol": "circle"
         },
         "mode": "markers",
         "name": "Renault ",
         "orientation": "v",
         "showlegend": true,
         "type": "scatter",
         "x": [
          31184,
          33133,
          24790,
          29234,
          38000
         ],
         "xaxis": "x",
         "y": [
          315,
          310,
          130,
          255,
          160
         ],
         "yaxis": "y"
        },
        {
         "customdata": [
          [
           "MX-30 "
          ]
         ],
         "hovertemplate": "brand=Mazda <br>Price Euro=%{x}<br>Range Km=%{y}<br>model=%{customdata[0]}<extra></extra>",
         "legendgroup": "Mazda ",
         "marker": {
          "color": "#FECB52",
          "symbol": "circle"
         },
         "mode": "markers",
         "name": "Mazda ",
         "orientation": "v",
         "showlegend": true,
         "type": "scatter",
         "x": [
          32646
         ],
         "xaxis": "x",
         "y": [
          180
         ],
         "yaxis": "y"
        },
        {
         "customdata": [
          [
           "UX 300e"
          ]
         ],
         "hovertemplate": "brand=Lexus <br>Price Euro=%{x}<br>Range Km=%{y}<br>model=%{customdata[0]}<extra></extra>",
         "legendgroup": "Lexus ",
         "marker": {
          "color": "#636efa",
          "symbol": "circle"
         },
         "mode": "markers",
         "name": "Lexus ",
         "orientation": "v",
         "showlegend": true,
         "type": "scatter",
         "x": [
          50000
         ],
         "xaxis": "x",
         "y": [
          270
         ],
         "yaxis": "y"
        },
        {
         "customdata": [
          [
           "el-Born "
          ]
         ],
         "hovertemplate": "brand=CUPRA <br>Price Euro=%{x}<br>Range Km=%{y}<br>model=%{customdata[0]}<extra></extra>",
         "legendgroup": "CUPRA ",
         "marker": {
          "color": "#EF553B",
          "symbol": "circle"
         },
         "mode": "markers",
         "name": "CUPRA ",
         "orientation": "v",
         "showlegend": true,
         "type": "scatter",
         "x": [
          45000
         ],
         "xaxis": "x",
         "y": [
          425
         ],
         "yaxis": "y"
        },
        {
         "customdata": [
          [
           "Mii Electric "
          ]
         ],
         "hovertemplate": "brand=SEAT <br>Price Euro=%{x}<br>Range Km=%{y}<br>model=%{customdata[0]}<extra></extra>",
         "legendgroup": "SEAT ",
         "marker": {
          "color": "#00cc96",
          "symbol": "circle"
         },
         "mode": "markers",
         "name": "SEAT ",
         "orientation": "v",
         "showlegend": true,
         "type": "scatter",
         "x": [
          20129
         ],
         "xaxis": "x",
         "y": [
          195
         ],
         "yaxis": "y"
        },
        {
         "customdata": [
          [
           "One "
          ]
         ],
         "hovertemplate": "brand=Lightyear <br>Price Euro=%{x}<br>Range Km=%{y}<br>model=%{customdata[0]}<extra></extra>",
         "legendgroup": "Lightyear ",
         "marker": {
          "color": "#ab63fa",
          "symbol": "circle"
         },
         "mode": "markers",
         "name": "Lightyear ",
         "orientation": "v",
         "showlegend": true,
         "type": "scatter",
         "x": [
          149000
         ],
         "xaxis": "x",
         "y": [
          575
         ],
         "yaxis": "y"
        },
        {
         "customdata": [
          [
           "U5 "
          ]
         ],
         "hovertemplate": "brand=Aiways <br>Price Euro=%{x}<br>Range Km=%{y}<br>model=%{customdata[0]}<extra></extra>",
         "legendgroup": "Aiways ",
         "marker": {
          "color": "#FFA15A",
          "symbol": "circle"
         },
         "mode": "markers",
         "name": "Aiways ",
         "orientation": "v",
         "showlegend": true,
         "type": "scatter",
         "x": [
          36057
         ],
         "xaxis": "x",
         "y": [
          335
         ],
         "yaxis": "y"
        },
        {
         "customdata": [
          [
           "3 Crossback E-Tense"
          ]
         ],
         "hovertemplate": "brand=DS <br>Price Euro=%{x}<br>Range Km=%{y}<br>model=%{customdata[0]}<extra></extra>",
         "legendgroup": "DS ",
         "marker": {
          "color": "#19d3f3",
          "symbol": "circle"
         },
         "mode": "markers",
         "name": "DS ",
         "orientation": "v",
         "showlegend": true,
         "type": "scatter",
         "x": [
          37422
         ],
         "xaxis": "x",
         "y": [
          250
         ],
         "yaxis": "y"
        },
        {
         "customdata": [
          [
           "e-C4 "
          ]
         ],
         "hovertemplate": "brand=Citroen <br>Price Euro=%{x}<br>Range Km=%{y}<br>model=%{customdata[0]}<extra></extra>",
         "legendgroup": "Citroen ",
         "marker": {
          "color": "#FF6692",
          "symbol": "circle"
         },
         "mode": "markers",
         "name": "Citroen ",
         "orientation": "v",
         "showlegend": true,
         "type": "scatter",
         "x": [
          40000
         ],
         "xaxis": "x",
         "y": [
          250
         ],
         "yaxis": "y"
        },
        {
         "customdata": [
          [
           "I-Pace "
          ]
         ],
         "hovertemplate": "brand=Jaguar <br>Price Euro=%{x}<br>Range Km=%{y}<br>model=%{customdata[0]}<extra></extra>",
         "legendgroup": "Jaguar ",
         "marker": {
          "color": "#B6E880",
          "symbol": "circle"
         },
         "mode": "markers",
         "name": "Jaguar ",
         "orientation": "v",
         "showlegend": true,
         "type": "scatter",
         "x": [
          75351
         ],
         "xaxis": "x",
         "y": [
          365
         ],
         "yaxis": "y"
        },
        {
         "customdata": [
          [
           "Mustang Mach-E ER RWD"
          ],
          [
           "Mustang Mach-E ER AWD"
          ],
          [
           "Mustang Mach-E SR AWD"
          ],
          [
           "Mustang Mach-E SR RWD"
          ]
         ],
         "hovertemplate": "brand=Ford <br>Price Euro=%{x}<br>Range Km=%{y}<br>model=%{customdata[0]}<extra></extra>",
         "legendgroup": "Ford ",
         "marker": {
          "color": "#FF97FF",
          "symbol": "circle"
         },
         "mode": "markers",
         "name": "Ford ",
         "orientation": "v",
         "showlegend": true,
         "type": "scatter",
         "x": [
          54475,
          62900,
          54000,
          46900
         ],
         "xaxis": "x",
         "y": [
          450,
          430,
          340,
          360
         ],
         "yaxis": "y"
        },
        {
         "customdata": [
          [
           "M-Byte 95 kWh 4WD"
          ],
          [
           "M-Byte 72 kWh 2WD"
          ],
          [
           "M-Byte 95 kWh 2WD"
          ]
         ],
         "hovertemplate": "brand=Byton <br>Price Euro=%{x}<br>Range Km=%{y}<br>model=%{customdata[0]}<extra></extra>",
         "legendgroup": "Byton ",
         "marker": {
          "color": "#FECB52",
          "symbol": "circle"
         },
         "mode": "markers",
         "name": "Byton ",
         "orientation": "v",
         "showlegend": true,
         "type": "scatter",
         "x": [
          64000,
          53500,
          62000
         ],
         "xaxis": "x",
         "y": [
          390,
          325,
          400
         ],
         "yaxis": "y"
        },
        {
         "customdata": [
          [
           "Sion "
          ]
         ],
         "hovertemplate": "brand=Sono <br>Price Euro=%{x}<br>Range Km=%{y}<br>model=%{customdata[0]}<extra></extra>",
         "legendgroup": "Sono ",
         "marker": {
          "color": "#636efa",
          "symbol": "circle"
         },
         "mode": "markers",
         "name": "Sono ",
         "orientation": "v",
         "showlegend": true,
         "type": "scatter",
         "x": [
          25500
         ],
         "xaxis": "x",
         "y": [
          225
         ],
         "yaxis": "y"
        },
        {
         "customdata": [
          [
           "EQ forfour "
          ],
          [
           "EQ fortwo coupe"
          ],
          [
           "EQ fortwo cabrio"
          ]
         ],
         "hovertemplate": "brand=Smart <br>Price Euro=%{x}<br>Range Km=%{y}<br>model=%{customdata[0]}<extra></extra>",
         "legendgroup": "Smart ",
         "marker": {
          "color": "#EF553B",
          "symbol": "circle"
         },
         "mode": "markers",
         "name": "Smart ",
         "orientation": "v",
         "showlegend": true,
         "type": "scatter",
         "x": [
          22030,
          21387,
          24565
         ],
         "xaxis": "x",
         "y": [
          95,
          100,
          95
         ],
         "yaxis": "y"
        },
        {
         "customdata": [
          [
           "500e Hatchback"
          ],
          [
           "500e Convertible"
          ]
         ],
         "hovertemplate": "brand=Fiat <br>Price Euro=%{x}<br>Range Km=%{y}<br>model=%{customdata[0]}<extra></extra>",
         "legendgroup": "Fiat ",
         "marker": {
          "color": "#00cc96",
          "symbol": "circle"
         },
         "mode": "markers",
         "name": "Fiat ",
         "orientation": "v",
         "showlegend": true,
         "type": "scatter",
         "x": [
          34900,
          37900
         ],
         "xaxis": "x",
         "y": [
          250,
          250
         ],
         "yaxis": "y"
        }
       ],
       "layout": {
        "height": 500,
        "legend": {
         "title": {
          "text": "brand"
         },
         "tracegroupgap": 0
        },
        "paper_bgcolor": "rgba(0, 0, 0, 0)",
        "plot_bgcolor": "rgba(0, 0, 0, 0)",
        "template": {
         "data": {
          "bar": [
           {
            "error_x": {
             "color": "#2a3f5f"
            },
            "error_y": {
             "color": "#2a3f5f"
            },
            "marker": {
             "line": {
              "color": "#E5ECF6",
              "width": 0.5
             },
             "pattern": {
              "fillmode": "overlay",
              "size": 10,
              "solidity": 0.2
             }
            },
            "type": "bar"
           }
          ],
          "barpolar": [
           {
            "marker": {
             "line": {
              "color": "#E5ECF6",
              "width": 0.5
             },
             "pattern": {
              "fillmode": "overlay",
              "size": 10,
              "solidity": 0.2
             }
            },
            "type": "barpolar"
           }
          ],
          "carpet": [
           {
            "aaxis": {
             "endlinecolor": "#2a3f5f",
             "gridcolor": "white",
             "linecolor": "white",
             "minorgridcolor": "white",
             "startlinecolor": "#2a3f5f"
            },
            "baxis": {
             "endlinecolor": "#2a3f5f",
             "gridcolor": "white",
             "linecolor": "white",
             "minorgridcolor": "white",
             "startlinecolor": "#2a3f5f"
            },
            "type": "carpet"
           }
          ],
          "choropleth": [
           {
            "colorbar": {
             "outlinewidth": 0,
             "ticks": ""
            },
            "type": "choropleth"
           }
          ],
          "contour": [
           {
            "colorbar": {
             "outlinewidth": 0,
             "ticks": ""
            },
            "colorscale": [
             [
              0,
              "#0d0887"
             ],
             [
              0.1111111111111111,
              "#46039f"
             ],
             [
              0.2222222222222222,
              "#7201a8"
             ],
             [
              0.3333333333333333,
              "#9c179e"
             ],
             [
              0.4444444444444444,
              "#bd3786"
             ],
             [
              0.5555555555555556,
              "#d8576b"
             ],
             [
              0.6666666666666666,
              "#ed7953"
             ],
             [
              0.7777777777777778,
              "#fb9f3a"
             ],
             [
              0.8888888888888888,
              "#fdca26"
             ],
             [
              1,
              "#f0f921"
             ]
            ],
            "type": "contour"
           }
          ],
          "contourcarpet": [
           {
            "colorbar": {
             "outlinewidth": 0,
             "ticks": ""
            },
            "type": "contourcarpet"
           }
          ],
          "heatmap": [
           {
            "colorbar": {
             "outlinewidth": 0,
             "ticks": ""
            },
            "colorscale": [
             [
              0,
              "#0d0887"
             ],
             [
              0.1111111111111111,
              "#46039f"
             ],
             [
              0.2222222222222222,
              "#7201a8"
             ],
             [
              0.3333333333333333,
              "#9c179e"
             ],
             [
              0.4444444444444444,
              "#bd3786"
             ],
             [
              0.5555555555555556,
              "#d8576b"
             ],
             [
              0.6666666666666666,
              "#ed7953"
             ],
             [
              0.7777777777777778,
              "#fb9f3a"
             ],
             [
              0.8888888888888888,
              "#fdca26"
             ],
             [
              1,
              "#f0f921"
             ]
            ],
            "type": "heatmap"
           }
          ],
          "heatmapgl": [
           {
            "colorbar": {
             "outlinewidth": 0,
             "ticks": ""
            },
            "colorscale": [
             [
              0,
              "#0d0887"
             ],
             [
              0.1111111111111111,
              "#46039f"
             ],
             [
              0.2222222222222222,
              "#7201a8"
             ],
             [
              0.3333333333333333,
              "#9c179e"
             ],
             [
              0.4444444444444444,
              "#bd3786"
             ],
             [
              0.5555555555555556,
              "#d8576b"
             ],
             [
              0.6666666666666666,
              "#ed7953"
             ],
             [
              0.7777777777777778,
              "#fb9f3a"
             ],
             [
              0.8888888888888888,
              "#fdca26"
             ],
             [
              1,
              "#f0f921"
             ]
            ],
            "type": "heatmapgl"
           }
          ],
          "histogram": [
           {
            "marker": {
             "pattern": {
              "fillmode": "overlay",
              "size": 10,
              "solidity": 0.2
             }
            },
            "type": "histogram"
           }
          ],
          "histogram2d": [
           {
            "colorbar": {
             "outlinewidth": 0,
             "ticks": ""
            },
            "colorscale": [
             [
              0,
              "#0d0887"
             ],
             [
              0.1111111111111111,
              "#46039f"
             ],
             [
              0.2222222222222222,
              "#7201a8"
             ],
             [
              0.3333333333333333,
              "#9c179e"
             ],
             [
              0.4444444444444444,
              "#bd3786"
             ],
             [
              0.5555555555555556,
              "#d8576b"
             ],
             [
              0.6666666666666666,
              "#ed7953"
             ],
             [
              0.7777777777777778,
              "#fb9f3a"
             ],
             [
              0.8888888888888888,
              "#fdca26"
             ],
             [
              1,
              "#f0f921"
             ]
            ],
            "type": "histogram2d"
           }
          ],
          "histogram2dcontour": [
           {
            "colorbar": {
             "outlinewidth": 0,
             "ticks": ""
            },
            "colorscale": [
             [
              0,
              "#0d0887"
             ],
             [
              0.1111111111111111,
              "#46039f"
             ],
             [
              0.2222222222222222,
              "#7201a8"
             ],
             [
              0.3333333333333333,
              "#9c179e"
             ],
             [
              0.4444444444444444,
              "#bd3786"
             ],
             [
              0.5555555555555556,
              "#d8576b"
             ],
             [
              0.6666666666666666,
              "#ed7953"
             ],
             [
              0.7777777777777778,
              "#fb9f3a"
             ],
             [
              0.8888888888888888,
              "#fdca26"
             ],
             [
              1,
              "#f0f921"
             ]
            ],
            "type": "histogram2dcontour"
           }
          ],
          "mesh3d": [
           {
            "colorbar": {
             "outlinewidth": 0,
             "ticks": ""
            },
            "type": "mesh3d"
           }
          ],
          "parcoords": [
           {
            "line": {
             "colorbar": {
              "outlinewidth": 0,
              "ticks": ""
             }
            },
            "type": "parcoords"
           }
          ],
          "pie": [
           {
            "automargin": true,
            "type": "pie"
           }
          ],
          "scatter": [
           {
            "fillpattern": {
             "fillmode": "overlay",
             "size": 10,
             "solidity": 0.2
            },
            "type": "scatter"
           }
          ],
          "scatter3d": [
           {
            "line": {
             "colorbar": {
              "outlinewidth": 0,
              "ticks": ""
             }
            },
            "marker": {
             "colorbar": {
              "outlinewidth": 0,
              "ticks": ""
             }
            },
            "type": "scatter3d"
           }
          ],
          "scattercarpet": [
           {
            "marker": {
             "colorbar": {
              "outlinewidth": 0,
              "ticks": ""
             }
            },
            "type": "scattercarpet"
           }
          ],
          "scattergeo": [
           {
            "marker": {
             "colorbar": {
              "outlinewidth": 0,
              "ticks": ""
             }
            },
            "type": "scattergeo"
           }
          ],
          "scattergl": [
           {
            "marker": {
             "colorbar": {
              "outlinewidth": 0,
              "ticks": ""
             }
            },
            "type": "scattergl"
           }
          ],
          "scattermapbox": [
           {
            "marker": {
             "colorbar": {
              "outlinewidth": 0,
              "ticks": ""
             }
            },
            "type": "scattermapbox"
           }
          ],
          "scatterpolar": [
           {
            "marker": {
             "colorbar": {
              "outlinewidth": 0,
              "ticks": ""
             }
            },
            "type": "scatterpolar"
           }
          ],
          "scatterpolargl": [
           {
            "marker": {
             "colorbar": {
              "outlinewidth": 0,
              "ticks": ""
             }
            },
            "type": "scatterpolargl"
           }
          ],
          "scatterternary": [
           {
            "marker": {
             "colorbar": {
              "outlinewidth": 0,
              "ticks": ""
             }
            },
            "type": "scatterternary"
           }
          ],
          "surface": [
           {
            "colorbar": {
             "outlinewidth": 0,
             "ticks": ""
            },
            "colorscale": [
             [
              0,
              "#0d0887"
             ],
             [
              0.1111111111111111,
              "#46039f"
             ],
             [
              0.2222222222222222,
              "#7201a8"
             ],
             [
              0.3333333333333333,
              "#9c179e"
             ],
             [
              0.4444444444444444,
              "#bd3786"
             ],
             [
              0.5555555555555556,
              "#d8576b"
             ],
             [
              0.6666666666666666,
              "#ed7953"
             ],
             [
              0.7777777777777778,
              "#fb9f3a"
             ],
             [
              0.8888888888888888,
              "#fdca26"
             ],
             [
              1,
              "#f0f921"
             ]
            ],
            "type": "surface"
           }
          ],
          "table": [
           {
            "cells": {
             "fill": {
              "color": "#EBF0F8"
             },
             "line": {
              "color": "white"
             }
            },
            "header": {
             "fill": {
              "color": "#C8D4E3"
             },
             "line": {
              "color": "white"
             }
            },
            "type": "table"
           }
          ]
         },
         "layout": {
          "annotationdefaults": {
           "arrowcolor": "#2a3f5f",
           "arrowhead": 0,
           "arrowwidth": 1
          },
          "autotypenumbers": "strict",
          "coloraxis": {
           "colorbar": {
            "outlinewidth": 0,
            "ticks": ""
           }
          },
          "colorscale": {
           "diverging": [
            [
             0,
             "#8e0152"
            ],
            [
             0.1,
             "#c51b7d"
            ],
            [
             0.2,
             "#de77ae"
            ],
            [
             0.3,
             "#f1b6da"
            ],
            [
             0.4,
             "#fde0ef"
            ],
            [
             0.5,
             "#f7f7f7"
            ],
            [
             0.6,
             "#e6f5d0"
            ],
            [
             0.7,
             "#b8e186"
            ],
            [
             0.8,
             "#7fbc41"
            ],
            [
             0.9,
             "#4d9221"
            ],
            [
             1,
             "#276419"
            ]
           ],
           "sequential": [
            [
             0,
             "#0d0887"
            ],
            [
             0.1111111111111111,
             "#46039f"
            ],
            [
             0.2222222222222222,
             "#7201a8"
            ],
            [
             0.3333333333333333,
             "#9c179e"
            ],
            [
             0.4444444444444444,
             "#bd3786"
            ],
            [
             0.5555555555555556,
             "#d8576b"
            ],
            [
             0.6666666666666666,
             "#ed7953"
            ],
            [
             0.7777777777777778,
             "#fb9f3a"
            ],
            [
             0.8888888888888888,
             "#fdca26"
            ],
            [
             1,
             "#f0f921"
            ]
           ],
           "sequentialminus": [
            [
             0,
             "#0d0887"
            ],
            [
             0.1111111111111111,
             "#46039f"
            ],
            [
             0.2222222222222222,
             "#7201a8"
            ],
            [
             0.3333333333333333,
             "#9c179e"
            ],
            [
             0.4444444444444444,
             "#bd3786"
            ],
            [
             0.5555555555555556,
             "#d8576b"
            ],
            [
             0.6666666666666666,
             "#ed7953"
            ],
            [
             0.7777777777777778,
             "#fb9f3a"
            ],
            [
             0.8888888888888888,
             "#fdca26"
            ],
            [
             1,
             "#f0f921"
            ]
           ]
          },
          "colorway": [
           "#636efa",
           "#EF553B",
           "#00cc96",
           "#ab63fa",
           "#FFA15A",
           "#19d3f3",
           "#FF6692",
           "#B6E880",
           "#FF97FF",
           "#FECB52"
          ],
          "font": {
           "color": "#2a3f5f"
          },
          "geo": {
           "bgcolor": "white",
           "lakecolor": "white",
           "landcolor": "#E5ECF6",
           "showlakes": true,
           "showland": true,
           "subunitcolor": "white"
          },
          "hoverlabel": {
           "align": "left"
          },
          "hovermode": "closest",
          "mapbox": {
           "style": "light"
          },
          "paper_bgcolor": "white",
          "plot_bgcolor": "#E5ECF6",
          "polar": {
           "angularaxis": {
            "gridcolor": "white",
            "linecolor": "white",
            "ticks": ""
           },
           "bgcolor": "#E5ECF6",
           "radialaxis": {
            "gridcolor": "white",
            "linecolor": "white",
            "ticks": ""
           }
          },
          "scene": {
           "xaxis": {
            "backgroundcolor": "#E5ECF6",
            "gridcolor": "white",
            "gridwidth": 2,
            "linecolor": "white",
            "showbackground": true,
            "ticks": "",
            "zerolinecolor": "white"
           },
           "yaxis": {
            "backgroundcolor": "#E5ECF6",
            "gridcolor": "white",
            "gridwidth": 2,
            "linecolor": "white",
            "showbackground": true,
            "ticks": "",
            "zerolinecolor": "white"
           },
           "zaxis": {
            "backgroundcolor": "#E5ECF6",
            "gridcolor": "white",
            "gridwidth": 2,
            "linecolor": "white",
            "showbackground": true,
            "ticks": "",
            "zerolinecolor": "white"
           }
          },
          "shapedefaults": {
           "line": {
            "color": "#2a3f5f"
           }
          },
          "ternary": {
           "aaxis": {
            "gridcolor": "white",
            "linecolor": "white",
            "ticks": ""
           },
           "baxis": {
            "gridcolor": "white",
            "linecolor": "white",
            "ticks": ""
           },
           "bgcolor": "#E5ECF6",
           "caxis": {
            "gridcolor": "white",
            "linecolor": "white",
            "ticks": ""
           }
          },
          "title": {
           "x": 0.05
          },
          "xaxis": {
           "automargin": true,
           "gridcolor": "white",
           "linecolor": "white",
           "ticks": "",
           "title": {
            "standoff": 15
           },
           "zerolinecolor": "white",
           "zerolinewidth": 2
          },
          "yaxis": {
           "automargin": true,
           "gridcolor": "white",
           "linecolor": "white",
           "ticks": "",
           "title": {
            "standoff": 15
           },
           "zerolinecolor": "white",
           "zerolinewidth": 2
          }
         }
        },
        "title": {
         "text": "Range vs Price for EVs"
        },
        "width": 900,
        "xaxis": {
         "anchor": "y",
         "domain": [
          0,
          1
         ],
         "range": [
          0,
          250000
         ],
         "showgrid": false,
         "title": {
          "text": "Price Euro"
         }
        },
        "yaxis": {
         "anchor": "x",
         "domain": [
          0,
          1
         ],
         "showgrid": false,
         "title": {
          "text": "Range Km"
         }
        }
       }
      }
     },
     "metadata": {},
     "output_type": "display_data"
    }
   ],
   "source": [
    "# Create a scatter plot of Range by Price\n",
    "price_range = px.scatter(data_frame=ev, title='Range vs Price for EVs', x='price_euro', y='range_km', \n",
    "           labels={'price_euro':'Price Euro', 'range_km':'Range Km'},\n",
    "           color='brand', width=900, height=500, hover_data=[\"model\"])\n",
    "\n",
    "price_range.update_layout({\n",
    "    'plot_bgcolor':'rgba(0, 0, 0, 0)',\n",
    "    'paper_bgcolor':'rgba(0, 0, 0, 0)',\n",
    "})\n",
    "\n",
    "price_range.update_xaxes(range=[0, 250000], showgrid=False)\n",
    "price_range.update_yaxes(showgrid=False)\n"
   ]
  }
 ],
 "metadata": {
  "kernelspec": {
   "display_name": "base",
   "language": "python",
   "name": "python3"
  },
  "language_info": {
   "codemirror_mode": {
    "name": "ipython",
    "version": 3
   },
   "file_extension": ".py",
   "mimetype": "text/x-python",
   "name": "python",
   "nbconvert_exporter": "python",
   "pygments_lexer": "ipython3",
   "version": "3.10.9"
  },
  "orig_nbformat": 4
 },
 "nbformat": 4,
 "nbformat_minor": 2
}
